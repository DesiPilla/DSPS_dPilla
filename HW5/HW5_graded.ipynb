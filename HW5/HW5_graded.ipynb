{
 "cells": [
  {
   "cell_type": "markdown",
   "metadata": {
    "colab_type": "text",
    "id": "view-in-github"
   },
   "source": [
    "<a href=\"https://colab.research.google.com/github/DesiPilla/DSPS_dPilla/blob/master/HW5/BuildingsEnergyOwners.ipynb\" target=\"_parent\"><img src=\"https://colab.research.google.com/assets/colab-badge.svg\" alt=\"Open In Colab\"/></a>"
   ]
  },
  {
   "cell_type": "code",
   "execution_count": 4,
   "metadata": {
    "colab": {
     "base_uri": "https://localhost:8080/",
     "height": 122
    },
    "colab_type": "code",
    "id": "mwsn7ih7RWle",
    "outputId": "1481e2c6-fad3-484b-ebb6-9be3f03280b9"
   },
   "outputs": [
    {
     "name": "stdout",
     "output_type": "stream",
     "text": [
      "Go to this URL in a browser: https://accounts.google.com/o/oauth2/auth?client_id=947318989803-6bn6qk8qdgf4n4g3pfee6491hc0brc4i.apps.googleusercontent.com&redirect_uri=urn%3Aietf%3Awg%3Aoauth%3A2.0%3Aoob&scope=email%20https%3A%2F%2Fwww.googleapis.com%2Fauth%2Fdocs.test%20https%3A%2F%2Fwww.googleapis.com%2Fauth%2Fdrive%20https%3A%2F%2Fwww.googleapis.com%2Fauth%2Fdrive.photos.readonly%20https%3A%2F%2Fwww.googleapis.com%2Fauth%2Fpeopleapi.readonly&response_type=code\n",
      "\n",
      "Enter your authorization code:\n",
      "··········\n",
      "Mounted at /content/drive\n"
     ]
    }
   ],
   "source": [
    "# -- link google drive\n",
    "from google.colab import drive\n",
    "drive.mount(\"/content/drive\")"
   ]
  },
  {
   "cell_type": "code",
   "execution_count": 0,
   "metadata": {
    "ExecuteTime": {
     "end_time": "2019-09-24T21:52:47.068553Z",
     "start_time": "2019-09-24T21:52:47.065670Z"
    },
    "colab": {},
    "colab_type": "code",
    "id": "yav2dVuWJn_T"
   },
   "outputs": [],
   "source": [
    "# -- useful imports\n",
    "import numpy as np\n",
    "import pandas as pd\n",
    "import matplotlib.pyplot as pl\n",
    "import scipy as sp\n",
    "from scipy import stats"
   ]
  },
  {
   "cell_type": "markdown",
   "metadata": {
    "colab_type": "text",
    "id": "rCnUCueiY5Xt"
   },
   "source": [
    "# data retrival\n",
    "### LL84\n",
    "get the Local Law 84 (ll84) data from the URL: https://data.cityofnewyork.us/api/views/8u86-bviy/rows.csv and read it in with Pandas\n",
    "\n",
    "### Pluto\n",
    "Download the pluto csv data and store it in your google drive. \n",
    "\n",
    "You can find the data here \n",
    "https://www1.nyc.gov/site/planning/data-maps/open-data/dwn-pluto-mappluto.page\n",
    "\n",
    "IMPORTANT: store it in the path *drive/My Drive/dsps/ with the name pluto_18v2_1.csv*\n",
    "\n",
    "This path and name have to be exact. This way the grader and I will be able to run your notebook without changing anything as long as we also have stored the data in path drive/My Drive/dsps/pluto_18v2_1.csv. This is part of the _reproducibility_ requirement."
   ]
  },
  {
   "cell_type": "code",
   "execution_count": 0,
   "metadata": {
    "colab": {},
    "colab_type": "code",
    "id": "R94ymqN5gEUR"
   },
   "outputs": [],
   "source": [
    "ll84 = pd.read_csv('https://data.cityofnewyork.us/api/views/8u86-bviy/rows.csv')"
   ]
  },
  {
   "cell_type": "code",
   "execution_count": 7,
   "metadata": {
    "colab": {
     "base_uri": "https://localhost:8080/",
     "height": 34
    },
    "colab_type": "code",
    "id": "1QiKfa8RgERt",
    "outputId": "8346069b-a0ab-433f-dee6-12d0ef328898"
   },
   "outputs": [
    {
     "name": "stdout",
     "output_type": "stream",
     "text": [
      "mkdir: cannot create directory ‘drive/My Drive/dsps’: File exists\n"
     ]
    }
   ],
   "source": [
    "mkdir \"drive/My Drive/dsps\""
   ]
  },
  {
   "cell_type": "code",
   "execution_count": 8,
   "metadata": {
    "colab": {
     "base_uri": "https://localhost:8080/",
     "height": 34
    },
    "colab_type": "code",
    "id": "830L63uM93FK",
    "outputId": "f34701b9-270e-403c-ff32-7dbd5eb83fe1"
   },
   "outputs": [
    {
     "name": "stdout",
     "output_type": "stream",
     "text": [
      "/content/drive/My Drive/dsps\n"
     ]
    }
   ],
   "source": [
    "cd \"drive/My Drive/dsps\""
   ]
  },
  {
   "cell_type": "code",
   "execution_count": 9,
   "metadata": {
    "colab": {
     "base_uri": "https://localhost:8080/",
     "height": 204
    },
    "colab_type": "code",
    "id": "IPf_8Nm09aOY",
    "outputId": "0e798c96-924b-44b8-fe4f-d8c4e42f7c5d"
   },
   "outputs": [
    {
     "name": "stdout",
     "output_type": "stream",
     "text": [
      "--2019-10-01 01:40:45--  https://www1.nyc.gov/assets/planning/download/zip/data-maps/open-data/nyc_pluto_18v2_1_csv.zip\n",
      "Resolving www1.nyc.gov (www1.nyc.gov)... 23.199.181.110, 2600:1402:3800:290::1500, 2600:1402:3800:29d::1500\n",
      "Connecting to www1.nyc.gov (www1.nyc.gov)|23.199.181.110|:443... connected.\n",
      "HTTP request sent, awaiting response... 200 OK\n",
      "Length: 82994022 (79M) [application/zip]\n",
      "Saving to: ‘nyc_pluto_18v2_1_csv.zip.1’\n",
      "\n",
      "nyc_pluto_18v2_1_cs 100%[===================>]  79.15M  57.2MB/s    in 1.4s    \n",
      "\n",
      "2019-10-01 01:40:47 (57.2 MB/s) - ‘nyc_pluto_18v2_1_csv.zip.1’ saved [82994022/82994022]\n",
      "\n"
     ]
    }
   ],
   "source": [
    "!wget https://www1.nyc.gov/assets/planning/download/zip/data-maps/open-data/nyc_pluto_18v2_1_csv.zip"
   ]
  },
  {
   "cell_type": "code",
   "execution_count": 10,
   "metadata": {
    "colab": {
     "base_uri": "https://localhost:8080/",
     "height": 85
    },
    "colab_type": "code",
    "id": "Vez-6e7C9tCt",
    "outputId": "c09b03be-dc82-41a2-baa0-1c83d4957bdd"
   },
   "outputs": [
    {
     "name": "stdout",
     "output_type": "stream",
     "text": [
      "Archive:  nyc_pluto_18v2_1_csv.zip\n",
      "replace pluto_18v2_1.csv? [y]es, [n]o, [A]ll, [N]one, [r]ename: n\n",
      "replace PLUTODD18v2.1.pdf? [y]es, [n]o, [A]ll, [N]one, [r]ename: n\n",
      "replace PlutoReadme18v2.1.pdf? [y]es, [n]o, [A]ll, [N]one, [r]ename: n\n"
     ]
    }
   ],
   "source": [
    "!unzip nyc_pluto_18v2_1_csv.zip"
   ]
  },
  {
   "cell_type": "code",
   "execution_count": 11,
   "metadata": {
    "colab": {
     "base_uri": "https://localhost:8080/",
     "height": 51
    },
    "colab_type": "code",
    "id": "3NBmabIjkbyO",
    "outputId": "47f2c530-b66b-422b-ac20-cfce9c5c0a9c"
   },
   "outputs": [
    {
     "name": "stdout",
     "output_type": "stream",
     "text": [
      "\u001b[0m\u001b[01;34mdrive\u001b[0m/                    nyc_pluto_18v2_1_csv.zip.1  PLUTODD18v2.1.pdf\n",
      "nyc_pluto_18v2_1_csv.zip  pluto_18v2_1.csv            PlutoReadme18v2.1.pdf\n"
     ]
    }
   ],
   "source": [
    "ls"
   ]
  },
  {
   "cell_type": "code",
   "execution_count": 12,
   "metadata": {
    "colab": {
     "base_uri": "https://localhost:8080/",
     "height": 440
    },
    "colab_type": "code",
    "id": "tzqi0PEHksqd",
    "outputId": "6cf36f8d-5e64-43bc-9946-92a7c93b9cbe"
   },
   "outputs": [
    {
     "name": "stderr",
     "output_type": "stream",
     "text": [
      "/usr/local/lib/python3.6/dist-packages/IPython/core/interactiveshell.py:2718: DtypeWarning: Columns (16,17,18,20,22,77) have mixed types. Specify dtype option on import or set low_memory=False.\n",
      "  interactivity=interactivity, compiler=compiler, result=result)\n"
     ]
    },
    {
     "data": {
      "text/html": [
       "<div>\n",
       "<style scoped>\n",
       "    .dataframe tbody tr th:only-of-type {\n",
       "        vertical-align: middle;\n",
       "    }\n",
       "\n",
       "    .dataframe tbody tr th {\n",
       "        vertical-align: top;\n",
       "    }\n",
       "\n",
       "    .dataframe thead th {\n",
       "        text-align: right;\n",
       "    }\n",
       "</style>\n",
       "<table border=\"1\" class=\"dataframe\">\n",
       "  <thead>\n",
       "    <tr style=\"text-align: right;\">\n",
       "      <th></th>\n",
       "      <th>borough</th>\n",
       "      <th>block</th>\n",
       "      <th>lot</th>\n",
       "      <th>cd</th>\n",
       "      <th>ct2010</th>\n",
       "      <th>cb2010</th>\n",
       "      <th>schooldist</th>\n",
       "      <th>council</th>\n",
       "      <th>zipcode</th>\n",
       "      <th>firecomp</th>\n",
       "      <th>policeprct</th>\n",
       "      <th>healtharea</th>\n",
       "      <th>sanitboro</th>\n",
       "      <th>sanitsub</th>\n",
       "      <th>address</th>\n",
       "      <th>zonedist1</th>\n",
       "      <th>zonedist2</th>\n",
       "      <th>zonedist3</th>\n",
       "      <th>zonedist4</th>\n",
       "      <th>overlay1</th>\n",
       "      <th>overlay2</th>\n",
       "      <th>spdist1</th>\n",
       "      <th>spdist2</th>\n",
       "      <th>spdist3</th>\n",
       "      <th>ltdheight</th>\n",
       "      <th>splitzone</th>\n",
       "      <th>bldgclass</th>\n",
       "      <th>landuse</th>\n",
       "      <th>easements</th>\n",
       "      <th>ownertype</th>\n",
       "      <th>ownername</th>\n",
       "      <th>lotarea</th>\n",
       "      <th>bldgarea</th>\n",
       "      <th>comarea</th>\n",
       "      <th>resarea</th>\n",
       "      <th>officearea</th>\n",
       "      <th>retailarea</th>\n",
       "      <th>garagearea</th>\n",
       "      <th>strgearea</th>\n",
       "      <th>factryarea</th>\n",
       "      <th>...</th>\n",
       "      <th>assesstot</th>\n",
       "      <th>exemptland</th>\n",
       "      <th>exempttot</th>\n",
       "      <th>yearbuilt</th>\n",
       "      <th>yearalter1</th>\n",
       "      <th>yearalter2</th>\n",
       "      <th>histdist</th>\n",
       "      <th>landmark</th>\n",
       "      <th>builtfar</th>\n",
       "      <th>residfar</th>\n",
       "      <th>commfar</th>\n",
       "      <th>facilfar</th>\n",
       "      <th>borocode</th>\n",
       "      <th>bbl</th>\n",
       "      <th>condono</th>\n",
       "      <th>tract2010</th>\n",
       "      <th>xcoord</th>\n",
       "      <th>ycoord</th>\n",
       "      <th>zonemap</th>\n",
       "      <th>zmcode</th>\n",
       "      <th>sanborn</th>\n",
       "      <th>taxmap</th>\n",
       "      <th>edesignum</th>\n",
       "      <th>appbbl</th>\n",
       "      <th>appdate</th>\n",
       "      <th>mappluto_f</th>\n",
       "      <th>plutomapid</th>\n",
       "      <th>version</th>\n",
       "      <th>sanitdistrict</th>\n",
       "      <th>healthcenterdistrict</th>\n",
       "      <th>firm07_flag</th>\n",
       "      <th>pfirm15_flag</th>\n",
       "      <th>rpaddate</th>\n",
       "      <th>dcasdate</th>\n",
       "      <th>zoningdate</th>\n",
       "      <th>landmkdate</th>\n",
       "      <th>basempdate</th>\n",
       "      <th>masdate</th>\n",
       "      <th>polidate</th>\n",
       "      <th>edesigdate</th>\n",
       "    </tr>\n",
       "  </thead>\n",
       "  <tbody>\n",
       "    <tr>\n",
       "      <th>0</th>\n",
       "      <td>BX</td>\n",
       "      <td>5641.0</td>\n",
       "      <td>670.0</td>\n",
       "      <td>210.0</td>\n",
       "      <td>516.0</td>\n",
       "      <td>2.0</td>\n",
       "      <td>NaN</td>\n",
       "      <td>13.0</td>\n",
       "      <td>NaN</td>\n",
       "      <td>NaN</td>\n",
       "      <td>NaN</td>\n",
       "      <td>NaN</td>\n",
       "      <td>NaN</td>\n",
       "      <td></td>\n",
       "      <td>CITY ISLAND AVENUE</td>\n",
       "      <td>NaN</td>\n",
       "      <td>NaN</td>\n",
       "      <td>NaN</td>\n",
       "      <td>NaN</td>\n",
       "      <td>NaN</td>\n",
       "      <td>NaN</td>\n",
       "      <td>NaN</td>\n",
       "      <td>NaN</td>\n",
       "      <td>NaN</td>\n",
       "      <td>NaN</td>\n",
       "      <td>NaN</td>\n",
       "      <td>T2</td>\n",
       "      <td>7.0</td>\n",
       "      <td>0.0</td>\n",
       "      <td>NaN</td>\n",
       "      <td>MINNY C INC.</td>\n",
       "      <td>53758.0</td>\n",
       "      <td>0.0</td>\n",
       "      <td>NaN</td>\n",
       "      <td>NaN</td>\n",
       "      <td>NaN</td>\n",
       "      <td>NaN</td>\n",
       "      <td>NaN</td>\n",
       "      <td>NaN</td>\n",
       "      <td>NaN</td>\n",
       "      <td>...</td>\n",
       "      <td>59400.0</td>\n",
       "      <td>0.0</td>\n",
       "      <td>0.0</td>\n",
       "      <td>0.0</td>\n",
       "      <td>0.0</td>\n",
       "      <td>0.0</td>\n",
       "      <td>NaN</td>\n",
       "      <td>NaN</td>\n",
       "      <td>0.00</td>\n",
       "      <td>0.00</td>\n",
       "      <td>0.0</td>\n",
       "      <td>0.0</td>\n",
       "      <td>2.0</td>\n",
       "      <td>2.056411e+09</td>\n",
       "      <td>0.0</td>\n",
       "      <td>516.0</td>\n",
       "      <td>1044510.0</td>\n",
       "      <td>246734.0</td>\n",
       "      <td>4d</td>\n",
       "      <td>NaN</td>\n",
       "      <td>218 068</td>\n",
       "      <td>21810</td>\n",
       "      <td>NaN</td>\n",
       "      <td>2.056411e+09</td>\n",
       "      <td>1/5/2005</td>\n",
       "      <td>NaN</td>\n",
       "      <td>4.0</td>\n",
       "      <td>18v2.1</td>\n",
       "      <td>NaN</td>\n",
       "      <td>NaN</td>\n",
       "      <td>1.0</td>\n",
       "      <td>1.0</td>\n",
       "      <td>12/6/2018</td>\n",
       "      <td>12/20/2018</td>\n",
       "      <td>12/21/2018</td>\n",
       "      <td>12/20/2018</td>\n",
       "      <td>12/21/2018</td>\n",
       "      <td>NaN</td>\n",
       "      <td>NaN</td>\n",
       "      <td>12/20/2018</td>\n",
       "    </tr>\n",
       "    <tr>\n",
       "      <th>1</th>\n",
       "      <td>QN</td>\n",
       "      <td>3935.0</td>\n",
       "      <td>3.0</td>\n",
       "      <td>407.0</td>\n",
       "      <td>929.0</td>\n",
       "      <td>1001.0</td>\n",
       "      <td>25.0</td>\n",
       "      <td>19.0</td>\n",
       "      <td>11356.0</td>\n",
       "      <td>E297</td>\n",
       "      <td>109.0</td>\n",
       "      <td>210.0</td>\n",
       "      <td>4.0</td>\n",
       "      <td>5D</td>\n",
       "      <td>8-03 117 STREET</td>\n",
       "      <td>R2A</td>\n",
       "      <td>NaN</td>\n",
       "      <td>NaN</td>\n",
       "      <td>NaN</td>\n",
       "      <td>NaN</td>\n",
       "      <td>NaN</td>\n",
       "      <td>NaN</td>\n",
       "      <td>NaN</td>\n",
       "      <td>NaN</td>\n",
       "      <td>NaN</td>\n",
       "      <td>N</td>\n",
       "      <td>A1</td>\n",
       "      <td>1.0</td>\n",
       "      <td>0.0</td>\n",
       "      <td>NaN</td>\n",
       "      <td>CHEN, ZHIBIN</td>\n",
       "      <td>10870.0</td>\n",
       "      <td>3130.0</td>\n",
       "      <td>0.0</td>\n",
       "      <td>3130.0</td>\n",
       "      <td>0.0</td>\n",
       "      <td>0.0</td>\n",
       "      <td>0.0</td>\n",
       "      <td>0.0</td>\n",
       "      <td>0.0</td>\n",
       "      <td>...</td>\n",
       "      <td>53083.0</td>\n",
       "      <td>0.0</td>\n",
       "      <td>0.0</td>\n",
       "      <td>1915.0</td>\n",
       "      <td>1995.0</td>\n",
       "      <td>1996.0</td>\n",
       "      <td>NaN</td>\n",
       "      <td>NaN</td>\n",
       "      <td>0.29</td>\n",
       "      <td>0.50</td>\n",
       "      <td>0.0</td>\n",
       "      <td>1.0</td>\n",
       "      <td>4.0</td>\n",
       "      <td>4.039350e+09</td>\n",
       "      <td>0.0</td>\n",
       "      <td>929.0</td>\n",
       "      <td>1025679.0</td>\n",
       "      <td>227096.0</td>\n",
       "      <td>7b</td>\n",
       "      <td>NaN</td>\n",
       "      <td>405 037</td>\n",
       "      <td>42101</td>\n",
       "      <td>NaN</td>\n",
       "      <td>0.000000e+00</td>\n",
       "      <td>NaN</td>\n",
       "      <td>NaN</td>\n",
       "      <td>1.0</td>\n",
       "      <td>18v2.1</td>\n",
       "      <td>7.0</td>\n",
       "      <td>43.0</td>\n",
       "      <td>NaN</td>\n",
       "      <td>NaN</td>\n",
       "      <td>12/6/2018</td>\n",
       "      <td>12/20/2018</td>\n",
       "      <td>12/21/2018</td>\n",
       "      <td>12/20/2018</td>\n",
       "      <td>12/21/2018</td>\n",
       "      <td>NaN</td>\n",
       "      <td>NaN</td>\n",
       "      <td>12/20/2018</td>\n",
       "    </tr>\n",
       "    <tr>\n",
       "      <th>2</th>\n",
       "      <td>BX</td>\n",
       "      <td>4205.0</td>\n",
       "      <td>41.0</td>\n",
       "      <td>211.0</td>\n",
       "      <td>296.0</td>\n",
       "      <td>2000.0</td>\n",
       "      <td>11.0</td>\n",
       "      <td>13.0</td>\n",
       "      <td>NaN</td>\n",
       "      <td>Q061</td>\n",
       "      <td>49.0</td>\n",
       "      <td>1410.0</td>\n",
       "      <td>2.0</td>\n",
       "      <td>2E</td>\n",
       "      <td>SEMINOLE AVENUE</td>\n",
       "      <td>R4</td>\n",
       "      <td>NaN</td>\n",
       "      <td>NaN</td>\n",
       "      <td>NaN</td>\n",
       "      <td>NaN</td>\n",
       "      <td>NaN</td>\n",
       "      <td>NaN</td>\n",
       "      <td>NaN</td>\n",
       "      <td>NaN</td>\n",
       "      <td>NaN</td>\n",
       "      <td>N</td>\n",
       "      <td>V0</td>\n",
       "      <td>11.0</td>\n",
       "      <td>0.0</td>\n",
       "      <td>NaN</td>\n",
       "      <td>EDWARD AND LORRAINE S</td>\n",
       "      <td>2369.0</td>\n",
       "      <td>0.0</td>\n",
       "      <td>NaN</td>\n",
       "      <td>NaN</td>\n",
       "      <td>NaN</td>\n",
       "      <td>NaN</td>\n",
       "      <td>NaN</td>\n",
       "      <td>NaN</td>\n",
       "      <td>NaN</td>\n",
       "      <td>...</td>\n",
       "      <td>5361.0</td>\n",
       "      <td>0.0</td>\n",
       "      <td>0.0</td>\n",
       "      <td>0.0</td>\n",
       "      <td>0.0</td>\n",
       "      <td>0.0</td>\n",
       "      <td>NaN</td>\n",
       "      <td>NaN</td>\n",
       "      <td>0.00</td>\n",
       "      <td>0.90</td>\n",
       "      <td>0.0</td>\n",
       "      <td>2.0</td>\n",
       "      <td>2.0</td>\n",
       "      <td>2.042050e+09</td>\n",
       "      <td>0.0</td>\n",
       "      <td>296.0</td>\n",
       "      <td>1026345.0</td>\n",
       "      <td>249922.0</td>\n",
       "      <td>4a</td>\n",
       "      <td>NaN</td>\n",
       "      <td>220 053</td>\n",
       "      <td>21509</td>\n",
       "      <td>NaN</td>\n",
       "      <td>0.000000e+00</td>\n",
       "      <td>NaN</td>\n",
       "      <td>NaN</td>\n",
       "      <td>1.0</td>\n",
       "      <td>18v2.1</td>\n",
       "      <td>11.0</td>\n",
       "      <td>26.0</td>\n",
       "      <td>NaN</td>\n",
       "      <td>NaN</td>\n",
       "      <td>12/6/2018</td>\n",
       "      <td>12/20/2018</td>\n",
       "      <td>12/21/2018</td>\n",
       "      <td>12/20/2018</td>\n",
       "      <td>12/21/2018</td>\n",
       "      <td>NaN</td>\n",
       "      <td>NaN</td>\n",
       "      <td>12/20/2018</td>\n",
       "    </tr>\n",
       "    <tr>\n",
       "      <th>3</th>\n",
       "      <td>BX</td>\n",
       "      <td>2402.0</td>\n",
       "      <td>14.0</td>\n",
       "      <td>201.0</td>\n",
       "      <td>69.0</td>\n",
       "      <td>2005.0</td>\n",
       "      <td>7.0</td>\n",
       "      <td>17.0</td>\n",
       "      <td>NaN</td>\n",
       "      <td>L055</td>\n",
       "      <td>40.0</td>\n",
       "      <td>3900.0</td>\n",
       "      <td>2.0</td>\n",
       "      <td>1B</td>\n",
       "      <td>EAST 156 STREET</td>\n",
       "      <td>R6</td>\n",
       "      <td>NaN</td>\n",
       "      <td>NaN</td>\n",
       "      <td>NaN</td>\n",
       "      <td>NaN</td>\n",
       "      <td>NaN</td>\n",
       "      <td>NaN</td>\n",
       "      <td>NaN</td>\n",
       "      <td>NaN</td>\n",
       "      <td>NaN</td>\n",
       "      <td>N</td>\n",
       "      <td>G7</td>\n",
       "      <td>10.0</td>\n",
       "      <td>0.0</td>\n",
       "      <td>NaN</td>\n",
       "      <td>156, LLC</td>\n",
       "      <td>3750.0</td>\n",
       "      <td>0.0</td>\n",
       "      <td>NaN</td>\n",
       "      <td>NaN</td>\n",
       "      <td>NaN</td>\n",
       "      <td>NaN</td>\n",
       "      <td>NaN</td>\n",
       "      <td>NaN</td>\n",
       "      <td>NaN</td>\n",
       "      <td>...</td>\n",
       "      <td>81000.0</td>\n",
       "      <td>0.0</td>\n",
       "      <td>0.0</td>\n",
       "      <td>0.0</td>\n",
       "      <td>0.0</td>\n",
       "      <td>0.0</td>\n",
       "      <td>NaN</td>\n",
       "      <td>NaN</td>\n",
       "      <td>0.00</td>\n",
       "      <td>2.43</td>\n",
       "      <td>0.0</td>\n",
       "      <td>4.8</td>\n",
       "      <td>2.0</td>\n",
       "      <td>2.024020e+09</td>\n",
       "      <td>0.0</td>\n",
       "      <td>69.0</td>\n",
       "      <td>1007336.0</td>\n",
       "      <td>238351.0</td>\n",
       "      <td>6a</td>\n",
       "      <td>NaN</td>\n",
       "      <td>209N080</td>\n",
       "      <td>20905</td>\n",
       "      <td>NaN</td>\n",
       "      <td>0.000000e+00</td>\n",
       "      <td>NaN</td>\n",
       "      <td>NaN</td>\n",
       "      <td>1.0</td>\n",
       "      <td>18v2.1</td>\n",
       "      <td>1.0</td>\n",
       "      <td>23.0</td>\n",
       "      <td>NaN</td>\n",
       "      <td>NaN</td>\n",
       "      <td>12/6/2018</td>\n",
       "      <td>12/20/2018</td>\n",
       "      <td>12/21/2018</td>\n",
       "      <td>12/20/2018</td>\n",
       "      <td>12/21/2018</td>\n",
       "      <td>NaN</td>\n",
       "      <td>NaN</td>\n",
       "      <td>12/20/2018</td>\n",
       "    </tr>\n",
       "    <tr>\n",
       "      <th>4</th>\n",
       "      <td>SI</td>\n",
       "      <td>63.0</td>\n",
       "      <td>83.0</td>\n",
       "      <td>501.0</td>\n",
       "      <td>81.0</td>\n",
       "      <td>2006.0</td>\n",
       "      <td>31.0</td>\n",
       "      <td>49.0</td>\n",
       "      <td>10301.0</td>\n",
       "      <td>E155</td>\n",
       "      <td>120.0</td>\n",
       "      <td>400.0</td>\n",
       "      <td>5.0</td>\n",
       "      <td>2C</td>\n",
       "      <td>216 FRANKLIN AVENUE</td>\n",
       "      <td>R2</td>\n",
       "      <td>NaN</td>\n",
       "      <td>NaN</td>\n",
       "      <td>NaN</td>\n",
       "      <td>NaN</td>\n",
       "      <td>NaN</td>\n",
       "      <td>HS</td>\n",
       "      <td>NaN</td>\n",
       "      <td>NaN</td>\n",
       "      <td>NaN</td>\n",
       "      <td>N</td>\n",
       "      <td>A1</td>\n",
       "      <td>1.0</td>\n",
       "      <td>0.0</td>\n",
       "      <td>NaN</td>\n",
       "      <td>DENNIS COTTER</td>\n",
       "      <td>3465.0</td>\n",
       "      <td>1590.0</td>\n",
       "      <td>0.0</td>\n",
       "      <td>1590.0</td>\n",
       "      <td>0.0</td>\n",
       "      <td>0.0</td>\n",
       "      <td>0.0</td>\n",
       "      <td>0.0</td>\n",
       "      <td>0.0</td>\n",
       "      <td>...</td>\n",
       "      <td>20044.0</td>\n",
       "      <td>1460.0</td>\n",
       "      <td>1460.0</td>\n",
       "      <td>1901.0</td>\n",
       "      <td>0.0</td>\n",
       "      <td>0.0</td>\n",
       "      <td>NaN</td>\n",
       "      <td>NaN</td>\n",
       "      <td>0.46</td>\n",
       "      <td>0.50</td>\n",
       "      <td>0.0</td>\n",
       "      <td>1.0</td>\n",
       "      <td>5.0</td>\n",
       "      <td>5.000630e+09</td>\n",
       "      <td>0.0</td>\n",
       "      <td>81.0</td>\n",
       "      <td>958845.0</td>\n",
       "      <td>172482.0</td>\n",
       "      <td>21a</td>\n",
       "      <td>NaN</td>\n",
       "      <td>501 082</td>\n",
       "      <td>50102</td>\n",
       "      <td>NaN</td>\n",
       "      <td>0.000000e+00</td>\n",
       "      <td>NaN</td>\n",
       "      <td>NaN</td>\n",
       "      <td>1.0</td>\n",
       "      <td>18v2.1</td>\n",
       "      <td>1.0</td>\n",
       "      <td>51.0</td>\n",
       "      <td>NaN</td>\n",
       "      <td>NaN</td>\n",
       "      <td>12/6/2018</td>\n",
       "      <td>12/20/2018</td>\n",
       "      <td>12/21/2018</td>\n",
       "      <td>12/20/2018</td>\n",
       "      <td>12/21/2018</td>\n",
       "      <td>NaN</td>\n",
       "      <td>NaN</td>\n",
       "      <td>12/20/2018</td>\n",
       "    </tr>\n",
       "  </tbody>\n",
       "</table>\n",
       "<p>5 rows × 96 columns</p>\n",
       "</div>"
      ],
      "text/plain": [
       "  borough   block    lot     cd  ...  basempdate  masdate  polidate  edesigdate\n",
       "0      BX  5641.0  670.0  210.0  ...  12/21/2018      NaN       NaN  12/20/2018\n",
       "1      QN  3935.0    3.0  407.0  ...  12/21/2018      NaN       NaN  12/20/2018\n",
       "2      BX  4205.0   41.0  211.0  ...  12/21/2018      NaN       NaN  12/20/2018\n",
       "3      BX  2402.0   14.0  201.0  ...  12/21/2018      NaN       NaN  12/20/2018\n",
       "4      SI    63.0   83.0  501.0  ...  12/21/2018      NaN       NaN  12/20/2018\n",
       "\n",
       "[5 rows x 96 columns]"
      ]
     },
     "execution_count": 12,
     "metadata": {
      "tags": []
     },
     "output_type": "execute_result"
    }
   ],
   "source": [
    "pluto = pd.read_csv(\"pluto_18v2_1.csv\")\n",
    "pluto.head()"
   ]
  },
  {
   "cell_type": "markdown",
   "metadata": {
    "colab_type": "text",
    "id": "Jns_yfQ2Y5Xz"
   },
   "source": [
    "# data fusion\n",
    "\n",
    "### select data\n",
    "select the data for buildings _in the borough of Manhattan_ only from the pluto file (you can do it broadcasting!)\n",
    "\n",
    "### merge\n",
    "merge the pluto and ll84 dataframes. you will have to choose an appropriate column that both datasets share fo do so. The column may not have the same nbame, but should have the same _variable_."
   ]
  },
  {
   "cell_type": "code",
   "execution_count": 13,
   "metadata": {
    "colab": {
     "base_uri": "https://localhost:8080/",
     "height": 34
    },
    "colab_type": "code",
    "id": "Vr6k_D7Ck6JI",
    "outputId": "e541801c-61c6-4887-8fb4-7e7a216b812a"
   },
   "outputs": [
    {
     "data": {
      "text/plain": [
       "(42897, 96)"
      ]
     },
     "execution_count": 13,
     "metadata": {
      "tags": []
     },
     "output_type": "execute_result"
    }
   ],
   "source": [
    "pluto = pluto[pluto[\"borough\"] == \"MN\"]\n",
    "pluto.shape"
   ]
  },
  {
   "cell_type": "code",
   "execution_count": 14,
   "metadata": {
    "colab": {
     "base_uri": "https://localhost:8080/",
     "height": 34
    },
    "colab_type": "code",
    "id": "lRVazRnIqgmV",
    "outputId": "5b4c6ff7-8d98-48c6-e8fc-1ecb33100623"
   },
   "outputs": [
    {
     "data": {
      "text/plain": [
       "(5196, 156)"
      ]
     },
     "execution_count": 14,
     "metadata": {
      "tags": []
     },
     "output_type": "execute_result"
    }
   ],
   "source": [
    "joined = pd.merge(pluto, ll84, left_on = \"bbl\", right_on =  \"BBL - 10 digits\")\n",
    "joined.shape"
   ]
  },
  {
   "cell_type": "markdown",
   "metadata": {
    "colab_type": "text",
    "id": "eExs_TXwlQkT"
   },
   "source": [
    "# data exploration and cleaning\n",
    "\n",
    "### extact columns\n",
    "extract the columns listed in the file \"columns.txt\" from the dataset.\n",
    "\n",
    "convert the resulting dataset to numerical, converting non-numerical values to NaN. drop rows that contain invalid values and save the resulting dataframe (_reducted_ dataframe)"
   ]
  },
  {
   "cell_type": "code",
   "execution_count": 15,
   "metadata": {
    "colab": {
     "base_uri": "https://localhost:8080/",
     "height": 156
    },
    "colab_type": "code",
    "id": "CkGZ4rZZunG4",
    "outputId": "99c6ff09-5f71-4691-c04b-3ce20a67c00b"
   },
   "outputs": [
    {
     "name": "stderr",
     "output_type": "stream",
     "text": [
      "/usr/local/lib/python3.6/dist-packages/ipykernel_launcher.py:1: FutureWarning: read_table is deprecated, use read_csv instead, passing sep='\\t'.\n",
      "  \"\"\"Entry point for launching an IPython kernel.\n",
      "/usr/local/lib/python3.6/dist-packages/ipykernel_launcher.py:7: FutureWarning: convert_objects is deprecated.  To re-infer data dtypes for object columns, use DataFrame.infer_objects()\n",
      "For all other conversions use the data-type specific converters pd.to_datetime, pd.to_timedelta and pd.to_numeric.\n",
      "  import sys\n"
     ]
    },
    {
     "name": "stdout",
     "output_type": "stream",
     "text": [
      "['DOF Gross Floor Area', 'Year Built', 'Number of Buildings - Self-reported', 'Occupancy', 'ENERGY STAR Score', 'Site EUI (kBtu/ft²)', 'Weather Normalized Site EUI (kBtu/ft²)', 'Weather Normalized Site Electricity Intensity (kWh/ft²)', 'Weather Normalized Site Natural Gas Intensity (therms/ft²)', 'Weather Normalized Source EUI (kBtu/ft²)', 'Electricity Use - Grid Purchase (kBtu)', 'Total GHG Emissions (Metric Tons CO2e)', 'Property GFA - Self-Reported (ft²)', 'Water Use (All Water Sources) (kgal)', 'Water Intensity (All Water Sources) (gal/ft²)', 'Source EUI (kBtu/ft²)', 'bldgarea', 'numbldgs', 'numfloors', 'unitsres', 'unitstotal', 'yearalter1']\n"
     ]
    },
    {
     "data": {
      "text/plain": [
       "(2044, 22)"
      ]
     },
     "execution_count": 15,
     "metadata": {
      "tags": []
     },
     "output_type": "execute_result"
    }
   ],
   "source": [
    "columns = pd.read_table(\"https://raw.githubusercontent.com/fedhere/DSPS/master/HW5/columns.txt\", header = None)\n",
    "columns = columns[0].values.tolist()\n",
    "print(columns)\n",
    "\n",
    "\n",
    "data = joined[columns]\n",
    "data = data.convert_objects(convert_numeric = True)\n",
    "reduced = data.dropna(thresh = 22)\n",
    "reduced.shape"
   ]
  },
  {
   "cell_type": "code",
   "execution_count": 16,
   "metadata": {
    "colab": {
     "base_uri": "https://localhost:8080/",
     "height": 309
    },
    "colab_type": "code",
    "id": "SPq5cOykyp_B",
    "outputId": "1ce068d4-22d8-4945-804b-4f4d5a6cd10c"
   },
   "outputs": [
    {
     "data": {
      "text/html": [
       "<div>\n",
       "<style scoped>\n",
       "    .dataframe tbody tr th:only-of-type {\n",
       "        vertical-align: middle;\n",
       "    }\n",
       "\n",
       "    .dataframe tbody tr th {\n",
       "        vertical-align: top;\n",
       "    }\n",
       "\n",
       "    .dataframe thead th {\n",
       "        text-align: right;\n",
       "    }\n",
       "</style>\n",
       "<table border=\"1\" class=\"dataframe\">\n",
       "  <thead>\n",
       "    <tr style=\"text-align: right;\">\n",
       "      <th></th>\n",
       "      <th>DOF Gross Floor Area</th>\n",
       "      <th>Year Built</th>\n",
       "      <th>Number of Buildings - Self-reported</th>\n",
       "      <th>Occupancy</th>\n",
       "      <th>ENERGY STAR Score</th>\n",
       "      <th>Site EUI (kBtu/ft²)</th>\n",
       "      <th>Weather Normalized Site EUI (kBtu/ft²)</th>\n",
       "      <th>Weather Normalized Site Electricity Intensity (kWh/ft²)</th>\n",
       "      <th>Weather Normalized Site Natural Gas Intensity (therms/ft²)</th>\n",
       "      <th>Weather Normalized Source EUI (kBtu/ft²)</th>\n",
       "      <th>Electricity Use - Grid Purchase (kBtu)</th>\n",
       "      <th>Total GHG Emissions (Metric Tons CO2e)</th>\n",
       "      <th>Property GFA - Self-Reported (ft²)</th>\n",
       "      <th>Water Use (All Water Sources) (kgal)</th>\n",
       "      <th>Water Intensity (All Water Sources) (gal/ft²)</th>\n",
       "      <th>Source EUI (kBtu/ft²)</th>\n",
       "      <th>bldgarea</th>\n",
       "      <th>numbldgs</th>\n",
       "      <th>numfloors</th>\n",
       "      <th>unitsres</th>\n",
       "      <th>unitstotal</th>\n",
       "      <th>yearalter1</th>\n",
       "    </tr>\n",
       "  </thead>\n",
       "  <tbody>\n",
       "    <tr>\n",
       "      <th>0</th>\n",
       "      <td>672462.0</td>\n",
       "      <td>1960</td>\n",
       "      <td>1</td>\n",
       "      <td>100</td>\n",
       "      <td>54.0</td>\n",
       "      <td>119.0</td>\n",
       "      <td>117.7</td>\n",
       "      <td>15.7</td>\n",
       "      <td>0.0</td>\n",
       "      <td>244.9</td>\n",
       "      <td>39568525.5</td>\n",
       "      <td>6852.7</td>\n",
       "      <td>736974</td>\n",
       "      <td>19175.1</td>\n",
       "      <td>26.02</td>\n",
       "      <td>246.9</td>\n",
       "      <td>672462.0</td>\n",
       "      <td>1.0</td>\n",
       "      <td>33.0</td>\n",
       "      <td>0.0</td>\n",
       "      <td>1.0</td>\n",
       "      <td>2004.0</td>\n",
       "    </tr>\n",
       "    <tr>\n",
       "      <th>3</th>\n",
       "      <td>156508.0</td>\n",
       "      <td>1920</td>\n",
       "      <td>1</td>\n",
       "      <td>100</td>\n",
       "      <td>91.0</td>\n",
       "      <td>64.5</td>\n",
       "      <td>66.4</td>\n",
       "      <td>10.5</td>\n",
       "      <td>0.0</td>\n",
       "      <td>143.4</td>\n",
       "      <td>5752573.8</td>\n",
       "      <td>844.2</td>\n",
       "      <td>156446</td>\n",
       "      <td>3008.1</td>\n",
       "      <td>19.23</td>\n",
       "      <td>143.6</td>\n",
       "      <td>156508.0</td>\n",
       "      <td>1.0</td>\n",
       "      <td>12.0</td>\n",
       "      <td>0.0</td>\n",
       "      <td>12.0</td>\n",
       "      <td>0.0</td>\n",
       "    </tr>\n",
       "    <tr>\n",
       "      <th>7</th>\n",
       "      <td>2542563.0</td>\n",
       "      <td>1970</td>\n",
       "      <td>1</td>\n",
       "      <td>100</td>\n",
       "      <td>84.0</td>\n",
       "      <td>104.8</td>\n",
       "      <td>105.9</td>\n",
       "      <td>14.5</td>\n",
       "      <td>0.2</td>\n",
       "      <td>220.4</td>\n",
       "      <td>116307222.2</td>\n",
       "      <td>19319.9</td>\n",
       "      <td>2428325</td>\n",
       "      <td>49920.3</td>\n",
       "      <td>20.56</td>\n",
       "      <td>215.8</td>\n",
       "      <td>1888126.0</td>\n",
       "      <td>1.0</td>\n",
       "      <td>50.0</td>\n",
       "      <td>0.0</td>\n",
       "      <td>52.0</td>\n",
       "      <td>0.0</td>\n",
       "    </tr>\n",
       "    <tr>\n",
       "      <th>11</th>\n",
       "      <td>62567.0</td>\n",
       "      <td>2003</td>\n",
       "      <td>1</td>\n",
       "      <td>100</td>\n",
       "      <td>65.0</td>\n",
       "      <td>61.2</td>\n",
       "      <td>63.7</td>\n",
       "      <td>8.6</td>\n",
       "      <td>0.3</td>\n",
       "      <td>128.6</td>\n",
       "      <td>1658766.4</td>\n",
       "      <td>243.5</td>\n",
       "      <td>54678</td>\n",
       "      <td>1098.2</td>\n",
       "      <td>20.09</td>\n",
       "      <td>127.7</td>\n",
       "      <td>54678.0</td>\n",
       "      <td>1.0</td>\n",
       "      <td>7.0</td>\n",
       "      <td>23.0</td>\n",
       "      <td>28.0</td>\n",
       "      <td>0.0</td>\n",
       "    </tr>\n",
       "    <tr>\n",
       "      <th>13</th>\n",
       "      <td>60852.0</td>\n",
       "      <td>1985</td>\n",
       "      <td>1</td>\n",
       "      <td>100</td>\n",
       "      <td>87.0</td>\n",
       "      <td>69.2</td>\n",
       "      <td>73.0</td>\n",
       "      <td>7.7</td>\n",
       "      <td>0.5</td>\n",
       "      <td>131.8</td>\n",
       "      <td>1646149.6</td>\n",
       "      <td>289.0</td>\n",
       "      <td>60852</td>\n",
       "      <td>2902.4</td>\n",
       "      <td>47.70</td>\n",
       "      <td>129.2</td>\n",
       "      <td>60725.0</td>\n",
       "      <td>1.0</td>\n",
       "      <td>8.0</td>\n",
       "      <td>0.0</td>\n",
       "      <td>31.0</td>\n",
       "      <td>2004.0</td>\n",
       "    </tr>\n",
       "  </tbody>\n",
       "</table>\n",
       "</div>"
      ],
      "text/plain": [
       "    DOF Gross Floor Area  Year Built  ...  unitstotal  yearalter1\n",
       "0               672462.0        1960  ...         1.0      2004.0\n",
       "3               156508.0        1920  ...        12.0         0.0\n",
       "7              2542563.0        1970  ...        52.0         0.0\n",
       "11               62567.0        2003  ...        28.0         0.0\n",
       "13               60852.0        1985  ...        31.0      2004.0\n",
       "\n",
       "[5 rows x 22 columns]"
      ]
     },
     "execution_count": 16,
     "metadata": {
      "tags": []
     },
     "output_type": "execute_result"
    }
   ],
   "source": [
    "reduced.head()"
   ]
  },
  {
   "cell_type": "markdown",
   "metadata": {
    "colab_type": "text",
    "id": "C5-nB1RdY5X5"
   },
   "source": [
    "### Assess impact of data wrangling\n",
    "Describe the  datasets resulting from this data cleaning: \n",
    "\n",
    "- how many observations have you lost? \n",
    "\n",
    "- did any of the features (=columns) have inconsistent distribution between the full and reducted dataset? \n",
    "\n",
    "You can approach this question in a number of ways, and you have done this in the  homewors already (with a KS test, and by just looking at uncertainties are two examples of ways to do ut that you worked out in HW3 and HW4, the Z test might work if you can convince yourself that the full sample is the \"population\" - up to you! a quick google search would probably describe many more ways). Choose _2_ ways, describe what each does and why it is appropriate. Compare the results (indeed I did it in 4 ways and did not always get consistent results! each of these meathods measures a slightly different thing).\n",
    "\n"
   ]
  },
  {
   "cell_type": "markdown",
   "metadata": {
    "colab_type": "text",
    "id": "9fbVCrmsz2Ma"
   },
   "source": [
    "**My answer:**\n",
    "\n",
    "We started with 42,897 observations when we first joined the data frames. After eliminating all NaN / non-numeric answers, we were left with only 2044 observations."
   ]
  },
  {
   "cell_type": "markdown",
   "metadata": {
    "colab_type": "text",
    "id": "D1O4bdytAHKe"
   },
   "source": [
    "#### Method 1: Z-Score"
   ]
  },
  {
   "cell_type": "code",
   "execution_count": 17,
   "metadata": {
    "ExecuteTime": {
     "end_time": "2019-09-25T02:24:30.299322Z",
     "start_time": "2019-09-25T02:24:30.184734Z"
    },
    "colab": {
     "base_uri": "https://localhost:8080/",
     "height": 731
    },
    "colab_type": "code",
    "id": "_cZwH0d4Y5X_",
    "outputId": "0cde7856-e5e2-4963-e2ba-5fede7497593"
   },
   "outputs": [
    {
     "data": {
      "text/html": [
       "<div>\n",
       "<style scoped>\n",
       "    .dataframe tbody tr th:only-of-type {\n",
       "        vertical-align: middle;\n",
       "    }\n",
       "\n",
       "    .dataframe tbody tr th {\n",
       "        vertical-align: top;\n",
       "    }\n",
       "\n",
       "    .dataframe thead th {\n",
       "        text-align: right;\n",
       "    }\n",
       "</style>\n",
       "<table border=\"1\" class=\"dataframe\">\n",
       "  <thead>\n",
       "    <tr style=\"text-align: right;\">\n",
       "      <th></th>\n",
       "      <th>reduced mean</th>\n",
       "      <th>reduced std</th>\n",
       "      <th>full mean</th>\n",
       "      <th>full std</th>\n",
       "      <th>zscore</th>\n",
       "    </tr>\n",
       "  </thead>\n",
       "  <tbody>\n",
       "    <tr>\n",
       "      <th>DOF Gross Floor Area</th>\n",
       "      <td>180049.930</td>\n",
       "      <td>242695.888</td>\n",
       "      <td>215810.924</td>\n",
       "      <td>323441.185</td>\n",
       "      <td>-0.111</td>\n",
       "    </tr>\n",
       "    <tr>\n",
       "      <th>Year Built</th>\n",
       "      <td>1944.097</td>\n",
       "      <td>34.125</td>\n",
       "      <td>1943.851</td>\n",
       "      <td>33.097</td>\n",
       "      <td>0.007</td>\n",
       "    </tr>\n",
       "    <tr>\n",
       "      <th>Number of Buildings - Self-reported</th>\n",
       "      <td>1.026</td>\n",
       "      <td>0.368</td>\n",
       "      <td>1.057</td>\n",
       "      <td>0.776</td>\n",
       "      <td>-0.039</td>\n",
       "    </tr>\n",
       "    <tr>\n",
       "      <th>Occupancy</th>\n",
       "      <td>99.061</td>\n",
       "      <td>5.203</td>\n",
       "      <td>98.531</td>\n",
       "      <td>8.235</td>\n",
       "      <td>0.064</td>\n",
       "    </tr>\n",
       "    <tr>\n",
       "      <th>ENERGY STAR Score</th>\n",
       "      <td>57.455</td>\n",
       "      <td>30.424</td>\n",
       "      <td>58.649</td>\n",
       "      <td>30.905</td>\n",
       "      <td>-0.039</td>\n",
       "    </tr>\n",
       "    <tr>\n",
       "      <th>Site EUI (kBtu/ft²)</th>\n",
       "      <td>179.519</td>\n",
       "      <td>3024.807</td>\n",
       "      <td>252.672</td>\n",
       "      <td>3121.410</td>\n",
       "      <td>-0.023</td>\n",
       "    </tr>\n",
       "    <tr>\n",
       "      <th>Weather Normalized Site EUI (kBtu/ft²)</th>\n",
       "      <td>182.952</td>\n",
       "      <td>3024.763</td>\n",
       "      <td>266.838</td>\n",
       "      <td>3274.074</td>\n",
       "      <td>-0.026</td>\n",
       "    </tr>\n",
       "    <tr>\n",
       "      <th>Weather Normalized Site Electricity Intensity (kWh/ft²)</th>\n",
       "      <td>10.828</td>\n",
       "      <td>90.162</td>\n",
       "      <td>10.479</td>\n",
       "      <td>58.737</td>\n",
       "      <td>0.006</td>\n",
       "    </tr>\n",
       "    <tr>\n",
       "      <th>Weather Normalized Site Natural Gas Intensity (therms/ft²)</th>\n",
       "      <td>0.348</td>\n",
       "      <td>0.387</td>\n",
       "      <td>0.413</td>\n",
       "      <td>2.623</td>\n",
       "      <td>-0.025</td>\n",
       "    </tr>\n",
       "    <tr>\n",
       "      <th>Weather Normalized Source EUI (kBtu/ft²)</th>\n",
       "      <td>282.695</td>\n",
       "      <td>3746.045</td>\n",
       "      <td>382.123</td>\n",
       "      <td>3983.116</td>\n",
       "      <td>-0.025</td>\n",
       "    </tr>\n",
       "    <tr>\n",
       "      <th>Electricity Use - Grid Purchase (kBtu)</th>\n",
       "      <td>7417714.247</td>\n",
       "      <td>27212994.996</td>\n",
       "      <td>8586619.329</td>\n",
       "      <td>24925312.197</td>\n",
       "      <td>-0.047</td>\n",
       "    </tr>\n",
       "    <tr>\n",
       "      <th>Total GHG Emissions (Metric Tons CO2e)</th>\n",
       "      <td>1727.084</td>\n",
       "      <td>14586.701</td>\n",
       "      <td>4690.378</td>\n",
       "      <td>88955.738</td>\n",
       "      <td>-0.033</td>\n",
       "    </tr>\n",
       "    <tr>\n",
       "      <th>Property GFA - Self-Reported (ft²)</th>\n",
       "      <td>183429.796</td>\n",
       "      <td>251665.489</td>\n",
       "      <td>208274.941</td>\n",
       "      <td>309712.274</td>\n",
       "      <td>-0.080</td>\n",
       "    </tr>\n",
       "    <tr>\n",
       "      <th>Water Use (All Water Sources) (kgal)</th>\n",
       "      <td>15208.014</td>\n",
       "      <td>122892.745</td>\n",
       "      <td>14775.394</td>\n",
       "      <td>148181.080</td>\n",
       "      <td>0.003</td>\n",
       "    </tr>\n",
       "    <tr>\n",
       "      <th>Water Intensity (All Water Sources) (gal/ft²)</th>\n",
       "      <td>86.745</td>\n",
       "      <td>488.899</td>\n",
       "      <td>94.217</td>\n",
       "      <td>1125.704</td>\n",
       "      <td>-0.007</td>\n",
       "    </tr>\n",
       "    <tr>\n",
       "      <th>Source EUI (kBtu/ft²)</th>\n",
       "      <td>280.407</td>\n",
       "      <td>3749.438</td>\n",
       "      <td>364.997</td>\n",
       "      <td>3798.585</td>\n",
       "      <td>-0.022</td>\n",
       "    </tr>\n",
       "    <tr>\n",
       "      <th>bldgarea</th>\n",
       "      <td>174307.104</td>\n",
       "      <td>233488.223</td>\n",
       "      <td>210292.886</td>\n",
       "      <td>316904.855</td>\n",
       "      <td>-0.114</td>\n",
       "    </tr>\n",
       "    <tr>\n",
       "      <th>numbldgs</th>\n",
       "      <td>1.136</td>\n",
       "      <td>0.696</td>\n",
       "      <td>1.346</td>\n",
       "      <td>2.103</td>\n",
       "      <td>-0.100</td>\n",
       "    </tr>\n",
       "    <tr>\n",
       "      <th>numfloors</th>\n",
       "      <td>14.505</td>\n",
       "      <td>9.104</td>\n",
       "      <td>15.515</td>\n",
       "      <td>10.218</td>\n",
       "      <td>-0.099</td>\n",
       "    </tr>\n",
       "    <tr>\n",
       "      <th>unitsres</th>\n",
       "      <td>86.315</td>\n",
       "      <td>123.580</td>\n",
       "      <td>89.771</td>\n",
       "      <td>189.232</td>\n",
       "      <td>-0.018</td>\n",
       "    </tr>\n",
       "    <tr>\n",
       "      <th>unitstotal</th>\n",
       "      <td>99.047</td>\n",
       "      <td>125.354</td>\n",
       "      <td>103.175</td>\n",
       "      <td>191.115</td>\n",
       "      <td>-0.022</td>\n",
       "    </tr>\n",
       "    <tr>\n",
       "      <th>yearalter1</th>\n",
       "      <td>1094.832</td>\n",
       "      <td>989.811</td>\n",
       "      <td>1098.986</td>\n",
       "      <td>989.680</td>\n",
       "      <td>-0.004</td>\n",
       "    </tr>\n",
       "  </tbody>\n",
       "</table>\n",
       "</div>"
      ],
      "text/plain": [
       "                                                    reduced mean  ...  zscore\n",
       "DOF Gross Floor Area                                  180049.930  ...  -0.111\n",
       "Year Built                                              1944.097  ...   0.007\n",
       "Number of Buildings - Self-reported                        1.026  ...  -0.039\n",
       "Occupancy                                                 99.061  ...   0.064\n",
       "ENERGY STAR Score                                         57.455  ...  -0.039\n",
       "Site EUI (kBtu/ft²)                                      179.519  ...  -0.023\n",
       "Weather Normalized Site EUI (kBtu/ft²)                   182.952  ...  -0.026\n",
       "Weather Normalized Site Electricity Intensity (...        10.828  ...   0.006\n",
       "Weather Normalized Site Natural Gas Intensity (...         0.348  ...  -0.025\n",
       "Weather Normalized Source EUI (kBtu/ft²)                 282.695  ...  -0.025\n",
       "Electricity Use - Grid Purchase (kBtu)               7417714.247  ...  -0.047\n",
       "Total GHG Emissions (Metric Tons CO2e)                  1727.084  ...  -0.033\n",
       "Property GFA - Self-Reported (ft²)                    183429.796  ...  -0.080\n",
       "Water Use (All Water Sources) (kgal)                   15208.014  ...   0.003\n",
       "Water Intensity (All Water Sources) (gal/ft²)             86.745  ...  -0.007\n",
       "Source EUI (kBtu/ft²)                                    280.407  ...  -0.022\n",
       "bldgarea                                              174307.104  ...  -0.114\n",
       "numbldgs                                                   1.136  ...  -0.100\n",
       "numfloors                                                 14.505  ...  -0.099\n",
       "unitsres                                                  86.315  ...  -0.018\n",
       "unitstotal                                                99.047  ...  -0.022\n",
       "yearalter1                                              1094.832  ...  -0.004\n",
       "\n",
       "[22 rows x 5 columns]"
      ]
     },
     "execution_count": 17,
     "metadata": {
      "tags": []
     },
     "output_type": "execute_result"
    }
   ],
   "source": [
    "pd.set_option('display.float_format', lambda x: '%.3f' % x)\n",
    "\n",
    "rmeans = pd.Series(reduced.mean(), name=\"reduced mean\")\n",
    "rstds = pd.Series(reduced.std(), name=\"reduced std\")\n",
    "fmeans = pd.Series(data.mean(), name=\"full mean\")\n",
    "fstds = pd.Series(data.std(), name=\"full std\")\n",
    "stats = pd.concat([rmeans, rstds, fmeans, fstds], axis = 1)\n",
    "\n",
    "stats[\"zscore\"] = (stats[\"reduced mean\"] - stats[\"full mean\"]) / stats[\"full std\"]\n",
    "stats"
   ]
  },
  {
   "cell_type": "code",
   "execution_count": 18,
   "metadata": {
    "colab": {
     "base_uri": "https://localhost:8080/",
     "height": 34
    },
    "colab_type": "code",
    "id": "UuP8Wq_R86mc",
    "outputId": "22a66b93-7590-40c1-d5f9-a32dc63454cb"
   },
   "outputs": [
    {
     "data": {
      "text/plain": [
       "0.11355390151984134"
      ]
     },
     "execution_count": 18,
     "metadata": {
      "tags": []
     },
     "output_type": "execute_result"
    }
   ],
   "source": [
    "max(abs(stats['zscore']))"
   ]
  },
  {
   "cell_type": "markdown",
   "metadata": {
    "colab_type": "text",
    "id": "-LEv_MIp-dRC"
   },
   "source": [
    "**My discussion**\n",
    "\n",
    "The means of all of our reduced columns were within 0.25 standard deviations of the non-data-wranggled (assumed to be the full population) means. This supports the claim that the reduced data is consistent with the unreduced data."
   ]
  },
  {
   "cell_type": "markdown",
   "metadata": {
    "colab_type": "text",
    "id": "AELo0PIBH1kn"
   },
   "source": [
    "#### KS Test"
   ]
  },
  {
   "cell_type": "code",
   "execution_count": 19,
   "metadata": {
    "colab": {
     "base_uri": "https://localhost:8080/",
     "height": 102
    },
    "colab_type": "code",
    "id": "mtHa6BI8D6tU",
    "outputId": "c3e54a42-2954-4fbd-9e8a-0d7a16eb410f"
   },
   "outputs": [
    {
     "name": "stderr",
     "output_type": "stream",
     "text": [
      "/usr/local/lib/python3.6/dist-packages/ipykernel_launcher.py:5: SettingWithCopyWarning: \n",
      "A value is trying to be set on a copy of a slice from a DataFrame\n",
      "\n",
      "See the caveats in the documentation: http://pandas.pydata.org/pandas-docs/stable/indexing.html#indexing-view-versus-copy\n",
      "  \"\"\"\n"
     ]
    }
   ],
   "source": [
    "stats['p-value'] = None\n",
    "pVals = []\n",
    "for i in stats.index:\n",
    "  pVal = sp.stats.ks_2samp(reduced[i], data[i])[1]\n",
    "  stats['p-value'][i] = pVal"
   ]
  },
  {
   "cell_type": "code",
   "execution_count": 20,
   "metadata": {
    "colab": {
     "base_uri": "https://localhost:8080/",
     "height": 102
    },
    "colab_type": "code",
    "id": "StT6P7SbIjV7",
    "outputId": "a279c7a5-c0a7-405e-cf12-c274469755d6"
   },
   "outputs": [
    {
     "data": {
      "text/plain": [
       "ENERGY STAR Score                                            0.000\n",
       "Weather Normalized Site Natural Gas Intensity (therms/ft²)   0.000\n",
       "Water Use (All Water Sources) (kgal)                         0.000\n",
       "Water Intensity (All Water Sources) (gal/ft²)                0.000\n",
       "Name: p-value, dtype: object"
      ]
     },
     "execution_count": 20,
     "metadata": {
      "tags": []
     },
     "output_type": "execute_result"
    }
   ],
   "source": [
    "inconsistentCols = stats[stats['p-value'] < 0.05]['p-value']\n",
    "inconsistentCols.head()"
   ]
  },
  {
   "cell_type": "markdown",
   "metadata": {
    "colab_type": "text",
    "id": "NwAzYltBItuM"
   },
   "source": [
    "**My discussion**\n",
    "\n",
    "The KS test showed that 4 of the 22 columns in the reduced data were inconsistent with the unreduced data. This conclusion is made at the 2 sigma confidence level (p = 0.05)."
   ]
  },
  {
   "cell_type": "markdown",
   "metadata": {
    "colab_type": "text",
    "id": "OBPiLSfnY5YE"
   },
   "source": [
    "### plot WNEC\n",
    "Regardless of what you found above, plot the distribution of the _log base 10_ of the weather-normalized site energy consumption (WNEC) for all values larger than 0.1 (such that log10(min) is -1) for the _entire dataset_ and for the _reducted one_: do you think inference on this feature would be affected by this way of dealing with missing data affects the result?\n",
    "\n"
   ]
  },
  {
   "cell_type": "code",
   "execution_count": 21,
   "metadata": {
    "colab": {
     "base_uri": "https://localhost:8080/",
     "height": 337
    },
    "colab_type": "code",
    "id": "_YNZZoZRHFfH",
    "outputId": "c8829fd9-f6bf-4da7-ff45-0b6377c61583"
   },
   "outputs": [
    {
     "name": "stderr",
     "output_type": "stream",
     "text": [
      "/usr/local/lib/python3.6/dist-packages/matplotlib/axes/_axes.py:6521: MatplotlibDeprecationWarning: \n",
      "The 'normed' kwarg was deprecated in Matplotlib 2.1 and will be removed in 3.1. Use 'density' instead.\n",
      "  alternative=\"'density'\", removal=\"3.1\")\n"
     ]
    },
    {
     "data": {
      "text/plain": [
       "(-1, 7)"
      ]
     },
     "execution_count": 21,
     "metadata": {
      "tags": []
     },
     "output_type": "execute_result"
    },
    {
     "data": {
      "image/png": "[encoded data removed]",
      "text/plain": [
       "<Figure size 432x288 with 1 Axes>"
      ]
     },
     "metadata": {
      "tags": []
     },
     "output_type": "display_data"
    }
   ],
   "source": [
    "fullEnergy = data['Weather Normalized Site EUI (kBtu/ft²)']\n",
    "fullEnergy = [np.log10(x) for x in fullEnergy if x.is_integer() and x != 0]\n",
    "pl.hist(fullEnergy, normed = True, bins = [0, .25, .5, .75, 1, 1.25, 1.5, 1.75, 2, 2.25, 2.5, 2.75, 3, 3.25, 3.5])\n",
    "\n",
    "reducedEnergy = reduced['Weather Normalized Site EUI (kBtu/ft²)']\n",
    "reducedEnergy = [np.log10(x) for x in reducedEnergy]\n",
    "pl.hist(reducedEnergy, normed = True, bins = [0, .25, .5, .75, 1, 1.25, 1.5, 1.75, 2, 2.25, 2.5, 2.75, 3, 3.25, 3.5], alpha = 0.5)\n",
    "        \n",
    "pl.xlim(-1, 7)"
   ]
  },
  {
   "cell_type": "markdown",
   "metadata": {
    "ExecuteTime": {
     "end_time": "2019-09-25T02:08:23.211182Z",
     "start_time": "2019-09-25T02:08:23.205135Z"
    },
    "colab_type": "text",
    "id": "WIANEJHKY5YI"
   },
   "source": [
    "# 667 and extyra credit\n",
    "plot a \"scatter matrix\" of the selected columns. Identify 4 promising \"scaling laws\" and plot them separately (a scatter plot of column1 vs column2). Does it make sense that there should be a scaling law between the 2 variables? \n",
    "\n",
    "which features should be strongly correlated or identical but are not? discuss\n",
    "\n",
    "([this](https://stackoverflow.com/questions/26975089/making-the-labels-of-the-scatterplot-vertical-and-horizontal-in-pandas) stackoverflow may come in handy)"
   ]
  },
  {
   "cell_type": "markdown",
   "metadata": {
    "colab_type": "text",
    "id": "1fI3IMcNY5YM"
   },
   "source": [
    "## all students\n",
    "At last, from the original dataset remove only the columns that are NaN in the column \"Weather Normalized Site EUI (kBtu/ft²)\"\n"
   ]
  },
  {
   "cell_type": "code",
   "execution_count": 22,
   "metadata": {
    "ExecuteTime": {
     "end_time": "2019-09-25T02:40:28.827861Z",
     "start_time": "2019-09-25T02:38:20.245957Z"
    },
    "colab": {
     "base_uri": "https://localhost:8080/",
     "height": 34
    },
    "colab_type": "code",
    "id": "LWaJVQG0Y5YN",
    "outputId": "e5ccc5d2-5971-4256-c0d1-7a0e87b6f9cf"
   },
   "outputs": [
    {
     "data": {
      "text/plain": [
       "(5196, 156)"
      ]
     },
     "execution_count": 22,
     "metadata": {
      "tags": []
     },
     "output_type": "execute_result"
    }
   ],
   "source": [
    "joined.shape"
   ]
  },
  {
   "cell_type": "code",
   "execution_count": 23,
   "metadata": {
    "colab": {
     "base_uri": "https://localhost:8080/",
     "height": 34
    },
    "colab_type": "code",
    "id": "IMP_4JsdGRfk",
    "outputId": "e3e35199-27f5-4925-e445-c4c685511bc4"
   },
   "outputs": [
    {
     "data": {
      "text/plain": [
       "(4630, 156)"
      ]
     },
     "execution_count": 23,
     "metadata": {
      "tags": []
     },
     "output_type": "execute_result"
    }
   ],
   "source": [
    "# -- drop buildings for which WN Site EUI is NaN\n",
    "wnec = \"Weather Normalized Site EUI (kBtu/ft²)\"\n",
    "joined = joined[pd.to_numeric(joined[wnec], errors='coerce').notnull()]\n",
    "joined[wnec] = pd.to_numeric(joined[wnec])\n",
    "joined.shape"
   ]
  },
  {
   "cell_type": "markdown",
   "metadata": {
    "colab_type": "text",
    "id": "vMDOfS6nY5YQ"
   },
   "source": [
    "## Analysis: Owner investigation \n",
    "### Find owner of the single most energy consuming building\n",
    "\n",
    "**Find owner of the single most energy consuming building**, as measured by the \"Site Weather Normalized EUI per unit area \". \n",
    "\n",
    "**Find all the buildings that they own.**\n",
    "\n",
    "\n",
    "show the weather-normalized site energy consumption and the owner name for the top 30 consuming buildings in Manhattan"
   ]
  },
  {
   "cell_type": "code",
   "execution_count": 0,
   "metadata": {
    "colab": {},
    "colab_type": "code",
    "id": "ZQ3HaZ2fHxK7"
   },
   "outputs": [],
   "source": [
    "owner = joined[joined[wnec] == max(joined[wnec])]['ownername'].values[0]\n",
    "numBuildings = sum(joined['ownername'] == owner)"
   ]
  },
  {
   "cell_type": "code",
   "execution_count": 69,
   "metadata": {
    "colab": {
     "base_uri": "https://localhost:8080/",
     "height": 51
    },
    "colab_type": "code",
    "id": "l3dF3RQowmJ4",
    "outputId": "ade01fa9-4c07-4551-bc0b-5447c95f2ef4"
   },
   "outputs": [
    {
     "name": "stdout",
     "output_type": "stream",
     "text": [
      "Owner of the highest consuming building: ST MARYS HOME FOR GIR \n",
      "They own 1 buildings\n"
     ]
    }
   ],
   "source": [
    "print(\"Owner of the highest consuming building: %s \\nThey own %d buildings\" % (owner, numBuildings))"
   ]
  },
  {
   "cell_type": "markdown",
   "metadata": {},
   "source": [
    "<span style=\"color:red\">**-0.25 pt: missing top 30 list**</span>"
   ]
  },
  {
   "cell_type": "markdown",
   "metadata": {
    "ExecuteTime": {
     "end_time": "2019-09-24T18:40:17.239813Z",
     "start_time": "2019-09-24T18:40:17.235991Z"
    },
    "colab_type": "text",
    "id": "0m4jRavdY5Yh"
   },
   "source": [
    "### Find average building consumption by owner \n",
    "For all owners that own more than one building, find the average consumption for buildings owned by the same owner. Your dataframe should have 2 columns called _Weather Normalized Site EUI (kBtu/ft²)_\tand _counts_\n",
    "\n",
    "**Who owns the most energy consuming buildings on average?**\n",
    "\n",
    "**Who owns the most buildings**"
   ]
  },
  {
   "cell_type": "code",
   "execution_count": 0,
   "metadata": {
    "colab": {},
    "colab_type": "code",
    "id": "0hFe0orSQuY5"
   },
   "outputs": [],
   "source": [
    "grouped = joined.groupby('ownername').mean()\n",
    "grouped['name'] = grouped.index\n",
    "grouped = grouped[['name', wnec]]\n",
    "highestAvgEnergy = max(grouped[wnec])\n",
    "highestOwner = grouped[grouped[wnec] == highestAvgEnergy]['name'].tolist()[0]\n",
    "\n",
    "grouped = joined.groupby('ownername').count()\n",
    "grouped['name'] = grouped.index\n",
    "grouped = grouped.drop(grouped.index[0])\n",
    "grouped = grouped[['name', 'lot']]\n",
    "numBuildings = max(grouped['lot'])\n",
    "mostOwner = grouped[grouped['lot'] == numBuildings]['name'].tolist()[0]"
   ]
  },
  {
   "cell_type": "code",
   "execution_count": 91,
   "metadata": {
    "colab": {
     "base_uri": "https://localhost:8080/",
     "height": 51
    },
    "colab_type": "code",
    "id": "oTYOAsndQtDI",
    "outputId": "ad97de17-fb80-47cc-eb6c-d15e7359ec3c"
   },
   "outputs": [
    {
     "name": "stdout",
     "output_type": "stream",
     "text": [
      "Owner of the hisghest consuming building: ST MARYS HOME FOR GIR \n",
      "Owner of the most buildings: TRUSTEES OF COLUMBIA (47 buildings)\n"
     ]
    }
   ],
   "source": [
    "print(\"Owner of the hisghest consuming building: %s \\nOwner of the most buildings: %s (%d buildings)\" % (highestOwner, mostOwner, numBuildings))"
   ]
  },
  {
   "cell_type": "markdown",
   "metadata": {},
   "source": [
    "<span style=\"color:red\">**-0.25 pt: wrong owner for highest average consuming building**</span>"
   ]
  },
  {
   "cell_type": "markdown",
   "metadata": {
    "colab_type": "text",
    "id": "Y9amLZSHxC26"
   },
   "source": [
    "# 667 and EC\n",
    "\n",
    "Universities are big realtors in NYC. The may own by different names. Find all builgings owned by NYU and COLUMBIA. replace the ownename with NYU and COLUMBIA respectively and re-aggregate the data based on these names and again find the owner of the buildings that pon average consume the most, of the highest number of buildings, and that owns the most sq footage "
   ]
  },
  {
   "cell_type": "code",
   "execution_count": 0,
   "metadata": {
    "colab": {},
    "colab_type": "code",
    "id": "vhpxcsYKC0B3"
   },
   "outputs": [],
   "source": []
  }
 ],
 "metadata": {
  "colab": {
   "collapsed_sections": [],
   "include_colab_link": true,
   "name": "BuildingsEnergyOwners.ipynb",
   "provenance": []
  },
  "kernelspec": {
   "display_name": "Python 3",
   "language": "python",
   "name": "python3"
  },
  "language_info": {
   "codemirror_mode": {
    "name": "ipython",
    "version": 3
   },
   "file_extension": ".py",
   "mimetype": "text/x-python",
   "name": "python",
   "nbconvert_exporter": "python",
   "pygments_lexer": "ipython3",
   "version": "3.6.8"
  },
  "latex_envs": {
   "LaTeX_envs_menu_present": true,
   "autoclose": false,
   "autocomplete": true,
   "bibliofile": "biblio.bib",
   "cite_by": "apalike",
   "current_citInitial": 1,
   "eqLabelWithNumbers": true,
   "eqNumInitial": 1,
   "hotkeys": {
    "equation": "Ctrl-E",
    "itemize": "Ctrl-I"
   },
   "labels_anchors": false,
   "latex_user_defs": false,
   "report_style_numbering": false,
   "user_envs_cfg": false
  },
  "nbTranslate": {
   "displayLangs": [
    "*"
   ],
   "hotkey": "alt-t",
   "langInMainMenu": true,
   "sourceLang": "en",
   "targetLang": "fr",
   "useGoogleTranslate": true
  },
  "toc": {
   "base_numbering": 1,
   "nav_menu": {},
   "number_sections": true,
   "sideBar": true,
   "skip_h1_title": false,
   "title_cell": "Table of Contents",
   "title_sidebar": "Contents",
   "toc_cell": false,
   "toc_position": {},
   "toc_section_display": true,
   "toc_window_display": false
  }
 },
 "nbformat": 4,
 "nbformat_minor": 1
}

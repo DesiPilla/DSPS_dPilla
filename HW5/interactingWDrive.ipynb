{
  "nbformat": 4,
  "nbformat_minor": 0,
  "metadata": {
    "colab": {
      "name": "interactingWDrive.ipynb",
      "provenance": [],
      "collapsed_sections": [],
      "include_colab_link": true
    },
    "kernelspec": {
      "name": "python3",
      "display_name": "Python 3"
    }
  },
  "cells": [
    {
      "cell_type": "markdown",
      "metadata": {
        "id": "view-in-github",
        "colab_type": "text"
      },
      "source": [
        "<a href=\"https://colab.research.google.com/github/DesiPilla/DSPS_dPilla/blob/master/HW5/interactingWDrive.ipynb\" target=\"_parent\"><img src=\"https://colab.research.google.com/assets/colab-badge.svg\" alt=\"Open In Colab\"/></a>"
      ]
    },
    {
      "cell_type": "markdown",
      "metadata": {
        "id": "nrn7kPcZRdjY",
        "colab_type": "text"
      },
      "source": [
        "# Review the operations below to interact with your drive and complete the final task"
      ]
    },
    {
      "cell_type": "markdown",
      "metadata": {
        "id": "2R3CZcH2CpDE",
        "colab_type": "text"
      },
      "source": [
        "### Integrating Colaboratory with Google Drive"
      ]
    },
    {
      "cell_type": "markdown",
      "metadata": {
        "id": "rx6E_qY6Cs42",
        "colab_type": "text"
      },
      "source": [
        "If we are going to be grabbing data from the internet for use with colaboratory, we'll need to use our google drive"
      ]
    },
    {
      "cell_type": "code",
      "metadata": {
        "id": "4q6UFssL5jyx",
        "colab_type": "code",
        "outputId": "7748d61d-3597-43be-ced7-9087cf4d9e8a",
        "colab": {
          "base_uri": "https://localhost:8080/",
          "height": 122
        }
      },
      "source": [
        "from google.colab import drive\n",
        "drive.mount(\"/content/drive\")"
      ],
      "execution_count": 1,
      "outputs": [
        {
          "output_type": "stream",
          "text": [
            "Go to this URL in a browser: https://accounts.google.com/o/oauth2/auth?client_id=947318989803-6bn6qk8qdgf4n4g3pfee6491hc0brc4i.apps.googleusercontent.com&redirect_uri=urn%3Aietf%3Awg%3Aoauth%3A2.0%3Aoob&scope=email%20https%3A%2F%2Fwww.googleapis.com%2Fauth%2Fdocs.test%20https%3A%2F%2Fwww.googleapis.com%2Fauth%2Fdrive%20https%3A%2F%2Fwww.googleapis.com%2Fauth%2Fdrive.photos.readonly%20https%3A%2F%2Fwww.googleapis.com%2Fauth%2Fpeopleapi.readonly&response_type=code\n",
            "\n",
            "Enter your authorization code:\n",
            "··········\n",
            "Mounted at /content/drive\n"
          ],
          "name": "stdout"
        }
      ]
    },
    {
      "cell_type": "markdown",
      "metadata": {
        "id": "9tHaFZxd6ghX",
        "colab_type": "text"
      },
      "source": [
        "### The unix terminal\n",
        "\n",
        "Unix is one of the oldest and most barebones Operating Systems (OS), but it serves as the platform for more advanced OSs like Mac OS and some modes of Windows.\n",
        "\n",
        "Unix and unix-based OSs like Mac OS, have a powerful utility called the \"Terminal\", that allows for a \"command line interface\" for interacting with your computer (Windows has something similar, but the syntax is different).\n",
        "\n",
        "Jupyter allows us to run some of these commands **as if we were in a terminal**:"
      ]
    },
    {
      "cell_type": "markdown",
      "metadata": {
        "id": "f1fFc1AJgJ16",
        "colab_type": "text"
      },
      "source": [
        "```ls``` lists the content of the directory you are in"
      ]
    },
    {
      "cell_type": "code",
      "metadata": {
        "id": "tbtlTGcv64xI",
        "colab_type": "code",
        "outputId": "1c6a19e4-d8d8-47ef-f187-b20026b22e40",
        "colab": {
          "base_uri": "https://localhost:8080/",
          "height": 34
        }
      },
      "source": [
        "ls"
      ],
      "execution_count": 2,
      "outputs": [
        {
          "output_type": "stream",
          "text": [
            "\u001b[0m\u001b[01;34mdrive\u001b[0m/  \u001b[01;34msample_data\u001b[0m/\n"
          ],
          "name": "stdout"
        }
      ]
    },
    {
      "cell_type": "markdown",
      "metadata": {
        "id": "EcwyVKKhqxy6",
        "colab_type": "text"
      },
      "source": [
        "```pwd```  stants for present working directory and telss you which dir. you are in"
      ]
    },
    {
      "cell_type": "code",
      "metadata": {
        "id": "sdXEW_i7GhoG",
        "colab_type": "code",
        "colab": {}
      },
      "source": [
        "ls drive"
      ],
      "execution_count": 0,
      "outputs": []
    },
    {
      "cell_type": "markdown",
      "metadata": {
        "id": "Mgnac-c6rIRr",
        "colab_type": "text"
      },
      "source": [
        "```ls``` with an argument lists the content of the directory path indicated by the argument "
      ]
    },
    {
      "cell_type": "code",
      "metadata": {
        "id": "-KAOhizC68Yv",
        "colab_type": "code",
        "outputId": "74fdb307-82b9-428d-a35e-7aa118874e4c",
        "colab": {
          "base_uri": "https://localhost:8080/",
          "height": 1000
        }
      },
      "source": [
        "ls \"drive/My Drive\""
      ],
      "execution_count": 4,
      "outputs": [
        {
          "output_type": "stream",
          "text": [
            "'2018 TEAM DELAWARE WORLD FINALS INFORMATION SHEET.gdoc'\n",
            "'9-6-17 General Agenda.gdoc'\n",
            "'A3 .gdoc'\n",
            " A7.gdoc\n",
            " A8.gdoc\n",
            "'Activity 5.gdoc'\n",
            "\u001b[0m\u001b[01;34m'Assignment 3'\u001b[0m/\n",
            "'Bible Questions.gdoc'\n",
            "'Challenge 1 graph.gsheet'\n",
            "\u001b[01;34m'Colab Notebooks'\u001b[0m/\n",
            "'Cost Form List?.gsheet'\n",
            "'Creativity Festival Sign Up (1).xlsx'\n",
            "'Creativity Festival Sign Up.xlsx'\n",
            "'Creativity Festival Sign Up.xlsx.gsheet'\n",
            "'Cybersecurity Next Steps.gdoc'\n",
            "'DeptMtgs 17.xlsx'\n",
            "'DeptMtgs 17.xlsx.gsheet'\n",
            "'DiScho Talent Show.gdoc'\n",
            " \u001b[01;34mdsps\u001b[0m/\n",
            "'Dumb in class research.gdoc'\n",
            " Essay.gdoc\n",
            "'Essay Outline.gdoc'\n",
            "'Exam 1 Cheat Sheet.docx'\n",
            "'Fantasy Football Stats.gsheet'\n",
            "'Fluids Labs.zip'\n",
            "'Getting started.pdf'\n",
            "'Grad Appliction  Essay.gdoc'\n",
            "'HDFS Interview.gdoc'\n",
            "'Heat Transfer Coding Assignment.gdoc'\n",
            "\"I'll Wait.mp4\"\n",
            " image00001.png\n",
            "'Kit Kat Tacchino.mp4'\n",
            "'Lab 1.gdoc'\n",
            "'Lab 1 - Line chart 1.gsheet'\n",
            "'Lab 2.gdoc'\n",
            "'Lab 3.gdoc'\n",
            "'Lab 4.gdoc'\n",
            "'Lab 5.gdoc'\n",
            "'Lab 6.gdoc'\n",
            "'Lab 7.gdoc'\n",
            "'Lab 9.gdoc'\n",
            "'Meeting 10?.gdoc'\n",
            "'Meeting 6 Shared Notes.gdoc'\n",
            "'Meeting 7 Shared Notes.gdoc'\n",
            "'Membership List.gsheet'\n",
            "'Odyssey API.gsheet'\n",
            "'Phase I & II.gdoc'\n",
            "'PHYS 311 (2018).zip'\n",
            "'Physics 245 Lab 11.gdoc'\n",
            "'Physics 245 Lab 8.gdoc'\n",
            "'Pilot Attendance.gsheet'\n",
            "'Project 1 Report.gdoc'\n",
            "'Research Question Bibliography.gdoc'\n",
            "'Solid Mechanics Lab 1: Team 35.gsheet'\n",
            "\u001b[01;34m'SolidWorks Files'\u001b[0m/\n",
            "'Team Norms.gdoc'\n",
            "'Test API.gsheet'\n",
            "'The Flowchart.html'\n",
            "'University and Firm Investigation (1).gslides'\n",
            "'University and Firm Investigation.gdoc'\n",
            "'University and Firm Investigation.gslides'\n",
            "'Untitled spreadsheet.gsheet'\n"
          ],
          "name": "stdout"
        }
      ]
    },
    {
      "cell_type": "markdown",
      "metadata": {
        "id": "O4unVfVs6_2t",
        "colab_type": "text"
      },
      "source": [
        "Some of the most common and useful are:\n",
        "* ls - list the files in the current directory\n",
        "* cp - copy one file to another\n",
        "* cd - change the directory\n",
        "* mv - rename (move) a file\n",
        "* mkdir - make a directory\n",
        "* rm - delete a file\n",
        "* rmdir - delete an empty directory\n",
        "\n",
        "Bear in mind **these are <u>not</u> python commands**, but jupyter understands them.  Here are some examples that\n",
        "\n",
        "1. list the files in your google drive\n",
        "2. make a directory, test_dir, in your Google Drive\n",
        "3. copy a file from google drive, renaming it\n",
        "4. moving that copy into test_dir\n",
        "5. deleting the file from test_dit\n",
        "6. deleting the test_dir directory\n",
        "7. changing directories to your google drive\n",
        "8. listing the files there\n",
        "9. identifying your current working directory\n",
        "10. getting back to your colaboratory home directory\n"
      ]
    },
    {
      "cell_type": "markdown",
      "metadata": {
        "id": "ko2OLRhwreLc",
        "colab_type": "text"
      },
      "source": [
        "Make a new directory (folder)"
      ]
    },
    {
      "cell_type": "code",
      "metadata": {
        "id": "nc3PxtkeQhhI",
        "colab_type": "code",
        "outputId": "c88da7f8-f381-46ec-8c25-5cad53fc9ab3",
        "colab": {
          "base_uri": "https://localhost:8080/",
          "height": 34
        }
      },
      "source": [
        "cd \"drive/My Drive\""
      ],
      "execution_count": 46,
      "outputs": [
        {
          "output_type": "stream",
          "text": [
            "/content/drive/My Drive\n"
          ],
          "name": "stdout"
        }
      ]
    },
    {
      "cell_type": "code",
      "metadata": {
        "id": "GON8u9UJEnPb",
        "colab_type": "code",
        "colab": {
          "base_uri": "https://localhost:8080/",
          "height": 34
        },
        "outputId": "d91d5f9a-a292-454e-8066-2eb2fbe2aac2"
      },
      "source": [
        "mkdir test_dir"
      ],
      "execution_count": 47,
      "outputs": [
        {
          "output_type": "stream",
          "text": [
            "mkdir: cannot create directory ‘test_dir’: File exists\n"
          ],
          "name": "stdout"
        }
      ]
    },
    {
      "cell_type": "code",
      "metadata": {
        "id": "tGR3o3rTulg-",
        "colab_type": "code",
        "outputId": "1ad2208d-de90-4f77-fe17-9e3b8afa3cca",
        "colab": {
          "base_uri": "https://localhost:8080/",
          "height": 34
        }
      },
      "source": [
        "cd test_dir"
      ],
      "execution_count": 48,
      "outputs": [
        {
          "output_type": "stream",
          "text": [
            "/content/drive/My Drive/test_dir\n"
          ],
          "name": "stdout"
        }
      ]
    },
    {
      "cell_type": "markdown",
      "metadata": {
        "id": "4zyURwS-7l9f",
        "colab_type": "text"
      },
      "source": [
        "These unix commands can also be combined with some python syntax using the os module (let's make a directory called \"data\" in your colaboratory home directory):"
      ]
    },
    {
      "cell_type": "markdown",
      "metadata": {
        "id": "pwxjxtXqQ8Ax",
        "colab_type": "text"
      },
      "source": [
        "download data from the web "
      ]
    },
    {
      "cell_type": "markdown",
      "metadata": {
        "id": "tDGHVey4rnZX",
        "colab_type": "text"
      },
      "source": [
        "to do that you can use wget, but that command is not \"included\" in the ```colab``` jupyter notebook. the are unix commands. you can use them if you start the command with ```!```"
      ]
    },
    {
      "cell_type": "code",
      "metadata": {
        "id": "1MT_cagq5YId",
        "colab_type": "code",
        "outputId": "7a57eff6-795f-46f5-b746-c910ca8117c0",
        "colab": {
          "base_uri": "https://localhost:8080/",
          "height": 224
        }
      },
      "source": [
        "!wget  https://www2.census.gov/programs-surveys/cbp/datasets/2016/zbp16totals.zip"
      ],
      "execution_count": 7,
      "outputs": [
        {
          "output_type": "stream",
          "text": [
            "--2019-10-01 02:03:14--  https://www2.census.gov/programs-surveys/cbp/datasets/2016/zbp16totals.zip\n",
            "Resolving www2.census.gov (www2.census.gov)... 23.35.204.114, 2600:1407:1d:1a3::208c, 2600:1407:1d:182::208c\n",
            "Connecting to www2.census.gov (www2.census.gov)|23.35.204.114|:443... connected.\n",
            "HTTP request sent, awaiting response... 200 OK\n",
            "Length: unspecified [application/zip]\n",
            "Saving to: ‘zbp16totals.zip’\n",
            "\n",
            "zbp16totals.zip         [            <=>     ] 750.30K   260KB/s    in 2.9s    \n",
            "\n",
            "2019-10-01 02:03:20 (260 KB/s) - ‘zbp16totals.zip’ saved [768303]\n",
            "\n"
          ],
          "name": "stdout"
        }
      ]
    },
    {
      "cell_type": "code",
      "metadata": {
        "id": "fxyEIHb15jTS",
        "colab_type": "code",
        "outputId": "3dff8766-dbce-45d8-f7b8-4c4bd0bd2ed4",
        "colab": {
          "base_uri": "https://localhost:8080/",
          "height": 34
        }
      },
      "source": [
        "cd '..'"
      ],
      "execution_count": 55,
      "outputs": [
        {
          "output_type": "stream",
          "text": [
            "/content/drive/My Drive\n"
          ],
          "name": "stdout"
        }
      ]
    },
    {
      "cell_type": "code",
      "metadata": {
        "id": "uOWk0MdUGDXC",
        "colab_type": "code",
        "colab": {
          "base_uri": "https://localhost:8080/",
          "height": 34
        },
        "outputId": "353743e5-e10e-4549-85f1-e93ec2e3a49a"
      },
      "source": [
        "cd '..'"
      ],
      "execution_count": 56,
      "outputs": [
        {
          "output_type": "stream",
          "text": [
            "/content/drive\n"
          ],
          "name": "stdout"
        }
      ]
    },
    {
      "cell_type": "code",
      "metadata": {
        "id": "pKYj7-O_GKZv",
        "colab_type": "code",
        "colab": {
          "base_uri": "https://localhost:8080/",
          "height": 34
        },
        "outputId": "a4d291d5-ecb0-4bd6-c476-be1c3457241f"
      },
      "source": [
        "cd '..'"
      ],
      "execution_count": 62,
      "outputs": [
        {
          "output_type": "stream",
          "text": [
            "/content\n"
          ],
          "name": "stdout"
        }
      ]
    },
    {
      "cell_type": "code",
      "metadata": {
        "id": "Ygn3a6f3GU8b",
        "colab_type": "code",
        "colab": {
          "base_uri": "https://localhost:8080/",
          "height": 34
        },
        "outputId": "621c89b7-2ff2-4bb9-d01f-88ee006ac777"
      },
      "source": [
        "ls"
      ],
      "execution_count": 63,
      "outputs": [
        {
          "output_type": "stream",
          "text": [
            "\u001b[0m\u001b[01;34mdrive\u001b[0m/  \u001b[01;34msample_data\u001b[0m/  zbp16detail.zip  zbp16totals.zip\n"
          ],
          "name": "stdout"
        }
      ]
    },
    {
      "cell_type": "markdown",
      "metadata": {
        "id": "c_PcMBKesDk0",
        "colab_type": "text"
      },
      "source": [
        "same with ```unzip``` to expand a compressed zip file. the argument ```-d <path> ```expands into \"path\""
      ]
    },
    {
      "cell_type": "code",
      "metadata": {
        "id": "s5v5BZJ3Xdur",
        "colab_type": "code",
        "outputId": "40fc0f6f-451f-43cb-cbc6-704709e729fb",
        "colab": {
          "base_uri": "https://localhost:8080/",
          "height": 51
        }
      },
      "source": [
        "!unzip  zbp16totals.zip -d \"drive/My Drive/test_dir\""
      ],
      "execution_count": 64,
      "outputs": [
        {
          "output_type": "stream",
          "text": [
            "Archive:  zbp16totals.zip\n",
            "  inflating: drive/My Drive/test_dir/zbp16totals.txt  \n"
          ],
          "name": "stdout"
        }
      ]
    },
    {
      "cell_type": "code",
      "metadata": {
        "id": "u_Uh9bVGvqcN",
        "colab_type": "code",
        "outputId": "2cbafcd4-3c87-433e-ab9e-ce4fa165833a",
        "colab": {
          "base_uri": "https://localhost:8080/",
          "height": 34
        }
      },
      "source": [
        "ls \"drive/My Drive/test_dir\""
      ],
      "execution_count": 10,
      "outputs": [
        {
          "output_type": "stream",
          "text": [
            "zbp16totals.txt\n"
          ],
          "name": "stdout"
        }
      ]
    },
    {
      "cell_type": "markdown",
      "metadata": {
        "id": "qXRmtlnNs0Vj",
        "colab_type": "text"
      },
      "source": [
        "Another way to access unix commands is to use the module ```os``` and specifically the function ```os.system()```.  This function performs operations and returns a success vs error state. So I cannot use it, for example, ro tun ```ls```"
      ]
    },
    {
      "cell_type": "code",
      "metadata": {
        "id": "a3SncaivAbiW",
        "colab_type": "code",
        "outputId": "4055297f-e704-48d6-93a3-b566e9a83d0c",
        "colab": {
          "base_uri": "https://localhost:8080/",
          "height": 34
        }
      },
      "source": [
        "# -- import the os module for operating system interaction\n",
        "import os\n",
        "cmd = \"ls drive/My\\ Drive/test_dir\"\n",
        "os.system(cmd)\n"
      ],
      "execution_count": 65,
      "outputs": [
        {
          "output_type": "execute_result",
          "data": {
            "text/plain": [
              "0"
            ]
          },
          "metadata": {
            "tags": []
          },
          "execution_count": 65
        }
      ]
    },
    {
      "cell_type": "markdown",
      "metadata": {
        "id": "3Va195cMvwIj",
        "colab_type": "text"
      },
      "source": [
        "0 means no error: the command was executed without problem. Any other number will indicate an error (and you can google the meaning of the number.) But i do not see the output of the command. so use this if you want to know if the command worked, but you do not care to see its output. "
      ]
    },
    {
      "cell_type": "code",
      "metadata": {
        "id": "Fgc3es91t_2Q",
        "colab_type": "code",
        "outputId": "4e27cacc-7a97-4f5c-f1e7-04d5a0b63429",
        "colab": {
          "base_uri": "https://localhost:8080/",
          "height": 34
        }
      },
      "source": [
        "ls \"drive/My Drive/test_dir\""
      ],
      "execution_count": 66,
      "outputs": [
        {
          "output_type": "stream",
          "text": [
            "zbp16totals.txt\n"
          ],
          "name": "stdout"
        }
      ]
    },
    {
      "cell_type": "markdown",
      "metadata": {
        "id": "6ag3Fl2ewT7Q",
        "colab_type": "text"
      },
      "source": [
        "For example I can use it to remove files and directories: ```rm``` (```rm -r``` which means recursively, for a directory)"
      ]
    },
    {
      "cell_type": "markdown",
      "metadata": {
        "id": "NDyuo78caaLr",
        "colab_type": "text"
      },
      "source": [
        "Note the syntax: you need to parse the space with a \"\\ \" in front of it to be rendered correctly in the string when you use ```os.system()```\n"
      ]
    },
    {
      "cell_type": "code",
      "metadata": {
        "id": "zD8PLjlEAdqN",
        "colab_type": "code",
        "outputId": "e0e281c8-e69f-4229-e4b4-3c3a662d2c32",
        "colab": {
          "base_uri": "https://localhost:8080/",
          "height": 34
        }
      },
      "source": [
        "# -- create a string that contains the command you want\n",
        "cmd = \"rm -r drive/My\\ Drive/test_dir\"\n",
        "# -- execute the command with os.system (notice the output)\n",
        "os.system(cmd)"
      ],
      "execution_count": 67,
      "outputs": [
        {
          "output_type": "execute_result",
          "data": {
            "text/plain": [
              "0"
            ]
          },
          "metadata": {
            "tags": []
          },
          "execution_count": 67
        }
      ]
    },
    {
      "cell_type": "markdown",
      "metadata": {
        "id": "-CjLcfI9wtSs",
        "colab_type": "text"
      },
      "source": [
        "\n",
        "The directory is no longer there\n",
        "\n",
        "\n"
      ]
    },
    {
      "cell_type": "code",
      "metadata": {
        "id": "4dCwpj6oZaDY",
        "colab_type": "code",
        "outputId": "88d19051-588e-4d67-e52b-30fbd859ac62",
        "colab": {
          "base_uri": "https://localhost:8080/",
          "height": 34
        }
      },
      "source": [
        "ls \"drive/My Drive/test_dir\""
      ],
      "execution_count": 68,
      "outputs": [
        {
          "output_type": "stream",
          "text": [
            "ls: cannot access 'drive/My Drive/test_dir': No such file or directory\n"
          ],
          "name": "stdout"
        }
      ]
    },
    {
      "cell_type": "markdown",
      "metadata": {
        "colab_type": "text",
        "id": "4NMfx1UcaiNT"
      },
      "source": [
        "You can string unix commands together with the semicolon ; (cd stands for \"change directory\" and it moves you around)"
      ]
    },
    {
      "cell_type": "code",
      "metadata": {
        "colab_type": "code",
        "id": "Uf6J-Ir3ahB6",
        "outputId": "a6129048-5e34-40b7-ccb6-a26c3a7c5327",
        "colab": {
          "base_uri": "https://localhost:8080/",
          "height": 51
        }
      },
      "source": [
        "ls; cd drive; pwd"
      ],
      "execution_count": 69,
      "outputs": [
        {
          "output_type": "stream",
          "text": [
            "\u001b[0m\u001b[01;34mdrive\u001b[0m/  \u001b[01;34msample_data\u001b[0m/  zbp16detail.zip  zbp16totals.zip\n",
            "/content/drive\n"
          ],
          "name": "stdout"
        }
      ]
    },
    {
      "cell_type": "markdown",
      "metadata": {
        "id": "KhJgBEZMYrP6",
        "colab_type": "text"
      },
      "source": [
        "But again, <u>**these are not python commands and can't be used as such on their own**</u>:"
      ]
    },
    {
      "cell_type": "markdown",
      "metadata": {
        "id": "FL_G_W98AmNp",
        "colab_type": "text"
      },
      "source": [
        "We'll see how combining unix commands with python via os.system can be put to good use below."
      ]
    },
    {
      "cell_type": "markdown",
      "metadata": {
        "id": "B9Ku1bQQAp1z",
        "colab_type": "text"
      },
      "source": [
        "### The wget command\n",
        "\n",
        "When dealing with data on the web, the wget command can be very useful for quickly grabbing data that you want.  Let's get the zipcode business patterns for 2016 (note the exclamation point before the wget command):"
      ]
    },
    {
      "cell_type": "code",
      "metadata": {
        "id": "XxMIc-ZUAws6",
        "colab_type": "code",
        "outputId": "d82ee118-762a-49df-9c8a-7bfd3e7a539f",
        "colab": {
          "base_uri": "https://localhost:8080/",
          "height": 224
        }
      },
      "source": [
        "!wget https://www2.census.gov/programs-surveys/cbp/datasets/2016/zbp16detail.zip"
      ],
      "execution_count": 16,
      "outputs": [
        {
          "output_type": "stream",
          "text": [
            "--2019-10-01 02:03:27--  https://www2.census.gov/programs-surveys/cbp/datasets/2016/zbp16detail.zip\n",
            "Resolving www2.census.gov (www2.census.gov)... 23.35.204.114, 2600:1407:1d:1a3::208c, 2600:1407:1d:182::208c\n",
            "Connecting to www2.census.gov (www2.census.gov)|23.35.204.114|:443... connected.\n",
            "HTTP request sent, awaiting response... 200 OK\n",
            "Length: unspecified [application/zip]\n",
            "Saving to: ‘zbp16detail.zip’\n",
            "\n",
            "zbp16detail.zip         [          <=>       ]  27.51M   248KB/s    in 1m 56s  \n",
            "\n",
            "2019-10-01 02:05:23 (244 KB/s) - ‘zbp16detail.zip’ saved [28843251]\n",
            "\n"
          ],
          "name": "stdout"
        }
      ]
    },
    {
      "cell_type": "markdown",
      "metadata": {
        "id": "KWY9T8TpBZAz",
        "colab_type": "text"
      },
      "source": [
        "Now we can see the utility of combining unix commands with python to make our lives much easier:"
      ]
    },
    {
      "cell_type": "code",
      "metadata": {
        "id": "7MsRhdsMaFhi",
        "colab_type": "code",
        "colab": {}
      },
      "source": [
        "mkdir \"sample_data/zbp\""
      ],
      "execution_count": 0,
      "outputs": []
    },
    {
      "cell_type": "code",
      "metadata": {
        "id": "MFFCbm-yHCpl",
        "colab_type": "code",
        "colab": {
          "base_uri": "https://localhost:8080/",
          "height": 68
        },
        "outputId": "c800ea3e-0ef9-461c-eaed-4c4ac217ba1f"
      },
      "source": [
        "ls \"sample_data\""
      ],
      "execution_count": 72,
      "outputs": [
        {
          "output_type": "stream",
          "text": [
            "\u001b[0m\u001b[01;32manscombe.json\u001b[0m*                mnist_test.csv         \u001b[01;34mzbp\u001b[0m/\n",
            "california_housing_test.csv   mnist_train_small.csv\n",
            "california_housing_train.csv  \u001b[01;32mREADME.md\u001b[0m*\n"
          ],
          "name": "stdout"
        }
      ]
    },
    {
      "cell_type": "markdown",
      "metadata": {
        "id": "C3NHu_rOxSMf",
        "colab_type": "text"
      },
      "source": [
        "last package to discuss: ```glob``` looks at the content of a directory and returns it in a list. if the dir is empty the length of the string is...0!"
      ]
    },
    {
      "cell_type": "code",
      "metadata": {
        "id": "3t6wl3GcbbTU",
        "colab_type": "code",
        "colab": {}
      },
      "source": [
        "import glob\n",
        "if len(glob.glob(\"drive/My Drive/dsps2019\")) == 0:\n",
        "  os.system(\"mkdir drive/My\\ Drive/dsps2019\")\n"
      ],
      "execution_count": 0,
      "outputs": []
    },
    {
      "cell_type": "code",
      "metadata": {
        "id": "FXm1ut4jxv8U",
        "colab_type": "code",
        "outputId": "021d29e5-5f2d-4ce0-b22c-658da44d57d7",
        "colab": {
          "base_uri": "https://localhost:8080/",
          "height": 1000
        }
      },
      "source": [
        "ls -ltr \"drive/My Drive\""
      ],
      "execution_count": 18,
      "outputs": [
        {
          "output_type": "stream",
          "text": [
            "total 359862\n",
            "-rw------- 1 root root    696774 Aug  4  2016 'Getting started.pdf'\n",
            "-rw------- 1 root root       151 Sep 18  2016 'A3 .gdoc'\n",
            "-rw------- 1 root root       151 Oct  2  2016 'Activity 5.gdoc'\n",
            "-rw------- 1 root root       151 Oct 20  2016  A7.gdoc\n",
            "-rw------- 1 root root       151 Oct 25  2016  A8.gdoc\n",
            "-rw------- 1 root root       151 Nov  3  2016 'Dumb in class research.gdoc'\n",
            "-rw------- 1 root root       151 Dec  2  2016 'Phase I & II.gdoc'\n",
            "-rw------- 1 root root       151 Dec  9  2016 'Project 1 Report.gdoc'\n",
            "-rw------- 1 root root       151 Dec  9  2016 'Research Question Bibliography.gdoc'\n",
            "-rw------- 1 root root       151 Mar  8  2017 'DiScho Talent Show.gdoc'\n",
            "-rw------- 1 root root     12298 Mar 16  2017 'DeptMtgs 17.xlsx'\n",
            "-rw------- 1 root root       151 Mar 16  2017 'DeptMtgs 17.xlsx.gsheet'\n",
            "-rw------- 1 root root       151 Mar 22  2017 'Challenge 1 graph.gsheet'\n",
            "-rw------- 1 root root 131180442 Jul 23  2017 \"I'll Wait.mp4\"\n",
            "-rw------- 1 root root       151 Sep  5  2017 '9-6-17 General Agenda.gdoc'\n",
            "-rw------- 1 root root       151 Sep 25  2017 'Solid Mechanics Lab 1: Team 35.gsheet'\n",
            "-rw------- 1 root root     25814 Oct 24  2017 'Exam 1 Cheat Sheet.docx'\n",
            "-rw------- 1 root root       151 Nov  6  2017 'Bible Questions.gdoc'\n",
            "-rw------- 1 root root      6251 Dec  6  2017 'The Flowchart.html'\n",
            "-rw------- 1 root root 166904727 Feb  2  2018 'Kit Kat Tacchino.mp4'\n",
            "-rw------- 1 root root       151 Feb 14  2018 'Team Norms.gdoc'\n",
            "-rw------- 1 root root       151 Feb 20  2018 'Lab 1.gdoc'\n",
            "-rw------- 1 root root       151 Feb 27  2018 'Cost Form List?.gsheet'\n",
            "-rw------- 1 root root       151 Feb 27  2018 'Lab 2.gdoc'\n",
            "drwx------ 2 root root      4096 Feb 28  2018 \u001b[0m\u001b[01;34m'SolidWorks Files'\u001b[0m/\n",
            "-rw------- 1 root root       151 Mar  1  2018 'University and Firm Investigation (1).gslides'\n",
            "-rw------- 1 root root       151 Mar  4  2018 'Essay Outline.gdoc'\n",
            "-rw------- 1 root root       151 Mar  4  2018 'HDFS Interview.gdoc'\n",
            "-rw------- 1 root root       151 Mar  5  2018 'University and Firm Investigation.gdoc'\n",
            "-rw------- 1 root root       151 Mar  5  2018 'University and Firm Investigation.gslides'\n",
            "-rw------- 1 root root       151 Mar  6  2018 'Lab 3.gdoc'\n",
            "drwx------ 2 root root      4096 Mar  8  2018 \u001b[01;34m'Assignment 3'\u001b[0m/\n",
            "-rw------- 1 root root       151 Mar 13  2018 'Lab 4.gdoc'\n",
            "-rw------- 1 root root       151 Mar 19  2018 'Meeting 6 Shared Notes.gdoc'\n",
            "-rw------- 1 root root       151 Mar 20  2018 'Lab 5.gdoc'\n",
            "-rw------- 1 root root       151 Mar 30  2018 'Cybersecurity Next Steps.gdoc'\n",
            "-rw------- 1 root root       151 Apr  2  2018 'Meeting 7 Shared Notes.gdoc'\n",
            "-rw------- 1 root root       151 Apr  3  2018 'Lab 6.gdoc'\n",
            "-rw------- 1 root root       151 Apr  9  2018 'Lab 7.gdoc'\n",
            "-rw------- 1 root root       151 Apr 17  2018 'Physics 245 Lab 8.gdoc'\n",
            "-rw------- 1 root root       151 Apr 24  2018  Essay.gdoc\n",
            "-rw------- 1 root root       151 Apr 24  2018 'Lab 9.gdoc'\n",
            "-rw------- 1 root root       151 May  7  2018 'Physics 245 Lab 11.gdoc'\n",
            "-rw------- 1 root root       151 May  7  2018 'Meeting 10?.gdoc'\n",
            "-rw------- 1 root root     12382 May  8  2018 'Creativity Festival Sign Up.xlsx'\n",
            "-rw------- 1 root root       151 May  8  2018 '2018 TEAM DELAWARE WORLD FINALS INFORMATION SHEET.gdoc'\n",
            "-rw------- 1 root root     20186 May 22  2018 'Creativity Festival Sign Up (1).xlsx'\n",
            "-rw------- 1 root root       151 May 22  2018 'Creativity Festival Sign Up.xlsx.gsheet'\n",
            "-rw------- 1 root root       151 Sep  3  2018 'Membership List.gsheet'\n",
            "-rw------- 1 root root       151 Sep 17  2018 'Lab 1 - Line chart 1.gsheet'\n",
            "-rw------- 1 root root       151 Sep 21  2018 'Pilot Attendance.gsheet'\n",
            "-rw------- 1 root root       151 Sep 24  2018 'Untitled spreadsheet.gsheet'\n",
            "-rw------- 1 root root       151 Oct  5  2018 'Test API.gsheet'\n",
            "-rw------- 1 root root       151 Oct 28  2018 'Fantasy Football Stats.gsheet'\n",
            "-rw------- 1 root root  31598771 Feb 28  2019 'PHYS 311 (2018).zip'\n",
            "-rw------- 1 root root       151 Mar 13  2019 'Odyssey API.gsheet'\n",
            "-rw------- 1 root root       151 Apr 13 18:24 'Grad Appliction  Essay.gdoc'\n",
            "-rw------- 1 root root       151 May 11 17:24 'Heat Transfer Coding Assignment.gdoc'\n",
            "-rw------- 1 root root       524 May 28 21:32  image00001.png\n",
            "drwx------ 2 root root      4096 Sep  4 20:29 \u001b[01;34m'Colab Notebooks'\u001b[0m/\n",
            "-rw------- 1 root root  37992466 Sep 16 00:01 'Fluids Labs.zip'\n",
            "drwx------ 2 root root      4096 Sep 29 19:46  \u001b[01;34mdsps\u001b[0m/\n",
            "drwx------ 2 root root      4096 Oct  1 02:05  \u001b[01;34mdsps2019\u001b[0m/\n"
          ],
          "name": "stdout"
        }
      ]
    },
    {
      "cell_type": "markdown",
      "metadata": {
        "id": "LveUbS1TRgAR",
        "colab_type": "text"
      },
      "source": [
        "## TASK\n",
        "Create a for loop that reads in the ZIPCODE data zbp[year]detail.zip where [year] goes from 2010 through 2014 included. \n",
        "The for look should use the ```os``` module to: \n",
        "  - download the zipped file\n",
        "  - unzip the file in dsps2019 dir (create it if necessary)\n",
        "  - clean up after itself by removing the downloaded zip files\n",
        "  - print at every step of the loop which year the loop is working on and at each command which command is running. \n",
        "  - notify the user if an error occurs and where\n"
      ]
    },
    {
      "cell_type": "code",
      "metadata": {
        "id": "w6gyE5bAyVJ8",
        "colab_type": "code",
        "colab": {
          "base_uri": "https://localhost:8080/",
          "height": 272
        },
        "outputId": "0f75bb36-dc70-428d-a908-16379831537f"
      },
      "source": [
        "import numpy as np\n",
        "path = \"drive/My Drive/data/zbp\"\n",
        "\n",
        "# create the directory as above. \n",
        "os.system(\"mkdir -p drive/My\\ Drive/dsps_2019\")\n",
        "\n",
        "# Use glob.glob to see if it is there and capture the output of os.system to see if you have an error\n",
        "glob.glob(\"drive/My Drive/dsps2019\")\n",
        "output = os.system(\"ls drive/My\\ Drive/dsps2019\")\n",
        "if output != 0:\n",
        "      print(\"error \", res, \"dsps2019 cannot be found\")\n",
        "\n",
        "# -- loop through the years for which we want the zbp data\n",
        "for ii in np.arange(10,15,1):\n",
        "    # -- convert year to string\n",
        "  snum = str(ii)\n",
        "  # -- build the wget command\n",
        "  cmd_wget = \"wget https://www2.census.gov/programs-surveys/cbp/datasets/20\" + snum + \"/zbp\" + snum + \"detail.zip\"\n",
        "\n",
        "  # -- build the unzip command\n",
        "  cmd_unzip = \"unzip  zbp\" + snum + \"detail.zip -d 'drive/My Drive/dsps2019'\"\n",
        "\n",
        "    # -- build the remove command\n",
        "  cmd_rm = \"rm -r zbp\" + snum + \"detail.zip\"\n",
        "  \n",
        "  # -- alert on progress\n",
        "  print(\"downloading year 20{}\".format(snum))\n",
        "  \n",
        "  # -- execute the wget command and check\n",
        "  res = os.system(cmd_wget)\n",
        "  if res != 0:\n",
        "    print(\"error \", res, \"with downloading\", ii)\n",
        "  \n",
        "  # -- alert on progress\n",
        "  print(\"moving file from 20%s\" % (snum))\n",
        "  res = os.system(cmd_unzip)\n",
        "  if res != 0:\n",
        "    print(\"error \", res, \"with unzipping\", ii)\n",
        "  \n",
        "  # -- alert on progress\n",
        "  print(\"removing file from 20%s\" % (snum))\n",
        "  res = os.system(cmd_rm)\n",
        "  if res != 0:\n",
        "    print(\"error \", res, \"with removing file\", ii)\n"
      ],
      "execution_count": 75,
      "outputs": [
        {
          "output_type": "stream",
          "text": [
            "downloading year 2010\n",
            "moving file from 2010\n",
            "removing file from 2010\n",
            "downloading year 2011\n",
            "moving file from 2011\n",
            "removing file from 2011\n",
            "downloading year 2012\n",
            "moving file from 2012\n",
            "removing file from 2012\n",
            "downloading year 2013\n",
            "moving file from 2013\n",
            "removing file from 2013\n",
            "downloading year 2014\n",
            "moving file from 2014\n",
            "removing file from 2014\n"
          ],
          "name": "stdout"
        }
      ]
    },
    {
      "cell_type": "code",
      "metadata": {
        "id": "c1yIEAGuTIrZ",
        "colab_type": "code",
        "outputId": "fb4ab04c-3761-4ff4-fe9d-9354d975fed0",
        "colab": {
          "base_uri": "https://localhost:8080/",
          "height": 51
        }
      },
      "source": [
        "ls  \"drive/My Drive/dsps2019\""
      ],
      "execution_count": 76,
      "outputs": [
        {
          "output_type": "stream",
          "text": [
            "zbp10detail.txt  zbp12detail.txt  zbp14detail.txt\n",
            "zbp11detail.txt  zbp13detail.txt\n"
          ],
          "name": "stdout"
        }
      ]
    }
  ]
}
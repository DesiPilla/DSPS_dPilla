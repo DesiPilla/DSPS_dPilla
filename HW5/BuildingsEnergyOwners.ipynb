{
  "nbformat": 4,
  "nbformat_minor": 0,
  "metadata": {
    "colab": {
      "name": "BuildingsEnergyOwners.ipynb",
      "provenance": [],
      "collapsed_sections": [],
      "include_colab_link": true
    },
    "kernelspec": {
      "display_name": "Python 3",
      "language": "python",
      "name": "python3"
    },
    "language_info": {
      "codemirror_mode": {
        "name": "ipython",
        "version": 3
      },
      "file_extension": ".py",
      "mimetype": "text/x-python",
      "name": "python",
      "nbconvert_exporter": "python",
      "pygments_lexer": "ipython3",
      "version": "3.7.3"
    },
    "latex_envs": {
      "LaTeX_envs_menu_present": true,
      "autoclose": false,
      "autocomplete": true,
      "bibliofile": "biblio.bib",
      "cite_by": "apalike",
      "current_citInitial": 1,
      "eqLabelWithNumbers": true,
      "eqNumInitial": 1,
      "hotkeys": {
        "equation": "Ctrl-E",
        "itemize": "Ctrl-I"
      },
      "labels_anchors": false,
      "latex_user_defs": false,
      "report_style_numbering": false,
      "user_envs_cfg": false
    },
    "nbTranslate": {
      "displayLangs": [
        "*"
      ],
      "hotkey": "alt-t",
      "langInMainMenu": true,
      "sourceLang": "en",
      "targetLang": "fr",
      "useGoogleTranslate": true
    },
    "toc": {
      "base_numbering": 1,
      "nav_menu": {},
      "number_sections": true,
      "sideBar": true,
      "skip_h1_title": false,
      "title_cell": "Table of Contents",
      "title_sidebar": "Contents",
      "toc_cell": false,
      "toc_position": {},
      "toc_section_display": true,
      "toc_window_display": false
    }
  },
  "cells": [
    {
      "cell_type": "markdown",
      "metadata": {
        "id": "view-in-github",
        "colab_type": "text"
      },
      "source": [
        "<a href=\"https://colab.research.google.com/github/DesiPilla/DSPS_dPilla/blob/master/HW5/BuildingsEnergyOwners.ipynb\" target=\"_parent\"><img src=\"https://colab.research.google.com/assets/colab-badge.svg\" alt=\"Open In Colab\"/></a>"
      ]
    },
    {
      "cell_type": "code",
      "metadata": {
        "colab_type": "code",
        "id": "mwsn7ih7RWle",
        "outputId": "8c922843-16b9-4b69-c8c8-f99d2f27bf2c",
        "colab": {
          "base_uri": "https://localhost:8080/",
          "height": 54
        }
      },
      "source": [
        "# -- link google drive\n",
        "from google.colab import drive\n",
        "drive.mount(\"/content/drive\")"
      ],
      "execution_count": 47,
      "outputs": [
        {
          "output_type": "stream",
          "text": [
            "Drive already mounted at /content/drive; to attempt to forcibly remount, call drive.mount(\"/content/drive\", force_remount=True).\n"
          ],
          "name": "stdout"
        }
      ]
    },
    {
      "cell_type": "code",
      "metadata": {
        "ExecuteTime": {
          "end_time": "2019-09-24T21:52:47.068553Z",
          "start_time": "2019-09-24T21:52:47.065670Z"
        },
        "colab_type": "code",
        "id": "yav2dVuWJn_T",
        "colab": {}
      },
      "source": [
        "# -- useful imports\n",
        "import numpy as np\n",
        "import pandas as pd\n",
        "import matplotlib.pyplot as pl\n",
        "import scipy as sp\n",
        "from scipy import stats"
      ],
      "execution_count": 0,
      "outputs": []
    },
    {
      "cell_type": "markdown",
      "metadata": {
        "id": "rCnUCueiY5Xt",
        "colab_type": "text"
      },
      "source": [
        "# data retrival\n",
        "### LL84\n",
        "get the Local Law 84 (ll84) data from the URL: https://data.cityofnewyork.us/api/views/8u86-bviy/rows.csv and read it in with Pandas\n",
        "\n",
        "### Pluto\n",
        "Download the pluto csv data and store it in your google drive. \n",
        "\n",
        "You can find the data here \n",
        "https://www1.nyc.gov/site/planning/data-maps/open-data/dwn-pluto-mappluto.page\n",
        "\n",
        "IMPORTANT: store it in the path *drive/My Drive/dsps/ with the name pluto_18v2_1.csv*\n",
        "\n",
        "This path and name have to be exact. This way the grader and I will be able to run your notebook without changing anything as long as we also have stored the data in path drive/My Drive/dsps/pluto_18v2_1.csv. This is part of the _reproducibility_ requirement."
      ]
    },
    {
      "cell_type": "code",
      "metadata": {
        "id": "R94ymqN5gEUR",
        "colab_type": "code",
        "colab": {}
      },
      "source": [
        "ll84 = pd.read_csv('https://data.cityofnewyork.us/api/views/8u86-bviy/rows.csv')"
      ],
      "execution_count": 0,
      "outputs": []
    },
    {
      "cell_type": "code",
      "metadata": {
        "id": "1QiKfa8RgERt",
        "colab_type": "code",
        "colab": {
          "base_uri": "https://localhost:8080/",
          "height": 34
        },
        "outputId": "7e77059a-b598-416b-ecd8-f3c40f2678c3"
      },
      "source": [
        "mkdir \"drive/My Drive/dsps\""
      ],
      "execution_count": 50,
      "outputs": [
        {
          "output_type": "stream",
          "text": [
            "mkdir: cannot create directory ‘drive/My Drive/dsps’: No such file or directory\n"
          ],
          "name": "stdout"
        }
      ]
    },
    {
      "cell_type": "code",
      "metadata": {
        "id": "830L63uM93FK",
        "colab_type": "code",
        "colab": {
          "base_uri": "https://localhost:8080/",
          "height": 51
        },
        "outputId": "a4fc5207-b01c-41d6-989b-9cc37ce31ab6"
      },
      "source": [
        "cd \"drive/My Drive/dsps\""
      ],
      "execution_count": 187,
      "outputs": [
        {
          "output_type": "stream",
          "text": [
            "[Errno 2] No such file or directory: 'drive/My Drive/dsps'\n",
            "/content/drive/My Drive/dsps/drive/My Drive/dsps\n"
          ],
          "name": "stdout"
        }
      ]
    },
    {
      "cell_type": "code",
      "metadata": {
        "id": "IPf_8Nm09aOY",
        "colab_type": "code",
        "colab": {
          "base_uri": "https://localhost:8080/",
          "height": 224
        },
        "outputId": "621c1ec5-8a16-43f7-cc96-fc90f41f5889"
      },
      "source": [
        "!wget https://www1.nyc.gov/assets/planning/download/zip/data-maps/open-data/nyc_pluto_18v2_1_csv.zip"
      ],
      "execution_count": 184,
      "outputs": [
        {
          "output_type": "stream",
          "text": [
            "--2019-09-29 21:39:40--  https://www1.nyc.gov/assets/planning/download/zip/data-maps/open-data/nyc_pluto_18v2_1_csv.zip\n",
            "Resolving www1.nyc.gov (www1.nyc.gov)... 104.66.107.226, 2a02:26f0:6b:292::1500, 2a02:26f0:6b:2b1::1500\n",
            "Connecting to www1.nyc.gov (www1.nyc.gov)|104.66.107.226|:443... connected.\n",
            "HTTP request sent, awaiting response... 200 OK\n",
            "Length: 82994022 (79M) [application/zip]\n",
            "Saving to: ‘nyc_pluto_18v2_1_csv.zip’\n",
            "\n",
            "nyc_pluto_18v2_1_cs 100%[===================>]  79.15M  15.8MB/s    in 4.8s    \n",
            "\n",
            "2019-09-29 21:39:45 (16.5 MB/s) - ‘nyc_pluto_18v2_1_csv.zip’ saved [82994022/82994022]\n",
            "\n"
          ],
          "name": "stdout"
        }
      ]
    },
    {
      "cell_type": "code",
      "metadata": {
        "id": "Vez-6e7C9tCt",
        "colab_type": "code",
        "colab": {
          "base_uri": "https://localhost:8080/",
          "height": 102
        },
        "outputId": "16bc1696-a59b-4cc0-90f5-fea5fb8cb82a"
      },
      "source": [
        "!unzip nyc_pluto_18v2_1_csv.zip"
      ],
      "execution_count": 186,
      "outputs": [
        {
          "output_type": "stream",
          "text": [
            "Archive:  nyc_pluto_18v2_1_csv.zip\n",
            "replace pluto_18v2_1.csv? [y]es, [n]o, [A]ll, [N]one, [r]ename: y\n",
            "  inflating: pluto_18v2_1.csv        \n",
            "  inflating: PLUTODD18v2.1.pdf       \n",
            "  inflating: PlutoReadme18v2.1.pdf   \n"
          ],
          "name": "stdout"
        }
      ]
    },
    {
      "cell_type": "code",
      "metadata": {
        "id": "3NBmabIjkbyO",
        "colab_type": "code",
        "colab": {
          "base_uri": "https://localhost:8080/",
          "height": 34
        },
        "outputId": "e754f588-567e-45fe-8d8a-f730ad36d547"
      },
      "source": [
        "ls"
      ],
      "execution_count": 52,
      "outputs": [
        {
          "output_type": "stream",
          "text": [
            "pluto_18v2_1.csv\n"
          ],
          "name": "stdout"
        }
      ]
    },
    {
      "cell_type": "code",
      "metadata": {
        "id": "tzqi0PEHksqd",
        "colab_type": "code",
        "colab": {
          "base_uri": "https://localhost:8080/",
          "height": 440
        },
        "outputId": "d6267254-2f40-40e1-de82-e00241adea8f"
      },
      "source": [
        "pluto = pd.read_csv(\"pluto_18v2_1.csv\")\n",
        "pluto.head()"
      ],
      "execution_count": 188,
      "outputs": [
        {
          "output_type": "stream",
          "text": [
            "/usr/local/lib/python3.6/dist-packages/IPython/core/interactiveshell.py:2718: DtypeWarning: Columns (16,17,18,20,22,77) have mixed types. Specify dtype option on import or set low_memory=False.\n",
            "  interactivity=interactivity, compiler=compiler, result=result)\n"
          ],
          "name": "stderr"
        },
        {
          "output_type": "execute_result",
          "data": {
            "text/html": [
              "<div>\n",
              "<style scoped>\n",
              "    .dataframe tbody tr th:only-of-type {\n",
              "        vertical-align: middle;\n",
              "    }\n",
              "\n",
              "    .dataframe tbody tr th {\n",
              "        vertical-align: top;\n",
              "    }\n",
              "\n",
              "    .dataframe thead th {\n",
              "        text-align: right;\n",
              "    }\n",
              "</style>\n",
              "<table border=\"1\" class=\"dataframe\">\n",
              "  <thead>\n",
              "    <tr style=\"text-align: right;\">\n",
              "      <th></th>\n",
              "      <th>borough</th>\n",
              "      <th>block</th>\n",
              "      <th>lot</th>\n",
              "      <th>cd</th>\n",
              "      <th>ct2010</th>\n",
              "      <th>cb2010</th>\n",
              "      <th>schooldist</th>\n",
              "      <th>council</th>\n",
              "      <th>zipcode</th>\n",
              "      <th>firecomp</th>\n",
              "      <th>policeprct</th>\n",
              "      <th>healtharea</th>\n",
              "      <th>sanitboro</th>\n",
              "      <th>sanitsub</th>\n",
              "      <th>address</th>\n",
              "      <th>zonedist1</th>\n",
              "      <th>zonedist2</th>\n",
              "      <th>zonedist3</th>\n",
              "      <th>zonedist4</th>\n",
              "      <th>overlay1</th>\n",
              "      <th>overlay2</th>\n",
              "      <th>spdist1</th>\n",
              "      <th>spdist2</th>\n",
              "      <th>spdist3</th>\n",
              "      <th>ltdheight</th>\n",
              "      <th>splitzone</th>\n",
              "      <th>bldgclass</th>\n",
              "      <th>landuse</th>\n",
              "      <th>easements</th>\n",
              "      <th>ownertype</th>\n",
              "      <th>ownername</th>\n",
              "      <th>lotarea</th>\n",
              "      <th>bldgarea</th>\n",
              "      <th>comarea</th>\n",
              "      <th>resarea</th>\n",
              "      <th>officearea</th>\n",
              "      <th>retailarea</th>\n",
              "      <th>garagearea</th>\n",
              "      <th>strgearea</th>\n",
              "      <th>factryarea</th>\n",
              "      <th>...</th>\n",
              "      <th>assesstot</th>\n",
              "      <th>exemptland</th>\n",
              "      <th>exempttot</th>\n",
              "      <th>yearbuilt</th>\n",
              "      <th>yearalter1</th>\n",
              "      <th>yearalter2</th>\n",
              "      <th>histdist</th>\n",
              "      <th>landmark</th>\n",
              "      <th>builtfar</th>\n",
              "      <th>residfar</th>\n",
              "      <th>commfar</th>\n",
              "      <th>facilfar</th>\n",
              "      <th>borocode</th>\n",
              "      <th>bbl</th>\n",
              "      <th>condono</th>\n",
              "      <th>tract2010</th>\n",
              "      <th>xcoord</th>\n",
              "      <th>ycoord</th>\n",
              "      <th>zonemap</th>\n",
              "      <th>zmcode</th>\n",
              "      <th>sanborn</th>\n",
              "      <th>taxmap</th>\n",
              "      <th>edesignum</th>\n",
              "      <th>appbbl</th>\n",
              "      <th>appdate</th>\n",
              "      <th>mappluto_f</th>\n",
              "      <th>plutomapid</th>\n",
              "      <th>version</th>\n",
              "      <th>sanitdistrict</th>\n",
              "      <th>healthcenterdistrict</th>\n",
              "      <th>firm07_flag</th>\n",
              "      <th>pfirm15_flag</th>\n",
              "      <th>rpaddate</th>\n",
              "      <th>dcasdate</th>\n",
              "      <th>zoningdate</th>\n",
              "      <th>landmkdate</th>\n",
              "      <th>basempdate</th>\n",
              "      <th>masdate</th>\n",
              "      <th>polidate</th>\n",
              "      <th>edesigdate</th>\n",
              "    </tr>\n",
              "  </thead>\n",
              "  <tbody>\n",
              "    <tr>\n",
              "      <th>0</th>\n",
              "      <td>BX</td>\n",
              "      <td>5641.000</td>\n",
              "      <td>670.000</td>\n",
              "      <td>210.000</td>\n",
              "      <td>516.000</td>\n",
              "      <td>2.000</td>\n",
              "      <td>nan</td>\n",
              "      <td>13.000</td>\n",
              "      <td>nan</td>\n",
              "      <td>NaN</td>\n",
              "      <td>nan</td>\n",
              "      <td>nan</td>\n",
              "      <td>nan</td>\n",
              "      <td></td>\n",
              "      <td>CITY ISLAND AVENUE</td>\n",
              "      <td>NaN</td>\n",
              "      <td>NaN</td>\n",
              "      <td>NaN</td>\n",
              "      <td>NaN</td>\n",
              "      <td>NaN</td>\n",
              "      <td>NaN</td>\n",
              "      <td>NaN</td>\n",
              "      <td>NaN</td>\n",
              "      <td>nan</td>\n",
              "      <td>NaN</td>\n",
              "      <td>NaN</td>\n",
              "      <td>T2</td>\n",
              "      <td>7.000</td>\n",
              "      <td>0.000</td>\n",
              "      <td>NaN</td>\n",
              "      <td>MINNY C INC.</td>\n",
              "      <td>53758.000</td>\n",
              "      <td>0.000</td>\n",
              "      <td>nan</td>\n",
              "      <td>nan</td>\n",
              "      <td>nan</td>\n",
              "      <td>nan</td>\n",
              "      <td>nan</td>\n",
              "      <td>nan</td>\n",
              "      <td>nan</td>\n",
              "      <td>...</td>\n",
              "      <td>59400.000</td>\n",
              "      <td>0.000</td>\n",
              "      <td>0.000</td>\n",
              "      <td>0.000</td>\n",
              "      <td>0.000</td>\n",
              "      <td>0.000</td>\n",
              "      <td>NaN</td>\n",
              "      <td>NaN</td>\n",
              "      <td>0.000</td>\n",
              "      <td>0.000</td>\n",
              "      <td>0.000</td>\n",
              "      <td>0.000</td>\n",
              "      <td>2.000</td>\n",
              "      <td>2056410670.000</td>\n",
              "      <td>0.000</td>\n",
              "      <td>516.000</td>\n",
              "      <td>1044510.000</td>\n",
              "      <td>246734.000</td>\n",
              "      <td>4d</td>\n",
              "      <td>NaN</td>\n",
              "      <td>218 068</td>\n",
              "      <td>21810</td>\n",
              "      <td>NaN</td>\n",
              "      <td>2056410670.000</td>\n",
              "      <td>1/5/2005</td>\n",
              "      <td>nan</td>\n",
              "      <td>4.000</td>\n",
              "      <td>18v2.1</td>\n",
              "      <td>nan</td>\n",
              "      <td>nan</td>\n",
              "      <td>1.000</td>\n",
              "      <td>1.000</td>\n",
              "      <td>12/6/2018</td>\n",
              "      <td>12/20/2018</td>\n",
              "      <td>12/21/2018</td>\n",
              "      <td>12/20/2018</td>\n",
              "      <td>12/21/2018</td>\n",
              "      <td>nan</td>\n",
              "      <td>nan</td>\n",
              "      <td>12/20/2018</td>\n",
              "    </tr>\n",
              "    <tr>\n",
              "      <th>1</th>\n",
              "      <td>QN</td>\n",
              "      <td>3935.000</td>\n",
              "      <td>3.000</td>\n",
              "      <td>407.000</td>\n",
              "      <td>929.000</td>\n",
              "      <td>1001.000</td>\n",
              "      <td>25.000</td>\n",
              "      <td>19.000</td>\n",
              "      <td>11356.000</td>\n",
              "      <td>E297</td>\n",
              "      <td>109.000</td>\n",
              "      <td>210.000</td>\n",
              "      <td>4.000</td>\n",
              "      <td>5D</td>\n",
              "      <td>8-03 117 STREET</td>\n",
              "      <td>R2A</td>\n",
              "      <td>NaN</td>\n",
              "      <td>NaN</td>\n",
              "      <td>NaN</td>\n",
              "      <td>NaN</td>\n",
              "      <td>NaN</td>\n",
              "      <td>NaN</td>\n",
              "      <td>NaN</td>\n",
              "      <td>nan</td>\n",
              "      <td>NaN</td>\n",
              "      <td>N</td>\n",
              "      <td>A1</td>\n",
              "      <td>1.000</td>\n",
              "      <td>0.000</td>\n",
              "      <td>NaN</td>\n",
              "      <td>CHEN, ZHIBIN</td>\n",
              "      <td>10870.000</td>\n",
              "      <td>3130.000</td>\n",
              "      <td>0.000</td>\n",
              "      <td>3130.000</td>\n",
              "      <td>0.000</td>\n",
              "      <td>0.000</td>\n",
              "      <td>0.000</td>\n",
              "      <td>0.000</td>\n",
              "      <td>0.000</td>\n",
              "      <td>...</td>\n",
              "      <td>53083.000</td>\n",
              "      <td>0.000</td>\n",
              "      <td>0.000</td>\n",
              "      <td>1915.000</td>\n",
              "      <td>1995.000</td>\n",
              "      <td>1996.000</td>\n",
              "      <td>NaN</td>\n",
              "      <td>NaN</td>\n",
              "      <td>0.290</td>\n",
              "      <td>0.500</td>\n",
              "      <td>0.000</td>\n",
              "      <td>1.000</td>\n",
              "      <td>4.000</td>\n",
              "      <td>4039350003.000</td>\n",
              "      <td>0.000</td>\n",
              "      <td>929.000</td>\n",
              "      <td>1025679.000</td>\n",
              "      <td>227096.000</td>\n",
              "      <td>7b</td>\n",
              "      <td>NaN</td>\n",
              "      <td>405 037</td>\n",
              "      <td>42101</td>\n",
              "      <td>NaN</td>\n",
              "      <td>0.000</td>\n",
              "      <td>NaN</td>\n",
              "      <td>nan</td>\n",
              "      <td>1.000</td>\n",
              "      <td>18v2.1</td>\n",
              "      <td>7.000</td>\n",
              "      <td>43.000</td>\n",
              "      <td>nan</td>\n",
              "      <td>nan</td>\n",
              "      <td>12/6/2018</td>\n",
              "      <td>12/20/2018</td>\n",
              "      <td>12/21/2018</td>\n",
              "      <td>12/20/2018</td>\n",
              "      <td>12/21/2018</td>\n",
              "      <td>nan</td>\n",
              "      <td>nan</td>\n",
              "      <td>12/20/2018</td>\n",
              "    </tr>\n",
              "    <tr>\n",
              "      <th>2</th>\n",
              "      <td>BX</td>\n",
              "      <td>4205.000</td>\n",
              "      <td>41.000</td>\n",
              "      <td>211.000</td>\n",
              "      <td>296.000</td>\n",
              "      <td>2000.000</td>\n",
              "      <td>11.000</td>\n",
              "      <td>13.000</td>\n",
              "      <td>nan</td>\n",
              "      <td>Q061</td>\n",
              "      <td>49.000</td>\n",
              "      <td>1410.000</td>\n",
              "      <td>2.000</td>\n",
              "      <td>2E</td>\n",
              "      <td>SEMINOLE AVENUE</td>\n",
              "      <td>R4</td>\n",
              "      <td>NaN</td>\n",
              "      <td>NaN</td>\n",
              "      <td>NaN</td>\n",
              "      <td>NaN</td>\n",
              "      <td>NaN</td>\n",
              "      <td>NaN</td>\n",
              "      <td>NaN</td>\n",
              "      <td>nan</td>\n",
              "      <td>NaN</td>\n",
              "      <td>N</td>\n",
              "      <td>V0</td>\n",
              "      <td>11.000</td>\n",
              "      <td>0.000</td>\n",
              "      <td>NaN</td>\n",
              "      <td>EDWARD AND LORRAINE S</td>\n",
              "      <td>2369.000</td>\n",
              "      <td>0.000</td>\n",
              "      <td>nan</td>\n",
              "      <td>nan</td>\n",
              "      <td>nan</td>\n",
              "      <td>nan</td>\n",
              "      <td>nan</td>\n",
              "      <td>nan</td>\n",
              "      <td>nan</td>\n",
              "      <td>...</td>\n",
              "      <td>5361.000</td>\n",
              "      <td>0.000</td>\n",
              "      <td>0.000</td>\n",
              "      <td>0.000</td>\n",
              "      <td>0.000</td>\n",
              "      <td>0.000</td>\n",
              "      <td>NaN</td>\n",
              "      <td>NaN</td>\n",
              "      <td>0.000</td>\n",
              "      <td>0.900</td>\n",
              "      <td>0.000</td>\n",
              "      <td>2.000</td>\n",
              "      <td>2.000</td>\n",
              "      <td>2042050041.000</td>\n",
              "      <td>0.000</td>\n",
              "      <td>296.000</td>\n",
              "      <td>1026345.000</td>\n",
              "      <td>249922.000</td>\n",
              "      <td>4a</td>\n",
              "      <td>NaN</td>\n",
              "      <td>220 053</td>\n",
              "      <td>21509</td>\n",
              "      <td>NaN</td>\n",
              "      <td>0.000</td>\n",
              "      <td>NaN</td>\n",
              "      <td>nan</td>\n",
              "      <td>1.000</td>\n",
              "      <td>18v2.1</td>\n",
              "      <td>11.000</td>\n",
              "      <td>26.000</td>\n",
              "      <td>nan</td>\n",
              "      <td>nan</td>\n",
              "      <td>12/6/2018</td>\n",
              "      <td>12/20/2018</td>\n",
              "      <td>12/21/2018</td>\n",
              "      <td>12/20/2018</td>\n",
              "      <td>12/21/2018</td>\n",
              "      <td>nan</td>\n",
              "      <td>nan</td>\n",
              "      <td>12/20/2018</td>\n",
              "    </tr>\n",
              "    <tr>\n",
              "      <th>3</th>\n",
              "      <td>BX</td>\n",
              "      <td>2402.000</td>\n",
              "      <td>14.000</td>\n",
              "      <td>201.000</td>\n",
              "      <td>69.000</td>\n",
              "      <td>2005.000</td>\n",
              "      <td>7.000</td>\n",
              "      <td>17.000</td>\n",
              "      <td>nan</td>\n",
              "      <td>L055</td>\n",
              "      <td>40.000</td>\n",
              "      <td>3900.000</td>\n",
              "      <td>2.000</td>\n",
              "      <td>1B</td>\n",
              "      <td>EAST 156 STREET</td>\n",
              "      <td>R6</td>\n",
              "      <td>NaN</td>\n",
              "      <td>NaN</td>\n",
              "      <td>NaN</td>\n",
              "      <td>NaN</td>\n",
              "      <td>NaN</td>\n",
              "      <td>NaN</td>\n",
              "      <td>NaN</td>\n",
              "      <td>nan</td>\n",
              "      <td>NaN</td>\n",
              "      <td>N</td>\n",
              "      <td>G7</td>\n",
              "      <td>10.000</td>\n",
              "      <td>0.000</td>\n",
              "      <td>NaN</td>\n",
              "      <td>156, LLC</td>\n",
              "      <td>3750.000</td>\n",
              "      <td>0.000</td>\n",
              "      <td>nan</td>\n",
              "      <td>nan</td>\n",
              "      <td>nan</td>\n",
              "      <td>nan</td>\n",
              "      <td>nan</td>\n",
              "      <td>nan</td>\n",
              "      <td>nan</td>\n",
              "      <td>...</td>\n",
              "      <td>81000.000</td>\n",
              "      <td>0.000</td>\n",
              "      <td>0.000</td>\n",
              "      <td>0.000</td>\n",
              "      <td>0.000</td>\n",
              "      <td>0.000</td>\n",
              "      <td>NaN</td>\n",
              "      <td>NaN</td>\n",
              "      <td>0.000</td>\n",
              "      <td>2.430</td>\n",
              "      <td>0.000</td>\n",
              "      <td>4.800</td>\n",
              "      <td>2.000</td>\n",
              "      <td>2024020014.000</td>\n",
              "      <td>0.000</td>\n",
              "      <td>69.000</td>\n",
              "      <td>1007336.000</td>\n",
              "      <td>238351.000</td>\n",
              "      <td>6a</td>\n",
              "      <td>NaN</td>\n",
              "      <td>209N080</td>\n",
              "      <td>20905</td>\n",
              "      <td>NaN</td>\n",
              "      <td>0.000</td>\n",
              "      <td>NaN</td>\n",
              "      <td>nan</td>\n",
              "      <td>1.000</td>\n",
              "      <td>18v2.1</td>\n",
              "      <td>1.000</td>\n",
              "      <td>23.000</td>\n",
              "      <td>nan</td>\n",
              "      <td>nan</td>\n",
              "      <td>12/6/2018</td>\n",
              "      <td>12/20/2018</td>\n",
              "      <td>12/21/2018</td>\n",
              "      <td>12/20/2018</td>\n",
              "      <td>12/21/2018</td>\n",
              "      <td>nan</td>\n",
              "      <td>nan</td>\n",
              "      <td>12/20/2018</td>\n",
              "    </tr>\n",
              "    <tr>\n",
              "      <th>4</th>\n",
              "      <td>SI</td>\n",
              "      <td>63.000</td>\n",
              "      <td>83.000</td>\n",
              "      <td>501.000</td>\n",
              "      <td>81.000</td>\n",
              "      <td>2006.000</td>\n",
              "      <td>31.000</td>\n",
              "      <td>49.000</td>\n",
              "      <td>10301.000</td>\n",
              "      <td>E155</td>\n",
              "      <td>120.000</td>\n",
              "      <td>400.000</td>\n",
              "      <td>5.000</td>\n",
              "      <td>2C</td>\n",
              "      <td>216 FRANKLIN AVENUE</td>\n",
              "      <td>R2</td>\n",
              "      <td>NaN</td>\n",
              "      <td>NaN</td>\n",
              "      <td>NaN</td>\n",
              "      <td>NaN</td>\n",
              "      <td>NaN</td>\n",
              "      <td>HS</td>\n",
              "      <td>NaN</td>\n",
              "      <td>nan</td>\n",
              "      <td>NaN</td>\n",
              "      <td>N</td>\n",
              "      <td>A1</td>\n",
              "      <td>1.000</td>\n",
              "      <td>0.000</td>\n",
              "      <td>NaN</td>\n",
              "      <td>DENNIS COTTER</td>\n",
              "      <td>3465.000</td>\n",
              "      <td>1590.000</td>\n",
              "      <td>0.000</td>\n",
              "      <td>1590.000</td>\n",
              "      <td>0.000</td>\n",
              "      <td>0.000</td>\n",
              "      <td>0.000</td>\n",
              "      <td>0.000</td>\n",
              "      <td>0.000</td>\n",
              "      <td>...</td>\n",
              "      <td>20044.000</td>\n",
              "      <td>1460.000</td>\n",
              "      <td>1460.000</td>\n",
              "      <td>1901.000</td>\n",
              "      <td>0.000</td>\n",
              "      <td>0.000</td>\n",
              "      <td>NaN</td>\n",
              "      <td>NaN</td>\n",
              "      <td>0.460</td>\n",
              "      <td>0.500</td>\n",
              "      <td>0.000</td>\n",
              "      <td>1.000</td>\n",
              "      <td>5.000</td>\n",
              "      <td>5000630083.000</td>\n",
              "      <td>0.000</td>\n",
              "      <td>81.000</td>\n",
              "      <td>958845.000</td>\n",
              "      <td>172482.000</td>\n",
              "      <td>21a</td>\n",
              "      <td>NaN</td>\n",
              "      <td>501 082</td>\n",
              "      <td>50102</td>\n",
              "      <td>NaN</td>\n",
              "      <td>0.000</td>\n",
              "      <td>NaN</td>\n",
              "      <td>nan</td>\n",
              "      <td>1.000</td>\n",
              "      <td>18v2.1</td>\n",
              "      <td>1.000</td>\n",
              "      <td>51.000</td>\n",
              "      <td>nan</td>\n",
              "      <td>nan</td>\n",
              "      <td>12/6/2018</td>\n",
              "      <td>12/20/2018</td>\n",
              "      <td>12/21/2018</td>\n",
              "      <td>12/20/2018</td>\n",
              "      <td>12/21/2018</td>\n",
              "      <td>nan</td>\n",
              "      <td>nan</td>\n",
              "      <td>12/20/2018</td>\n",
              "    </tr>\n",
              "  </tbody>\n",
              "</table>\n",
              "<p>5 rows × 96 columns</p>\n",
              "</div>"
            ],
            "text/plain": [
              "  borough    block     lot      cd  ...  basempdate  masdate  polidate  edesigdate\n",
              "0      BX 5641.000 670.000 210.000  ...  12/21/2018      nan       nan  12/20/2018\n",
              "1      QN 3935.000   3.000 407.000  ...  12/21/2018      nan       nan  12/20/2018\n",
              "2      BX 4205.000  41.000 211.000  ...  12/21/2018      nan       nan  12/20/2018\n",
              "3      BX 2402.000  14.000 201.000  ...  12/21/2018      nan       nan  12/20/2018\n",
              "4      SI   63.000  83.000 501.000  ...  12/21/2018      nan       nan  12/20/2018\n",
              "\n",
              "[5 rows x 96 columns]"
            ]
          },
          "metadata": {
            "tags": []
          },
          "execution_count": 188
        }
      ]
    },
    {
      "cell_type": "markdown",
      "metadata": {
        "id": "Jns_yfQ2Y5Xz",
        "colab_type": "text"
      },
      "source": [
        "# data fusion\n",
        "\n",
        "### select data\n",
        "select the data for buildings _in the borough of Manhattan_ only from the pluto file (you can do it broadcasting!)\n",
        "\n",
        "### merge\n",
        "merge the pluto and ll84 dataframes. you will have to choose an appropriate column that both datasets share fo do so. The column may not have the same nbame, but should have the same _variable_."
      ]
    },
    {
      "cell_type": "code",
      "metadata": {
        "id": "Vr6k_D7Ck6JI",
        "colab_type": "code",
        "colab": {
          "base_uri": "https://localhost:8080/",
          "height": 34
        },
        "outputId": "ace7497f-2099-47dc-b090-8f76c704e446"
      },
      "source": [
        "pluto = pluto[pluto[\"borough\"] == \"MN\"]\n",
        "pluto.shape"
      ],
      "execution_count": 82,
      "outputs": [
        {
          "output_type": "execute_result",
          "data": {
            "text/plain": [
              "(42897, 96)"
            ]
          },
          "metadata": {
            "tags": []
          },
          "execution_count": 82
        }
      ]
    },
    {
      "cell_type": "code",
      "metadata": {
        "id": "lRVazRnIqgmV",
        "colab_type": "code",
        "colab": {
          "base_uri": "https://localhost:8080/",
          "height": 34
        },
        "outputId": "5ff85f22-be5c-4fe1-af8a-2a259dd02eea"
      },
      "source": [
        "joined = pd.merge(pluto, ll84, left_on = \"address\", right_on = \"Address 1 (self-reported)\")\n",
        "joined.shape"
      ],
      "execution_count": 173,
      "outputs": [
        {
          "output_type": "execute_result",
          "data": {
            "text/plain": [
              "(53, 156)"
            ]
          },
          "metadata": {
            "tags": []
          },
          "execution_count": 173
        }
      ]
    },
    {
      "cell_type": "markdown",
      "metadata": {
        "id": "eExs_TXwlQkT",
        "colab_type": "text"
      },
      "source": [
        "# data exploration and cleaning\n",
        "\n",
        "### extact columns\n",
        "extract the columns listed in the file \"columns.txt\" from the dataset.\n",
        "\n",
        "convert the resulting dataset to numerical, converting non-numerical values to NaN. drop rows that contain invalid values and save the resulting dataframe (_reducted_ dataframe)"
      ]
    },
    {
      "cell_type": "code",
      "metadata": {
        "id": "CkGZ4rZZunG4",
        "colab_type": "code",
        "colab": {
          "base_uri": "https://localhost:8080/",
          "height": 156
        },
        "outputId": "069be383-22f6-47ed-fd1c-1a02c536a3e5"
      },
      "source": [
        "columns = pd.read_table(\"https://raw.githubusercontent.com/fedhere/DSPS/master/HW5/columns.txt\", header = None)\n",
        "columns = columns[0].values.tolist()\n",
        "print(columns)\n",
        "\n",
        "\n",
        "data = joined[columns]\n",
        "data = data.convert_objects(convert_numeric = True)\n",
        "reduced = data.dropna(thresh = 22)\n",
        "reduced.shape"
      ],
      "execution_count": 174,
      "outputs": [
        {
          "output_type": "stream",
          "text": [
            "['DOF Gross Floor Area', 'Year Built', 'Number of Buildings - Self-reported', 'Occupancy', 'ENERGY STAR Score', 'Site EUI (kBtu/ft²)', 'Weather Normalized Site EUI (kBtu/ft²)', 'Weather Normalized Site Electricity Intensity (kWh/ft²)', 'Weather Normalized Site Natural Gas Intensity (therms/ft²)', 'Weather Normalized Source EUI (kBtu/ft²)', 'Electricity Use - Grid Purchase (kBtu)', 'Total GHG Emissions (Metric Tons CO2e)', 'Property GFA - Self-Reported (ft²)', 'Water Use (All Water Sources) (kgal)', 'Water Intensity (All Water Sources) (gal/ft²)', 'Source EUI (kBtu/ft²)', 'bldgarea', 'numbldgs', 'numfloors', 'unitsres', 'unitstotal', 'yearalter1']\n"
          ],
          "name": "stdout"
        },
        {
          "output_type": "stream",
          "text": [
            "/usr/local/lib/python3.6/dist-packages/ipykernel_launcher.py:1: FutureWarning: read_table is deprecated, use read_csv instead, passing sep='\\t'.\n",
            "  \"\"\"Entry point for launching an IPython kernel.\n",
            "/usr/local/lib/python3.6/dist-packages/ipykernel_launcher.py:7: FutureWarning: convert_objects is deprecated.  To re-infer data dtypes for object columns, use DataFrame.infer_objects()\n",
            "For all other conversions use the data-type specific converters pd.to_datetime, pd.to_timedelta and pd.to_numeric.\n",
            "  import sys\n"
          ],
          "name": "stderr"
        },
        {
          "output_type": "execute_result",
          "data": {
            "text/plain": [
              "(14, 22)"
            ]
          },
          "metadata": {
            "tags": []
          },
          "execution_count": 174
        }
      ]
    },
    {
      "cell_type": "code",
      "metadata": {
        "id": "SPq5cOykyp_B",
        "colab_type": "code",
        "colab": {
          "base_uri": "https://localhost:8080/",
          "height": 309
        },
        "outputId": "5a50df25-1980-4d38-a67e-7c9267607806"
      },
      "source": [
        "reduced.head()"
      ],
      "execution_count": 175,
      "outputs": [
        {
          "output_type": "execute_result",
          "data": {
            "text/html": [
              "<div>\n",
              "<style scoped>\n",
              "    .dataframe tbody tr th:only-of-type {\n",
              "        vertical-align: middle;\n",
              "    }\n",
              "\n",
              "    .dataframe tbody tr th {\n",
              "        vertical-align: top;\n",
              "    }\n",
              "\n",
              "    .dataframe thead th {\n",
              "        text-align: right;\n",
              "    }\n",
              "</style>\n",
              "<table border=\"1\" class=\"dataframe\">\n",
              "  <thead>\n",
              "    <tr style=\"text-align: right;\">\n",
              "      <th></th>\n",
              "      <th>DOF Gross Floor Area</th>\n",
              "      <th>Year Built</th>\n",
              "      <th>Number of Buildings - Self-reported</th>\n",
              "      <th>Occupancy</th>\n",
              "      <th>ENERGY STAR Score</th>\n",
              "      <th>Site EUI (kBtu/ft²)</th>\n",
              "      <th>Weather Normalized Site EUI (kBtu/ft²)</th>\n",
              "      <th>Weather Normalized Site Electricity Intensity (kWh/ft²)</th>\n",
              "      <th>Weather Normalized Site Natural Gas Intensity (therms/ft²)</th>\n",
              "      <th>Weather Normalized Source EUI (kBtu/ft²)</th>\n",
              "      <th>Electricity Use - Grid Purchase (kBtu)</th>\n",
              "      <th>Total GHG Emissions (Metric Tons CO2e)</th>\n",
              "      <th>Property GFA - Self-Reported (ft²)</th>\n",
              "      <th>Water Use (All Water Sources) (kgal)</th>\n",
              "      <th>Water Intensity (All Water Sources) (gal/ft²)</th>\n",
              "      <th>Source EUI (kBtu/ft²)</th>\n",
              "      <th>bldgarea</th>\n",
              "      <th>numbldgs</th>\n",
              "      <th>numfloors</th>\n",
              "      <th>unitsres</th>\n",
              "      <th>unitstotal</th>\n",
              "      <th>yearalter1</th>\n",
              "    </tr>\n",
              "  </thead>\n",
              "  <tbody>\n",
              "    <tr>\n",
              "      <th>1</th>\n",
              "      <td>91212.000</td>\n",
              "      <td>1927</td>\n",
              "      <td>1</td>\n",
              "      <td>100</td>\n",
              "      <td>85.000</td>\n",
              "      <td>64.700</td>\n",
              "      <td>68.000</td>\n",
              "      <td>11.200</td>\n",
              "      <td>0.100</td>\n",
              "      <td>155.000</td>\n",
              "      <td>3537948.900</td>\n",
              "      <td>483.800</td>\n",
              "      <td>92577</td>\n",
              "      <td>25098.800</td>\n",
              "      <td>271.110</td>\n",
              "      <td>150.900</td>\n",
              "      <td>91212.000</td>\n",
              "      <td>1.000</td>\n",
              "      <td>19.000</td>\n",
              "      <td>0.000</td>\n",
              "      <td>56.000</td>\n",
              "      <td>0.000</td>\n",
              "    </tr>\n",
              "    <tr>\n",
              "      <th>5</th>\n",
              "      <td>63600.000</td>\n",
              "      <td>1920</td>\n",
              "      <td>1</td>\n",
              "      <td>100</td>\n",
              "      <td>35.000</td>\n",
              "      <td>75.100</td>\n",
              "      <td>78.100</td>\n",
              "      <td>4.800</td>\n",
              "      <td>0.600</td>\n",
              "      <td>116.400</td>\n",
              "      <td>1215886.700</td>\n",
              "      <td>333.600</td>\n",
              "      <td>71550</td>\n",
              "      <td>1506.600</td>\n",
              "      <td>21.060</td>\n",
              "      <td>114.300</td>\n",
              "      <td>63600.000</td>\n",
              "      <td>1.000</td>\n",
              "      <td>8.000</td>\n",
              "      <td>28.000</td>\n",
              "      <td>30.000</td>\n",
              "      <td>0.000</td>\n",
              "    </tr>\n",
              "    <tr>\n",
              "      <th>7</th>\n",
              "      <td>55665.000</td>\n",
              "      <td>1900</td>\n",
              "      <td>1</td>\n",
              "      <td>100</td>\n",
              "      <td>29.000</td>\n",
              "      <td>108.100</td>\n",
              "      <td>113.300</td>\n",
              "      <td>5.100</td>\n",
              "      <td>1.000</td>\n",
              "      <td>155.300</td>\n",
              "      <td>904619.500</td>\n",
              "      <td>328.100</td>\n",
              "      <td>50892</td>\n",
              "      <td>2386.600</td>\n",
              "      <td>46.890</td>\n",
              "      <td>150.600</td>\n",
              "      <td>55665.000</td>\n",
              "      <td>1.000</td>\n",
              "      <td>7.000</td>\n",
              "      <td>43.000</td>\n",
              "      <td>43.000</td>\n",
              "      <td>0.000</td>\n",
              "    </tr>\n",
              "    <tr>\n",
              "      <th>9</th>\n",
              "      <td>137500.000</td>\n",
              "      <td>1990</td>\n",
              "      <td>1</td>\n",
              "      <td>100</td>\n",
              "      <td>83.000</td>\n",
              "      <td>35.800</td>\n",
              "      <td>34.900</td>\n",
              "      <td>8.700</td>\n",
              "      <td>0.100</td>\n",
              "      <td>98.900</td>\n",
              "      <td>4428400.900</td>\n",
              "      <td>450.200</td>\n",
              "      <td>144375</td>\n",
              "      <td>9539.200</td>\n",
              "      <td>66.070</td>\n",
              "      <td>101.700</td>\n",
              "      <td>117020.000</td>\n",
              "      <td>1.000</td>\n",
              "      <td>24.000</td>\n",
              "      <td>163.000</td>\n",
              "      <td>164.000</td>\n",
              "      <td>0.000</td>\n",
              "    </tr>\n",
              "    <tr>\n",
              "      <th>18</th>\n",
              "      <td>85194.000</td>\n",
              "      <td>1912</td>\n",
              "      <td>1</td>\n",
              "      <td>100</td>\n",
              "      <td>2.000</td>\n",
              "      <td>91.200</td>\n",
              "      <td>93.000</td>\n",
              "      <td>14.600</td>\n",
              "      <td>0.400</td>\n",
              "      <td>201.500</td>\n",
              "      <td>4447334.400</td>\n",
              "      <td>609.800</td>\n",
              "      <td>89453</td>\n",
              "      <td>6556.700</td>\n",
              "      <td>73.300</td>\n",
              "      <td>199.700</td>\n",
              "      <td>68728.000</td>\n",
              "      <td>1.000</td>\n",
              "      <td>14.000</td>\n",
              "      <td>66.000</td>\n",
              "      <td>104.000</td>\n",
              "      <td>2006.000</td>\n",
              "    </tr>\n",
              "  </tbody>\n",
              "</table>\n",
              "</div>"
            ],
            "text/plain": [
              "    DOF Gross Floor Area  Year Built  ...  unitstotal  yearalter1\n",
              "1              91212.000        1927  ...      56.000       0.000\n",
              "5              63600.000        1920  ...      30.000       0.000\n",
              "7              55665.000        1900  ...      43.000       0.000\n",
              "9             137500.000        1990  ...     164.000       0.000\n",
              "18             85194.000        1912  ...     104.000    2006.000\n",
              "\n",
              "[5 rows x 22 columns]"
            ]
          },
          "metadata": {
            "tags": []
          },
          "execution_count": 175
        }
      ]
    },
    {
      "cell_type": "markdown",
      "metadata": {
        "id": "C5-nB1RdY5X5",
        "colab_type": "text"
      },
      "source": [
        "### Assess impact of data wrangling\n",
        "Describe the  datasets resulting from this data cleaning: \n",
        "\n",
        "- how many observations have you lost? \n",
        "\n",
        "- did any of the features (=columns) have inconsistent distribution between the full and reducted dataset? \n",
        "\n",
        "You can approach this question in a number of ways, and you have done this in the  homewors already (with a KS test, and by just looking at uncertainties are two examples of ways to do ut that you worked out in HW3 and HW4, the Z test might work if you can convince yourself that the full sample is the \"population\" - up to you! a quick google search would probably describe many more ways). Choose _2_ ways, describe what each does and why it is appropriate. Compare the results (indeed I did it in 4 ways and did not always get consistent results! each of these meathods measures a slightly different thing).\n",
        "\n"
      ]
    },
    {
      "cell_type": "markdown",
      "metadata": {
        "id": "9fbVCrmsz2Ma",
        "colab_type": "text"
      },
      "source": [
        "**My answer:**\n",
        "\n",
        "We started with 42,897 observations when we first joined the data frames. After eliminating all NaN / non-numeric answers, we were left with only 14 observations."
      ]
    },
    {
      "cell_type": "code",
      "metadata": {
        "ExecuteTime": {
          "end_time": "2019-09-25T02:24:30.299322Z",
          "start_time": "2019-09-25T02:24:30.184734Z"
        },
        "id": "_cZwH0d4Y5X_",
        "colab_type": "code",
        "outputId": "7ea94739-0c4e-4b14-90e3-506b7e2ea80d",
        "colab": {
          "base_uri": "https://localhost:8080/",
          "height": 1000
        }
      },
      "source": [
        "pd.set_option('display.float_format', lambda x: '%.3f' % x)\n",
        "\n",
        "rmeans = pd.Series(reduced.mean(), name=\"reduced mean\")\n",
        "rstds = pd.Series(reduced.std(), name=\"reduced std\")\n",
        "fmeans = pd.Series(data.mean(), name=\"full mean\")\n",
        "fstds = pd.Series(data.std(), name=\"full std\")\n",
        "stats = pd.concat([rmeans, rstds, fmeans, fstds], axis = 1)\n",
        "\n",
        "stats[\"zscore\"] = (stats[\"reduced mean\"] - stats[\"full mean\"]) / stats[\"full std\"]\n",
        "stats"
      ],
      "execution_count": 182,
      "outputs": [
        {
          "output_type": "execute_result",
          "data": {
            "text/html": [
              "<div>\n",
              "<style scoped>\n",
              "    .dataframe tbody tr th:only-of-type {\n",
              "        vertical-align: middle;\n",
              "    }\n",
              "\n",
              "    .dataframe tbody tr th {\n",
              "        vertical-align: top;\n",
              "    }\n",
              "\n",
              "    .dataframe thead th {\n",
              "        text-align: right;\n",
              "    }\n",
              "</style>\n",
              "<table border=\"1\" class=\"dataframe\">\n",
              "  <thead>\n",
              "    <tr style=\"text-align: right;\">\n",
              "      <th></th>\n",
              "      <th>reduced mean</th>\n",
              "      <th>reduced std</th>\n",
              "      <th>full mean</th>\n",
              "      <th>full std</th>\n",
              "      <th>zscore</th>\n",
              "    </tr>\n",
              "  </thead>\n",
              "  <tbody>\n",
              "    <tr>\n",
              "      <th>DOF Gross Floor Area</th>\n",
              "      <td>279756.786</td>\n",
              "      <td>454917.066</td>\n",
              "      <td>178966.000</td>\n",
              "      <td>254326.308</td>\n",
              "      <td>0.396</td>\n",
              "    </tr>\n",
              "    <tr>\n",
              "      <th>Year Built</th>\n",
              "      <td>1941.786</td>\n",
              "      <td>36.071</td>\n",
              "      <td>1938.113</td>\n",
              "      <td>29.991</td>\n",
              "      <td>0.122</td>\n",
              "    </tr>\n",
              "    <tr>\n",
              "      <th>Number of Buildings - Self-reported</th>\n",
              "      <td>1.000</td>\n",
              "      <td>0.000</td>\n",
              "      <td>0.981</td>\n",
              "      <td>0.137</td>\n",
              "      <td>0.137</td>\n",
              "    </tr>\n",
              "    <tr>\n",
              "      <th>Occupancy</th>\n",
              "      <td>90.357</td>\n",
              "      <td>26.780</td>\n",
              "      <td>94.528</td>\n",
              "      <td>19.982</td>\n",
              "      <td>-0.209</td>\n",
              "    </tr>\n",
              "    <tr>\n",
              "      <th>ENERGY STAR Score</th>\n",
              "      <td>56.143</td>\n",
              "      <td>29.690</td>\n",
              "      <td>59.395</td>\n",
              "      <td>32.022</td>\n",
              "      <td>-0.102</td>\n",
              "    </tr>\n",
              "    <tr>\n",
              "      <th>Site EUI (kBtu/ft²)</th>\n",
              "      <td>79.771</td>\n",
              "      <td>24.552</td>\n",
              "      <td>94.560</td>\n",
              "      <td>84.587</td>\n",
              "      <td>-0.175</td>\n",
              "    </tr>\n",
              "    <tr>\n",
              "      <th>Weather Normalized Site EUI (kBtu/ft²)</th>\n",
              "      <td>82.336</td>\n",
              "      <td>25.827</td>\n",
              "      <td>102.250</td>\n",
              "      <td>109.741</td>\n",
              "      <td>-0.181</td>\n",
              "    </tr>\n",
              "    <tr>\n",
              "      <th>Weather Normalized Site Electricity Intensity (kWh/ft²)</th>\n",
              "      <td>10.321</td>\n",
              "      <td>6.202</td>\n",
              "      <td>9.597</td>\n",
              "      <td>7.291</td>\n",
              "      <td>0.099</td>\n",
              "    </tr>\n",
              "    <tr>\n",
              "      <th>Weather Normalized Site Natural Gas Intensity (therms/ft²)</th>\n",
              "      <td>0.214</td>\n",
              "      <td>0.303</td>\n",
              "      <td>0.352</td>\n",
              "      <td>0.517</td>\n",
              "      <td>-0.266</td>\n",
              "    </tr>\n",
              "    <tr>\n",
              "      <th>Weather Normalized Source EUI (kBtu/ft²)</th>\n",
              "      <td>160.000</td>\n",
              "      <td>54.229</td>\n",
              "      <td>175.447</td>\n",
              "      <td>147.392</td>\n",
              "      <td>-0.105</td>\n",
              "    </tr>\n",
              "    <tr>\n",
              "      <th>Electricity Use - Grid Purchase (kBtu)</th>\n",
              "      <td>16982357.179</td>\n",
              "      <td>39407888.693</td>\n",
              "      <td>7742090.102</td>\n",
              "      <td>21365985.242</td>\n",
              "      <td>0.432</td>\n",
              "    </tr>\n",
              "    <tr>\n",
              "      <th>Total GHG Emissions (Metric Tons CO2e)</th>\n",
              "      <td>2132.771</td>\n",
              "      <td>4363.276</td>\n",
              "      <td>1240.917</td>\n",
              "      <td>2400.198</td>\n",
              "      <td>0.372</td>\n",
              "    </tr>\n",
              "    <tr>\n",
              "      <th>Property GFA - Self-Reported (ft²)</th>\n",
              "      <td>279123.786</td>\n",
              "      <td>443791.318</td>\n",
              "      <td>174128.868</td>\n",
              "      <td>249992.297</td>\n",
              "      <td>0.420</td>\n",
              "    </tr>\n",
              "    <tr>\n",
              "      <th>Water Use (All Water Sources) (kgal)</th>\n",
              "      <td>9175.421</td>\n",
              "      <td>10769.093</td>\n",
              "      <td>8551.064</td>\n",
              "      <td>8560.205</td>\n",
              "      <td>0.073</td>\n",
              "    </tr>\n",
              "    <tr>\n",
              "      <th>Water Intensity (All Water Sources) (gal/ft²)</th>\n",
              "      <td>53.810</td>\n",
              "      <td>66.434</td>\n",
              "      <td>58.238</td>\n",
              "      <td>52.312</td>\n",
              "      <td>-0.085</td>\n",
              "    </tr>\n",
              "    <tr>\n",
              "      <th>Source EUI (kBtu/ft²)</th>\n",
              "      <td>158.086</td>\n",
              "      <td>54.645</td>\n",
              "      <td>159.911</td>\n",
              "      <td>117.274</td>\n",
              "      <td>-0.016</td>\n",
              "    </tr>\n",
              "    <tr>\n",
              "      <th>bldgarea</th>\n",
              "      <td>277117.786</td>\n",
              "      <td>456000.271</td>\n",
              "      <td>177848.943</td>\n",
              "      <td>254704.178</td>\n",
              "      <td>0.390</td>\n",
              "    </tr>\n",
              "    <tr>\n",
              "      <th>numbldgs</th>\n",
              "      <td>1.000</td>\n",
              "      <td>0.000</td>\n",
              "      <td>1.302</td>\n",
              "      <td>1.671</td>\n",
              "      <td>-0.181</td>\n",
              "    </tr>\n",
              "    <tr>\n",
              "      <th>numfloors</th>\n",
              "      <td>15.929</td>\n",
              "      <td>10.873</td>\n",
              "      <td>13.962</td>\n",
              "      <td>8.985</td>\n",
              "      <td>0.219</td>\n",
              "    </tr>\n",
              "    <tr>\n",
              "      <th>unitsres</th>\n",
              "      <td>52.143</td>\n",
              "      <td>70.776</td>\n",
              "      <td>89.358</td>\n",
              "      <td>103.816</td>\n",
              "      <td>-0.358</td>\n",
              "    </tr>\n",
              "    <tr>\n",
              "      <th>unitstotal</th>\n",
              "      <td>67.429</td>\n",
              "      <td>66.137</td>\n",
              "      <td>103.453</td>\n",
              "      <td>99.755</td>\n",
              "      <td>-0.361</td>\n",
              "    </tr>\n",
              "    <tr>\n",
              "      <th>yearalter1</th>\n",
              "      <td>997.500</td>\n",
              "      <td>1035.194</td>\n",
              "      <td>975.415</td>\n",
              "      <td>1003.563</td>\n",
              "      <td>0.022</td>\n",
              "    </tr>\n",
              "  </tbody>\n",
              "</table>\n",
              "</div>"
            ],
            "text/plain": [
              "                                                    reduced mean  ...  zscore\n",
              "DOF Gross Floor Area                                  279756.786  ...   0.396\n",
              "Year Built                                              1941.786  ...   0.122\n",
              "Number of Buildings - Self-reported                        1.000  ...   0.137\n",
              "Occupancy                                                 90.357  ...  -0.209\n",
              "ENERGY STAR Score                                         56.143  ...  -0.102\n",
              "Site EUI (kBtu/ft²)                                       79.771  ...  -0.175\n",
              "Weather Normalized Site EUI (kBtu/ft²)                    82.336  ...  -0.181\n",
              "Weather Normalized Site Electricity Intensity (...        10.321  ...   0.099\n",
              "Weather Normalized Site Natural Gas Intensity (...         0.214  ...  -0.266\n",
              "Weather Normalized Source EUI (kBtu/ft²)                 160.000  ...  -0.105\n",
              "Electricity Use - Grid Purchase (kBtu)              16982357.179  ...   0.432\n",
              "Total GHG Emissions (Metric Tons CO2e)                  2132.771  ...   0.372\n",
              "Property GFA - Self-Reported (ft²)                    279123.786  ...   0.420\n",
              "Water Use (All Water Sources) (kgal)                    9175.421  ...   0.073\n",
              "Water Intensity (All Water Sources) (gal/ft²)             53.810  ...  -0.085\n",
              "Source EUI (kBtu/ft²)                                    158.086  ...  -0.016\n",
              "bldgarea                                              277117.786  ...   0.390\n",
              "numbldgs                                                   1.000  ...  -0.181\n",
              "numfloors                                                 15.929  ...   0.219\n",
              "unitsres                                                  52.143  ...  -0.358\n",
              "unitstotal                                                67.429  ...  -0.361\n",
              "yearalter1                                               997.500  ...   0.022\n",
              "\n",
              "[22 rows x 5 columns]"
            ]
          },
          "metadata": {
            "tags": []
          },
          "execution_count": 182
        }
      ]
    },
    {
      "cell_type": "code",
      "metadata": {
        "id": "UuP8Wq_R86mc",
        "colab_type": "code",
        "colab": {
          "base_uri": "https://localhost:8080/",
          "height": 34
        },
        "outputId": "116212e7-d33f-46d1-959a-027395dacac1"
      },
      "source": [
        "max(abs(stats['zscore']))"
      ],
      "execution_count": 183,
      "outputs": [
        {
          "output_type": "execute_result",
          "data": {
            "text/plain": [
              "0.43247559014942266"
            ]
          },
          "metadata": {
            "tags": []
          },
          "execution_count": 183
        }
      ]
    },
    {
      "cell_type": "markdown",
      "metadata": {
        "id": "-LEv_MIp-dRC",
        "colab_type": "text"
      },
      "source": [
        "**My discussion**\n",
        "\n",
        "The means of all of our reduced columns were within 0.5 standard deviations of the non-data-wranggled (assumed to be the full population) means. This supports the claim that the reduced data is consistent with the unreduced data."
      ]
    },
    {
      "cell_type": "markdown",
      "metadata": {
        "id": "OBPiLSfnY5YE",
        "colab_type": "text"
      },
      "source": [
        "### plot WNEC\n",
        "Regardless of what you found above, plot the distribution of the _log base 10_ of the weather-normalized site energy consumption (WNEC) for all values larger than 0.1 (such that log10(min) is -1) for the _entire dataset_ and for the _reducted one_: do you think inference on this feature would be affected by this way of dealing with missing data affects the result?\n",
        "\n"
      ]
    },
    {
      "cell_type": "code",
      "metadata": {
        "ExecuteTime": {
          "end_time": "2019-09-25T02:33:55.288516Z",
          "start_time": "2019-09-25T02:33:55.263386Z"
        },
        "id": "hepCz2zGY5YG",
        "colab_type": "code",
        "colab": {}
      },
      "source": [
        ""
      ],
      "execution_count": 0,
      "outputs": []
    },
    {
      "cell_type": "markdown",
      "metadata": {
        "ExecuteTime": {
          "end_time": "2019-09-25T02:08:23.211182Z",
          "start_time": "2019-09-25T02:08:23.205135Z"
        },
        "id": "WIANEJHKY5YI",
        "colab_type": "text"
      },
      "source": [
        "# 667 and extyra credit\n",
        "plot a \"scatter matrix\" of the selected columns. Identify 4 promising \"scaling laws\" and plot them separately (a scatter plot of column1 vs column2). Does it make sense that there should be a scaling law between the 2 variables? \n",
        "\n",
        "which features should be strongly correlated or identical but are not? discuss\n",
        "\n",
        "([this](https://stackoverflow.com/questions/26975089/making-the-labels-of-the-scatterplot-vertical-and-horizontal-in-pandas) stackoverflow may come in handy)"
      ]
    },
    {
      "cell_type": "markdown",
      "metadata": {
        "id": "1fI3IMcNY5YM",
        "colab_type": "text"
      },
      "source": [
        "## all students\n",
        "At last, from the original dataset remove only the columns that are NaN in the column \"Weather Normalized Site EUI (kBtu/ft²)\"\n"
      ]
    },
    {
      "cell_type": "code",
      "metadata": {
        "ExecuteTime": {
          "end_time": "2019-09-25T02:40:28.827861Z",
          "start_time": "2019-09-25T02:38:20.245957Z"
        },
        "id": "LWaJVQG0Y5YN",
        "colab_type": "code",
        "colab": {}
      },
      "source": [
        "# -- drop buildings for which WN Site EUI is NaN\n",
        "wnec = \"Weather Normalized Site EUI (kBtu/ft²)\"\n",
        "...\n",
        "ll84pl.shape"
      ],
      "execution_count": 0,
      "outputs": []
    },
    {
      "cell_type": "markdown",
      "metadata": {
        "id": "vMDOfS6nY5YQ",
        "colab_type": "text"
      },
      "source": [
        "## Analysis: Owner investigation \n",
        "### Find owner of the single most energy consuming building\n",
        "\n",
        "**Find owner of the single most energy consuming building**, as measured by the \"Site Weather Normalized EUI per unit area \". \n",
        "\n",
        "**Find all the buildings that they own.**\n",
        "\n",
        "\n",
        "show the weather-normalized site energy consumption and the owner name for the top 30 consuming buildings in Manhattan"
      ]
    },
    {
      "cell_type": "code",
      "metadata": {
        "id": "l3dF3RQowmJ4",
        "colab_type": "code",
        "colab": {}
      },
      "source": [
        "print(\"Owner of the hisghest consuming building:...\", \n",
        "      \"They own ... buildings\")"
      ],
      "execution_count": 0,
      "outputs": []
    },
    {
      "cell_type": "markdown",
      "metadata": {
        "ExecuteTime": {
          "end_time": "2019-09-24T18:40:17.239813Z",
          "start_time": "2019-09-24T18:40:17.235991Z"
        },
        "id": "0m4jRavdY5Yh",
        "colab_type": "text"
      },
      "source": [
        "### Find average building consumption by owner \n",
        "For all owners that own more than one building, find the average consumption for buildings owned by the same owner. Your dataframe should have 2 columns called _Weather Normalized Site EUI (kBtu/ft²)_\tand _counts_\n",
        "\n",
        "**Who owns the most energy consuming buildings on average?**\n",
        "\n",
        "**Who owns the most buildings**"
      ]
    },
    {
      "cell_type": "markdown",
      "metadata": {
        "id": "Y9amLZSHxC26",
        "colab_type": "text"
      },
      "source": [
        "# 667 and EC\n",
        "\n",
        "Universities are big realtors in NYC. The may own by different names. Find all builgings owned by NYU and COLUMBIA. replace the ownename with NYU and COLUMBIA respectively and re-aggregate the data based on these names and again find the owner of the buildings that pon average consume the most, of the highest number of buildings, and that owns the most sq footage "
      ]
    },
    {
      "cell_type": "code",
      "metadata": {
        "id": "vhpxcsYKC0B3",
        "colab_type": "code",
        "colab": {}
      },
      "source": [
        ""
      ],
      "execution_count": 0,
      "outputs": []
    }
  ]
}
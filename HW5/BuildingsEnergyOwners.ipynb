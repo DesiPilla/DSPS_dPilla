{
  "nbformat": 4,
  "nbformat_minor": 0,
  "metadata": {
    "colab": {
      "name": "BuildingsEnergyOwners.ipynb",
      "provenance": [],
      "collapsed_sections": [],
      "include_colab_link": true
    },
    "kernelspec": {
      "display_name": "Python 3",
      "language": "python",
      "name": "python3"
    },
    "language_info": {
      "codemirror_mode": {
        "name": "ipython",
        "version": 3
      },
      "file_extension": ".py",
      "mimetype": "text/x-python",
      "name": "python",
      "nbconvert_exporter": "python",
      "pygments_lexer": "ipython3",
      "version": "3.7.3"
    },
    "latex_envs": {
      "LaTeX_envs_menu_present": true,
      "autoclose": false,
      "autocomplete": true,
      "bibliofile": "biblio.bib",
      "cite_by": "apalike",
      "current_citInitial": 1,
      "eqLabelWithNumbers": true,
      "eqNumInitial": 1,
      "hotkeys": {
        "equation": "Ctrl-E",
        "itemize": "Ctrl-I"
      },
      "labels_anchors": false,
      "latex_user_defs": false,
      "report_style_numbering": false,
      "user_envs_cfg": false
    },
    "nbTranslate": {
      "displayLangs": [
        "*"
      ],
      "hotkey": "alt-t",
      "langInMainMenu": true,
      "sourceLang": "en",
      "targetLang": "fr",
      "useGoogleTranslate": true
    },
    "toc": {
      "base_numbering": 1,
      "nav_menu": {},
      "number_sections": true,
      "sideBar": true,
      "skip_h1_title": false,
      "title_cell": "Table of Contents",
      "title_sidebar": "Contents",
      "toc_cell": false,
      "toc_position": {},
      "toc_section_display": true,
      "toc_window_display": false
    }
  },
  "cells": [
    {
      "cell_type": "markdown",
      "metadata": {
        "id": "view-in-github",
        "colab_type": "text"
      },
      "source": [
        "<a href=\"https://colab.research.google.com/github/DesiPilla/DSPS_dPilla/blob/master/HW5/BuildingsEnergyOwners.ipynb\" target=\"_parent\"><img src=\"https://colab.research.google.com/assets/colab-badge.svg\" alt=\"Open In Colab\"/></a>"
      ]
    },
    {
      "cell_type": "code",
      "metadata": {
        "colab_type": "code",
        "id": "mwsn7ih7RWle",
        "outputId": "8c922843-16b9-4b69-c8c8-f99d2f27bf2c",
        "colab": {
          "base_uri": "https://localhost:8080/",
          "height": 54
        }
      },
      "source": [
        "# -- link google drive\n",
        "from google.colab import drive\n",
        "drive.mount(\"/content/drive\")"
      ],
      "execution_count": 47,
      "outputs": [
        {
          "output_type": "stream",
          "text": [
            "Drive already mounted at /content/drive; to attempt to forcibly remount, call drive.mount(\"/content/drive\", force_remount=True).\n"
          ],
          "name": "stdout"
        }
      ]
    },
    {
      "cell_type": "code",
      "metadata": {
        "ExecuteTime": {
          "end_time": "2019-09-24T21:52:47.068553Z",
          "start_time": "2019-09-24T21:52:47.065670Z"
        },
        "colab_type": "code",
        "id": "yav2dVuWJn_T",
        "colab": {}
      },
      "source": [
        "# -- useful imports\n",
        "import numpy as np\n",
        "import pandas as pd\n",
        "import matplotlib.pyplot as pl\n",
        "import scipy as sp\n",
        "from scipy import stats"
      ],
      "execution_count": 0,
      "outputs": []
    },
    {
      "cell_type": "markdown",
      "metadata": {
        "id": "rCnUCueiY5Xt",
        "colab_type": "text"
      },
      "source": [
        "# data retrival\n",
        "### LL84\n",
        "get the Local Law 84 (ll84) data from the URL: https://data.cityofnewyork.us/api/views/8u86-bviy/rows.csv and read it in with Pandas\n",
        "\n",
        "### Pluto\n",
        "Download the pluto csv data and store it in your google drive. \n",
        "\n",
        "You can find the data here \n",
        "https://www1.nyc.gov/site/planning/data-maps/open-data/dwn-pluto-mappluto.page\n",
        "\n",
        "IMPORTANT: store it in the path *drive/My Drive/dsps/ with the name pluto_18v2_1.csv*\n",
        "\n",
        "This path and name have to be exact. This way the grader and I will be able to run your notebook without changing anything as long as we also have stored the data in path drive/My Drive/dsps/pluto_18v2_1.csv. This is part of the _reproducibility_ requirement."
      ]
    },
    {
      "cell_type": "code",
      "metadata": {
        "id": "R94ymqN5gEUR",
        "colab_type": "code",
        "colab": {}
      },
      "source": [
        "ll84 = pd.read_csv('https://data.cityofnewyork.us/api/views/8u86-bviy/rows.csv')"
      ],
      "execution_count": 0,
      "outputs": []
    },
    {
      "cell_type": "code",
      "metadata": {
        "id": "1QiKfa8RgERt",
        "colab_type": "code",
        "colab": {
          "base_uri": "https://localhost:8080/",
          "height": 34
        },
        "outputId": "7e77059a-b598-416b-ecd8-f3c40f2678c3"
      },
      "source": [
        "mkdir \"drive/My Drive/dsps\""
      ],
      "execution_count": 50,
      "outputs": [
        {
          "output_type": "stream",
          "text": [
            "mkdir: cannot create directory ‘drive/My Drive/dsps’: No such file or directory\n"
          ],
          "name": "stdout"
        }
      ]
    },
    {
      "cell_type": "code",
      "metadata": {
        "id": "EfUuZB4gj_7A",
        "colab_type": "code",
        "colab": {
          "base_uri": "https://localhost:8080/",
          "height": 51
        },
        "outputId": "0a6cd6d3-cc67-4f3f-e1c7-e15f725b0612"
      },
      "source": [
        "cd \"drive/My Drive/dsps\""
      ],
      "execution_count": 51,
      "outputs": [
        {
          "output_type": "stream",
          "text": [
            "[Errno 2] No such file or directory: 'drive/My Drive/dsps'\n",
            "/content/drive/My Drive/dsps/drive/My Drive/dsps\n"
          ],
          "name": "stdout"
        }
      ]
    },
    {
      "cell_type": "code",
      "metadata": {
        "id": "3NBmabIjkbyO",
        "colab_type": "code",
        "colab": {
          "base_uri": "https://localhost:8080/",
          "height": 34
        },
        "outputId": "e754f588-567e-45fe-8d8a-f730ad36d547"
      },
      "source": [
        "ls"
      ],
      "execution_count": 52,
      "outputs": [
        {
          "output_type": "stream",
          "text": [
            "pluto_18v2_1.csv\n"
          ],
          "name": "stdout"
        }
      ]
    },
    {
      "cell_type": "markdown",
      "metadata": {
        "id": "Jns_yfQ2Y5Xz",
        "colab_type": "text"
      },
      "source": [
        "# data fusion\n",
        "\n",
        "### select data\n",
        "select the data for buildings _in the borough of Manhattan_ only from the pluto file (you can do it broadcasting!)\n",
        "\n",
        "### merge\n",
        "merge the pluto and ll84 dataframes. you will have to choose an appropriate column that both datasets share fo do so. The column may not have the same nbame, but should have the same _variable_."
      ]
    },
    {
      "cell_type": "code",
      "metadata": {
        "id": "tzqi0PEHksqd",
        "colab_type": "code",
        "colab": {
          "base_uri": "https://localhost:8080/",
          "height": 440
        },
        "outputId": "2deaffd6-cf27-456c-878b-8153b7ba498d"
      },
      "source": [
        "pluto = pd.read_csv(\"pluto_18v2_1.csv\")\n",
        "pluto.head()"
      ],
      "execution_count": 81,
      "outputs": [
        {
          "output_type": "stream",
          "text": [
            "/usr/local/lib/python3.6/dist-packages/IPython/core/interactiveshell.py:2718: DtypeWarning: Columns (16,17,18,20,22,77) have mixed types. Specify dtype option on import or set low_memory=False.\n",
            "  interactivity=interactivity, compiler=compiler, result=result)\n"
          ],
          "name": "stderr"
        },
        {
          "output_type": "execute_result",
          "data": {
            "text/html": [
              "<div>\n",
              "<style scoped>\n",
              "    .dataframe tbody tr th:only-of-type {\n",
              "        vertical-align: middle;\n",
              "    }\n",
              "\n",
              "    .dataframe tbody tr th {\n",
              "        vertical-align: top;\n",
              "    }\n",
              "\n",
              "    .dataframe thead th {\n",
              "        text-align: right;\n",
              "    }\n",
              "</style>\n",
              "<table border=\"1\" class=\"dataframe\">\n",
              "  <thead>\n",
              "    <tr style=\"text-align: right;\">\n",
              "      <th></th>\n",
              "      <th>borough</th>\n",
              "      <th>block</th>\n",
              "      <th>lot</th>\n",
              "      <th>cd</th>\n",
              "      <th>ct2010</th>\n",
              "      <th>cb2010</th>\n",
              "      <th>schooldist</th>\n",
              "      <th>council</th>\n",
              "      <th>zipcode</th>\n",
              "      <th>firecomp</th>\n",
              "      <th>policeprct</th>\n",
              "      <th>healtharea</th>\n",
              "      <th>sanitboro</th>\n",
              "      <th>sanitsub</th>\n",
              "      <th>address</th>\n",
              "      <th>zonedist1</th>\n",
              "      <th>zonedist2</th>\n",
              "      <th>zonedist3</th>\n",
              "      <th>zonedist4</th>\n",
              "      <th>overlay1</th>\n",
              "      <th>overlay2</th>\n",
              "      <th>spdist1</th>\n",
              "      <th>spdist2</th>\n",
              "      <th>spdist3</th>\n",
              "      <th>ltdheight</th>\n",
              "      <th>splitzone</th>\n",
              "      <th>bldgclass</th>\n",
              "      <th>landuse</th>\n",
              "      <th>easements</th>\n",
              "      <th>ownertype</th>\n",
              "      <th>ownername</th>\n",
              "      <th>lotarea</th>\n",
              "      <th>bldgarea</th>\n",
              "      <th>comarea</th>\n",
              "      <th>resarea</th>\n",
              "      <th>officearea</th>\n",
              "      <th>retailarea</th>\n",
              "      <th>garagearea</th>\n",
              "      <th>strgearea</th>\n",
              "      <th>factryarea</th>\n",
              "      <th>...</th>\n",
              "      <th>assesstot</th>\n",
              "      <th>exemptland</th>\n",
              "      <th>exempttot</th>\n",
              "      <th>yearbuilt</th>\n",
              "      <th>yearalter1</th>\n",
              "      <th>yearalter2</th>\n",
              "      <th>histdist</th>\n",
              "      <th>landmark</th>\n",
              "      <th>builtfar</th>\n",
              "      <th>residfar</th>\n",
              "      <th>commfar</th>\n",
              "      <th>facilfar</th>\n",
              "      <th>borocode</th>\n",
              "      <th>bbl</th>\n",
              "      <th>condono</th>\n",
              "      <th>tract2010</th>\n",
              "      <th>xcoord</th>\n",
              "      <th>ycoord</th>\n",
              "      <th>zonemap</th>\n",
              "      <th>zmcode</th>\n",
              "      <th>sanborn</th>\n",
              "      <th>taxmap</th>\n",
              "      <th>edesignum</th>\n",
              "      <th>appbbl</th>\n",
              "      <th>appdate</th>\n",
              "      <th>mappluto_f</th>\n",
              "      <th>plutomapid</th>\n",
              "      <th>version</th>\n",
              "      <th>sanitdistrict</th>\n",
              "      <th>healthcenterdistrict</th>\n",
              "      <th>firm07_flag</th>\n",
              "      <th>pfirm15_flag</th>\n",
              "      <th>rpaddate</th>\n",
              "      <th>dcasdate</th>\n",
              "      <th>zoningdate</th>\n",
              "      <th>landmkdate</th>\n",
              "      <th>basempdate</th>\n",
              "      <th>masdate</th>\n",
              "      <th>polidate</th>\n",
              "      <th>edesigdate</th>\n",
              "    </tr>\n",
              "  </thead>\n",
              "  <tbody>\n",
              "    <tr>\n",
              "      <th>0</th>\n",
              "      <td>BX</td>\n",
              "      <td>5641.0</td>\n",
              "      <td>670.0</td>\n",
              "      <td>210.0</td>\n",
              "      <td>516.0</td>\n",
              "      <td>2.0</td>\n",
              "      <td>NaN</td>\n",
              "      <td>13.0</td>\n",
              "      <td>NaN</td>\n",
              "      <td>NaN</td>\n",
              "      <td>NaN</td>\n",
              "      <td>NaN</td>\n",
              "      <td>NaN</td>\n",
              "      <td></td>\n",
              "      <td>CITY ISLAND AVENUE</td>\n",
              "      <td>NaN</td>\n",
              "      <td>NaN</td>\n",
              "      <td>NaN</td>\n",
              "      <td>NaN</td>\n",
              "      <td>NaN</td>\n",
              "      <td>NaN</td>\n",
              "      <td>NaN</td>\n",
              "      <td>NaN</td>\n",
              "      <td>NaN</td>\n",
              "      <td>NaN</td>\n",
              "      <td>NaN</td>\n",
              "      <td>T2</td>\n",
              "      <td>7.0</td>\n",
              "      <td>0.0</td>\n",
              "      <td>NaN</td>\n",
              "      <td>MINNY C INC.</td>\n",
              "      <td>53758.0</td>\n",
              "      <td>0.0</td>\n",
              "      <td>NaN</td>\n",
              "      <td>NaN</td>\n",
              "      <td>NaN</td>\n",
              "      <td>NaN</td>\n",
              "      <td>NaN</td>\n",
              "      <td>NaN</td>\n",
              "      <td>NaN</td>\n",
              "      <td>...</td>\n",
              "      <td>59400.0</td>\n",
              "      <td>0.0</td>\n",
              "      <td>0.0</td>\n",
              "      <td>0.0</td>\n",
              "      <td>0.0</td>\n",
              "      <td>0.0</td>\n",
              "      <td>NaN</td>\n",
              "      <td>NaN</td>\n",
              "      <td>0.00</td>\n",
              "      <td>0.00</td>\n",
              "      <td>0.0</td>\n",
              "      <td>0.0</td>\n",
              "      <td>2.0</td>\n",
              "      <td>2.056411e+09</td>\n",
              "      <td>0.0</td>\n",
              "      <td>516.0</td>\n",
              "      <td>1044510.0</td>\n",
              "      <td>246734.0</td>\n",
              "      <td>4d</td>\n",
              "      <td>NaN</td>\n",
              "      <td>218 068</td>\n",
              "      <td>21810</td>\n",
              "      <td>NaN</td>\n",
              "      <td>2.056411e+09</td>\n",
              "      <td>1/5/2005</td>\n",
              "      <td>NaN</td>\n",
              "      <td>4.0</td>\n",
              "      <td>18v2.1</td>\n",
              "      <td>NaN</td>\n",
              "      <td>NaN</td>\n",
              "      <td>1.0</td>\n",
              "      <td>1.0</td>\n",
              "      <td>12/6/2018</td>\n",
              "      <td>12/20/2018</td>\n",
              "      <td>12/21/2018</td>\n",
              "      <td>12/20/2018</td>\n",
              "      <td>12/21/2018</td>\n",
              "      <td>NaN</td>\n",
              "      <td>NaN</td>\n",
              "      <td>12/20/2018</td>\n",
              "    </tr>\n",
              "    <tr>\n",
              "      <th>1</th>\n",
              "      <td>QN</td>\n",
              "      <td>3935.0</td>\n",
              "      <td>3.0</td>\n",
              "      <td>407.0</td>\n",
              "      <td>929.0</td>\n",
              "      <td>1001.0</td>\n",
              "      <td>25.0</td>\n",
              "      <td>19.0</td>\n",
              "      <td>11356.0</td>\n",
              "      <td>E297</td>\n",
              "      <td>109.0</td>\n",
              "      <td>210.0</td>\n",
              "      <td>4.0</td>\n",
              "      <td>5D</td>\n",
              "      <td>8-03 117 STREET</td>\n",
              "      <td>R2A</td>\n",
              "      <td>NaN</td>\n",
              "      <td>NaN</td>\n",
              "      <td>NaN</td>\n",
              "      <td>NaN</td>\n",
              "      <td>NaN</td>\n",
              "      <td>NaN</td>\n",
              "      <td>NaN</td>\n",
              "      <td>NaN</td>\n",
              "      <td>NaN</td>\n",
              "      <td>N</td>\n",
              "      <td>A1</td>\n",
              "      <td>1.0</td>\n",
              "      <td>0.0</td>\n",
              "      <td>NaN</td>\n",
              "      <td>CHEN, ZHIBIN</td>\n",
              "      <td>10870.0</td>\n",
              "      <td>3130.0</td>\n",
              "      <td>0.0</td>\n",
              "      <td>3130.0</td>\n",
              "      <td>0.0</td>\n",
              "      <td>0.0</td>\n",
              "      <td>0.0</td>\n",
              "      <td>0.0</td>\n",
              "      <td>0.0</td>\n",
              "      <td>...</td>\n",
              "      <td>53083.0</td>\n",
              "      <td>0.0</td>\n",
              "      <td>0.0</td>\n",
              "      <td>1915.0</td>\n",
              "      <td>1995.0</td>\n",
              "      <td>1996.0</td>\n",
              "      <td>NaN</td>\n",
              "      <td>NaN</td>\n",
              "      <td>0.29</td>\n",
              "      <td>0.50</td>\n",
              "      <td>0.0</td>\n",
              "      <td>1.0</td>\n",
              "      <td>4.0</td>\n",
              "      <td>4.039350e+09</td>\n",
              "      <td>0.0</td>\n",
              "      <td>929.0</td>\n",
              "      <td>1025679.0</td>\n",
              "      <td>227096.0</td>\n",
              "      <td>7b</td>\n",
              "      <td>NaN</td>\n",
              "      <td>405 037</td>\n",
              "      <td>42101</td>\n",
              "      <td>NaN</td>\n",
              "      <td>0.000000e+00</td>\n",
              "      <td>NaN</td>\n",
              "      <td>NaN</td>\n",
              "      <td>1.0</td>\n",
              "      <td>18v2.1</td>\n",
              "      <td>7.0</td>\n",
              "      <td>43.0</td>\n",
              "      <td>NaN</td>\n",
              "      <td>NaN</td>\n",
              "      <td>12/6/2018</td>\n",
              "      <td>12/20/2018</td>\n",
              "      <td>12/21/2018</td>\n",
              "      <td>12/20/2018</td>\n",
              "      <td>12/21/2018</td>\n",
              "      <td>NaN</td>\n",
              "      <td>NaN</td>\n",
              "      <td>12/20/2018</td>\n",
              "    </tr>\n",
              "    <tr>\n",
              "      <th>2</th>\n",
              "      <td>BX</td>\n",
              "      <td>4205.0</td>\n",
              "      <td>41.0</td>\n",
              "      <td>211.0</td>\n",
              "      <td>296.0</td>\n",
              "      <td>2000.0</td>\n",
              "      <td>11.0</td>\n",
              "      <td>13.0</td>\n",
              "      <td>NaN</td>\n",
              "      <td>Q061</td>\n",
              "      <td>49.0</td>\n",
              "      <td>1410.0</td>\n",
              "      <td>2.0</td>\n",
              "      <td>2E</td>\n",
              "      <td>SEMINOLE AVENUE</td>\n",
              "      <td>R4</td>\n",
              "      <td>NaN</td>\n",
              "      <td>NaN</td>\n",
              "      <td>NaN</td>\n",
              "      <td>NaN</td>\n",
              "      <td>NaN</td>\n",
              "      <td>NaN</td>\n",
              "      <td>NaN</td>\n",
              "      <td>NaN</td>\n",
              "      <td>NaN</td>\n",
              "      <td>N</td>\n",
              "      <td>V0</td>\n",
              "      <td>11.0</td>\n",
              "      <td>0.0</td>\n",
              "      <td>NaN</td>\n",
              "      <td>EDWARD AND LORRAINE S</td>\n",
              "      <td>2369.0</td>\n",
              "      <td>0.0</td>\n",
              "      <td>NaN</td>\n",
              "      <td>NaN</td>\n",
              "      <td>NaN</td>\n",
              "      <td>NaN</td>\n",
              "      <td>NaN</td>\n",
              "      <td>NaN</td>\n",
              "      <td>NaN</td>\n",
              "      <td>...</td>\n",
              "      <td>5361.0</td>\n",
              "      <td>0.0</td>\n",
              "      <td>0.0</td>\n",
              "      <td>0.0</td>\n",
              "      <td>0.0</td>\n",
              "      <td>0.0</td>\n",
              "      <td>NaN</td>\n",
              "      <td>NaN</td>\n",
              "      <td>0.00</td>\n",
              "      <td>0.90</td>\n",
              "      <td>0.0</td>\n",
              "      <td>2.0</td>\n",
              "      <td>2.0</td>\n",
              "      <td>2.042050e+09</td>\n",
              "      <td>0.0</td>\n",
              "      <td>296.0</td>\n",
              "      <td>1026345.0</td>\n",
              "      <td>249922.0</td>\n",
              "      <td>4a</td>\n",
              "      <td>NaN</td>\n",
              "      <td>220 053</td>\n",
              "      <td>21509</td>\n",
              "      <td>NaN</td>\n",
              "      <td>0.000000e+00</td>\n",
              "      <td>NaN</td>\n",
              "      <td>NaN</td>\n",
              "      <td>1.0</td>\n",
              "      <td>18v2.1</td>\n",
              "      <td>11.0</td>\n",
              "      <td>26.0</td>\n",
              "      <td>NaN</td>\n",
              "      <td>NaN</td>\n",
              "      <td>12/6/2018</td>\n",
              "      <td>12/20/2018</td>\n",
              "      <td>12/21/2018</td>\n",
              "      <td>12/20/2018</td>\n",
              "      <td>12/21/2018</td>\n",
              "      <td>NaN</td>\n",
              "      <td>NaN</td>\n",
              "      <td>12/20/2018</td>\n",
              "    </tr>\n",
              "    <tr>\n",
              "      <th>3</th>\n",
              "      <td>BX</td>\n",
              "      <td>2402.0</td>\n",
              "      <td>14.0</td>\n",
              "      <td>201.0</td>\n",
              "      <td>69.0</td>\n",
              "      <td>2005.0</td>\n",
              "      <td>7.0</td>\n",
              "      <td>17.0</td>\n",
              "      <td>NaN</td>\n",
              "      <td>L055</td>\n",
              "      <td>40.0</td>\n",
              "      <td>3900.0</td>\n",
              "      <td>2.0</td>\n",
              "      <td>1B</td>\n",
              "      <td>EAST 156 STREET</td>\n",
              "      <td>R6</td>\n",
              "      <td>NaN</td>\n",
              "      <td>NaN</td>\n",
              "      <td>NaN</td>\n",
              "      <td>NaN</td>\n",
              "      <td>NaN</td>\n",
              "      <td>NaN</td>\n",
              "      <td>NaN</td>\n",
              "      <td>NaN</td>\n",
              "      <td>NaN</td>\n",
              "      <td>N</td>\n",
              "      <td>G7</td>\n",
              "      <td>10.0</td>\n",
              "      <td>0.0</td>\n",
              "      <td>NaN</td>\n",
              "      <td>156, LLC</td>\n",
              "      <td>3750.0</td>\n",
              "      <td>0.0</td>\n",
              "      <td>NaN</td>\n",
              "      <td>NaN</td>\n",
              "      <td>NaN</td>\n",
              "      <td>NaN</td>\n",
              "      <td>NaN</td>\n",
              "      <td>NaN</td>\n",
              "      <td>NaN</td>\n",
              "      <td>...</td>\n",
              "      <td>81000.0</td>\n",
              "      <td>0.0</td>\n",
              "      <td>0.0</td>\n",
              "      <td>0.0</td>\n",
              "      <td>0.0</td>\n",
              "      <td>0.0</td>\n",
              "      <td>NaN</td>\n",
              "      <td>NaN</td>\n",
              "      <td>0.00</td>\n",
              "      <td>2.43</td>\n",
              "      <td>0.0</td>\n",
              "      <td>4.8</td>\n",
              "      <td>2.0</td>\n",
              "      <td>2.024020e+09</td>\n",
              "      <td>0.0</td>\n",
              "      <td>69.0</td>\n",
              "      <td>1007336.0</td>\n",
              "      <td>238351.0</td>\n",
              "      <td>6a</td>\n",
              "      <td>NaN</td>\n",
              "      <td>209N080</td>\n",
              "      <td>20905</td>\n",
              "      <td>NaN</td>\n",
              "      <td>0.000000e+00</td>\n",
              "      <td>NaN</td>\n",
              "      <td>NaN</td>\n",
              "      <td>1.0</td>\n",
              "      <td>18v2.1</td>\n",
              "      <td>1.0</td>\n",
              "      <td>23.0</td>\n",
              "      <td>NaN</td>\n",
              "      <td>NaN</td>\n",
              "      <td>12/6/2018</td>\n",
              "      <td>12/20/2018</td>\n",
              "      <td>12/21/2018</td>\n",
              "      <td>12/20/2018</td>\n",
              "      <td>12/21/2018</td>\n",
              "      <td>NaN</td>\n",
              "      <td>NaN</td>\n",
              "      <td>12/20/2018</td>\n",
              "    </tr>\n",
              "    <tr>\n",
              "      <th>4</th>\n",
              "      <td>SI</td>\n",
              "      <td>63.0</td>\n",
              "      <td>83.0</td>\n",
              "      <td>501.0</td>\n",
              "      <td>81.0</td>\n",
              "      <td>2006.0</td>\n",
              "      <td>31.0</td>\n",
              "      <td>49.0</td>\n",
              "      <td>10301.0</td>\n",
              "      <td>E155</td>\n",
              "      <td>120.0</td>\n",
              "      <td>400.0</td>\n",
              "      <td>5.0</td>\n",
              "      <td>2C</td>\n",
              "      <td>216 FRANKLIN AVENUE</td>\n",
              "      <td>R2</td>\n",
              "      <td>NaN</td>\n",
              "      <td>NaN</td>\n",
              "      <td>NaN</td>\n",
              "      <td>NaN</td>\n",
              "      <td>NaN</td>\n",
              "      <td>HS</td>\n",
              "      <td>NaN</td>\n",
              "      <td>NaN</td>\n",
              "      <td>NaN</td>\n",
              "      <td>N</td>\n",
              "      <td>A1</td>\n",
              "      <td>1.0</td>\n",
              "      <td>0.0</td>\n",
              "      <td>NaN</td>\n",
              "      <td>DENNIS COTTER</td>\n",
              "      <td>3465.0</td>\n",
              "      <td>1590.0</td>\n",
              "      <td>0.0</td>\n",
              "      <td>1590.0</td>\n",
              "      <td>0.0</td>\n",
              "      <td>0.0</td>\n",
              "      <td>0.0</td>\n",
              "      <td>0.0</td>\n",
              "      <td>0.0</td>\n",
              "      <td>...</td>\n",
              "      <td>20044.0</td>\n",
              "      <td>1460.0</td>\n",
              "      <td>1460.0</td>\n",
              "      <td>1901.0</td>\n",
              "      <td>0.0</td>\n",
              "      <td>0.0</td>\n",
              "      <td>NaN</td>\n",
              "      <td>NaN</td>\n",
              "      <td>0.46</td>\n",
              "      <td>0.50</td>\n",
              "      <td>0.0</td>\n",
              "      <td>1.0</td>\n",
              "      <td>5.0</td>\n",
              "      <td>5.000630e+09</td>\n",
              "      <td>0.0</td>\n",
              "      <td>81.0</td>\n",
              "      <td>958845.0</td>\n",
              "      <td>172482.0</td>\n",
              "      <td>21a</td>\n",
              "      <td>NaN</td>\n",
              "      <td>501 082</td>\n",
              "      <td>50102</td>\n",
              "      <td>NaN</td>\n",
              "      <td>0.000000e+00</td>\n",
              "      <td>NaN</td>\n",
              "      <td>NaN</td>\n",
              "      <td>1.0</td>\n",
              "      <td>18v2.1</td>\n",
              "      <td>1.0</td>\n",
              "      <td>51.0</td>\n",
              "      <td>NaN</td>\n",
              "      <td>NaN</td>\n",
              "      <td>12/6/2018</td>\n",
              "      <td>12/20/2018</td>\n",
              "      <td>12/21/2018</td>\n",
              "      <td>12/20/2018</td>\n",
              "      <td>12/21/2018</td>\n",
              "      <td>NaN</td>\n",
              "      <td>NaN</td>\n",
              "      <td>12/20/2018</td>\n",
              "    </tr>\n",
              "  </tbody>\n",
              "</table>\n",
              "<p>5 rows × 96 columns</p>\n",
              "</div>"
            ],
            "text/plain": [
              "  borough   block    lot     cd  ...  basempdate  masdate  polidate  edesigdate\n",
              "0      BX  5641.0  670.0  210.0  ...  12/21/2018      NaN       NaN  12/20/2018\n",
              "1      QN  3935.0    3.0  407.0  ...  12/21/2018      NaN       NaN  12/20/2018\n",
              "2      BX  4205.0   41.0  211.0  ...  12/21/2018      NaN       NaN  12/20/2018\n",
              "3      BX  2402.0   14.0  201.0  ...  12/21/2018      NaN       NaN  12/20/2018\n",
              "4      SI    63.0   83.0  501.0  ...  12/21/2018      NaN       NaN  12/20/2018\n",
              "\n",
              "[5 rows x 96 columns]"
            ]
          },
          "metadata": {
            "tags": []
          },
          "execution_count": 81
        }
      ]
    },
    {
      "cell_type": "code",
      "metadata": {
        "id": "Vr6k_D7Ck6JI",
        "colab_type": "code",
        "colab": {
          "base_uri": "https://localhost:8080/",
          "height": 34
        },
        "outputId": "ace7497f-2099-47dc-b090-8f76c704e446"
      },
      "source": [
        "pluto = pluto[pluto[\"borough\"] == \"MN\"]\n",
        "pluto.shape"
      ],
      "execution_count": 82,
      "outputs": [
        {
          "output_type": "execute_result",
          "data": {
            "text/plain": [
              "(42897, 96)"
            ]
          },
          "metadata": {
            "tags": []
          },
          "execution_count": 82
        }
      ]
    },
    {
      "cell_type": "code",
      "metadata": {
        "id": "lRVazRnIqgmV",
        "colab_type": "code",
        "colab": {
          "base_uri": "https://localhost:8080/",
          "height": 34
        },
        "outputId": "6aaecc46-86a0-45ad-a670-0f93e78e3c1d"
      },
      "source": [
        "ll84.rename(columns={\"Address 1 (self-reported)\": \"address\"}, inplace = True)\n",
        "\n",
        "joined = pd.merge(pluto, ll84, on='address', how='left')\n",
        "joined.shape"
      ],
      "execution_count": 83,
      "outputs": [
        {
          "output_type": "execute_result",
          "data": {
            "text/plain": [
              "(42897, 155)"
            ]
          },
          "metadata": {
            "tags": []
          },
          "execution_count": 83
        }
      ]
    },
    {
      "cell_type": "markdown",
      "metadata": {
        "id": "eExs_TXwlQkT",
        "colab_type": "text"
      },
      "source": [
        "# data exploration and cleaning\n",
        "\n",
        "### extact columns\n",
        "extract the columns listed in the file \"columns.txt\" from the dataset.\n",
        "\n",
        "convert the resulting dataset to numerical, converting non-numerical values to NaN. drop rows that contain invalid values and save the resulting dataframe (_reducted_ dataframe)"
      ]
    },
    {
      "cell_type": "code",
      "metadata": {
        "id": "CkGZ4rZZunG4",
        "colab_type": "code",
        "colab": {
          "base_uri": "https://localhost:8080/",
          "height": 156
        },
        "outputId": "2db8c2a1-aebf-49cd-c2e2-cdafcb1d8b01"
      },
      "source": [
        "columns = pd.read_table(\"https://raw.githubusercontent.com/fedhere/DSPS/master/HW5/columns.txt\", header = None)\n",
        "columns = columns[0].values.tolist()\n",
        "print(columns)\n",
        "\n",
        "\n",
        "data = joined[columns]\n",
        "data = data.convert_objects(convert_numeric = True)\n",
        "reduced = data.dropna(thresh = 22)\n",
        "reduced.shape"
      ],
      "execution_count": 127,
      "outputs": [
        {
          "output_type": "stream",
          "text": [
            "['DOF Gross Floor Area', 'Year Built', 'Number of Buildings - Self-reported', 'Occupancy', 'ENERGY STAR Score', 'Site EUI (kBtu/ft²)', 'Weather Normalized Site EUI (kBtu/ft²)', 'Weather Normalized Site Electricity Intensity (kWh/ft²)', 'Weather Normalized Site Natural Gas Intensity (therms/ft²)', 'Weather Normalized Source EUI (kBtu/ft²)', 'Electricity Use - Grid Purchase (kBtu)', 'Total GHG Emissions (Metric Tons CO2e)', 'Property GFA - Self-Reported (ft²)', 'Water Use (All Water Sources) (kgal)', 'Water Intensity (All Water Sources) (gal/ft²)', 'Source EUI (kBtu/ft²)', 'bldgarea', 'numbldgs', 'numfloors', 'unitsres', 'unitstotal', 'yearalter1']\n"
          ],
          "name": "stdout"
        },
        {
          "output_type": "stream",
          "text": [
            "/usr/local/lib/python3.6/dist-packages/ipykernel_launcher.py:1: FutureWarning: read_table is deprecated, use read_csv instead, passing sep='\\t'.\n",
            "  \"\"\"Entry point for launching an IPython kernel.\n",
            "/usr/local/lib/python3.6/dist-packages/ipykernel_launcher.py:7: FutureWarning: convert_objects is deprecated.  To re-infer data dtypes for object columns, use DataFrame.infer_objects()\n",
            "For all other conversions use the data-type specific converters pd.to_datetime, pd.to_timedelta and pd.to_numeric.\n",
            "  import sys\n"
          ],
          "name": "stderr"
        },
        {
          "output_type": "execute_result",
          "data": {
            "text/plain": [
              "(14, 22)"
            ]
          },
          "metadata": {
            "tags": []
          },
          "execution_count": 127
        }
      ]
    },
    {
      "cell_type": "code",
      "metadata": {
        "id": "SPq5cOykyp_B",
        "colab_type": "code",
        "colab": {
          "base_uri": "https://localhost:8080/",
          "height": 309
        },
        "outputId": "6305505f-8c93-4f32-fe8e-3e6f21571b53"
      },
      "source": [
        "reduced.head()"
      ],
      "execution_count": 129,
      "outputs": [
        {
          "output_type": "execute_result",
          "data": {
            "text/html": [
              "<div>\n",
              "<style scoped>\n",
              "    .dataframe tbody tr th:only-of-type {\n",
              "        vertical-align: middle;\n",
              "    }\n",
              "\n",
              "    .dataframe tbody tr th {\n",
              "        vertical-align: top;\n",
              "    }\n",
              "\n",
              "    .dataframe thead th {\n",
              "        text-align: right;\n",
              "    }\n",
              "</style>\n",
              "<table border=\"1\" class=\"dataframe\">\n",
              "  <thead>\n",
              "    <tr style=\"text-align: right;\">\n",
              "      <th></th>\n",
              "      <th>DOF Gross Floor Area</th>\n",
              "      <th>Year Built</th>\n",
              "      <th>Number of Buildings - Self-reported</th>\n",
              "      <th>Occupancy</th>\n",
              "      <th>ENERGY STAR Score</th>\n",
              "      <th>Site EUI (kBtu/ft²)</th>\n",
              "      <th>Weather Normalized Site EUI (kBtu/ft²)</th>\n",
              "      <th>Weather Normalized Site Electricity Intensity (kWh/ft²)</th>\n",
              "      <th>Weather Normalized Site Natural Gas Intensity (therms/ft²)</th>\n",
              "      <th>Weather Normalized Source EUI (kBtu/ft²)</th>\n",
              "      <th>Electricity Use - Grid Purchase (kBtu)</th>\n",
              "      <th>Total GHG Emissions (Metric Tons CO2e)</th>\n",
              "      <th>Property GFA - Self-Reported (ft²)</th>\n",
              "      <th>Water Use (All Water Sources) (kgal)</th>\n",
              "      <th>Water Intensity (All Water Sources) (gal/ft²)</th>\n",
              "      <th>Source EUI (kBtu/ft²)</th>\n",
              "      <th>bldgarea</th>\n",
              "      <th>numbldgs</th>\n",
              "      <th>numfloors</th>\n",
              "      <th>unitsres</th>\n",
              "      <th>unitstotal</th>\n",
              "      <th>yearalter1</th>\n",
              "    </tr>\n",
              "  </thead>\n",
              "  <tbody>\n",
              "    <tr>\n",
              "      <th>1504</th>\n",
              "      <td>91212.0</td>\n",
              "      <td>1927.0</td>\n",
              "      <td>1.0</td>\n",
              "      <td>100.0</td>\n",
              "      <td>85.0</td>\n",
              "      <td>64.7</td>\n",
              "      <td>68.0</td>\n",
              "      <td>11.2</td>\n",
              "      <td>0.1</td>\n",
              "      <td>155.0</td>\n",
              "      <td>3537948.9</td>\n",
              "      <td>483.8</td>\n",
              "      <td>92577.0</td>\n",
              "      <td>25098.8</td>\n",
              "      <td>271.11</td>\n",
              "      <td>150.9</td>\n",
              "      <td>91212.0</td>\n",
              "      <td>1.0</td>\n",
              "      <td>19.0</td>\n",
              "      <td>0.0</td>\n",
              "      <td>56.0</td>\n",
              "      <td>0.0</td>\n",
              "    </tr>\n",
              "    <tr>\n",
              "      <th>2912</th>\n",
              "      <td>63600.0</td>\n",
              "      <td>1920.0</td>\n",
              "      <td>1.0</td>\n",
              "      <td>100.0</td>\n",
              "      <td>35.0</td>\n",
              "      <td>75.1</td>\n",
              "      <td>78.1</td>\n",
              "      <td>4.8</td>\n",
              "      <td>0.6</td>\n",
              "      <td>116.4</td>\n",
              "      <td>1215886.7</td>\n",
              "      <td>333.6</td>\n",
              "      <td>71550.0</td>\n",
              "      <td>1506.6</td>\n",
              "      <td>21.06</td>\n",
              "      <td>114.3</td>\n",
              "      <td>63600.0</td>\n",
              "      <td>1.0</td>\n",
              "      <td>8.0</td>\n",
              "      <td>28.0</td>\n",
              "      <td>30.0</td>\n",
              "      <td>0.0</td>\n",
              "    </tr>\n",
              "    <tr>\n",
              "      <th>4008</th>\n",
              "      <td>55665.0</td>\n",
              "      <td>1900.0</td>\n",
              "      <td>1.0</td>\n",
              "      <td>100.0</td>\n",
              "      <td>29.0</td>\n",
              "      <td>108.1</td>\n",
              "      <td>113.3</td>\n",
              "      <td>5.1</td>\n",
              "      <td>1.0</td>\n",
              "      <td>155.3</td>\n",
              "      <td>904619.5</td>\n",
              "      <td>328.1</td>\n",
              "      <td>50892.0</td>\n",
              "      <td>2386.6</td>\n",
              "      <td>46.89</td>\n",
              "      <td>150.6</td>\n",
              "      <td>55665.0</td>\n",
              "      <td>1.0</td>\n",
              "      <td>7.0</td>\n",
              "      <td>43.0</td>\n",
              "      <td>43.0</td>\n",
              "      <td>0.0</td>\n",
              "    </tr>\n",
              "    <tr>\n",
              "      <th>4769</th>\n",
              "      <td>137500.0</td>\n",
              "      <td>1990.0</td>\n",
              "      <td>1.0</td>\n",
              "      <td>100.0</td>\n",
              "      <td>83.0</td>\n",
              "      <td>35.8</td>\n",
              "      <td>34.9</td>\n",
              "      <td>8.7</td>\n",
              "      <td>0.1</td>\n",
              "      <td>98.9</td>\n",
              "      <td>4428400.9</td>\n",
              "      <td>450.2</td>\n",
              "      <td>144375.0</td>\n",
              "      <td>9539.2</td>\n",
              "      <td>66.07</td>\n",
              "      <td>101.7</td>\n",
              "      <td>117020.0</td>\n",
              "      <td>1.0</td>\n",
              "      <td>24.0</td>\n",
              "      <td>163.0</td>\n",
              "      <td>164.0</td>\n",
              "      <td>0.0</td>\n",
              "    </tr>\n",
              "    <tr>\n",
              "      <th>11021</th>\n",
              "      <td>85194.0</td>\n",
              "      <td>1912.0</td>\n",
              "      <td>1.0</td>\n",
              "      <td>100.0</td>\n",
              "      <td>2.0</td>\n",
              "      <td>91.2</td>\n",
              "      <td>93.0</td>\n",
              "      <td>14.6</td>\n",
              "      <td>0.4</td>\n",
              "      <td>201.5</td>\n",
              "      <td>4447334.4</td>\n",
              "      <td>609.8</td>\n",
              "      <td>89453.0</td>\n",
              "      <td>6556.7</td>\n",
              "      <td>73.30</td>\n",
              "      <td>199.7</td>\n",
              "      <td>68728.0</td>\n",
              "      <td>1.0</td>\n",
              "      <td>14.0</td>\n",
              "      <td>66.0</td>\n",
              "      <td>104.0</td>\n",
              "      <td>2006.0</td>\n",
              "    </tr>\n",
              "  </tbody>\n",
              "</table>\n",
              "</div>"
            ],
            "text/plain": [
              "       DOF Gross Floor Area  Year Built  ...  unitstotal  yearalter1\n",
              "1504                91212.0      1927.0  ...        56.0         0.0\n",
              "2912                63600.0      1920.0  ...        30.0         0.0\n",
              "4008                55665.0      1900.0  ...        43.0         0.0\n",
              "4769               137500.0      1990.0  ...       164.0         0.0\n",
              "11021               85194.0      1912.0  ...       104.0      2006.0\n",
              "\n",
              "[5 rows x 22 columns]"
            ]
          },
          "metadata": {
            "tags": []
          },
          "execution_count": 129
        }
      ]
    },
    {
      "cell_type": "markdown",
      "metadata": {
        "id": "C5-nB1RdY5X5",
        "colab_type": "text"
      },
      "source": [
        "### Assess impact of data wrangling\n",
        "Describe the  datasets resulting from this data cleaning: \n",
        "\n",
        "- how many observations have you lost? \n",
        "\n",
        "- did any of the features (=columns) have inconsistent distribution between the full and reducted dataset? \n",
        "\n",
        "You can approach this question in a number of ways, and you have done this in the  homewors already (with a KS test, and by just looking at uncertainties are two examples of ways to do ut that you worked out in HW3 and HW4, the Z test might work if you can convince yourself that the full sample is the \"population\" - up to you! a quick google search would probably describe many more ways). Choose _2_ ways, describe what each does and why it is appropriate. Compare the results (indeed I did it in 4 ways and did not always get consistent results! each of these meathods measures a slightly different thing).\n",
        "\n"
      ]
    },
    {
      "cell_type": "markdown",
      "metadata": {
        "id": "9fbVCrmsz2Ma",
        "colab_type": "text"
      },
      "source": [
        "**My answer:**\n",
        "\n",
        "We started with 42,897 observations when we first joined the data frames. After eliminating all NaN / non-numeric answers, we were left with only 14 observations."
      ]
    },
    {
      "cell_type": "code",
      "metadata": {
        "ExecuteTime": {
          "end_time": "2019-09-25T02:24:30.299322Z",
          "start_time": "2019-09-25T02:24:30.184734Z"
        },
        "id": "_cZwH0d4Y5X_",
        "colab_type": "code",
        "outputId": "c9f9fd93-f3ae-412c-bd65-3db705496718",
        "colab": {
          "base_uri": "https://localhost:8080/",
          "height": 731
        }
      },
      "source": [
        "reducedStats = {}\n",
        "for col in columns:\n",
        "  reducedStats[col] = [np.average(reduced[col]), np.std(reduced[col])]\n",
        "reducedStats = pd.DataFrame.from_dict(reducedStats, orient = \"index\", columns = [\"mean\", \"stdev\"])\n",
        "reducedStats"
      ],
      "execution_count": 147,
      "outputs": [
        {
          "output_type": "execute_result",
          "data": {
            "text/html": [
              "<div>\n",
              "<style scoped>\n",
              "    .dataframe tbody tr th:only-of-type {\n",
              "        vertical-align: middle;\n",
              "    }\n",
              "\n",
              "    .dataframe tbody tr th {\n",
              "        vertical-align: top;\n",
              "    }\n",
              "\n",
              "    .dataframe thead th {\n",
              "        text-align: right;\n",
              "    }\n",
              "</style>\n",
              "<table border=\"1\" class=\"dataframe\">\n",
              "  <thead>\n",
              "    <tr style=\"text-align: right;\">\n",
              "      <th></th>\n",
              "      <th>mean</th>\n",
              "      <th>stdev</th>\n",
              "    </tr>\n",
              "  </thead>\n",
              "  <tbody>\n",
              "    <tr>\n",
              "      <th>DOF Gross Floor Area</th>\n",
              "      <td>2.797568e+05</td>\n",
              "      <td>4.383691e+05</td>\n",
              "    </tr>\n",
              "    <tr>\n",
              "      <th>Year Built</th>\n",
              "      <td>1.941786e+03</td>\n",
              "      <td>3.475872e+01</td>\n",
              "    </tr>\n",
              "    <tr>\n",
              "      <th>Number of Buildings - Self-reported</th>\n",
              "      <td>1.000000e+00</td>\n",
              "      <td>0.000000e+00</td>\n",
              "    </tr>\n",
              "    <tr>\n",
              "      <th>Occupancy</th>\n",
              "      <td>9.035714e+01</td>\n",
              "      <td>2.580589e+01</td>\n",
              "    </tr>\n",
              "    <tr>\n",
              "      <th>ENERGY STAR Score</th>\n",
              "      <td>5.614286e+01</td>\n",
              "      <td>2.861033e+01</td>\n",
              "    </tr>\n",
              "    <tr>\n",
              "      <th>Site EUI (kBtu/ft²)</th>\n",
              "      <td>7.977143e+01</td>\n",
              "      <td>2.365854e+01</td>\n",
              "    </tr>\n",
              "    <tr>\n",
              "      <th>Weather Normalized Site EUI (kBtu/ft²)</th>\n",
              "      <td>8.233571e+01</td>\n",
              "      <td>2.488791e+01</td>\n",
              "    </tr>\n",
              "    <tr>\n",
              "      <th>Weather Normalized Site Electricity Intensity (kWh/ft²)</th>\n",
              "      <td>1.032143e+01</td>\n",
              "      <td>5.976045e+00</td>\n",
              "    </tr>\n",
              "    <tr>\n",
              "      <th>Weather Normalized Site Natural Gas Intensity (therms/ft²)</th>\n",
              "      <td>2.142857e-01</td>\n",
              "      <td>2.924213e-01</td>\n",
              "    </tr>\n",
              "    <tr>\n",
              "      <th>Weather Normalized Source EUI (kBtu/ft²)</th>\n",
              "      <td>1.600000e+02</td>\n",
              "      <td>5.225596e+01</td>\n",
              "    </tr>\n",
              "    <tr>\n",
              "      <th>Electricity Use - Grid Purchase (kBtu)</th>\n",
              "      <td>1.698236e+07</td>\n",
              "      <td>3.797439e+07</td>\n",
              "    </tr>\n",
              "    <tr>\n",
              "      <th>Total GHG Emissions (Metric Tons CO2e)</th>\n",
              "      <td>2.132771e+03</td>\n",
              "      <td>4.204557e+03</td>\n",
              "    </tr>\n",
              "    <tr>\n",
              "      <th>Property GFA - Self-Reported (ft²)</th>\n",
              "      <td>2.791238e+05</td>\n",
              "      <td>4.276480e+05</td>\n",
              "    </tr>\n",
              "    <tr>\n",
              "      <th>Water Use (All Water Sources) (kgal)</th>\n",
              "      <td>9.175421e+03</td>\n",
              "      <td>1.037736e+04</td>\n",
              "    </tr>\n",
              "    <tr>\n",
              "      <th>Water Intensity (All Water Sources) (gal/ft²)</th>\n",
              "      <td>5.381000e+01</td>\n",
              "      <td>6.401782e+01</td>\n",
              "    </tr>\n",
              "    <tr>\n",
              "      <th>Source EUI (kBtu/ft²)</th>\n",
              "      <td>1.580857e+02</td>\n",
              "      <td>5.265757e+01</td>\n",
              "    </tr>\n",
              "    <tr>\n",
              "      <th>bldgarea</th>\n",
              "      <td>2.771178e+05</td>\n",
              "      <td>4.394129e+05</td>\n",
              "    </tr>\n",
              "    <tr>\n",
              "      <th>numbldgs</th>\n",
              "      <td>1.000000e+00</td>\n",
              "      <td>0.000000e+00</td>\n",
              "    </tr>\n",
              "    <tr>\n",
              "      <th>numfloors</th>\n",
              "      <td>1.592857e+01</td>\n",
              "      <td>1.047762e+01</td>\n",
              "    </tr>\n",
              "    <tr>\n",
              "      <th>unitsres</th>\n",
              "      <td>5.214286e+01</td>\n",
              "      <td>6.820123e+01</td>\n",
              "    </tr>\n",
              "    <tr>\n",
              "      <th>unitstotal</th>\n",
              "      <td>6.742857e+01</td>\n",
              "      <td>6.373126e+01</td>\n",
              "    </tr>\n",
              "    <tr>\n",
              "      <th>yearalter1</th>\n",
              "      <td>9.975000e+02</td>\n",
              "      <td>9.975379e+02</td>\n",
              "    </tr>\n",
              "  </tbody>\n",
              "</table>\n",
              "</div>"
            ],
            "text/plain": [
              "                                                            mean         stdev\n",
              "DOF Gross Floor Area                                2.797568e+05  4.383691e+05\n",
              "Year Built                                          1.941786e+03  3.475872e+01\n",
              "Number of Buildings - Self-reported                 1.000000e+00  0.000000e+00\n",
              "Occupancy                                           9.035714e+01  2.580589e+01\n",
              "ENERGY STAR Score                                   5.614286e+01  2.861033e+01\n",
              "Site EUI (kBtu/ft²)                                 7.977143e+01  2.365854e+01\n",
              "Weather Normalized Site EUI (kBtu/ft²)              8.233571e+01  2.488791e+01\n",
              "Weather Normalized Site Electricity Intensity (...  1.032143e+01  5.976045e+00\n",
              "Weather Normalized Site Natural Gas Intensity (...  2.142857e-01  2.924213e-01\n",
              "Weather Normalized Source EUI (kBtu/ft²)            1.600000e+02  5.225596e+01\n",
              "Electricity Use - Grid Purchase (kBtu)              1.698236e+07  3.797439e+07\n",
              "Total GHG Emissions (Metric Tons CO2e)              2.132771e+03  4.204557e+03\n",
              "Property GFA - Self-Reported (ft²)                  2.791238e+05  4.276480e+05\n",
              "Water Use (All Water Sources) (kgal)                9.175421e+03  1.037736e+04\n",
              "Water Intensity (All Water Sources) (gal/ft²)       5.381000e+01  6.401782e+01\n",
              "Source EUI (kBtu/ft²)                               1.580857e+02  5.265757e+01\n",
              "bldgarea                                            2.771178e+05  4.394129e+05\n",
              "numbldgs                                            1.000000e+00  0.000000e+00\n",
              "numfloors                                           1.592857e+01  1.047762e+01\n",
              "unitsres                                            5.214286e+01  6.820123e+01\n",
              "unitstotal                                          6.742857e+01  6.373126e+01\n",
              "yearalter1                                          9.975000e+02  9.975379e+02"
            ]
          },
          "metadata": {
            "tags": []
          },
          "execution_count": 147
        }
      ]
    },
    {
      "cell_type": "code",
      "metadata": {
        "id": "6J1q5XnwvtJC",
        "colab_type": "code",
        "outputId": "0216111f-3dde-487b-c23e-2361b6dc2016",
        "colab": {
          "base_uri": "https://localhost:8080/",
          "height": 34
        }
      },
      "source": [
        "np.std"
      ],
      "execution_count": 141,
      "outputs": [
        {
          "output_type": "execute_result",
          "data": {
            "text/plain": [
              "<function numpy.std>"
            ]
          },
          "metadata": {
            "tags": []
          },
          "execution_count": 141
        }
      ]
    },
    {
      "cell_type": "markdown",
      "metadata": {
        "id": "OBPiLSfnY5YE",
        "colab_type": "text"
      },
      "source": [
        "### plot WNEC\n",
        "Regardless of what you found above, plot the distribution of the _log base 10_ of the weather-normalized site energy consumption (WNEC) for all values larger than 0.1 (such that log10(min) is -1) for the _entire dataset_ and for the _reducted one_: do you think inference on this feature would be affected by this way of dealing with missing data affects the result?\n",
        "\n"
      ]
    },
    {
      "cell_type": "code",
      "metadata": {
        "ExecuteTime": {
          "end_time": "2019-09-25T02:33:55.288516Z",
          "start_time": "2019-09-25T02:33:55.263386Z"
        },
        "id": "hepCz2zGY5YG",
        "colab_type": "code",
        "colab": {}
      },
      "source": [
        ""
      ],
      "execution_count": 0,
      "outputs": []
    },
    {
      "cell_type": "markdown",
      "metadata": {
        "ExecuteTime": {
          "end_time": "2019-09-25T02:08:23.211182Z",
          "start_time": "2019-09-25T02:08:23.205135Z"
        },
        "id": "WIANEJHKY5YI",
        "colab_type": "text"
      },
      "source": [
        "# 667 and extyra credit\n",
        "plot a \"scatter matrix\" of the selected columns. Identify 4 promising \"scaling laws\" and plot them separately (a scatter plot of column1 vs column2). Does it make sense that there should be a scaling law between the 2 variables? \n",
        "\n",
        "which features should be strongly correlated or identical but are not? discuss\n",
        "\n",
        "([this](https://stackoverflow.com/questions/26975089/making-the-labels-of-the-scatterplot-vertical-and-horizontal-in-pandas) stackoverflow may come in handy)"
      ]
    },
    {
      "cell_type": "markdown",
      "metadata": {
        "id": "1fI3IMcNY5YM",
        "colab_type": "text"
      },
      "source": [
        "## all students\n",
        "At last, from the original dataset remove only the columns that are NaN in the column \"Weather Normalized Site EUI (kBtu/ft²)\"\n"
      ]
    },
    {
      "cell_type": "code",
      "metadata": {
        "ExecuteTime": {
          "end_time": "2019-09-25T02:40:28.827861Z",
          "start_time": "2019-09-25T02:38:20.245957Z"
        },
        "id": "LWaJVQG0Y5YN",
        "colab_type": "code",
        "colab": {}
      },
      "source": [
        "# -- drop buildings for which WN Site EUI is NaN\n",
        "wnec = \"Weather Normalized Site EUI (kBtu/ft²)\"\n",
        "...\n",
        "ll84pl.shape"
      ],
      "execution_count": 0,
      "outputs": []
    },
    {
      "cell_type": "markdown",
      "metadata": {
        "id": "vMDOfS6nY5YQ",
        "colab_type": "text"
      },
      "source": [
        "## Analysis: Owner investigation \n",
        "### Find owner of the single most energy consuming building\n",
        "\n",
        "**Find owner of the single most energy consuming building**, as measured by the \"Site Weather Normalized EUI per unit area \". \n",
        "\n",
        "**Find all the buildings that they own.**\n",
        "\n",
        "\n",
        "show the weather-normalized site energy consumption and the owner name for the top 30 consuming buildings in Manhattan"
      ]
    },
    {
      "cell_type": "code",
      "metadata": {
        "id": "l3dF3RQowmJ4",
        "colab_type": "code",
        "colab": {}
      },
      "source": [
        "print(\"Owner of the hisghest consuming building:...\", \n",
        "      \"They own ... buildings\")"
      ],
      "execution_count": 0,
      "outputs": []
    },
    {
      "cell_type": "markdown",
      "metadata": {
        "ExecuteTime": {
          "end_time": "2019-09-24T18:40:17.239813Z",
          "start_time": "2019-09-24T18:40:17.235991Z"
        },
        "id": "0m4jRavdY5Yh",
        "colab_type": "text"
      },
      "source": [
        "### Find average building consumption by owner \n",
        "For all owners that own more than one building, find the average consumption for buildings owned by the same owner. Your dataframe should have 2 columns called _Weather Normalized Site EUI (kBtu/ft²)_\tand _counts_\n",
        "\n",
        "**Who owns the most energy consuming buildings on average?**\n",
        "\n",
        "**Who owns the most buildings**"
      ]
    },
    {
      "cell_type": "markdown",
      "metadata": {
        "id": "Y9amLZSHxC26",
        "colab_type": "text"
      },
      "source": [
        "# 667 and EC\n",
        "\n",
        "Universities are big realtors in NYC. The may own by different names. Find all builgings owned by NYU and COLUMBIA. replace the ownename with NYU and COLUMBIA respectively and re-aggregate the data based on these names and again find the owner of the buildings that pon average consume the most, of the highest number of buildings, and that owns the most sq footage "
      ]
    },
    {
      "cell_type": "code",
      "metadata": {
        "id": "vhpxcsYKC0B3",
        "colab_type": "code",
        "colab": {}
      },
      "source": [
        ""
      ],
      "execution_count": 0,
      "outputs": []
    }
  ]
}
{
  "nbformat": 4,
  "nbformat_minor": 0,
  "metadata": {
    "colab": {
      "name": "BuildingsEnergyOwners.ipynb",
      "provenance": [],
      "collapsed_sections": [],
      "include_colab_link": true
    },
    "kernelspec": {
      "display_name": "Python 3",
      "language": "python",
      "name": "python3"
    },
    "language_info": {
      "codemirror_mode": {
        "name": "ipython",
        "version": 3
      },
      "file_extension": ".py",
      "mimetype": "text/x-python",
      "name": "python",
      "nbconvert_exporter": "python",
      "pygments_lexer": "ipython3",
      "version": "3.7.3"
    },
    "latex_envs": {
      "LaTeX_envs_menu_present": true,
      "autoclose": false,
      "autocomplete": true,
      "bibliofile": "biblio.bib",
      "cite_by": "apalike",
      "current_citInitial": 1,
      "eqLabelWithNumbers": true,
      "eqNumInitial": 1,
      "hotkeys": {
        "equation": "Ctrl-E",
        "itemize": "Ctrl-I"
      },
      "labels_anchors": false,
      "latex_user_defs": false,
      "report_style_numbering": false,
      "user_envs_cfg": false
    },
    "nbTranslate": {
      "displayLangs": [
        "*"
      ],
      "hotkey": "alt-t",
      "langInMainMenu": true,
      "sourceLang": "en",
      "targetLang": "fr",
      "useGoogleTranslate": true
    },
    "toc": {
      "base_numbering": 1,
      "nav_menu": {},
      "number_sections": true,
      "sideBar": true,
      "skip_h1_title": false,
      "title_cell": "Table of Contents",
      "title_sidebar": "Contents",
      "toc_cell": false,
      "toc_position": {},
      "toc_section_display": true,
      "toc_window_display": false
    }
  },
  "cells": [
    {
      "cell_type": "markdown",
      "metadata": {
        "id": "view-in-github",
        "colab_type": "text"
      },
      "source": [
        "<a href=\"https://colab.research.google.com/github/DesiPilla/DSPS_dPilla/blob/master/HW5/BuildingsEnergyOwners.ipynb\" target=\"_parent\"><img src=\"https://colab.research.google.com/assets/colab-badge.svg\" alt=\"Open In Colab\"/></a>"
      ]
    },
    {
      "cell_type": "code",
      "metadata": {
        "colab_type": "code",
        "id": "mwsn7ih7RWle",
        "outputId": "650d2620-a04b-45e2-9ded-ed3df3240bd6",
        "colab": {
          "base_uri": "https://localhost:8080/",
          "height": 122
        }
      },
      "source": [
        "# -- link google drive\n",
        "from google.colab import drive\n",
        "drive.mount(\"/content/drive\")"
      ],
      "execution_count": 1,
      "outputs": [
        {
          "output_type": "stream",
          "text": [
            "Go to this URL in a browser: https://accounts.google.com/o/oauth2/auth?client_id=947318989803-6bn6qk8qdgf4n4g3pfee6491hc0brc4i.apps.googleusercontent.com&redirect_uri=urn%3Aietf%3Awg%3Aoauth%3A2.0%3Aoob&scope=email%20https%3A%2F%2Fwww.googleapis.com%2Fauth%2Fdocs.test%20https%3A%2F%2Fwww.googleapis.com%2Fauth%2Fdrive%20https%3A%2F%2Fwww.googleapis.com%2Fauth%2Fdrive.photos.readonly%20https%3A%2F%2Fwww.googleapis.com%2Fauth%2Fpeopleapi.readonly&response_type=code\n",
            "\n",
            "Enter your authorization code:\n",
            "··········\n",
            "Mounted at /content/drive\n"
          ],
          "name": "stdout"
        }
      ]
    },
    {
      "cell_type": "code",
      "metadata": {
        "ExecuteTime": {
          "end_time": "2019-09-24T21:52:47.068553Z",
          "start_time": "2019-09-24T21:52:47.065670Z"
        },
        "colab_type": "code",
        "id": "yav2dVuWJn_T",
        "colab": {}
      },
      "source": [
        "# -- useful imports\n",
        "import numpy as np\n",
        "import pandas as pd\n",
        "import matplotlib.pyplot as pl\n",
        "import scipy as sp\n",
        "from scipy import stats"
      ],
      "execution_count": 0,
      "outputs": []
    },
    {
      "cell_type": "markdown",
      "metadata": {
        "id": "rCnUCueiY5Xt",
        "colab_type": "text"
      },
      "source": [
        "# data retrival\n",
        "### LL84\n",
        "get the Local Law 84 (ll84) data from the URL: https://data.cityofnewyork.us/api/views/8u86-bviy/rows.csv and read it in with Pandas\n",
        "\n",
        "### Pluto\n",
        "Download the pluto csv data and store it in your google drive. \n",
        "\n",
        "You can find the data here \n",
        "https://www1.nyc.gov/site/planning/data-maps/open-data/dwn-pluto-mappluto.page\n",
        "\n",
        "IMPORTANT: store it in the path *drive/My Drive/dsps/ with the name pluto_18v2_1.csv*\n",
        "\n",
        "This path and name have to be exact. This way the grader and I will be able to run your notebook without changing anything as long as we also have stored the data in path drive/My Drive/dsps/pluto_18v2_1.csv. This is part of the _reproducibility_ requirement."
      ]
    },
    {
      "cell_type": "code",
      "metadata": {
        "id": "R94ymqN5gEUR",
        "colab_type": "code",
        "colab": {}
      },
      "source": [
        "ll84 = pd.read_csv('https://data.cityofnewyork.us/api/views/8u86-bviy/rows.csv')"
      ],
      "execution_count": 0,
      "outputs": []
    },
    {
      "cell_type": "code",
      "metadata": {
        "id": "1QiKfa8RgERt",
        "colab_type": "code",
        "colab": {
          "base_uri": "https://localhost:8080/",
          "height": 34
        },
        "outputId": "5e0dee20-5182-46e5-bad1-ade0a643e781"
      },
      "source": [
        "mkdir \"drive/My Drive/dsps\""
      ],
      "execution_count": 4,
      "outputs": [
        {
          "output_type": "stream",
          "text": [
            "mkdir: cannot create directory ‘drive/My Drive/dsps’: File exists\n"
          ],
          "name": "stdout"
        }
      ]
    },
    {
      "cell_type": "code",
      "metadata": {
        "id": "830L63uM93FK",
        "colab_type": "code",
        "colab": {
          "base_uri": "https://localhost:8080/",
          "height": 34
        },
        "outputId": "4fc9b878-d9ca-405c-de4e-c8102595640a"
      },
      "source": [
        "cd \"drive/My Drive/dsps\""
      ],
      "execution_count": 5,
      "outputs": [
        {
          "output_type": "stream",
          "text": [
            "/content/drive/My Drive/dsps\n"
          ],
          "name": "stdout"
        }
      ]
    },
    {
      "cell_type": "code",
      "metadata": {
        "id": "IPf_8Nm09aOY",
        "colab_type": "code",
        "colab": {
          "base_uri": "https://localhost:8080/",
          "height": 224
        },
        "outputId": "3707d157-0ddc-4f8b-b6fe-fa8ae0216d7b"
      },
      "source": [
        "!wget https://www1.nyc.gov/assets/planning/download/zip/data-maps/open-data/nyc_pluto_18v2_1_csv.zip"
      ],
      "execution_count": 6,
      "outputs": [
        {
          "output_type": "stream",
          "text": [
            "--2019-09-30 02:23:10--  https://www1.nyc.gov/assets/planning/download/zip/data-maps/open-data/nyc_pluto_18v2_1_csv.zip\n",
            "Resolving www1.nyc.gov (www1.nyc.gov)... 23.6.165.12, 2600:1406:3c:38e::1500, 2600:1406:3c:383::1500\n",
            "Connecting to www1.nyc.gov (www1.nyc.gov)|23.6.165.12|:443... connected.\n",
            "HTTP request sent, awaiting response... 200 OK\n",
            "Length: 82994022 (79M) [application/zip]\n",
            "Saving to: ‘nyc_pluto_18v2_1_csv.zip’\n",
            "\n",
            "nyc_pluto_18v2_1_cs 100%[===================>]  79.15M  1.14MB/s    in 77s     \n",
            "\n",
            "2019-09-30 02:24:28 (1.03 MB/s) - ‘nyc_pluto_18v2_1_csv.zip’ saved [82994022/82994022]\n",
            "\n"
          ],
          "name": "stdout"
        }
      ]
    },
    {
      "cell_type": "code",
      "metadata": {
        "id": "Vez-6e7C9tCt",
        "colab_type": "code",
        "colab": {
          "base_uri": "https://localhost:8080/",
          "height": 136
        },
        "outputId": "929901a3-93e0-4736-d38d-df08d4872c70"
      },
      "source": [
        "!unzip nyc_pluto_18v2_1_csv.zip"
      ],
      "execution_count": 7,
      "outputs": [
        {
          "output_type": "stream",
          "text": [
            "Archive:  nyc_pluto_18v2_1_csv.zip\n",
            "replace pluto_18v2_1.csv? [y]es, [n]o, [A]ll, [N]one, [r]ename: y\n",
            "  inflating: pluto_18v2_1.csv        y\n",
            "y\n",
            "\n",
            "  inflating: PLUTODD18v2.1.pdf       \n",
            "  inflating: PlutoReadme18v2.1.pdf   \n"
          ],
          "name": "stdout"
        }
      ]
    },
    {
      "cell_type": "code",
      "metadata": {
        "id": "3NBmabIjkbyO",
        "colab_type": "code",
        "colab": {
          "base_uri": "https://localhost:8080/",
          "height": 51
        },
        "outputId": "64be0cf1-cd41-4f4f-878b-fdda63a006aa"
      },
      "source": [
        "ls"
      ],
      "execution_count": 8,
      "outputs": [
        {
          "output_type": "stream",
          "text": [
            "\u001b[0m\u001b[01;34mdrive\u001b[0m/                    pluto_18v2_1.csv   PlutoReadme18v2.1.pdf\n",
            "nyc_pluto_18v2_1_csv.zip  PLUTODD18v2.1.pdf\n"
          ],
          "name": "stdout"
        }
      ]
    },
    {
      "cell_type": "code",
      "metadata": {
        "id": "tzqi0PEHksqd",
        "colab_type": "code",
        "colab": {
          "base_uri": "https://localhost:8080/",
          "height": 440
        },
        "outputId": "5717ff5e-a513-4447-e593-62d7af3a8bf6"
      },
      "source": [
        "pluto = pd.read_csv(\"pluto_18v2_1.csv\")\n",
        "pluto.head()"
      ],
      "execution_count": 9,
      "outputs": [
        {
          "output_type": "stream",
          "text": [
            "/usr/local/lib/python3.6/dist-packages/IPython/core/interactiveshell.py:2718: DtypeWarning: Columns (16,17,18,20,22,77) have mixed types. Specify dtype option on import or set low_memory=False.\n",
            "  interactivity=interactivity, compiler=compiler, result=result)\n"
          ],
          "name": "stderr"
        },
        {
          "output_type": "execute_result",
          "data": {
            "text/html": [
              "<div>\n",
              "<style scoped>\n",
              "    .dataframe tbody tr th:only-of-type {\n",
              "        vertical-align: middle;\n",
              "    }\n",
              "\n",
              "    .dataframe tbody tr th {\n",
              "        vertical-align: top;\n",
              "    }\n",
              "\n",
              "    .dataframe thead th {\n",
              "        text-align: right;\n",
              "    }\n",
              "</style>\n",
              "<table border=\"1\" class=\"dataframe\">\n",
              "  <thead>\n",
              "    <tr style=\"text-align: right;\">\n",
              "      <th></th>\n",
              "      <th>borough</th>\n",
              "      <th>block</th>\n",
              "      <th>lot</th>\n",
              "      <th>cd</th>\n",
              "      <th>ct2010</th>\n",
              "      <th>cb2010</th>\n",
              "      <th>schooldist</th>\n",
              "      <th>council</th>\n",
              "      <th>zipcode</th>\n",
              "      <th>firecomp</th>\n",
              "      <th>policeprct</th>\n",
              "      <th>healtharea</th>\n",
              "      <th>sanitboro</th>\n",
              "      <th>sanitsub</th>\n",
              "      <th>address</th>\n",
              "      <th>zonedist1</th>\n",
              "      <th>zonedist2</th>\n",
              "      <th>zonedist3</th>\n",
              "      <th>zonedist4</th>\n",
              "      <th>overlay1</th>\n",
              "      <th>overlay2</th>\n",
              "      <th>spdist1</th>\n",
              "      <th>spdist2</th>\n",
              "      <th>spdist3</th>\n",
              "      <th>ltdheight</th>\n",
              "      <th>splitzone</th>\n",
              "      <th>bldgclass</th>\n",
              "      <th>landuse</th>\n",
              "      <th>easements</th>\n",
              "      <th>ownertype</th>\n",
              "      <th>ownername</th>\n",
              "      <th>lotarea</th>\n",
              "      <th>bldgarea</th>\n",
              "      <th>comarea</th>\n",
              "      <th>resarea</th>\n",
              "      <th>officearea</th>\n",
              "      <th>retailarea</th>\n",
              "      <th>garagearea</th>\n",
              "      <th>strgearea</th>\n",
              "      <th>factryarea</th>\n",
              "      <th>...</th>\n",
              "      <th>assesstot</th>\n",
              "      <th>exemptland</th>\n",
              "      <th>exempttot</th>\n",
              "      <th>yearbuilt</th>\n",
              "      <th>yearalter1</th>\n",
              "      <th>yearalter2</th>\n",
              "      <th>histdist</th>\n",
              "      <th>landmark</th>\n",
              "      <th>builtfar</th>\n",
              "      <th>residfar</th>\n",
              "      <th>commfar</th>\n",
              "      <th>facilfar</th>\n",
              "      <th>borocode</th>\n",
              "      <th>bbl</th>\n",
              "      <th>condono</th>\n",
              "      <th>tract2010</th>\n",
              "      <th>xcoord</th>\n",
              "      <th>ycoord</th>\n",
              "      <th>zonemap</th>\n",
              "      <th>zmcode</th>\n",
              "      <th>sanborn</th>\n",
              "      <th>taxmap</th>\n",
              "      <th>edesignum</th>\n",
              "      <th>appbbl</th>\n",
              "      <th>appdate</th>\n",
              "      <th>mappluto_f</th>\n",
              "      <th>plutomapid</th>\n",
              "      <th>version</th>\n",
              "      <th>sanitdistrict</th>\n",
              "      <th>healthcenterdistrict</th>\n",
              "      <th>firm07_flag</th>\n",
              "      <th>pfirm15_flag</th>\n",
              "      <th>rpaddate</th>\n",
              "      <th>dcasdate</th>\n",
              "      <th>zoningdate</th>\n",
              "      <th>landmkdate</th>\n",
              "      <th>basempdate</th>\n",
              "      <th>masdate</th>\n",
              "      <th>polidate</th>\n",
              "      <th>edesigdate</th>\n",
              "    </tr>\n",
              "  </thead>\n",
              "  <tbody>\n",
              "    <tr>\n",
              "      <th>0</th>\n",
              "      <td>BX</td>\n",
              "      <td>5641.0</td>\n",
              "      <td>670.0</td>\n",
              "      <td>210.0</td>\n",
              "      <td>516.0</td>\n",
              "      <td>2.0</td>\n",
              "      <td>NaN</td>\n",
              "      <td>13.0</td>\n",
              "      <td>NaN</td>\n",
              "      <td>NaN</td>\n",
              "      <td>NaN</td>\n",
              "      <td>NaN</td>\n",
              "      <td>NaN</td>\n",
              "      <td></td>\n",
              "      <td>CITY ISLAND AVENUE</td>\n",
              "      <td>NaN</td>\n",
              "      <td>NaN</td>\n",
              "      <td>NaN</td>\n",
              "      <td>NaN</td>\n",
              "      <td>NaN</td>\n",
              "      <td>NaN</td>\n",
              "      <td>NaN</td>\n",
              "      <td>NaN</td>\n",
              "      <td>NaN</td>\n",
              "      <td>NaN</td>\n",
              "      <td>NaN</td>\n",
              "      <td>T2</td>\n",
              "      <td>7.0</td>\n",
              "      <td>0.0</td>\n",
              "      <td>NaN</td>\n",
              "      <td>MINNY C INC.</td>\n",
              "      <td>53758.0</td>\n",
              "      <td>0.0</td>\n",
              "      <td>NaN</td>\n",
              "      <td>NaN</td>\n",
              "      <td>NaN</td>\n",
              "      <td>NaN</td>\n",
              "      <td>NaN</td>\n",
              "      <td>NaN</td>\n",
              "      <td>NaN</td>\n",
              "      <td>...</td>\n",
              "      <td>59400.0</td>\n",
              "      <td>0.0</td>\n",
              "      <td>0.0</td>\n",
              "      <td>0.0</td>\n",
              "      <td>0.0</td>\n",
              "      <td>0.0</td>\n",
              "      <td>NaN</td>\n",
              "      <td>NaN</td>\n",
              "      <td>0.00</td>\n",
              "      <td>0.00</td>\n",
              "      <td>0.0</td>\n",
              "      <td>0.0</td>\n",
              "      <td>2.0</td>\n",
              "      <td>2.056411e+09</td>\n",
              "      <td>0.0</td>\n",
              "      <td>516.0</td>\n",
              "      <td>1044510.0</td>\n",
              "      <td>246734.0</td>\n",
              "      <td>4d</td>\n",
              "      <td>NaN</td>\n",
              "      <td>218 068</td>\n",
              "      <td>21810</td>\n",
              "      <td>NaN</td>\n",
              "      <td>2.056411e+09</td>\n",
              "      <td>1/5/2005</td>\n",
              "      <td>NaN</td>\n",
              "      <td>4.0</td>\n",
              "      <td>18v2.1</td>\n",
              "      <td>NaN</td>\n",
              "      <td>NaN</td>\n",
              "      <td>1.0</td>\n",
              "      <td>1.0</td>\n",
              "      <td>12/6/2018</td>\n",
              "      <td>12/20/2018</td>\n",
              "      <td>12/21/2018</td>\n",
              "      <td>12/20/2018</td>\n",
              "      <td>12/21/2018</td>\n",
              "      <td>NaN</td>\n",
              "      <td>NaN</td>\n",
              "      <td>12/20/2018</td>\n",
              "    </tr>\n",
              "    <tr>\n",
              "      <th>1</th>\n",
              "      <td>QN</td>\n",
              "      <td>3935.0</td>\n",
              "      <td>3.0</td>\n",
              "      <td>407.0</td>\n",
              "      <td>929.0</td>\n",
              "      <td>1001.0</td>\n",
              "      <td>25.0</td>\n",
              "      <td>19.0</td>\n",
              "      <td>11356.0</td>\n",
              "      <td>E297</td>\n",
              "      <td>109.0</td>\n",
              "      <td>210.0</td>\n",
              "      <td>4.0</td>\n",
              "      <td>5D</td>\n",
              "      <td>8-03 117 STREET</td>\n",
              "      <td>R2A</td>\n",
              "      <td>NaN</td>\n",
              "      <td>NaN</td>\n",
              "      <td>NaN</td>\n",
              "      <td>NaN</td>\n",
              "      <td>NaN</td>\n",
              "      <td>NaN</td>\n",
              "      <td>NaN</td>\n",
              "      <td>NaN</td>\n",
              "      <td>NaN</td>\n",
              "      <td>N</td>\n",
              "      <td>A1</td>\n",
              "      <td>1.0</td>\n",
              "      <td>0.0</td>\n",
              "      <td>NaN</td>\n",
              "      <td>CHEN, ZHIBIN</td>\n",
              "      <td>10870.0</td>\n",
              "      <td>3130.0</td>\n",
              "      <td>0.0</td>\n",
              "      <td>3130.0</td>\n",
              "      <td>0.0</td>\n",
              "      <td>0.0</td>\n",
              "      <td>0.0</td>\n",
              "      <td>0.0</td>\n",
              "      <td>0.0</td>\n",
              "      <td>...</td>\n",
              "      <td>53083.0</td>\n",
              "      <td>0.0</td>\n",
              "      <td>0.0</td>\n",
              "      <td>1915.0</td>\n",
              "      <td>1995.0</td>\n",
              "      <td>1996.0</td>\n",
              "      <td>NaN</td>\n",
              "      <td>NaN</td>\n",
              "      <td>0.29</td>\n",
              "      <td>0.50</td>\n",
              "      <td>0.0</td>\n",
              "      <td>1.0</td>\n",
              "      <td>4.0</td>\n",
              "      <td>4.039350e+09</td>\n",
              "      <td>0.0</td>\n",
              "      <td>929.0</td>\n",
              "      <td>1025679.0</td>\n",
              "      <td>227096.0</td>\n",
              "      <td>7b</td>\n",
              "      <td>NaN</td>\n",
              "      <td>405 037</td>\n",
              "      <td>42101</td>\n",
              "      <td>NaN</td>\n",
              "      <td>0.000000e+00</td>\n",
              "      <td>NaN</td>\n",
              "      <td>NaN</td>\n",
              "      <td>1.0</td>\n",
              "      <td>18v2.1</td>\n",
              "      <td>7.0</td>\n",
              "      <td>43.0</td>\n",
              "      <td>NaN</td>\n",
              "      <td>NaN</td>\n",
              "      <td>12/6/2018</td>\n",
              "      <td>12/20/2018</td>\n",
              "      <td>12/21/2018</td>\n",
              "      <td>12/20/2018</td>\n",
              "      <td>12/21/2018</td>\n",
              "      <td>NaN</td>\n",
              "      <td>NaN</td>\n",
              "      <td>12/20/2018</td>\n",
              "    </tr>\n",
              "    <tr>\n",
              "      <th>2</th>\n",
              "      <td>BX</td>\n",
              "      <td>4205.0</td>\n",
              "      <td>41.0</td>\n",
              "      <td>211.0</td>\n",
              "      <td>296.0</td>\n",
              "      <td>2000.0</td>\n",
              "      <td>11.0</td>\n",
              "      <td>13.0</td>\n",
              "      <td>NaN</td>\n",
              "      <td>Q061</td>\n",
              "      <td>49.0</td>\n",
              "      <td>1410.0</td>\n",
              "      <td>2.0</td>\n",
              "      <td>2E</td>\n",
              "      <td>SEMINOLE AVENUE</td>\n",
              "      <td>R4</td>\n",
              "      <td>NaN</td>\n",
              "      <td>NaN</td>\n",
              "      <td>NaN</td>\n",
              "      <td>NaN</td>\n",
              "      <td>NaN</td>\n",
              "      <td>NaN</td>\n",
              "      <td>NaN</td>\n",
              "      <td>NaN</td>\n",
              "      <td>NaN</td>\n",
              "      <td>N</td>\n",
              "      <td>V0</td>\n",
              "      <td>11.0</td>\n",
              "      <td>0.0</td>\n",
              "      <td>NaN</td>\n",
              "      <td>EDWARD AND LORRAINE S</td>\n",
              "      <td>2369.0</td>\n",
              "      <td>0.0</td>\n",
              "      <td>NaN</td>\n",
              "      <td>NaN</td>\n",
              "      <td>NaN</td>\n",
              "      <td>NaN</td>\n",
              "      <td>NaN</td>\n",
              "      <td>NaN</td>\n",
              "      <td>NaN</td>\n",
              "      <td>...</td>\n",
              "      <td>5361.0</td>\n",
              "      <td>0.0</td>\n",
              "      <td>0.0</td>\n",
              "      <td>0.0</td>\n",
              "      <td>0.0</td>\n",
              "      <td>0.0</td>\n",
              "      <td>NaN</td>\n",
              "      <td>NaN</td>\n",
              "      <td>0.00</td>\n",
              "      <td>0.90</td>\n",
              "      <td>0.0</td>\n",
              "      <td>2.0</td>\n",
              "      <td>2.0</td>\n",
              "      <td>2.042050e+09</td>\n",
              "      <td>0.0</td>\n",
              "      <td>296.0</td>\n",
              "      <td>1026345.0</td>\n",
              "      <td>249922.0</td>\n",
              "      <td>4a</td>\n",
              "      <td>NaN</td>\n",
              "      <td>220 053</td>\n",
              "      <td>21509</td>\n",
              "      <td>NaN</td>\n",
              "      <td>0.000000e+00</td>\n",
              "      <td>NaN</td>\n",
              "      <td>NaN</td>\n",
              "      <td>1.0</td>\n",
              "      <td>18v2.1</td>\n",
              "      <td>11.0</td>\n",
              "      <td>26.0</td>\n",
              "      <td>NaN</td>\n",
              "      <td>NaN</td>\n",
              "      <td>12/6/2018</td>\n",
              "      <td>12/20/2018</td>\n",
              "      <td>12/21/2018</td>\n",
              "      <td>12/20/2018</td>\n",
              "      <td>12/21/2018</td>\n",
              "      <td>NaN</td>\n",
              "      <td>NaN</td>\n",
              "      <td>12/20/2018</td>\n",
              "    </tr>\n",
              "    <tr>\n",
              "      <th>3</th>\n",
              "      <td>BX</td>\n",
              "      <td>2402.0</td>\n",
              "      <td>14.0</td>\n",
              "      <td>201.0</td>\n",
              "      <td>69.0</td>\n",
              "      <td>2005.0</td>\n",
              "      <td>7.0</td>\n",
              "      <td>17.0</td>\n",
              "      <td>NaN</td>\n",
              "      <td>L055</td>\n",
              "      <td>40.0</td>\n",
              "      <td>3900.0</td>\n",
              "      <td>2.0</td>\n",
              "      <td>1B</td>\n",
              "      <td>EAST 156 STREET</td>\n",
              "      <td>R6</td>\n",
              "      <td>NaN</td>\n",
              "      <td>NaN</td>\n",
              "      <td>NaN</td>\n",
              "      <td>NaN</td>\n",
              "      <td>NaN</td>\n",
              "      <td>NaN</td>\n",
              "      <td>NaN</td>\n",
              "      <td>NaN</td>\n",
              "      <td>NaN</td>\n",
              "      <td>N</td>\n",
              "      <td>G7</td>\n",
              "      <td>10.0</td>\n",
              "      <td>0.0</td>\n",
              "      <td>NaN</td>\n",
              "      <td>156, LLC</td>\n",
              "      <td>3750.0</td>\n",
              "      <td>0.0</td>\n",
              "      <td>NaN</td>\n",
              "      <td>NaN</td>\n",
              "      <td>NaN</td>\n",
              "      <td>NaN</td>\n",
              "      <td>NaN</td>\n",
              "      <td>NaN</td>\n",
              "      <td>NaN</td>\n",
              "      <td>...</td>\n",
              "      <td>81000.0</td>\n",
              "      <td>0.0</td>\n",
              "      <td>0.0</td>\n",
              "      <td>0.0</td>\n",
              "      <td>0.0</td>\n",
              "      <td>0.0</td>\n",
              "      <td>NaN</td>\n",
              "      <td>NaN</td>\n",
              "      <td>0.00</td>\n",
              "      <td>2.43</td>\n",
              "      <td>0.0</td>\n",
              "      <td>4.8</td>\n",
              "      <td>2.0</td>\n",
              "      <td>2.024020e+09</td>\n",
              "      <td>0.0</td>\n",
              "      <td>69.0</td>\n",
              "      <td>1007336.0</td>\n",
              "      <td>238351.0</td>\n",
              "      <td>6a</td>\n",
              "      <td>NaN</td>\n",
              "      <td>209N080</td>\n",
              "      <td>20905</td>\n",
              "      <td>NaN</td>\n",
              "      <td>0.000000e+00</td>\n",
              "      <td>NaN</td>\n",
              "      <td>NaN</td>\n",
              "      <td>1.0</td>\n",
              "      <td>18v2.1</td>\n",
              "      <td>1.0</td>\n",
              "      <td>23.0</td>\n",
              "      <td>NaN</td>\n",
              "      <td>NaN</td>\n",
              "      <td>12/6/2018</td>\n",
              "      <td>12/20/2018</td>\n",
              "      <td>12/21/2018</td>\n",
              "      <td>12/20/2018</td>\n",
              "      <td>12/21/2018</td>\n",
              "      <td>NaN</td>\n",
              "      <td>NaN</td>\n",
              "      <td>12/20/2018</td>\n",
              "    </tr>\n",
              "    <tr>\n",
              "      <th>4</th>\n",
              "      <td>SI</td>\n",
              "      <td>63.0</td>\n",
              "      <td>83.0</td>\n",
              "      <td>501.0</td>\n",
              "      <td>81.0</td>\n",
              "      <td>2006.0</td>\n",
              "      <td>31.0</td>\n",
              "      <td>49.0</td>\n",
              "      <td>10301.0</td>\n",
              "      <td>E155</td>\n",
              "      <td>120.0</td>\n",
              "      <td>400.0</td>\n",
              "      <td>5.0</td>\n",
              "      <td>2C</td>\n",
              "      <td>216 FRANKLIN AVENUE</td>\n",
              "      <td>R2</td>\n",
              "      <td>NaN</td>\n",
              "      <td>NaN</td>\n",
              "      <td>NaN</td>\n",
              "      <td>NaN</td>\n",
              "      <td>NaN</td>\n",
              "      <td>HS</td>\n",
              "      <td>NaN</td>\n",
              "      <td>NaN</td>\n",
              "      <td>NaN</td>\n",
              "      <td>N</td>\n",
              "      <td>A1</td>\n",
              "      <td>1.0</td>\n",
              "      <td>0.0</td>\n",
              "      <td>NaN</td>\n",
              "      <td>DENNIS COTTER</td>\n",
              "      <td>3465.0</td>\n",
              "      <td>1590.0</td>\n",
              "      <td>0.0</td>\n",
              "      <td>1590.0</td>\n",
              "      <td>0.0</td>\n",
              "      <td>0.0</td>\n",
              "      <td>0.0</td>\n",
              "      <td>0.0</td>\n",
              "      <td>0.0</td>\n",
              "      <td>...</td>\n",
              "      <td>20044.0</td>\n",
              "      <td>1460.0</td>\n",
              "      <td>1460.0</td>\n",
              "      <td>1901.0</td>\n",
              "      <td>0.0</td>\n",
              "      <td>0.0</td>\n",
              "      <td>NaN</td>\n",
              "      <td>NaN</td>\n",
              "      <td>0.46</td>\n",
              "      <td>0.50</td>\n",
              "      <td>0.0</td>\n",
              "      <td>1.0</td>\n",
              "      <td>5.0</td>\n",
              "      <td>5.000630e+09</td>\n",
              "      <td>0.0</td>\n",
              "      <td>81.0</td>\n",
              "      <td>958845.0</td>\n",
              "      <td>172482.0</td>\n",
              "      <td>21a</td>\n",
              "      <td>NaN</td>\n",
              "      <td>501 082</td>\n",
              "      <td>50102</td>\n",
              "      <td>NaN</td>\n",
              "      <td>0.000000e+00</td>\n",
              "      <td>NaN</td>\n",
              "      <td>NaN</td>\n",
              "      <td>1.0</td>\n",
              "      <td>18v2.1</td>\n",
              "      <td>1.0</td>\n",
              "      <td>51.0</td>\n",
              "      <td>NaN</td>\n",
              "      <td>NaN</td>\n",
              "      <td>12/6/2018</td>\n",
              "      <td>12/20/2018</td>\n",
              "      <td>12/21/2018</td>\n",
              "      <td>12/20/2018</td>\n",
              "      <td>12/21/2018</td>\n",
              "      <td>NaN</td>\n",
              "      <td>NaN</td>\n",
              "      <td>12/20/2018</td>\n",
              "    </tr>\n",
              "  </tbody>\n",
              "</table>\n",
              "<p>5 rows × 96 columns</p>\n",
              "</div>"
            ],
            "text/plain": [
              "  borough   block    lot     cd  ...  basempdate  masdate  polidate  edesigdate\n",
              "0      BX  5641.0  670.0  210.0  ...  12/21/2018      NaN       NaN  12/20/2018\n",
              "1      QN  3935.0    3.0  407.0  ...  12/21/2018      NaN       NaN  12/20/2018\n",
              "2      BX  4205.0   41.0  211.0  ...  12/21/2018      NaN       NaN  12/20/2018\n",
              "3      BX  2402.0   14.0  201.0  ...  12/21/2018      NaN       NaN  12/20/2018\n",
              "4      SI    63.0   83.0  501.0  ...  12/21/2018      NaN       NaN  12/20/2018\n",
              "\n",
              "[5 rows x 96 columns]"
            ]
          },
          "metadata": {
            "tags": []
          },
          "execution_count": 9
        }
      ]
    },
    {
      "cell_type": "markdown",
      "metadata": {
        "id": "Jns_yfQ2Y5Xz",
        "colab_type": "text"
      },
      "source": [
        "# data fusion\n",
        "\n",
        "### select data\n",
        "select the data for buildings _in the borough of Manhattan_ only from the pluto file (you can do it broadcasting!)\n",
        "\n",
        "### merge\n",
        "merge the pluto and ll84 dataframes. you will have to choose an appropriate column that both datasets share fo do so. The column may not have the same nbame, but should have the same _variable_."
      ]
    },
    {
      "cell_type": "code",
      "metadata": {
        "id": "Vr6k_D7Ck6JI",
        "colab_type": "code",
        "colab": {
          "base_uri": "https://localhost:8080/",
          "height": 34
        },
        "outputId": "87349e9f-5227-4f12-cd36-5c945e12450e"
      },
      "source": [
        "pluto = pluto[pluto[\"borough\"] == \"MN\"]\n",
        "pluto.shape"
      ],
      "execution_count": 10,
      "outputs": [
        {
          "output_type": "execute_result",
          "data": {
            "text/plain": [
              "(42897, 96)"
            ]
          },
          "metadata": {
            "tags": []
          },
          "execution_count": 10
        }
      ]
    },
    {
      "cell_type": "code",
      "metadata": {
        "id": "lRVazRnIqgmV",
        "colab_type": "code",
        "colab": {
          "base_uri": "https://localhost:8080/",
          "height": 34
        },
        "outputId": "dc48e837-157c-4b21-aaf1-fa47e3b7008c"
      },
      "source": [
        "joined = pd.merge(pluto, ll84, left_on = \"address\", right_on = \"Address 1 (self-reported)\")\n",
        "joined.shape"
      ],
      "execution_count": 11,
      "outputs": [
        {
          "output_type": "execute_result",
          "data": {
            "text/plain": [
              "(53, 156)"
            ]
          },
          "metadata": {
            "tags": []
          },
          "execution_count": 11
        }
      ]
    },
    {
      "cell_type": "markdown",
      "metadata": {
        "id": "eExs_TXwlQkT",
        "colab_type": "text"
      },
      "source": [
        "# data exploration and cleaning\n",
        "\n",
        "### extact columns\n",
        "extract the columns listed in the file \"columns.txt\" from the dataset.\n",
        "\n",
        "convert the resulting dataset to numerical, converting non-numerical values to NaN. drop rows that contain invalid values and save the resulting dataframe (_reducted_ dataframe)"
      ]
    },
    {
      "cell_type": "code",
      "metadata": {
        "id": "CkGZ4rZZunG4",
        "colab_type": "code",
        "colab": {
          "base_uri": "https://localhost:8080/",
          "height": 156
        },
        "outputId": "d66fffe5-2053-4625-df0b-4e7ed1b0aac3"
      },
      "source": [
        "columns = pd.read_table(\"https://raw.githubusercontent.com/fedhere/DSPS/master/HW5/columns.txt\", header = None)\n",
        "columns = columns[0].values.tolist()\n",
        "print(columns)\n",
        "\n",
        "\n",
        "data = joined[columns]\n",
        "data = data.convert_objects(convert_numeric = True)\n",
        "reduced = data.dropna(thresh = 22)\n",
        "reduced.shape"
      ],
      "execution_count": 12,
      "outputs": [
        {
          "output_type": "stream",
          "text": [
            "['DOF Gross Floor Area', 'Year Built', 'Number of Buildings - Self-reported', 'Occupancy', 'ENERGY STAR Score', 'Site EUI (kBtu/ft²)', 'Weather Normalized Site EUI (kBtu/ft²)', 'Weather Normalized Site Electricity Intensity (kWh/ft²)', 'Weather Normalized Site Natural Gas Intensity (therms/ft²)', 'Weather Normalized Source EUI (kBtu/ft²)', 'Electricity Use - Grid Purchase (kBtu)', 'Total GHG Emissions (Metric Tons CO2e)', 'Property GFA - Self-Reported (ft²)', 'Water Use (All Water Sources) (kgal)', 'Water Intensity (All Water Sources) (gal/ft²)', 'Source EUI (kBtu/ft²)', 'bldgarea', 'numbldgs', 'numfloors', 'unitsres', 'unitstotal', 'yearalter1']\n"
          ],
          "name": "stdout"
        },
        {
          "output_type": "stream",
          "text": [
            "/usr/local/lib/python3.6/dist-packages/ipykernel_launcher.py:1: FutureWarning: read_table is deprecated, use read_csv instead, passing sep='\\t'.\n",
            "  \"\"\"Entry point for launching an IPython kernel.\n",
            "/usr/local/lib/python3.6/dist-packages/ipykernel_launcher.py:7: FutureWarning: convert_objects is deprecated.  To re-infer data dtypes for object columns, use DataFrame.infer_objects()\n",
            "For all other conversions use the data-type specific converters pd.to_datetime, pd.to_timedelta and pd.to_numeric.\n",
            "  import sys\n"
          ],
          "name": "stderr"
        },
        {
          "output_type": "execute_result",
          "data": {
            "text/plain": [
              "(14, 22)"
            ]
          },
          "metadata": {
            "tags": []
          },
          "execution_count": 12
        }
      ]
    },
    {
      "cell_type": "code",
      "metadata": {
        "id": "SPq5cOykyp_B",
        "colab_type": "code",
        "colab": {
          "base_uri": "https://localhost:8080/",
          "height": 309
        },
        "outputId": "46d19a81-8171-4d04-d1e0-e10c359b1d05"
      },
      "source": [
        "reduced.head()"
      ],
      "execution_count": 13,
      "outputs": [
        {
          "output_type": "execute_result",
          "data": {
            "text/html": [
              "<div>\n",
              "<style scoped>\n",
              "    .dataframe tbody tr th:only-of-type {\n",
              "        vertical-align: middle;\n",
              "    }\n",
              "\n",
              "    .dataframe tbody tr th {\n",
              "        vertical-align: top;\n",
              "    }\n",
              "\n",
              "    .dataframe thead th {\n",
              "        text-align: right;\n",
              "    }\n",
              "</style>\n",
              "<table border=\"1\" class=\"dataframe\">\n",
              "  <thead>\n",
              "    <tr style=\"text-align: right;\">\n",
              "      <th></th>\n",
              "      <th>DOF Gross Floor Area</th>\n",
              "      <th>Year Built</th>\n",
              "      <th>Number of Buildings - Self-reported</th>\n",
              "      <th>Occupancy</th>\n",
              "      <th>ENERGY STAR Score</th>\n",
              "      <th>Site EUI (kBtu/ft²)</th>\n",
              "      <th>Weather Normalized Site EUI (kBtu/ft²)</th>\n",
              "      <th>Weather Normalized Site Electricity Intensity (kWh/ft²)</th>\n",
              "      <th>Weather Normalized Site Natural Gas Intensity (therms/ft²)</th>\n",
              "      <th>Weather Normalized Source EUI (kBtu/ft²)</th>\n",
              "      <th>Electricity Use - Grid Purchase (kBtu)</th>\n",
              "      <th>Total GHG Emissions (Metric Tons CO2e)</th>\n",
              "      <th>Property GFA - Self-Reported (ft²)</th>\n",
              "      <th>Water Use (All Water Sources) (kgal)</th>\n",
              "      <th>Water Intensity (All Water Sources) (gal/ft²)</th>\n",
              "      <th>Source EUI (kBtu/ft²)</th>\n",
              "      <th>bldgarea</th>\n",
              "      <th>numbldgs</th>\n",
              "      <th>numfloors</th>\n",
              "      <th>unitsres</th>\n",
              "      <th>unitstotal</th>\n",
              "      <th>yearalter1</th>\n",
              "    </tr>\n",
              "  </thead>\n",
              "  <tbody>\n",
              "    <tr>\n",
              "      <th>1</th>\n",
              "      <td>91212.0</td>\n",
              "      <td>1927</td>\n",
              "      <td>1</td>\n",
              "      <td>100</td>\n",
              "      <td>85.0</td>\n",
              "      <td>64.7</td>\n",
              "      <td>68.0</td>\n",
              "      <td>11.2</td>\n",
              "      <td>0.1</td>\n",
              "      <td>155.0</td>\n",
              "      <td>3537948.9</td>\n",
              "      <td>483.8</td>\n",
              "      <td>92577</td>\n",
              "      <td>25098.8</td>\n",
              "      <td>271.11</td>\n",
              "      <td>150.9</td>\n",
              "      <td>91212.0</td>\n",
              "      <td>1.0</td>\n",
              "      <td>19.0</td>\n",
              "      <td>0.0</td>\n",
              "      <td>56.0</td>\n",
              "      <td>0.0</td>\n",
              "    </tr>\n",
              "    <tr>\n",
              "      <th>5</th>\n",
              "      <td>63600.0</td>\n",
              "      <td>1920</td>\n",
              "      <td>1</td>\n",
              "      <td>100</td>\n",
              "      <td>35.0</td>\n",
              "      <td>75.1</td>\n",
              "      <td>78.1</td>\n",
              "      <td>4.8</td>\n",
              "      <td>0.6</td>\n",
              "      <td>116.4</td>\n",
              "      <td>1215886.7</td>\n",
              "      <td>333.6</td>\n",
              "      <td>71550</td>\n",
              "      <td>1506.6</td>\n",
              "      <td>21.06</td>\n",
              "      <td>114.3</td>\n",
              "      <td>63600.0</td>\n",
              "      <td>1.0</td>\n",
              "      <td>8.0</td>\n",
              "      <td>28.0</td>\n",
              "      <td>30.0</td>\n",
              "      <td>0.0</td>\n",
              "    </tr>\n",
              "    <tr>\n",
              "      <th>7</th>\n",
              "      <td>55665.0</td>\n",
              "      <td>1900</td>\n",
              "      <td>1</td>\n",
              "      <td>100</td>\n",
              "      <td>29.0</td>\n",
              "      <td>108.1</td>\n",
              "      <td>113.3</td>\n",
              "      <td>5.1</td>\n",
              "      <td>1.0</td>\n",
              "      <td>155.3</td>\n",
              "      <td>904619.5</td>\n",
              "      <td>328.1</td>\n",
              "      <td>50892</td>\n",
              "      <td>2386.6</td>\n",
              "      <td>46.89</td>\n",
              "      <td>150.6</td>\n",
              "      <td>55665.0</td>\n",
              "      <td>1.0</td>\n",
              "      <td>7.0</td>\n",
              "      <td>43.0</td>\n",
              "      <td>43.0</td>\n",
              "      <td>0.0</td>\n",
              "    </tr>\n",
              "    <tr>\n",
              "      <th>9</th>\n",
              "      <td>137500.0</td>\n",
              "      <td>1990</td>\n",
              "      <td>1</td>\n",
              "      <td>100</td>\n",
              "      <td>83.0</td>\n",
              "      <td>35.8</td>\n",
              "      <td>34.9</td>\n",
              "      <td>8.7</td>\n",
              "      <td>0.1</td>\n",
              "      <td>98.9</td>\n",
              "      <td>4428400.9</td>\n",
              "      <td>450.2</td>\n",
              "      <td>144375</td>\n",
              "      <td>9539.2</td>\n",
              "      <td>66.07</td>\n",
              "      <td>101.7</td>\n",
              "      <td>117020.0</td>\n",
              "      <td>1.0</td>\n",
              "      <td>24.0</td>\n",
              "      <td>163.0</td>\n",
              "      <td>164.0</td>\n",
              "      <td>0.0</td>\n",
              "    </tr>\n",
              "    <tr>\n",
              "      <th>18</th>\n",
              "      <td>85194.0</td>\n",
              "      <td>1912</td>\n",
              "      <td>1</td>\n",
              "      <td>100</td>\n",
              "      <td>2.0</td>\n",
              "      <td>91.2</td>\n",
              "      <td>93.0</td>\n",
              "      <td>14.6</td>\n",
              "      <td>0.4</td>\n",
              "      <td>201.5</td>\n",
              "      <td>4447334.4</td>\n",
              "      <td>609.8</td>\n",
              "      <td>89453</td>\n",
              "      <td>6556.7</td>\n",
              "      <td>73.30</td>\n",
              "      <td>199.7</td>\n",
              "      <td>68728.0</td>\n",
              "      <td>1.0</td>\n",
              "      <td>14.0</td>\n",
              "      <td>66.0</td>\n",
              "      <td>104.0</td>\n",
              "      <td>2006.0</td>\n",
              "    </tr>\n",
              "  </tbody>\n",
              "</table>\n",
              "</div>"
            ],
            "text/plain": [
              "    DOF Gross Floor Area  Year Built  ...  unitstotal  yearalter1\n",
              "1                91212.0        1927  ...        56.0         0.0\n",
              "5                63600.0        1920  ...        30.0         0.0\n",
              "7                55665.0        1900  ...        43.0         0.0\n",
              "9               137500.0        1990  ...       164.0         0.0\n",
              "18               85194.0        1912  ...       104.0      2006.0\n",
              "\n",
              "[5 rows x 22 columns]"
            ]
          },
          "metadata": {
            "tags": []
          },
          "execution_count": 13
        }
      ]
    },
    {
      "cell_type": "markdown",
      "metadata": {
        "id": "C5-nB1RdY5X5",
        "colab_type": "text"
      },
      "source": [
        "### Assess impact of data wrangling\n",
        "Describe the  datasets resulting from this data cleaning: \n",
        "\n",
        "- how many observations have you lost? \n",
        "\n",
        "- did any of the features (=columns) have inconsistent distribution between the full and reducted dataset? \n",
        "\n",
        "You can approach this question in a number of ways, and you have done this in the  homewors already (with a KS test, and by just looking at uncertainties are two examples of ways to do ut that you worked out in HW3 and HW4, the Z test might work if you can convince yourself that the full sample is the \"population\" - up to you! a quick google search would probably describe many more ways). Choose _2_ ways, describe what each does and why it is appropriate. Compare the results (indeed I did it in 4 ways and did not always get consistent results! each of these meathods measures a slightly different thing).\n",
        "\n"
      ]
    },
    {
      "cell_type": "markdown",
      "metadata": {
        "id": "9fbVCrmsz2Ma",
        "colab_type": "text"
      },
      "source": [
        "**My answer:**\n",
        "\n",
        "We started with 42,897 observations when we first joined the data frames. After eliminating all NaN / non-numeric answers, we were left with only 14 observations."
      ]
    },
    {
      "cell_type": "markdown",
      "metadata": {
        "id": "D1O4bdytAHKe",
        "colab_type": "text"
      },
      "source": [
        "#### Method 1: Z-Score"
      ]
    },
    {
      "cell_type": "code",
      "metadata": {
        "ExecuteTime": {
          "end_time": "2019-09-25T02:24:30.299322Z",
          "start_time": "2019-09-25T02:24:30.184734Z"
        },
        "id": "_cZwH0d4Y5X_",
        "colab_type": "code",
        "outputId": "107cf7cd-afc3-4914-8877-524e73b49d0a",
        "colab": {
          "base_uri": "https://localhost:8080/",
          "height": 1000
        }
      },
      "source": [
        "pd.set_option('display.float_format', lambda x: '%.3f' % x)\n",
        "\n",
        "rmeans = pd.Series(reduced.mean(), name=\"reduced mean\")\n",
        "rstds = pd.Series(reduced.std(), name=\"reduced std\")\n",
        "fmeans = pd.Series(data.mean(), name=\"full mean\")\n",
        "fstds = pd.Series(data.std(), name=\"full std\")\n",
        "stats = pd.concat([rmeans, rstds, fmeans, fstds], axis = 1)\n",
        "\n",
        "stats[\"zscore\"] = (stats[\"reduced mean\"] - stats[\"full mean\"]) / stats[\"full std\"]\n",
        "stats"
      ],
      "execution_count": 14,
      "outputs": [
        {
          "output_type": "execute_result",
          "data": {
            "text/html": [
              "<div>\n",
              "<style scoped>\n",
              "    .dataframe tbody tr th:only-of-type {\n",
              "        vertical-align: middle;\n",
              "    }\n",
              "\n",
              "    .dataframe tbody tr th {\n",
              "        vertical-align: top;\n",
              "    }\n",
              "\n",
              "    .dataframe thead th {\n",
              "        text-align: right;\n",
              "    }\n",
              "</style>\n",
              "<table border=\"1\" class=\"dataframe\">\n",
              "  <thead>\n",
              "    <tr style=\"text-align: right;\">\n",
              "      <th></th>\n",
              "      <th>reduced mean</th>\n",
              "      <th>reduced std</th>\n",
              "      <th>full mean</th>\n",
              "      <th>full std</th>\n",
              "      <th>zscore</th>\n",
              "    </tr>\n",
              "  </thead>\n",
              "  <tbody>\n",
              "    <tr>\n",
              "      <th>DOF Gross Floor Area</th>\n",
              "      <td>279756.786</td>\n",
              "      <td>454917.066</td>\n",
              "      <td>178966.000</td>\n",
              "      <td>254326.308</td>\n",
              "      <td>0.396</td>\n",
              "    </tr>\n",
              "    <tr>\n",
              "      <th>Year Built</th>\n",
              "      <td>1941.786</td>\n",
              "      <td>36.071</td>\n",
              "      <td>1938.113</td>\n",
              "      <td>29.991</td>\n",
              "      <td>0.122</td>\n",
              "    </tr>\n",
              "    <tr>\n",
              "      <th>Number of Buildings - Self-reported</th>\n",
              "      <td>1.000</td>\n",
              "      <td>0.000</td>\n",
              "      <td>0.981</td>\n",
              "      <td>0.137</td>\n",
              "      <td>0.137</td>\n",
              "    </tr>\n",
              "    <tr>\n",
              "      <th>Occupancy</th>\n",
              "      <td>90.357</td>\n",
              "      <td>26.780</td>\n",
              "      <td>94.528</td>\n",
              "      <td>19.982</td>\n",
              "      <td>-0.209</td>\n",
              "    </tr>\n",
              "    <tr>\n",
              "      <th>ENERGY STAR Score</th>\n",
              "      <td>56.143</td>\n",
              "      <td>29.690</td>\n",
              "      <td>59.395</td>\n",
              "      <td>32.022</td>\n",
              "      <td>-0.102</td>\n",
              "    </tr>\n",
              "    <tr>\n",
              "      <th>Site EUI (kBtu/ft²)</th>\n",
              "      <td>79.771</td>\n",
              "      <td>24.552</td>\n",
              "      <td>94.560</td>\n",
              "      <td>84.587</td>\n",
              "      <td>-0.175</td>\n",
              "    </tr>\n",
              "    <tr>\n",
              "      <th>Weather Normalized Site EUI (kBtu/ft²)</th>\n",
              "      <td>82.336</td>\n",
              "      <td>25.827</td>\n",
              "      <td>102.250</td>\n",
              "      <td>109.741</td>\n",
              "      <td>-0.181</td>\n",
              "    </tr>\n",
              "    <tr>\n",
              "      <th>Weather Normalized Site Electricity Intensity (kWh/ft²)</th>\n",
              "      <td>10.321</td>\n",
              "      <td>6.202</td>\n",
              "      <td>9.597</td>\n",
              "      <td>7.291</td>\n",
              "      <td>0.099</td>\n",
              "    </tr>\n",
              "    <tr>\n",
              "      <th>Weather Normalized Site Natural Gas Intensity (therms/ft²)</th>\n",
              "      <td>0.214</td>\n",
              "      <td>0.303</td>\n",
              "      <td>0.352</td>\n",
              "      <td>0.517</td>\n",
              "      <td>-0.266</td>\n",
              "    </tr>\n",
              "    <tr>\n",
              "      <th>Weather Normalized Source EUI (kBtu/ft²)</th>\n",
              "      <td>160.000</td>\n",
              "      <td>54.229</td>\n",
              "      <td>175.447</td>\n",
              "      <td>147.392</td>\n",
              "      <td>-0.105</td>\n",
              "    </tr>\n",
              "    <tr>\n",
              "      <th>Electricity Use - Grid Purchase (kBtu)</th>\n",
              "      <td>16982357.179</td>\n",
              "      <td>39407888.693</td>\n",
              "      <td>7742090.102</td>\n",
              "      <td>21365985.242</td>\n",
              "      <td>0.432</td>\n",
              "    </tr>\n",
              "    <tr>\n",
              "      <th>Total GHG Emissions (Metric Tons CO2e)</th>\n",
              "      <td>2132.771</td>\n",
              "      <td>4363.276</td>\n",
              "      <td>1240.917</td>\n",
              "      <td>2400.198</td>\n",
              "      <td>0.372</td>\n",
              "    </tr>\n",
              "    <tr>\n",
              "      <th>Property GFA - Self-Reported (ft²)</th>\n",
              "      <td>279123.786</td>\n",
              "      <td>443791.318</td>\n",
              "      <td>174128.868</td>\n",
              "      <td>249992.297</td>\n",
              "      <td>0.420</td>\n",
              "    </tr>\n",
              "    <tr>\n",
              "      <th>Water Use (All Water Sources) (kgal)</th>\n",
              "      <td>9175.421</td>\n",
              "      <td>10769.093</td>\n",
              "      <td>8551.064</td>\n",
              "      <td>8560.205</td>\n",
              "      <td>0.073</td>\n",
              "    </tr>\n",
              "    <tr>\n",
              "      <th>Water Intensity (All Water Sources) (gal/ft²)</th>\n",
              "      <td>53.810</td>\n",
              "      <td>66.434</td>\n",
              "      <td>58.238</td>\n",
              "      <td>52.312</td>\n",
              "      <td>-0.085</td>\n",
              "    </tr>\n",
              "    <tr>\n",
              "      <th>Source EUI (kBtu/ft²)</th>\n",
              "      <td>158.086</td>\n",
              "      <td>54.645</td>\n",
              "      <td>159.911</td>\n",
              "      <td>117.274</td>\n",
              "      <td>-0.016</td>\n",
              "    </tr>\n",
              "    <tr>\n",
              "      <th>bldgarea</th>\n",
              "      <td>277117.786</td>\n",
              "      <td>456000.271</td>\n",
              "      <td>177848.943</td>\n",
              "      <td>254704.178</td>\n",
              "      <td>0.390</td>\n",
              "    </tr>\n",
              "    <tr>\n",
              "      <th>numbldgs</th>\n",
              "      <td>1.000</td>\n",
              "      <td>0.000</td>\n",
              "      <td>1.302</td>\n",
              "      <td>1.671</td>\n",
              "      <td>-0.181</td>\n",
              "    </tr>\n",
              "    <tr>\n",
              "      <th>numfloors</th>\n",
              "      <td>15.929</td>\n",
              "      <td>10.873</td>\n",
              "      <td>13.962</td>\n",
              "      <td>8.985</td>\n",
              "      <td>0.219</td>\n",
              "    </tr>\n",
              "    <tr>\n",
              "      <th>unitsres</th>\n",
              "      <td>52.143</td>\n",
              "      <td>70.776</td>\n",
              "      <td>89.358</td>\n",
              "      <td>103.816</td>\n",
              "      <td>-0.358</td>\n",
              "    </tr>\n",
              "    <tr>\n",
              "      <th>unitstotal</th>\n",
              "      <td>67.429</td>\n",
              "      <td>66.137</td>\n",
              "      <td>103.453</td>\n",
              "      <td>99.755</td>\n",
              "      <td>-0.361</td>\n",
              "    </tr>\n",
              "    <tr>\n",
              "      <th>yearalter1</th>\n",
              "      <td>997.500</td>\n",
              "      <td>1035.194</td>\n",
              "      <td>975.415</td>\n",
              "      <td>1003.563</td>\n",
              "      <td>0.022</td>\n",
              "    </tr>\n",
              "  </tbody>\n",
              "</table>\n",
              "</div>"
            ],
            "text/plain": [
              "                                                    reduced mean  ...  zscore\n",
              "DOF Gross Floor Area                                  279756.786  ...   0.396\n",
              "Year Built                                              1941.786  ...   0.122\n",
              "Number of Buildings - Self-reported                        1.000  ...   0.137\n",
              "Occupancy                                                 90.357  ...  -0.209\n",
              "ENERGY STAR Score                                         56.143  ...  -0.102\n",
              "Site EUI (kBtu/ft²)                                       79.771  ...  -0.175\n",
              "Weather Normalized Site EUI (kBtu/ft²)                    82.336  ...  -0.181\n",
              "Weather Normalized Site Electricity Intensity (...        10.321  ...   0.099\n",
              "Weather Normalized Site Natural Gas Intensity (...         0.214  ...  -0.266\n",
              "Weather Normalized Source EUI (kBtu/ft²)                 160.000  ...  -0.105\n",
              "Electricity Use - Grid Purchase (kBtu)              16982357.179  ...   0.432\n",
              "Total GHG Emissions (Metric Tons CO2e)                  2132.771  ...   0.372\n",
              "Property GFA - Self-Reported (ft²)                    279123.786  ...   0.420\n",
              "Water Use (All Water Sources) (kgal)                    9175.421  ...   0.073\n",
              "Water Intensity (All Water Sources) (gal/ft²)             53.810  ...  -0.085\n",
              "Source EUI (kBtu/ft²)                                    158.086  ...  -0.016\n",
              "bldgarea                                              277117.786  ...   0.390\n",
              "numbldgs                                                   1.000  ...  -0.181\n",
              "numfloors                                                 15.929  ...   0.219\n",
              "unitsres                                                  52.143  ...  -0.358\n",
              "unitstotal                                                67.429  ...  -0.361\n",
              "yearalter1                                               997.500  ...   0.022\n",
              "\n",
              "[22 rows x 5 columns]"
            ]
          },
          "metadata": {
            "tags": []
          },
          "execution_count": 14
        }
      ]
    },
    {
      "cell_type": "code",
      "metadata": {
        "id": "UuP8Wq_R86mc",
        "colab_type": "code",
        "colab": {
          "base_uri": "https://localhost:8080/",
          "height": 34
        },
        "outputId": "75e6bfa0-6f64-477d-b37e-ddd1d4795208"
      },
      "source": [
        "max(abs(stats['zscore']))"
      ],
      "execution_count": 15,
      "outputs": [
        {
          "output_type": "execute_result",
          "data": {
            "text/plain": [
              "0.43247559014942266"
            ]
          },
          "metadata": {
            "tags": []
          },
          "execution_count": 15
        }
      ]
    },
    {
      "cell_type": "markdown",
      "metadata": {
        "id": "-LEv_MIp-dRC",
        "colab_type": "text"
      },
      "source": [
        "**My discussion**\n",
        "\n",
        "The means of all of our reduced columns were within 0.5 standard deviations of the non-data-wranggled (assumed to be the full population) means. This supports the claim that the reduced data is consistent with the unreduced data."
      ]
    },
    {
      "cell_type": "markdown",
      "metadata": {
        "id": "AELo0PIBH1kn",
        "colab_type": "text"
      },
      "source": [
        "#### KS Test"
      ]
    },
    {
      "cell_type": "code",
      "metadata": {
        "id": "mtHa6BI8D6tU",
        "colab_type": "code",
        "colab": {
          "base_uri": "https://localhost:8080/",
          "height": 122
        },
        "outputId": "cb5d01bd-85af-44ba-8bd7-b7c7a75f1bc9"
      },
      "source": [
        "stats['p-value'] = None\n",
        "pVals = []\n",
        "for i in stats.index:\n",
        "  pVal = sp.stats.ks_2samp(reduced[i], data[i])[1]\n",
        "  stats['p-value'][i] = pVal"
      ],
      "execution_count": 20,
      "outputs": [
        {
          "output_type": "stream",
          "text": [
            "/usr/local/lib/python3.6/dist-packages/ipykernel_launcher.py:5: SettingWithCopyWarning: \n",
            "A value is trying to be set on a copy of a slice from a DataFrame\n",
            "\n",
            "See the caveats in the documentation: http://pandas.pydata.org/pandas-docs/stable/indexing.html#indexing-view-versus-copy\n",
            "  \"\"\"\n"
          ],
          "name": "stderr"
        }
      ]
    },
    {
      "cell_type": "code",
      "metadata": {
        "id": "StT6P7SbIjV7",
        "colab_type": "code",
        "colab": {
          "base_uri": "https://localhost:8080/",
          "height": 119
        },
        "outputId": "d499c866-be50-4f91-a1d1-e23a28cc8306"
      },
      "source": [
        "inconsistentCols = stats[stats['p-value'] < 0.05]['p-value']\n",
        "inconsistentCols.head()"
      ],
      "execution_count": 21,
      "outputs": [
        {
          "output_type": "execute_result",
          "data": {
            "text/plain": [
              "ENERGY STAR Score                                            0.021\n",
              "Weather Normalized Site EUI (kBtu/ft²)                       0.021\n",
              "Weather Normalized Site Natural Gas Intensity (therms/ft²)   0.019\n",
              "Weather Normalized Source EUI (kBtu/ft²)                     0.044\n",
              "Water Use (All Water Sources) (kgal)                         0.009\n",
              "Name: p-value, dtype: object"
            ]
          },
          "metadata": {
            "tags": []
          },
          "execution_count": 21
        }
      ]
    },
    {
      "cell_type": "markdown",
      "metadata": {
        "id": "NwAzYltBItuM",
        "colab_type": "text"
      },
      "source": [
        "**My discussion**\n",
        "\n",
        "The KS test showed that 6 of the 22 columns in the reduced data were inconsistent with the unreduced data. This conclusion is made at the 2 sigma confidence level (p = 0.05)."
      ]
    },
    {
      "cell_type": "markdown",
      "metadata": {
        "id": "OBPiLSfnY5YE",
        "colab_type": "text"
      },
      "source": [
        "### plot WNEC\n",
        "Regardless of what you found above, plot the distribution of the _log base 10_ of the weather-normalized site energy consumption (WNEC) for all values larger than 0.1 (such that log10(min) is -1) for the _entire dataset_ and for the _reducted one_: do you think inference on this feature would be affected by this way of dealing with missing data affects the result?\n",
        "\n"
      ]
    },
    {
      "cell_type": "code",
      "metadata": {
        "id": "_YNZZoZRHFfH",
        "colab_type": "code",
        "colab": {
          "base_uri": "https://localhost:8080/",
          "height": 286
        },
        "outputId": "21b57dd6-d5a3-47ec-a894-034f4fb1d04a"
      },
      "source": [
        "reducedEnergy = reduced['Weather Normalized Site EUI (kBtu/ft²)']\n",
        "reducedEnergy = [np.log10(x) for x in reducedEnergy]\n",
        "pl.hist(reducedEnergy, bins = [1, 1.25, 1.5, 1.75, 2, 2.25, 2.5, 2.75])\n",
        "        \n",
        "        \n",
        "fullEnergy = data['Weather Normalized Site EUI (kBtu/ft²)']\n",
        "fullEnergy = [np.log10(x) for x in fullEnergy if x.is_integer() and x != 0]\n",
        "pl.hist(fullEnergy, bins = [1, 1.25, 1.5, 1.75, 2, 2.25, 2.5, 2.75])\n",
        "pl.xlim(-1, 7)"
      ],
      "execution_count": 50,
      "outputs": [
        {
          "output_type": "execute_result",
          "data": {
            "text/plain": [
              "(-1, 7)"
            ]
          },
          "metadata": {
            "tags": []
          },
          "execution_count": 50
        },
        {
          "output_type": "display_data",
          "data": {
            "image/png": "[encoded data removed]",
            "text/plain": [
              "<Figure size 432x288 with 1 Axes>"
            ]
          },
          "metadata": {
            "tags": []
          }
        }
      ]
    },
    {
      "cell_type": "code",
      "metadata": {
        "ExecuteTime": {
          "end_time": "2019-09-25T02:33:55.288516Z",
          "start_time": "2019-09-25T02:33:55.263386Z"
        },
        "id": "hepCz2zGY5YG",
        "colab_type": "code",
        "outputId": "6da52076-1fe5-4c75-eeb8-fd5f6854c9ae",
        "colab": {
          "base_uri": "https://localhost:8080/",
          "height": 34
        }
      },
      "source": [
        "max(fullEnergy)"
      ],
      "execution_count": 47,
      "outputs": [
        {
          "output_type": "execute_result",
          "data": {
            "text/plain": [
              "2.1702617153949575"
            ]
          },
          "metadata": {
            "tags": []
          },
          "execution_count": 47
        }
      ]
    },
    {
      "cell_type": "markdown",
      "metadata": {
        "ExecuteTime": {
          "end_time": "2019-09-25T02:08:23.211182Z",
          "start_time": "2019-09-25T02:08:23.205135Z"
        },
        "id": "WIANEJHKY5YI",
        "colab_type": "text"
      },
      "source": [
        "# 667 and extyra credit\n",
        "plot a \"scatter matrix\" of the selected columns. Identify 4 promising \"scaling laws\" and plot them separately (a scatter plot of column1 vs column2). Does it make sense that there should be a scaling law between the 2 variables? \n",
        "\n",
        "which features should be strongly correlated or identical but are not? discuss\n",
        "\n",
        "([this](https://stackoverflow.com/questions/26975089/making-the-labels-of-the-scatterplot-vertical-and-horizontal-in-pandas) stackoverflow may come in handy)"
      ]
    },
    {
      "cell_type": "markdown",
      "metadata": {
        "id": "1fI3IMcNY5YM",
        "colab_type": "text"
      },
      "source": [
        "## all students\n",
        "At last, from the original dataset remove only the columns that are NaN in the column \"Weather Normalized Site EUI (kBtu/ft²)\"\n"
      ]
    },
    {
      "cell_type": "code",
      "metadata": {
        "ExecuteTime": {
          "end_time": "2019-09-25T02:40:28.827861Z",
          "start_time": "2019-09-25T02:38:20.245957Z"
        },
        "id": "LWaJVQG0Y5YN",
        "colab_type": "code",
        "outputId": "548046a3-fd2c-42db-d3ec-00f64e5548cc",
        "colab": {
          "base_uri": "https://localhost:8080/",
          "height": 34
        }
      },
      "source": [
        "joined.shape"
      ],
      "execution_count": 52,
      "outputs": [
        {
          "output_type": "execute_result",
          "data": {
            "text/plain": [
              "(53, 156)"
            ]
          },
          "metadata": {
            "tags": []
          },
          "execution_count": 52
        }
      ]
    },
    {
      "cell_type": "code",
      "metadata": {
        "id": "IMP_4JsdGRfk",
        "colab_type": "code",
        "colab": {
          "base_uri": "https://localhost:8080/",
          "height": 34
        },
        "outputId": "1a63f336-6929-4f54-fd71-787b5e807f66"
      },
      "source": [
        "# -- drop buildings for which WN Site EUI is NaN\n",
        "wnec = \"Weather Normalized Site EUI (kBtu/ft²)\"\n",
        "joined = joined[pd.to_numeric(joined[wnec], errors='coerce').notnull()]\n",
        "joined[wnec] = pd.to_numeric(joined[wnec])\n",
        "joined.shape"
      ],
      "execution_count": 107,
      "outputs": [
        {
          "output_type": "execute_result",
          "data": {
            "text/plain": [
              "(34, 156)"
            ]
          },
          "metadata": {
            "tags": []
          },
          "execution_count": 107
        }
      ]
    },
    {
      "cell_type": "markdown",
      "metadata": {
        "id": "vMDOfS6nY5YQ",
        "colab_type": "text"
      },
      "source": [
        "## Analysis: Owner investigation \n",
        "### Find owner of the single most energy consuming building\n",
        "\n",
        "**Find owner of the single most energy consuming building**, as measured by the \"Site Weather Normalized EUI per unit area \". \n",
        "\n",
        "**Find all the buildings that they own.**\n",
        "\n",
        "\n",
        "show the weather-normalized site energy consumption and the owner name for the top 30 consuming buildings in Manhattan"
      ]
    },
    {
      "cell_type": "code",
      "metadata": {
        "id": "ZQ3HaZ2fHxK7",
        "colab_type": "code",
        "colab": {}
      },
      "source": [
        "owner = joined[joined[wnec] == max(joined[wnec])]['ownername'].values[0]\n",
        "numBuildings = sum(joined['ownername'] == owner)"
      ],
      "execution_count": 0,
      "outputs": []
    },
    {
      "cell_type": "code",
      "metadata": {
        "id": "l3dF3RQowmJ4",
        "colab_type": "code",
        "outputId": "a987034d-e19f-4f3c-88f9-fd006c799843",
        "colab": {
          "base_uri": "https://localhost:8080/",
          "height": 51
        }
      },
      "source": [
        "print(\"Owner of the hisghest consuming building: %s \\nThey own %d buildings\" % (owner, numBuildings))"
      ],
      "execution_count": 126,
      "outputs": [
        {
          "output_type": "stream",
          "text": [
            "Owner of the hisghest consuming building: RCC 304 E. 72 OWNERSH \n",
            "They own 1 buildings\n"
          ],
          "name": "stdout"
        }
      ]
    },
    {
      "cell_type": "markdown",
      "metadata": {
        "ExecuteTime": {
          "end_time": "2019-09-24T18:40:17.239813Z",
          "start_time": "2019-09-24T18:40:17.235991Z"
        },
        "id": "0m4jRavdY5Yh",
        "colab_type": "text"
      },
      "source": [
        "### Find average building consumption by owner \n",
        "For all owners that own more than one building, find the average consumption for buildings owned by the same owner. Your dataframe should have 2 columns called _Weather Normalized Site EUI (kBtu/ft²)_\tand _counts_\n",
        "\n",
        "**Who owns the most energy consuming buildings on average?**\n",
        "\n",
        "**Who owns the most buildings**"
      ]
    },
    {
      "cell_type": "code",
      "metadata": {
        "id": "uXCIZONDLrTD",
        "colab_type": "code",
        "colab": {}
      },
      "source": [
        ""
      ],
      "execution_count": 0,
      "outputs": []
    },
    {
      "cell_type": "markdown",
      "metadata": {
        "id": "Y9amLZSHxC26",
        "colab_type": "text"
      },
      "source": [
        "# 667 and EC\n",
        "\n",
        "Universities are big realtors in NYC. The may own by different names. Find all builgings owned by NYU and COLUMBIA. replace the ownename with NYU and COLUMBIA respectively and re-aggregate the data based on these names and again find the owner of the buildings that pon average consume the most, of the highest number of buildings, and that owns the most sq footage "
      ]
    },
    {
      "cell_type": "code",
      "metadata": {
        "id": "vhpxcsYKC0B3",
        "colab_type": "code",
        "colab": {}
      },
      "source": [
        ""
      ],
      "execution_count": 0,
      "outputs": []
    }
  ]
}
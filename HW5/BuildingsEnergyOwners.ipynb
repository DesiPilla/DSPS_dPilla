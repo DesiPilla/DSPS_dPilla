{
  "nbformat": 4,
  "nbformat_minor": 0,
  "metadata": {
    "colab": {
      "name": "BuildingsEnergyOwners.ipynb",
      "provenance": [],
      "collapsed_sections": [],
      "include_colab_link": true
    },
    "kernelspec": {
      "display_name": "Python 3",
      "language": "python",
      "name": "python3"
    },
    "language_info": {
      "codemirror_mode": {
        "name": "ipython",
        "version": 3
      },
      "file_extension": ".py",
      "mimetype": "text/x-python",
      "name": "python",
      "nbconvert_exporter": "python",
      "pygments_lexer": "ipython3",
      "version": "3.7.3"
    },
    "latex_envs": {
      "LaTeX_envs_menu_present": true,
      "autoclose": false,
      "autocomplete": true,
      "bibliofile": "biblio.bib",
      "cite_by": "apalike",
      "current_citInitial": 1,
      "eqLabelWithNumbers": true,
      "eqNumInitial": 1,
      "hotkeys": {
        "equation": "Ctrl-E",
        "itemize": "Ctrl-I"
      },
      "labels_anchors": false,
      "latex_user_defs": false,
      "report_style_numbering": false,
      "user_envs_cfg": false
    },
    "nbTranslate": {
      "displayLangs": [
        "*"
      ],
      "hotkey": "alt-t",
      "langInMainMenu": true,
      "sourceLang": "en",
      "targetLang": "fr",
      "useGoogleTranslate": true
    },
    "toc": {
      "base_numbering": 1,
      "nav_menu": {},
      "number_sections": true,
      "sideBar": true,
      "skip_h1_title": false,
      "title_cell": "Table of Contents",
      "title_sidebar": "Contents",
      "toc_cell": false,
      "toc_position": {},
      "toc_section_display": true,
      "toc_window_display": false
    }
  },
  "cells": [
    {
      "cell_type": "markdown",
      "metadata": {
        "id": "view-in-github",
        "colab_type": "text"
      },
      "source": [
        "<a href=\"https://colab.research.google.com/github/DesiPilla/DSPS_dPilla/blob/master/HW5/BuildingsEnergyOwners.ipynb\" target=\"_parent\"><img src=\"https://colab.research.google.com/assets/colab-badge.svg\" alt=\"Open In Colab\"/></a>"
      ]
    },
    {
      "cell_type": "code",
      "metadata": {
        "colab_type": "code",
        "id": "mwsn7ih7RWle",
        "outputId": "650d2620-a04b-45e2-9ded-ed3df3240bd6",
        "colab": {
          "base_uri": "https://localhost:8080/",
          "height": 122
        }
      },
      "source": [
        "# -- link google drive\n",
        "from google.colab import drive\n",
        "drive.mount(\"/content/drive\")"
      ],
      "execution_count": 1,
      "outputs": [
        {
          "output_type": "stream",
          "text": [
            "Go to this URL in a browser: https://accounts.google.com/o/oauth2/auth?client_id=947318989803-6bn6qk8qdgf4n4g3pfee6491hc0brc4i.apps.googleusercontent.com&redirect_uri=urn%3Aietf%3Awg%3Aoauth%3A2.0%3Aoob&scope=email%20https%3A%2F%2Fwww.googleapis.com%2Fauth%2Fdocs.test%20https%3A%2F%2Fwww.googleapis.com%2Fauth%2Fdrive%20https%3A%2F%2Fwww.googleapis.com%2Fauth%2Fdrive.photos.readonly%20https%3A%2F%2Fwww.googleapis.com%2Fauth%2Fpeopleapi.readonly&response_type=code\n",
            "\n",
            "Enter your authorization code:\n",
            "··········\n",
            "Mounted at /content/drive\n"
          ],
          "name": "stdout"
        }
      ]
    },
    {
      "cell_type": "code",
      "metadata": {
        "ExecuteTime": {
          "end_time": "2019-09-24T21:52:47.068553Z",
          "start_time": "2019-09-24T21:52:47.065670Z"
        },
        "colab_type": "code",
        "id": "yav2dVuWJn_T",
        "colab": {}
      },
      "source": [
        "# -- useful imports\n",
        "import numpy as np\n",
        "import pandas as pd\n",
        "import matplotlib.pyplot as pl\n",
        "import scipy as sp\n",
        "from scipy import stats"
      ],
      "execution_count": 0,
      "outputs": []
    },
    {
      "cell_type": "markdown",
      "metadata": {
        "id": "rCnUCueiY5Xt",
        "colab_type": "text"
      },
      "source": [
        "# data retrival\n",
        "### LL84\n",
        "get the Local Law 84 (ll84) data from the URL: https://data.cityofnewyork.us/api/views/8u86-bviy/rows.csv and read it in with Pandas\n",
        "\n",
        "### Pluto\n",
        "Download the pluto csv data and store it in your google drive. \n",
        "\n",
        "You can find the data here \n",
        "https://www1.nyc.gov/site/planning/data-maps/open-data/dwn-pluto-mappluto.page\n",
        "\n",
        "IMPORTANT: store it in the path *drive/My Drive/dsps/ with the name pluto_18v2_1.csv*\n",
        "\n",
        "This path and name have to be exact. This way the grader and I will be able to run your notebook without changing anything as long as we also have stored the data in path drive/My Drive/dsps/pluto_18v2_1.csv. This is part of the _reproducibility_ requirement."
      ]
    },
    {
      "cell_type": "code",
      "metadata": {
        "id": "R94ymqN5gEUR",
        "colab_type": "code",
        "colab": {}
      },
      "source": [
        "ll84 = pd.read_csv('https://data.cityofnewyork.us/api/views/8u86-bviy/rows.csv')"
      ],
      "execution_count": 0,
      "outputs": []
    },
    {
      "cell_type": "code",
      "metadata": {
        "id": "1QiKfa8RgERt",
        "colab_type": "code",
        "colab": {
          "base_uri": "https://localhost:8080/",
          "height": 34
        },
        "outputId": "5e0dee20-5182-46e5-bad1-ade0a643e781"
      },
      "source": [
        "mkdir \"drive/My Drive/dsps\""
      ],
      "execution_count": 4,
      "outputs": [
        {
          "output_type": "stream",
          "text": [
            "mkdir: cannot create directory ‘drive/My Drive/dsps’: File exists\n"
          ],
          "name": "stdout"
        }
      ]
    },
    {
      "cell_type": "code",
      "metadata": {
        "id": "830L63uM93FK",
        "colab_type": "code",
        "colab": {
          "base_uri": "https://localhost:8080/",
          "height": 34
        },
        "outputId": "4fc9b878-d9ca-405c-de4e-c8102595640a"
      },
      "source": [
        "cd \"drive/My Drive/dsps\""
      ],
      "execution_count": 5,
      "outputs": [
        {
          "output_type": "stream",
          "text": [
            "/content/drive/My Drive/dsps\n"
          ],
          "name": "stdout"
        }
      ]
    },
    {
      "cell_type": "code",
      "metadata": {
        "id": "IPf_8Nm09aOY",
        "colab_type": "code",
        "colab": {
          "base_uri": "https://localhost:8080/",
          "height": 224
        },
        "outputId": "3707d157-0ddc-4f8b-b6fe-fa8ae0216d7b"
      },
      "source": [
        "!wget https://www1.nyc.gov/assets/planning/download/zip/data-maps/open-data/nyc_pluto_18v2_1_csv.zip"
      ],
      "execution_count": 6,
      "outputs": [
        {
          "output_type": "stream",
          "text": [
            "--2019-09-30 02:23:10--  https://www1.nyc.gov/assets/planning/download/zip/data-maps/open-data/nyc_pluto_18v2_1_csv.zip\n",
            "Resolving www1.nyc.gov (www1.nyc.gov)... 23.6.165.12, 2600:1406:3c:38e::1500, 2600:1406:3c:383::1500\n",
            "Connecting to www1.nyc.gov (www1.nyc.gov)|23.6.165.12|:443... connected.\n",
            "HTTP request sent, awaiting response... 200 OK\n",
            "Length: 82994022 (79M) [application/zip]\n",
            "Saving to: ‘nyc_pluto_18v2_1_csv.zip’\n",
            "\n",
            "nyc_pluto_18v2_1_cs 100%[===================>]  79.15M  1.14MB/s    in 77s     \n",
            "\n",
            "2019-09-30 02:24:28 (1.03 MB/s) - ‘nyc_pluto_18v2_1_csv.zip’ saved [82994022/82994022]\n",
            "\n"
          ],
          "name": "stdout"
        }
      ]
    },
    {
      "cell_type": "code",
      "metadata": {
        "id": "Vez-6e7C9tCt",
        "colab_type": "code",
        "colab": {
          "base_uri": "https://localhost:8080/",
          "height": 136
        },
        "outputId": "929901a3-93e0-4736-d38d-df08d4872c70"
      },
      "source": [
        "!unzip nyc_pluto_18v2_1_csv.zip"
      ],
      "execution_count": 7,
      "outputs": [
        {
          "output_type": "stream",
          "text": [
            "Archive:  nyc_pluto_18v2_1_csv.zip\n",
            "replace pluto_18v2_1.csv? [y]es, [n]o, [A]ll, [N]one, [r]ename: y\n",
            "  inflating: pluto_18v2_1.csv        y\n",
            "y\n",
            "\n",
            "  inflating: PLUTODD18v2.1.pdf       \n",
            "  inflating: PlutoReadme18v2.1.pdf   \n"
          ],
          "name": "stdout"
        }
      ]
    },
    {
      "cell_type": "code",
      "metadata": {
        "id": "3NBmabIjkbyO",
        "colab_type": "code",
        "colab": {
          "base_uri": "https://localhost:8080/",
          "height": 51
        },
        "outputId": "64be0cf1-cd41-4f4f-878b-fdda63a006aa"
      },
      "source": [
        "ls"
      ],
      "execution_count": 8,
      "outputs": [
        {
          "output_type": "stream",
          "text": [
            "\u001b[0m\u001b[01;34mdrive\u001b[0m/                    pluto_18v2_1.csv   PlutoReadme18v2.1.pdf\n",
            "nyc_pluto_18v2_1_csv.zip  PLUTODD18v2.1.pdf\n"
          ],
          "name": "stdout"
        }
      ]
    },
    {
      "cell_type": "code",
      "metadata": {
        "id": "tzqi0PEHksqd",
        "colab_type": "code",
        "colab": {
          "base_uri": "https://localhost:8080/",
          "height": 440
        },
        "outputId": "5717ff5e-a513-4447-e593-62d7af3a8bf6"
      },
      "source": [
        "pluto = pd.read_csv(\"pluto_18v2_1.csv\")\n",
        "pluto.head()"
      ],
      "execution_count": 9,
      "outputs": [
        {
          "output_type": "stream",
          "text": [
            "/usr/local/lib/python3.6/dist-packages/IPython/core/interactiveshell.py:2718: DtypeWarning: Columns (16,17,18,20,22,77) have mixed types. Specify dtype option on import or set low_memory=False.\n",
            "  interactivity=interactivity, compiler=compiler, result=result)\n"
          ],
          "name": "stderr"
        },
        {
          "output_type": "execute_result",
          "data": {
            "text/html": [
              "<div>\n",
              "<style scoped>\n",
              "    .dataframe tbody tr th:only-of-type {\n",
              "        vertical-align: middle;\n",
              "    }\n",
              "\n",
              "    .dataframe tbody tr th {\n",
              "        vertical-align: top;\n",
              "    }\n",
              "\n",
              "    .dataframe thead th {\n",
              "        text-align: right;\n",
              "    }\n",
              "</style>\n",
              "<table border=\"1\" class=\"dataframe\">\n",
              "  <thead>\n",
              "    <tr style=\"text-align: right;\">\n",
              "      <th></th>\n",
              "      <th>borough</th>\n",
              "      <th>block</th>\n",
              "      <th>lot</th>\n",
              "      <th>cd</th>\n",
              "      <th>ct2010</th>\n",
              "      <th>cb2010</th>\n",
              "      <th>schooldist</th>\n",
              "      <th>council</th>\n",
              "      <th>zipcode</th>\n",
              "      <th>firecomp</th>\n",
              "      <th>policeprct</th>\n",
              "      <th>healtharea</th>\n",
              "      <th>sanitboro</th>\n",
              "      <th>sanitsub</th>\n",
              "      <th>address</th>\n",
              "      <th>zonedist1</th>\n",
              "      <th>zonedist2</th>\n",
              "      <th>zonedist3</th>\n",
              "      <th>zonedist4</th>\n",
              "      <th>overlay1</th>\n",
              "      <th>overlay2</th>\n",
              "      <th>spdist1</th>\n",
              "      <th>spdist2</th>\n",
              "      <th>spdist3</th>\n",
              "      <th>ltdheight</th>\n",
              "      <th>splitzone</th>\n",
              "      <th>bldgclass</th>\n",
              "      <th>landuse</th>\n",
              "      <th>easements</th>\n",
              "      <th>ownertype</th>\n",
              "      <th>ownername</th>\n",
              "      <th>lotarea</th>\n",
              "      <th>bldgarea</th>\n",
              "      <th>comarea</th>\n",
              "      <th>resarea</th>\n",
              "      <th>officearea</th>\n",
              "      <th>retailarea</th>\n",
              "      <th>garagearea</th>\n",
              "      <th>strgearea</th>\n",
              "      <th>factryarea</th>\n",
              "      <th>...</th>\n",
              "      <th>assesstot</th>\n",
              "      <th>exemptland</th>\n",
              "      <th>exempttot</th>\n",
              "      <th>yearbuilt</th>\n",
              "      <th>yearalter1</th>\n",
              "      <th>yearalter2</th>\n",
              "      <th>histdist</th>\n",
              "      <th>landmark</th>\n",
              "      <th>builtfar</th>\n",
              "      <th>residfar</th>\n",
              "      <th>commfar</th>\n",
              "      <th>facilfar</th>\n",
              "      <th>borocode</th>\n",
              "      <th>bbl</th>\n",
              "      <th>condono</th>\n",
              "      <th>tract2010</th>\n",
              "      <th>xcoord</th>\n",
              "      <th>ycoord</th>\n",
              "      <th>zonemap</th>\n",
              "      <th>zmcode</th>\n",
              "      <th>sanborn</th>\n",
              "      <th>taxmap</th>\n",
              "      <th>edesignum</th>\n",
              "      <th>appbbl</th>\n",
              "      <th>appdate</th>\n",
              "      <th>mappluto_f</th>\n",
              "      <th>plutomapid</th>\n",
              "      <th>version</th>\n",
              "      <th>sanitdistrict</th>\n",
              "      <th>healthcenterdistrict</th>\n",
              "      <th>firm07_flag</th>\n",
              "      <th>pfirm15_flag</th>\n",
              "      <th>rpaddate</th>\n",
              "      <th>dcasdate</th>\n",
              "      <th>zoningdate</th>\n",
              "      <th>landmkdate</th>\n",
              "      <th>basempdate</th>\n",
              "      <th>masdate</th>\n",
              "      <th>polidate</th>\n",
              "      <th>edesigdate</th>\n",
              "    </tr>\n",
              "  </thead>\n",
              "  <tbody>\n",
              "    <tr>\n",
              "      <th>0</th>\n",
              "      <td>BX</td>\n",
              "      <td>5641.0</td>\n",
              "      <td>670.0</td>\n",
              "      <td>210.0</td>\n",
              "      <td>516.0</td>\n",
              "      <td>2.0</td>\n",
              "      <td>NaN</td>\n",
              "      <td>13.0</td>\n",
              "      <td>NaN</td>\n",
              "      <td>NaN</td>\n",
              "      <td>NaN</td>\n",
              "      <td>NaN</td>\n",
              "      <td>NaN</td>\n",
              "      <td></td>\n",
              "      <td>CITY ISLAND AVENUE</td>\n",
              "      <td>NaN</td>\n",
              "      <td>NaN</td>\n",
              "      <td>NaN</td>\n",
              "      <td>NaN</td>\n",
              "      <td>NaN</td>\n",
              "      <td>NaN</td>\n",
              "      <td>NaN</td>\n",
              "      <td>NaN</td>\n",
              "      <td>NaN</td>\n",
              "      <td>NaN</td>\n",
              "      <td>NaN</td>\n",
              "      <td>T2</td>\n",
              "      <td>7.0</td>\n",
              "      <td>0.0</td>\n",
              "      <td>NaN</td>\n",
              "      <td>MINNY C INC.</td>\n",
              "      <td>53758.0</td>\n",
              "      <td>0.0</td>\n",
              "      <td>NaN</td>\n",
              "      <td>NaN</td>\n",
              "      <td>NaN</td>\n",
              "      <td>NaN</td>\n",
              "      <td>NaN</td>\n",
              "      <td>NaN</td>\n",
              "      <td>NaN</td>\n",
              "      <td>...</td>\n",
              "      <td>59400.0</td>\n",
              "      <td>0.0</td>\n",
              "      <td>0.0</td>\n",
              "      <td>0.0</td>\n",
              "      <td>0.0</td>\n",
              "      <td>0.0</td>\n",
              "      <td>NaN</td>\n",
              "      <td>NaN</td>\n",
              "      <td>0.00</td>\n",
              "      <td>0.00</td>\n",
              "      <td>0.0</td>\n",
              "      <td>0.0</td>\n",
              "      <td>2.0</td>\n",
              "      <td>2.056411e+09</td>\n",
              "      <td>0.0</td>\n",
              "      <td>516.0</td>\n",
              "      <td>1044510.0</td>\n",
              "      <td>246734.0</td>\n",
              "      <td>4d</td>\n",
              "      <td>NaN</td>\n",
              "      <td>218 068</td>\n",
              "      <td>21810</td>\n",
              "      <td>NaN</td>\n",
              "      <td>2.056411e+09</td>\n",
              "      <td>1/5/2005</td>\n",
              "      <td>NaN</td>\n",
              "      <td>4.0</td>\n",
              "      <td>18v2.1</td>\n",
              "      <td>NaN</td>\n",
              "      <td>NaN</td>\n",
              "      <td>1.0</td>\n",
              "      <td>1.0</td>\n",
              "      <td>12/6/2018</td>\n",
              "      <td>12/20/2018</td>\n",
              "      <td>12/21/2018</td>\n",
              "      <td>12/20/2018</td>\n",
              "      <td>12/21/2018</td>\n",
              "      <td>NaN</td>\n",
              "      <td>NaN</td>\n",
              "      <td>12/20/2018</td>\n",
              "    </tr>\n",
              "    <tr>\n",
              "      <th>1</th>\n",
              "      <td>QN</td>\n",
              "      <td>3935.0</td>\n",
              "      <td>3.0</td>\n",
              "      <td>407.0</td>\n",
              "      <td>929.0</td>\n",
              "      <td>1001.0</td>\n",
              "      <td>25.0</td>\n",
              "      <td>19.0</td>\n",
              "      <td>11356.0</td>\n",
              "      <td>E297</td>\n",
              "      <td>109.0</td>\n",
              "      <td>210.0</td>\n",
              "      <td>4.0</td>\n",
              "      <td>5D</td>\n",
              "      <td>8-03 117 STREET</td>\n",
              "      <td>R2A</td>\n",
              "      <td>NaN</td>\n",
              "      <td>NaN</td>\n",
              "      <td>NaN</td>\n",
              "      <td>NaN</td>\n",
              "      <td>NaN</td>\n",
              "      <td>NaN</td>\n",
              "      <td>NaN</td>\n",
              "      <td>NaN</td>\n",
              "      <td>NaN</td>\n",
              "      <td>N</td>\n",
              "      <td>A1</td>\n",
              "      <td>1.0</td>\n",
              "      <td>0.0</td>\n",
              "      <td>NaN</td>\n",
              "      <td>CHEN, ZHIBIN</td>\n",
              "      <td>10870.0</td>\n",
              "      <td>3130.0</td>\n",
              "      <td>0.0</td>\n",
              "      <td>3130.0</td>\n",
              "      <td>0.0</td>\n",
              "      <td>0.0</td>\n",
              "      <td>0.0</td>\n",
              "      <td>0.0</td>\n",
              "      <td>0.0</td>\n",
              "      <td>...</td>\n",
              "      <td>53083.0</td>\n",
              "      <td>0.0</td>\n",
              "      <td>0.0</td>\n",
              "      <td>1915.0</td>\n",
              "      <td>1995.0</td>\n",
              "      <td>1996.0</td>\n",
              "      <td>NaN</td>\n",
              "      <td>NaN</td>\n",
              "      <td>0.29</td>\n",
              "      <td>0.50</td>\n",
              "      <td>0.0</td>\n",
              "      <td>1.0</td>\n",
              "      <td>4.0</td>\n",
              "      <td>4.039350e+09</td>\n",
              "      <td>0.0</td>\n",
              "      <td>929.0</td>\n",
              "      <td>1025679.0</td>\n",
              "      <td>227096.0</td>\n",
              "      <td>7b</td>\n",
              "      <td>NaN</td>\n",
              "      <td>405 037</td>\n",
              "      <td>42101</td>\n",
              "      <td>NaN</td>\n",
              "      <td>0.000000e+00</td>\n",
              "      <td>NaN</td>\n",
              "      <td>NaN</td>\n",
              "      <td>1.0</td>\n",
              "      <td>18v2.1</td>\n",
              "      <td>7.0</td>\n",
              "      <td>43.0</td>\n",
              "      <td>NaN</td>\n",
              "      <td>NaN</td>\n",
              "      <td>12/6/2018</td>\n",
              "      <td>12/20/2018</td>\n",
              "      <td>12/21/2018</td>\n",
              "      <td>12/20/2018</td>\n",
              "      <td>12/21/2018</td>\n",
              "      <td>NaN</td>\n",
              "      <td>NaN</td>\n",
              "      <td>12/20/2018</td>\n",
              "    </tr>\n",
              "    <tr>\n",
              "      <th>2</th>\n",
              "      <td>BX</td>\n",
              "      <td>4205.0</td>\n",
              "      <td>41.0</td>\n",
              "      <td>211.0</td>\n",
              "      <td>296.0</td>\n",
              "      <td>2000.0</td>\n",
              "      <td>11.0</td>\n",
              "      <td>13.0</td>\n",
              "      <td>NaN</td>\n",
              "      <td>Q061</td>\n",
              "      <td>49.0</td>\n",
              "      <td>1410.0</td>\n",
              "      <td>2.0</td>\n",
              "      <td>2E</td>\n",
              "      <td>SEMINOLE AVENUE</td>\n",
              "      <td>R4</td>\n",
              "      <td>NaN</td>\n",
              "      <td>NaN</td>\n",
              "      <td>NaN</td>\n",
              "      <td>NaN</td>\n",
              "      <td>NaN</td>\n",
              "      <td>NaN</td>\n",
              "      <td>NaN</td>\n",
              "      <td>NaN</td>\n",
              "      <td>NaN</td>\n",
              "      <td>N</td>\n",
              "      <td>V0</td>\n",
              "      <td>11.0</td>\n",
              "      <td>0.0</td>\n",
              "      <td>NaN</td>\n",
              "      <td>EDWARD AND LORRAINE S</td>\n",
              "      <td>2369.0</td>\n",
              "      <td>0.0</td>\n",
              "      <td>NaN</td>\n",
              "      <td>NaN</td>\n",
              "      <td>NaN</td>\n",
              "      <td>NaN</td>\n",
              "      <td>NaN</td>\n",
              "      <td>NaN</td>\n",
              "      <td>NaN</td>\n",
              "      <td>...</td>\n",
              "      <td>5361.0</td>\n",
              "      <td>0.0</td>\n",
              "      <td>0.0</td>\n",
              "      <td>0.0</td>\n",
              "      <td>0.0</td>\n",
              "      <td>0.0</td>\n",
              "      <td>NaN</td>\n",
              "      <td>NaN</td>\n",
              "      <td>0.00</td>\n",
              "      <td>0.90</td>\n",
              "      <td>0.0</td>\n",
              "      <td>2.0</td>\n",
              "      <td>2.0</td>\n",
              "      <td>2.042050e+09</td>\n",
              "      <td>0.0</td>\n",
              "      <td>296.0</td>\n",
              "      <td>1026345.0</td>\n",
              "      <td>249922.0</td>\n",
              "      <td>4a</td>\n",
              "      <td>NaN</td>\n",
              "      <td>220 053</td>\n",
              "      <td>21509</td>\n",
              "      <td>NaN</td>\n",
              "      <td>0.000000e+00</td>\n",
              "      <td>NaN</td>\n",
              "      <td>NaN</td>\n",
              "      <td>1.0</td>\n",
              "      <td>18v2.1</td>\n",
              "      <td>11.0</td>\n",
              "      <td>26.0</td>\n",
              "      <td>NaN</td>\n",
              "      <td>NaN</td>\n",
              "      <td>12/6/2018</td>\n",
              "      <td>12/20/2018</td>\n",
              "      <td>12/21/2018</td>\n",
              "      <td>12/20/2018</td>\n",
              "      <td>12/21/2018</td>\n",
              "      <td>NaN</td>\n",
              "      <td>NaN</td>\n",
              "      <td>12/20/2018</td>\n",
              "    </tr>\n",
              "    <tr>\n",
              "      <th>3</th>\n",
              "      <td>BX</td>\n",
              "      <td>2402.0</td>\n",
              "      <td>14.0</td>\n",
              "      <td>201.0</td>\n",
              "      <td>69.0</td>\n",
              "      <td>2005.0</td>\n",
              "      <td>7.0</td>\n",
              "      <td>17.0</td>\n",
              "      <td>NaN</td>\n",
              "      <td>L055</td>\n",
              "      <td>40.0</td>\n",
              "      <td>3900.0</td>\n",
              "      <td>2.0</td>\n",
              "      <td>1B</td>\n",
              "      <td>EAST 156 STREET</td>\n",
              "      <td>R6</td>\n",
              "      <td>NaN</td>\n",
              "      <td>NaN</td>\n",
              "      <td>NaN</td>\n",
              "      <td>NaN</td>\n",
              "      <td>NaN</td>\n",
              "      <td>NaN</td>\n",
              "      <td>NaN</td>\n",
              "      <td>NaN</td>\n",
              "      <td>NaN</td>\n",
              "      <td>N</td>\n",
              "      <td>G7</td>\n",
              "      <td>10.0</td>\n",
              "      <td>0.0</td>\n",
              "      <td>NaN</td>\n",
              "      <td>156, LLC</td>\n",
              "      <td>3750.0</td>\n",
              "      <td>0.0</td>\n",
              "      <td>NaN</td>\n",
              "      <td>NaN</td>\n",
              "      <td>NaN</td>\n",
              "      <td>NaN</td>\n",
              "      <td>NaN</td>\n",
              "      <td>NaN</td>\n",
              "      <td>NaN</td>\n",
              "      <td>...</td>\n",
              "      <td>81000.0</td>\n",
              "      <td>0.0</td>\n",
              "      <td>0.0</td>\n",
              "      <td>0.0</td>\n",
              "      <td>0.0</td>\n",
              "      <td>0.0</td>\n",
              "      <td>NaN</td>\n",
              "      <td>NaN</td>\n",
              "      <td>0.00</td>\n",
              "      <td>2.43</td>\n",
              "      <td>0.0</td>\n",
              "      <td>4.8</td>\n",
              "      <td>2.0</td>\n",
              "      <td>2.024020e+09</td>\n",
              "      <td>0.0</td>\n",
              "      <td>69.0</td>\n",
              "      <td>1007336.0</td>\n",
              "      <td>238351.0</td>\n",
              "      <td>6a</td>\n",
              "      <td>NaN</td>\n",
              "      <td>209N080</td>\n",
              "      <td>20905</td>\n",
              "      <td>NaN</td>\n",
              "      <td>0.000000e+00</td>\n",
              "      <td>NaN</td>\n",
              "      <td>NaN</td>\n",
              "      <td>1.0</td>\n",
              "      <td>18v2.1</td>\n",
              "      <td>1.0</td>\n",
              "      <td>23.0</td>\n",
              "      <td>NaN</td>\n",
              "      <td>NaN</td>\n",
              "      <td>12/6/2018</td>\n",
              "      <td>12/20/2018</td>\n",
              "      <td>12/21/2018</td>\n",
              "      <td>12/20/2018</td>\n",
              "      <td>12/21/2018</td>\n",
              "      <td>NaN</td>\n",
              "      <td>NaN</td>\n",
              "      <td>12/20/2018</td>\n",
              "    </tr>\n",
              "    <tr>\n",
              "      <th>4</th>\n",
              "      <td>SI</td>\n",
              "      <td>63.0</td>\n",
              "      <td>83.0</td>\n",
              "      <td>501.0</td>\n",
              "      <td>81.0</td>\n",
              "      <td>2006.0</td>\n",
              "      <td>31.0</td>\n",
              "      <td>49.0</td>\n",
              "      <td>10301.0</td>\n",
              "      <td>E155</td>\n",
              "      <td>120.0</td>\n",
              "      <td>400.0</td>\n",
              "      <td>5.0</td>\n",
              "      <td>2C</td>\n",
              "      <td>216 FRANKLIN AVENUE</td>\n",
              "      <td>R2</td>\n",
              "      <td>NaN</td>\n",
              "      <td>NaN</td>\n",
              "      <td>NaN</td>\n",
              "      <td>NaN</td>\n",
              "      <td>NaN</td>\n",
              "      <td>HS</td>\n",
              "      <td>NaN</td>\n",
              "      <td>NaN</td>\n",
              "      <td>NaN</td>\n",
              "      <td>N</td>\n",
              "      <td>A1</td>\n",
              "      <td>1.0</td>\n",
              "      <td>0.0</td>\n",
              "      <td>NaN</td>\n",
              "      <td>DENNIS COTTER</td>\n",
              "      <td>3465.0</td>\n",
              "      <td>1590.0</td>\n",
              "      <td>0.0</td>\n",
              "      <td>1590.0</td>\n",
              "      <td>0.0</td>\n",
              "      <td>0.0</td>\n",
              "      <td>0.0</td>\n",
              "      <td>0.0</td>\n",
              "      <td>0.0</td>\n",
              "      <td>...</td>\n",
              "      <td>20044.0</td>\n",
              "      <td>1460.0</td>\n",
              "      <td>1460.0</td>\n",
              "      <td>1901.0</td>\n",
              "      <td>0.0</td>\n",
              "      <td>0.0</td>\n",
              "      <td>NaN</td>\n",
              "      <td>NaN</td>\n",
              "      <td>0.46</td>\n",
              "      <td>0.50</td>\n",
              "      <td>0.0</td>\n",
              "      <td>1.0</td>\n",
              "      <td>5.0</td>\n",
              "      <td>5.000630e+09</td>\n",
              "      <td>0.0</td>\n",
              "      <td>81.0</td>\n",
              "      <td>958845.0</td>\n",
              "      <td>172482.0</td>\n",
              "      <td>21a</td>\n",
              "      <td>NaN</td>\n",
              "      <td>501 082</td>\n",
              "      <td>50102</td>\n",
              "      <td>NaN</td>\n",
              "      <td>0.000000e+00</td>\n",
              "      <td>NaN</td>\n",
              "      <td>NaN</td>\n",
              "      <td>1.0</td>\n",
              "      <td>18v2.1</td>\n",
              "      <td>1.0</td>\n",
              "      <td>51.0</td>\n",
              "      <td>NaN</td>\n",
              "      <td>NaN</td>\n",
              "      <td>12/6/2018</td>\n",
              "      <td>12/20/2018</td>\n",
              "      <td>12/21/2018</td>\n",
              "      <td>12/20/2018</td>\n",
              "      <td>12/21/2018</td>\n",
              "      <td>NaN</td>\n",
              "      <td>NaN</td>\n",
              "      <td>12/20/2018</td>\n",
              "    </tr>\n",
              "  </tbody>\n",
              "</table>\n",
              "<p>5 rows × 96 columns</p>\n",
              "</div>"
            ],
            "text/plain": [
              "  borough   block    lot     cd  ...  basempdate  masdate  polidate  edesigdate\n",
              "0      BX  5641.0  670.0  210.0  ...  12/21/2018      NaN       NaN  12/20/2018\n",
              "1      QN  3935.0    3.0  407.0  ...  12/21/2018      NaN       NaN  12/20/2018\n",
              "2      BX  4205.0   41.0  211.0  ...  12/21/2018      NaN       NaN  12/20/2018\n",
              "3      BX  2402.0   14.0  201.0  ...  12/21/2018      NaN       NaN  12/20/2018\n",
              "4      SI    63.0   83.0  501.0  ...  12/21/2018      NaN       NaN  12/20/2018\n",
              "\n",
              "[5 rows x 96 columns]"
            ]
          },
          "metadata": {
            "tags": []
          },
          "execution_count": 9
        }
      ]
    },
    {
      "cell_type": "markdown",
      "metadata": {
        "id": "Jns_yfQ2Y5Xz",
        "colab_type": "text"
      },
      "source": [
        "# data fusion\n",
        "\n",
        "### select data\n",
        "select the data for buildings _in the borough of Manhattan_ only from the pluto file (you can do it broadcasting!)\n",
        "\n",
        "### merge\n",
        "merge the pluto and ll84 dataframes. you will have to choose an appropriate column that both datasets share fo do so. The column may not have the same nbame, but should have the same _variable_."
      ]
    },
    {
      "cell_type": "code",
      "metadata": {
        "id": "Vr6k_D7Ck6JI",
        "colab_type": "code",
        "colab": {
          "base_uri": "https://localhost:8080/",
          "height": 34
        },
        "outputId": "87349e9f-5227-4f12-cd36-5c945e12450e"
      },
      "source": [
        "pluto = pluto[pluto[\"borough\"] == \"MN\"]\n",
        "pluto.shape"
      ],
      "execution_count": 10,
      "outputs": [
        {
          "output_type": "execute_result",
          "data": {
            "text/plain": [
              "(42897, 96)"
            ]
          },
          "metadata": {
            "tags": []
          },
          "execution_count": 10
        }
      ]
    },
    {
      "cell_type": "code",
      "metadata": {
        "id": "lRVazRnIqgmV",
        "colab_type": "code",
        "colab": {
          "base_uri": "https://localhost:8080/",
          "height": 34
        },
        "outputId": "70a2ffbe-ebf8-4bab-8be4-e01c80006573"
      },
      "source": [
        "joined = pd.merge(pluto, ll84, left_on = \"bbl\", right_on =  \"BBL - 10 digits\")\n",
        "joined.shape"
      ],
      "execution_count": 134,
      "outputs": [
        {
          "output_type": "execute_result",
          "data": {
            "text/plain": [
              "(5196, 156)"
            ]
          },
          "metadata": {
            "tags": []
          },
          "execution_count": 134
        }
      ]
    },
    {
      "cell_type": "markdown",
      "metadata": {
        "id": "eExs_TXwlQkT",
        "colab_type": "text"
      },
      "source": [
        "# data exploration and cleaning\n",
        "\n",
        "### extact columns\n",
        "extract the columns listed in the file \"columns.txt\" from the dataset.\n",
        "\n",
        "convert the resulting dataset to numerical, converting non-numerical values to NaN. drop rows that contain invalid values and save the resulting dataframe (_reducted_ dataframe)"
      ]
    },
    {
      "cell_type": "code",
      "metadata": {
        "id": "CkGZ4rZZunG4",
        "colab_type": "code",
        "colab": {
          "base_uri": "https://localhost:8080/",
          "height": 156
        },
        "outputId": "32db84d2-2196-4157-dde5-5ddcd9e30b68"
      },
      "source": [
        "columns = pd.read_table(\"https://raw.githubusercontent.com/fedhere/DSPS/master/HW5/columns.txt\", header = None)\n",
        "columns = columns[0].values.tolist()\n",
        "print(columns)\n",
        "\n",
        "\n",
        "data = joined[columns]\n",
        "data = data.convert_objects(convert_numeric = True)\n",
        "reduced = data.dropna(thresh = 22)\n",
        "reduced.shape"
      ],
      "execution_count": 135,
      "outputs": [
        {
          "output_type": "stream",
          "text": [
            "/usr/local/lib/python3.6/dist-packages/ipykernel_launcher.py:1: FutureWarning: read_table is deprecated, use read_csv instead, passing sep='\\t'.\n",
            "  \"\"\"Entry point for launching an IPython kernel.\n"
          ],
          "name": "stderr"
        },
        {
          "output_type": "stream",
          "text": [
            "['DOF Gross Floor Area', 'Year Built', 'Number of Buildings - Self-reported', 'Occupancy', 'ENERGY STAR Score', 'Site EUI (kBtu/ft²)', 'Weather Normalized Site EUI (kBtu/ft²)', 'Weather Normalized Site Electricity Intensity (kWh/ft²)', 'Weather Normalized Site Natural Gas Intensity (therms/ft²)', 'Weather Normalized Source EUI (kBtu/ft²)', 'Electricity Use - Grid Purchase (kBtu)', 'Total GHG Emissions (Metric Tons CO2e)', 'Property GFA - Self-Reported (ft²)', 'Water Use (All Water Sources) (kgal)', 'Water Intensity (All Water Sources) (gal/ft²)', 'Source EUI (kBtu/ft²)', 'bldgarea', 'numbldgs', 'numfloors', 'unitsres', 'unitstotal', 'yearalter1']\n"
          ],
          "name": "stdout"
        },
        {
          "output_type": "stream",
          "text": [
            "/usr/local/lib/python3.6/dist-packages/ipykernel_launcher.py:7: FutureWarning: convert_objects is deprecated.  To re-infer data dtypes for object columns, use DataFrame.infer_objects()\n",
            "For all other conversions use the data-type specific converters pd.to_datetime, pd.to_timedelta and pd.to_numeric.\n",
            "  import sys\n"
          ],
          "name": "stderr"
        },
        {
          "output_type": "execute_result",
          "data": {
            "text/plain": [
              "(2044, 22)"
            ]
          },
          "metadata": {
            "tags": []
          },
          "execution_count": 135
        }
      ]
    },
    {
      "cell_type": "code",
      "metadata": {
        "id": "SPq5cOykyp_B",
        "colab_type": "code",
        "colab": {
          "base_uri": "https://localhost:8080/",
          "height": 309
        },
        "outputId": "4f528e20-6350-4795-e02a-3e59c02b08f1"
      },
      "source": [
        "reduced.head()"
      ],
      "execution_count": 136,
      "outputs": [
        {
          "output_type": "execute_result",
          "data": {
            "text/html": [
              "<div>\n",
              "<style scoped>\n",
              "    .dataframe tbody tr th:only-of-type {\n",
              "        vertical-align: middle;\n",
              "    }\n",
              "\n",
              "    .dataframe tbody tr th {\n",
              "        vertical-align: top;\n",
              "    }\n",
              "\n",
              "    .dataframe thead th {\n",
              "        text-align: right;\n",
              "    }\n",
              "</style>\n",
              "<table border=\"1\" class=\"dataframe\">\n",
              "  <thead>\n",
              "    <tr style=\"text-align: right;\">\n",
              "      <th></th>\n",
              "      <th>DOF Gross Floor Area</th>\n",
              "      <th>Year Built</th>\n",
              "      <th>Number of Buildings - Self-reported</th>\n",
              "      <th>Occupancy</th>\n",
              "      <th>ENERGY STAR Score</th>\n",
              "      <th>Site EUI (kBtu/ft²)</th>\n",
              "      <th>Weather Normalized Site EUI (kBtu/ft²)</th>\n",
              "      <th>Weather Normalized Site Electricity Intensity (kWh/ft²)</th>\n",
              "      <th>Weather Normalized Site Natural Gas Intensity (therms/ft²)</th>\n",
              "      <th>Weather Normalized Source EUI (kBtu/ft²)</th>\n",
              "      <th>Electricity Use - Grid Purchase (kBtu)</th>\n",
              "      <th>Total GHG Emissions (Metric Tons CO2e)</th>\n",
              "      <th>Property GFA - Self-Reported (ft²)</th>\n",
              "      <th>Water Use (All Water Sources) (kgal)</th>\n",
              "      <th>Water Intensity (All Water Sources) (gal/ft²)</th>\n",
              "      <th>Source EUI (kBtu/ft²)</th>\n",
              "      <th>bldgarea</th>\n",
              "      <th>numbldgs</th>\n",
              "      <th>numfloors</th>\n",
              "      <th>unitsres</th>\n",
              "      <th>unitstotal</th>\n",
              "      <th>yearalter1</th>\n",
              "    </tr>\n",
              "  </thead>\n",
              "  <tbody>\n",
              "    <tr>\n",
              "      <th>0</th>\n",
              "      <td>672462.000</td>\n",
              "      <td>1960</td>\n",
              "      <td>1</td>\n",
              "      <td>100</td>\n",
              "      <td>54.000</td>\n",
              "      <td>119.000</td>\n",
              "      <td>117.700</td>\n",
              "      <td>15.700</td>\n",
              "      <td>0.000</td>\n",
              "      <td>244.900</td>\n",
              "      <td>39568525.500</td>\n",
              "      <td>6852.700</td>\n",
              "      <td>736974</td>\n",
              "      <td>19175.100</td>\n",
              "      <td>26.020</td>\n",
              "      <td>246.900</td>\n",
              "      <td>672462.000</td>\n",
              "      <td>1.000</td>\n",
              "      <td>33.000</td>\n",
              "      <td>0.000</td>\n",
              "      <td>1.000</td>\n",
              "      <td>2004.000</td>\n",
              "    </tr>\n",
              "    <tr>\n",
              "      <th>3</th>\n",
              "      <td>156508.000</td>\n",
              "      <td>1920</td>\n",
              "      <td>1</td>\n",
              "      <td>100</td>\n",
              "      <td>91.000</td>\n",
              "      <td>64.500</td>\n",
              "      <td>66.400</td>\n",
              "      <td>10.500</td>\n",
              "      <td>0.000</td>\n",
              "      <td>143.400</td>\n",
              "      <td>5752573.800</td>\n",
              "      <td>844.200</td>\n",
              "      <td>156446</td>\n",
              "      <td>3008.100</td>\n",
              "      <td>19.230</td>\n",
              "      <td>143.600</td>\n",
              "      <td>156508.000</td>\n",
              "      <td>1.000</td>\n",
              "      <td>12.000</td>\n",
              "      <td>0.000</td>\n",
              "      <td>12.000</td>\n",
              "      <td>0.000</td>\n",
              "    </tr>\n",
              "    <tr>\n",
              "      <th>7</th>\n",
              "      <td>2542563.000</td>\n",
              "      <td>1970</td>\n",
              "      <td>1</td>\n",
              "      <td>100</td>\n",
              "      <td>84.000</td>\n",
              "      <td>104.800</td>\n",
              "      <td>105.900</td>\n",
              "      <td>14.500</td>\n",
              "      <td>0.200</td>\n",
              "      <td>220.400</td>\n",
              "      <td>116307222.200</td>\n",
              "      <td>19319.900</td>\n",
              "      <td>2428325</td>\n",
              "      <td>49920.300</td>\n",
              "      <td>20.560</td>\n",
              "      <td>215.800</td>\n",
              "      <td>1888126.000</td>\n",
              "      <td>1.000</td>\n",
              "      <td>50.000</td>\n",
              "      <td>0.000</td>\n",
              "      <td>52.000</td>\n",
              "      <td>0.000</td>\n",
              "    </tr>\n",
              "    <tr>\n",
              "      <th>11</th>\n",
              "      <td>62567.000</td>\n",
              "      <td>2003</td>\n",
              "      <td>1</td>\n",
              "      <td>100</td>\n",
              "      <td>65.000</td>\n",
              "      <td>61.200</td>\n",
              "      <td>63.700</td>\n",
              "      <td>8.600</td>\n",
              "      <td>0.300</td>\n",
              "      <td>128.600</td>\n",
              "      <td>1658766.400</td>\n",
              "      <td>243.500</td>\n",
              "      <td>54678</td>\n",
              "      <td>1098.200</td>\n",
              "      <td>20.090</td>\n",
              "      <td>127.700</td>\n",
              "      <td>54678.000</td>\n",
              "      <td>1.000</td>\n",
              "      <td>7.000</td>\n",
              "      <td>23.000</td>\n",
              "      <td>28.000</td>\n",
              "      <td>0.000</td>\n",
              "    </tr>\n",
              "    <tr>\n",
              "      <th>13</th>\n",
              "      <td>60852.000</td>\n",
              "      <td>1985</td>\n",
              "      <td>1</td>\n",
              "      <td>100</td>\n",
              "      <td>87.000</td>\n",
              "      <td>69.200</td>\n",
              "      <td>73.000</td>\n",
              "      <td>7.700</td>\n",
              "      <td>0.500</td>\n",
              "      <td>131.800</td>\n",
              "      <td>1646149.600</td>\n",
              "      <td>289.000</td>\n",
              "      <td>60852</td>\n",
              "      <td>2902.400</td>\n",
              "      <td>47.700</td>\n",
              "      <td>129.200</td>\n",
              "      <td>60725.000</td>\n",
              "      <td>1.000</td>\n",
              "      <td>8.000</td>\n",
              "      <td>0.000</td>\n",
              "      <td>31.000</td>\n",
              "      <td>2004.000</td>\n",
              "    </tr>\n",
              "  </tbody>\n",
              "</table>\n",
              "</div>"
            ],
            "text/plain": [
              "    DOF Gross Floor Area  Year Built  ...  unitstotal  yearalter1\n",
              "0             672462.000        1960  ...       1.000    2004.000\n",
              "3             156508.000        1920  ...      12.000       0.000\n",
              "7            2542563.000        1970  ...      52.000       0.000\n",
              "11             62567.000        2003  ...      28.000       0.000\n",
              "13             60852.000        1985  ...      31.000    2004.000\n",
              "\n",
              "[5 rows x 22 columns]"
            ]
          },
          "metadata": {
            "tags": []
          },
          "execution_count": 136
        }
      ]
    },
    {
      "cell_type": "markdown",
      "metadata": {
        "id": "C5-nB1RdY5X5",
        "colab_type": "text"
      },
      "source": [
        "### Assess impact of data wrangling\n",
        "Describe the  datasets resulting from this data cleaning: \n",
        "\n",
        "- how many observations have you lost? \n",
        "\n",
        "- did any of the features (=columns) have inconsistent distribution between the full and reducted dataset? \n",
        "\n",
        "You can approach this question in a number of ways, and you have done this in the  homewors already (with a KS test, and by just looking at uncertainties are two examples of ways to do ut that you worked out in HW3 and HW4, the Z test might work if you can convince yourself that the full sample is the \"population\" - up to you! a quick google search would probably describe many more ways). Choose _2_ ways, describe what each does and why it is appropriate. Compare the results (indeed I did it in 4 ways and did not always get consistent results! each of these meathods measures a slightly different thing).\n",
        "\n"
      ]
    },
    {
      "cell_type": "markdown",
      "metadata": {
        "id": "9fbVCrmsz2Ma",
        "colab_type": "text"
      },
      "source": [
        "**My answer:**\n",
        "\n",
        "We started with 42,897 observations when we first joined the data frames. After eliminating all NaN / non-numeric answers, we were left with only 2044 observations."
      ]
    },
    {
      "cell_type": "markdown",
      "metadata": {
        "id": "D1O4bdytAHKe",
        "colab_type": "text"
      },
      "source": [
        "#### Method 1: Z-Score"
      ]
    },
    {
      "cell_type": "code",
      "metadata": {
        "ExecuteTime": {
          "end_time": "2019-09-25T02:24:30.299322Z",
          "start_time": "2019-09-25T02:24:30.184734Z"
        },
        "id": "_cZwH0d4Y5X_",
        "colab_type": "code",
        "outputId": "c79b24e5-9f1b-4388-e97e-c4aa819225ae",
        "colab": {
          "base_uri": "https://localhost:8080/",
          "height": 1000
        }
      },
      "source": [
        "pd.set_option('display.float_format', lambda x: '%.3f' % x)\n",
        "\n",
        "rmeans = pd.Series(reduced.mean(), name=\"reduced mean\")\n",
        "rstds = pd.Series(reduced.std(), name=\"reduced std\")\n",
        "fmeans = pd.Series(data.mean(), name=\"full mean\")\n",
        "fstds = pd.Series(data.std(), name=\"full std\")\n",
        "stats = pd.concat([rmeans, rstds, fmeans, fstds], axis = 1)\n",
        "\n",
        "stats[\"zscore\"] = (stats[\"reduced mean\"] - stats[\"full mean\"]) / stats[\"full std\"]\n",
        "stats"
      ],
      "execution_count": 138,
      "outputs": [
        {
          "output_type": "execute_result",
          "data": {
            "text/html": [
              "<div>\n",
              "<style scoped>\n",
              "    .dataframe tbody tr th:only-of-type {\n",
              "        vertical-align: middle;\n",
              "    }\n",
              "\n",
              "    .dataframe tbody tr th {\n",
              "        vertical-align: top;\n",
              "    }\n",
              "\n",
              "    .dataframe thead th {\n",
              "        text-align: right;\n",
              "    }\n",
              "</style>\n",
              "<table border=\"1\" class=\"dataframe\">\n",
              "  <thead>\n",
              "    <tr style=\"text-align: right;\">\n",
              "      <th></th>\n",
              "      <th>reduced mean</th>\n",
              "      <th>reduced std</th>\n",
              "      <th>full mean</th>\n",
              "      <th>full std</th>\n",
              "      <th>zscore</th>\n",
              "    </tr>\n",
              "  </thead>\n",
              "  <tbody>\n",
              "    <tr>\n",
              "      <th>DOF Gross Floor Area</th>\n",
              "      <td>180049.930</td>\n",
              "      <td>242695.888</td>\n",
              "      <td>215810.924</td>\n",
              "      <td>323441.185</td>\n",
              "      <td>-0.111</td>\n",
              "    </tr>\n",
              "    <tr>\n",
              "      <th>Year Built</th>\n",
              "      <td>1944.097</td>\n",
              "      <td>34.125</td>\n",
              "      <td>1943.851</td>\n",
              "      <td>33.097</td>\n",
              "      <td>0.007</td>\n",
              "    </tr>\n",
              "    <tr>\n",
              "      <th>Number of Buildings - Self-reported</th>\n",
              "      <td>1.026</td>\n",
              "      <td>0.368</td>\n",
              "      <td>1.057</td>\n",
              "      <td>0.776</td>\n",
              "      <td>-0.039</td>\n",
              "    </tr>\n",
              "    <tr>\n",
              "      <th>Occupancy</th>\n",
              "      <td>99.061</td>\n",
              "      <td>5.203</td>\n",
              "      <td>98.531</td>\n",
              "      <td>8.235</td>\n",
              "      <td>0.064</td>\n",
              "    </tr>\n",
              "    <tr>\n",
              "      <th>ENERGY STAR Score</th>\n",
              "      <td>57.455</td>\n",
              "      <td>30.424</td>\n",
              "      <td>58.649</td>\n",
              "      <td>30.905</td>\n",
              "      <td>-0.039</td>\n",
              "    </tr>\n",
              "    <tr>\n",
              "      <th>Site EUI (kBtu/ft²)</th>\n",
              "      <td>179.519</td>\n",
              "      <td>3024.807</td>\n",
              "      <td>252.672</td>\n",
              "      <td>3121.410</td>\n",
              "      <td>-0.023</td>\n",
              "    </tr>\n",
              "    <tr>\n",
              "      <th>Weather Normalized Site EUI (kBtu/ft²)</th>\n",
              "      <td>182.952</td>\n",
              "      <td>3024.763</td>\n",
              "      <td>266.838</td>\n",
              "      <td>3274.074</td>\n",
              "      <td>-0.026</td>\n",
              "    </tr>\n",
              "    <tr>\n",
              "      <th>Weather Normalized Site Electricity Intensity (kWh/ft²)</th>\n",
              "      <td>10.828</td>\n",
              "      <td>90.162</td>\n",
              "      <td>10.479</td>\n",
              "      <td>58.737</td>\n",
              "      <td>0.006</td>\n",
              "    </tr>\n",
              "    <tr>\n",
              "      <th>Weather Normalized Site Natural Gas Intensity (therms/ft²)</th>\n",
              "      <td>0.348</td>\n",
              "      <td>0.387</td>\n",
              "      <td>0.413</td>\n",
              "      <td>2.623</td>\n",
              "      <td>-0.025</td>\n",
              "    </tr>\n",
              "    <tr>\n",
              "      <th>Weather Normalized Source EUI (kBtu/ft²)</th>\n",
              "      <td>282.695</td>\n",
              "      <td>3746.045</td>\n",
              "      <td>382.123</td>\n",
              "      <td>3983.116</td>\n",
              "      <td>-0.025</td>\n",
              "    </tr>\n",
              "    <tr>\n",
              "      <th>Electricity Use - Grid Purchase (kBtu)</th>\n",
              "      <td>7417714.247</td>\n",
              "      <td>27212994.996</td>\n",
              "      <td>8586619.329</td>\n",
              "      <td>24925312.197</td>\n",
              "      <td>-0.047</td>\n",
              "    </tr>\n",
              "    <tr>\n",
              "      <th>Total GHG Emissions (Metric Tons CO2e)</th>\n",
              "      <td>1727.084</td>\n",
              "      <td>14586.701</td>\n",
              "      <td>4690.378</td>\n",
              "      <td>88955.738</td>\n",
              "      <td>-0.033</td>\n",
              "    </tr>\n",
              "    <tr>\n",
              "      <th>Property GFA - Self-Reported (ft²)</th>\n",
              "      <td>183429.796</td>\n",
              "      <td>251665.489</td>\n",
              "      <td>208274.941</td>\n",
              "      <td>309712.274</td>\n",
              "      <td>-0.080</td>\n",
              "    </tr>\n",
              "    <tr>\n",
              "      <th>Water Use (All Water Sources) (kgal)</th>\n",
              "      <td>15208.014</td>\n",
              "      <td>122892.745</td>\n",
              "      <td>14775.394</td>\n",
              "      <td>148181.080</td>\n",
              "      <td>0.003</td>\n",
              "    </tr>\n",
              "    <tr>\n",
              "      <th>Water Intensity (All Water Sources) (gal/ft²)</th>\n",
              "      <td>86.745</td>\n",
              "      <td>488.899</td>\n",
              "      <td>94.217</td>\n",
              "      <td>1125.704</td>\n",
              "      <td>-0.007</td>\n",
              "    </tr>\n",
              "    <tr>\n",
              "      <th>Source EUI (kBtu/ft²)</th>\n",
              "      <td>280.407</td>\n",
              "      <td>3749.438</td>\n",
              "      <td>364.997</td>\n",
              "      <td>3798.585</td>\n",
              "      <td>-0.022</td>\n",
              "    </tr>\n",
              "    <tr>\n",
              "      <th>bldgarea</th>\n",
              "      <td>174307.104</td>\n",
              "      <td>233488.223</td>\n",
              "      <td>210292.886</td>\n",
              "      <td>316904.855</td>\n",
              "      <td>-0.114</td>\n",
              "    </tr>\n",
              "    <tr>\n",
              "      <th>numbldgs</th>\n",
              "      <td>1.136</td>\n",
              "      <td>0.696</td>\n",
              "      <td>1.346</td>\n",
              "      <td>2.103</td>\n",
              "      <td>-0.100</td>\n",
              "    </tr>\n",
              "    <tr>\n",
              "      <th>numfloors</th>\n",
              "      <td>14.505</td>\n",
              "      <td>9.104</td>\n",
              "      <td>15.515</td>\n",
              "      <td>10.218</td>\n",
              "      <td>-0.099</td>\n",
              "    </tr>\n",
              "    <tr>\n",
              "      <th>unitsres</th>\n",
              "      <td>86.315</td>\n",
              "      <td>123.580</td>\n",
              "      <td>89.771</td>\n",
              "      <td>189.232</td>\n",
              "      <td>-0.018</td>\n",
              "    </tr>\n",
              "    <tr>\n",
              "      <th>unitstotal</th>\n",
              "      <td>99.047</td>\n",
              "      <td>125.354</td>\n",
              "      <td>103.175</td>\n",
              "      <td>191.115</td>\n",
              "      <td>-0.022</td>\n",
              "    </tr>\n",
              "    <tr>\n",
              "      <th>yearalter1</th>\n",
              "      <td>1094.832</td>\n",
              "      <td>989.811</td>\n",
              "      <td>1098.986</td>\n",
              "      <td>989.680</td>\n",
              "      <td>-0.004</td>\n",
              "    </tr>\n",
              "  </tbody>\n",
              "</table>\n",
              "</div>"
            ],
            "text/plain": [
              "                                                    reduced mean  ...  zscore\n",
              "DOF Gross Floor Area                                  180049.930  ...  -0.111\n",
              "Year Built                                              1944.097  ...   0.007\n",
              "Number of Buildings - Self-reported                        1.026  ...  -0.039\n",
              "Occupancy                                                 99.061  ...   0.064\n",
              "ENERGY STAR Score                                         57.455  ...  -0.039\n",
              "Site EUI (kBtu/ft²)                                      179.519  ...  -0.023\n",
              "Weather Normalized Site EUI (kBtu/ft²)                   182.952  ...  -0.026\n",
              "Weather Normalized Site Electricity Intensity (...        10.828  ...   0.006\n",
              "Weather Normalized Site Natural Gas Intensity (...         0.348  ...  -0.025\n",
              "Weather Normalized Source EUI (kBtu/ft²)                 282.695  ...  -0.025\n",
              "Electricity Use - Grid Purchase (kBtu)               7417714.247  ...  -0.047\n",
              "Total GHG Emissions (Metric Tons CO2e)                  1727.084  ...  -0.033\n",
              "Property GFA - Self-Reported (ft²)                    183429.796  ...  -0.080\n",
              "Water Use (All Water Sources) (kgal)                   15208.014  ...   0.003\n",
              "Water Intensity (All Water Sources) (gal/ft²)             86.745  ...  -0.007\n",
              "Source EUI (kBtu/ft²)                                    280.407  ...  -0.022\n",
              "bldgarea                                              174307.104  ...  -0.114\n",
              "numbldgs                                                   1.136  ...  -0.100\n",
              "numfloors                                                 14.505  ...  -0.099\n",
              "unitsres                                                  86.315  ...  -0.018\n",
              "unitstotal                                                99.047  ...  -0.022\n",
              "yearalter1                                              1094.832  ...  -0.004\n",
              "\n",
              "[22 rows x 5 columns]"
            ]
          },
          "metadata": {
            "tags": []
          },
          "execution_count": 138
        }
      ]
    },
    {
      "cell_type": "code",
      "metadata": {
        "id": "UuP8Wq_R86mc",
        "colab_type": "code",
        "colab": {
          "base_uri": "https://localhost:8080/",
          "height": 34
        },
        "outputId": "30351de1-d4d4-4899-9701-44bd8583bea6"
      },
      "source": [
        "max(abs(stats['zscore']))"
      ],
      "execution_count": 139,
      "outputs": [
        {
          "output_type": "execute_result",
          "data": {
            "text/plain": [
              "0.11355390151984134"
            ]
          },
          "metadata": {
            "tags": []
          },
          "execution_count": 139
        }
      ]
    },
    {
      "cell_type": "markdown",
      "metadata": {
        "id": "-LEv_MIp-dRC",
        "colab_type": "text"
      },
      "source": [
        "**My discussion**\n",
        "\n",
        "The means of all of our reduced columns were within 0.25 standard deviations of the non-data-wranggled (assumed to be the full population) means. This supports the claim that the reduced data is consistent with the unreduced data."
      ]
    },
    {
      "cell_type": "markdown",
      "metadata": {
        "id": "AELo0PIBH1kn",
        "colab_type": "text"
      },
      "source": [
        "#### KS Test"
      ]
    },
    {
      "cell_type": "code",
      "metadata": {
        "id": "mtHa6BI8D6tU",
        "colab_type": "code",
        "colab": {
          "base_uri": "https://localhost:8080/",
          "height": 122
        },
        "outputId": "d42d0ed3-df77-4241-ab5c-a48a3f61ed9b"
      },
      "source": [
        "stats['p-value'] = None\n",
        "pVals = []\n",
        "for i in stats.index:\n",
        "  pVal = sp.stats.ks_2samp(reduced[i], data[i])[1]\n",
        "  stats['p-value'][i] = pVal"
      ],
      "execution_count": 140,
      "outputs": [
        {
          "output_type": "stream",
          "text": [
            "/usr/local/lib/python3.6/dist-packages/ipykernel_launcher.py:5: SettingWithCopyWarning: \n",
            "A value is trying to be set on a copy of a slice from a DataFrame\n",
            "\n",
            "See the caveats in the documentation: http://pandas.pydata.org/pandas-docs/stable/indexing.html#indexing-view-versus-copy\n",
            "  \"\"\"\n"
          ],
          "name": "stderr"
        }
      ]
    },
    {
      "cell_type": "code",
      "metadata": {
        "id": "StT6P7SbIjV7",
        "colab_type": "code",
        "colab": {
          "base_uri": "https://localhost:8080/",
          "height": 102
        },
        "outputId": "7097b850-81c4-4b86-f596-6b809a8f6dec"
      },
      "source": [
        "inconsistentCols = stats[stats['p-value'] < 0.05]['p-value']\n",
        "inconsistentCols.head()"
      ],
      "execution_count": 141,
      "outputs": [
        {
          "output_type": "execute_result",
          "data": {
            "text/plain": [
              "ENERGY STAR Score                                            0.000\n",
              "Weather Normalized Site Natural Gas Intensity (therms/ft²)   0.000\n",
              "Water Use (All Water Sources) (kgal)                         0.000\n",
              "Water Intensity (All Water Sources) (gal/ft²)                0.000\n",
              "Name: p-value, dtype: object"
            ]
          },
          "metadata": {
            "tags": []
          },
          "execution_count": 141
        }
      ]
    },
    {
      "cell_type": "markdown",
      "metadata": {
        "id": "NwAzYltBItuM",
        "colab_type": "text"
      },
      "source": [
        "**My discussion**\n",
        "\n",
        "The KS test showed that 4 of the 22 columns in the reduced data were inconsistent with the unreduced data. This conclusion is made at the 2 sigma confidence level (p = 0.05)."
      ]
    },
    {
      "cell_type": "markdown",
      "metadata": {
        "id": "OBPiLSfnY5YE",
        "colab_type": "text"
      },
      "source": [
        "### plot WNEC\n",
        "Regardless of what you found above, plot the distribution of the _log base 10_ of the weather-normalized site energy consumption (WNEC) for all values larger than 0.1 (such that log10(min) is -1) for the _entire dataset_ and for the _reducted one_: do you think inference on this feature would be affected by this way of dealing with missing data affects the result?\n",
        "\n"
      ]
    },
    {
      "cell_type": "code",
      "metadata": {
        "id": "_YNZZoZRHFfH",
        "colab_type": "code",
        "colab": {
          "base_uri": "https://localhost:8080/",
          "height": 357
        },
        "outputId": "2dcb6815-68f3-429b-ccf2-ec345cc48cc6"
      },
      "source": [
        "fullEnergy = data['Weather Normalized Site EUI (kBtu/ft²)']\n",
        "fullEnergy = [np.log10(x) for x in fullEnergy if x.is_integer() and x != 0]\n",
        "pl.hist(fullEnergy, normed = True, bins = [0, .25, .5, .75, 1, 1.25, 1.5, 1.75, 2, 2.25, 2.5, 2.75, 3, 3.25, 3.5])\n",
        "\n",
        "reducedEnergy = reduced['Weather Normalized Site EUI (kBtu/ft²)']\n",
        "reducedEnergy = [np.log10(x) for x in reducedEnergy]\n",
        "pl.hist(reducedEnergy, normed = True, bins = [0, .25, .5, .75, 1, 1.25, 1.5, 1.75, 2, 2.25, 2.5, 2.75, 3, 3.25, 3.5], alpha = 0.5)\n",
        "        \n",
        "pl.xlim(-1, 7)"
      ],
      "execution_count": 149,
      "outputs": [
        {
          "output_type": "stream",
          "text": [
            "/usr/local/lib/python3.6/dist-packages/matplotlib/axes/_axes.py:6521: MatplotlibDeprecationWarning: \n",
            "The 'normed' kwarg was deprecated in Matplotlib 2.1 and will be removed in 3.1. Use 'density' instead.\n",
            "  alternative=\"'density'\", removal=\"3.1\")\n"
          ],
          "name": "stderr"
        },
        {
          "output_type": "execute_result",
          "data": {
            "text/plain": [
              "(-1, 7)"
            ]
          },
          "metadata": {
            "tags": []
          },
          "execution_count": 149
        },
        {
          "output_type": "display_data",
          "data": {
            "image/png": "[encoded data removed]",
            "text/plain": [
              "<Figure size 432x288 with 1 Axes>"
            ]
          },
          "metadata": {
            "tags": []
          }
        }
      ]
    },
    {
      "cell_type": "markdown",
      "metadata": {
        "ExecuteTime": {
          "end_time": "2019-09-25T02:08:23.211182Z",
          "start_time": "2019-09-25T02:08:23.205135Z"
        },
        "id": "WIANEJHKY5YI",
        "colab_type": "text"
      },
      "source": [
        "# 667 and extyra credit\n",
        "plot a \"scatter matrix\" of the selected columns. Identify 4 promising \"scaling laws\" and plot them separately (a scatter plot of column1 vs column2). Does it make sense that there should be a scaling law between the 2 variables? \n",
        "\n",
        "which features should be strongly correlated or identical but are not? discuss\n",
        "\n",
        "([this](https://stackoverflow.com/questions/26975089/making-the-labels-of-the-scatterplot-vertical-and-horizontal-in-pandas) stackoverflow may come in handy)"
      ]
    },
    {
      "cell_type": "markdown",
      "metadata": {
        "id": "1fI3IMcNY5YM",
        "colab_type": "text"
      },
      "source": [
        "## all students\n",
        "At last, from the original dataset remove only the columns that are NaN in the column \"Weather Normalized Site EUI (kBtu/ft²)\"\n"
      ]
    },
    {
      "cell_type": "code",
      "metadata": {
        "ExecuteTime": {
          "end_time": "2019-09-25T02:40:28.827861Z",
          "start_time": "2019-09-25T02:38:20.245957Z"
        },
        "id": "LWaJVQG0Y5YN",
        "colab_type": "code",
        "outputId": "2f01a36f-fe92-4b31-a749-35b4513606bf",
        "colab": {
          "base_uri": "https://localhost:8080/",
          "height": 34
        }
      },
      "source": [
        "joined.shape"
      ],
      "execution_count": 151,
      "outputs": [
        {
          "output_type": "execute_result",
          "data": {
            "text/plain": [
              "(5196, 156)"
            ]
          },
          "metadata": {
            "tags": []
          },
          "execution_count": 151
        }
      ]
    },
    {
      "cell_type": "code",
      "metadata": {
        "id": "IMP_4JsdGRfk",
        "colab_type": "code",
        "colab": {
          "base_uri": "https://localhost:8080/",
          "height": 34
        },
        "outputId": "75f659ba-85c9-44d2-bfed-374ecfcba9b3"
      },
      "source": [
        "# -- drop buildings for which WN Site EUI is NaN\n",
        "wnec = \"Weather Normalized Site EUI (kBtu/ft²)\"\n",
        "joined = joined[pd.to_numeric(joined[wnec], errors='coerce').notnull()]\n",
        "joined[wnec] = pd.to_numeric(joined[wnec])\n",
        "joined.shape"
      ],
      "execution_count": 152,
      "outputs": [
        {
          "output_type": "execute_result",
          "data": {
            "text/plain": [
              "(4630, 156)"
            ]
          },
          "metadata": {
            "tags": []
          },
          "execution_count": 152
        }
      ]
    },
    {
      "cell_type": "markdown",
      "metadata": {
        "id": "vMDOfS6nY5YQ",
        "colab_type": "text"
      },
      "source": [
        "## Analysis: Owner investigation \n",
        "### Find owner of the single most energy consuming building\n",
        "\n",
        "**Find owner of the single most energy consuming building**, as measured by the \"Site Weather Normalized EUI per unit area \". \n",
        "\n",
        "**Find all the buildings that they own.**\n",
        "\n",
        "\n",
        "show the weather-normalized site energy consumption and the owner name for the top 30 consuming buildings in Manhattan"
      ]
    },
    {
      "cell_type": "code",
      "metadata": {
        "id": "ZQ3HaZ2fHxK7",
        "colab_type": "code",
        "colab": {}
      },
      "source": [
        "owner = joined[joined[wnec] == max(joined[wnec])]['ownername'].values[0]\n",
        "numBuildings = sum(joined['ownername'] == owner)"
      ],
      "execution_count": 0,
      "outputs": []
    },
    {
      "cell_type": "code",
      "metadata": {
        "id": "l3dF3RQowmJ4",
        "colab_type": "code",
        "outputId": "40128124-750e-448f-e2ee-c14dd2d381d0",
        "colab": {
          "base_uri": "https://localhost:8080/",
          "height": 51
        }
      },
      "source": [
        "print(\"Owner of the hisghest consuming building: %s \\nThey own %d buildings\" % (owner, numBuildings))"
      ],
      "execution_count": 154,
      "outputs": [
        {
          "output_type": "stream",
          "text": [
            "Owner of the hisghest consuming building: ST MARYS HOME FOR GIR \n",
            "They own 1 buildings\n"
          ],
          "name": "stdout"
        }
      ]
    },
    {
      "cell_type": "markdown",
      "metadata": {
        "ExecuteTime": {
          "end_time": "2019-09-24T18:40:17.239813Z",
          "start_time": "2019-09-24T18:40:17.235991Z"
        },
        "id": "0m4jRavdY5Yh",
        "colab_type": "text"
      },
      "source": [
        "### Find average building consumption by owner \n",
        "For all owners that own more than one building, find the average consumption for buildings owned by the same owner. Your dataframe should have 2 columns called _Weather Normalized Site EUI (kBtu/ft²)_\tand _counts_\n",
        "\n",
        "**Who owns the most energy consuming buildings on average?**\n",
        "\n",
        "**Who owns the most buildings**"
      ]
    },
    {
      "cell_type": "code",
      "metadata": {
        "id": "0hFe0orSQuY5",
        "colab_type": "code",
        "colab": {
          "base_uri": "https://localhost:8080/",
          "height": 531
        },
        "outputId": "d7f75b8e-55b3-4d3f-eca1-b9a1760efb30"
      },
      "source": [
        "joinedGrouped = joined.groupby('ownername')\n",
        "highestAvgEnergy = max(joinedGrouped[wnec].mean())\n",
        "print(highestAvgEnergy)\n",
        "#np.max(joinedGrouped)\n",
        "#owner = joinedGrouped[joinedGrouped[wnec] == highestAvgEnergy]['ownername'].values[0]\n",
        "#print(owner, highestAvgEnergy)"
      ],
      "execution_count": 210,
      "outputs": [
        {
          "output_type": "stream",
          "text": [
            "126307.4\n"
          ],
          "name": "stdout"
        },
        {
          "output_type": "error",
          "ename": "KeyboardInterrupt",
          "evalue": "ignored",
          "traceback": [
            "\u001b[0;31m---------------------------------------------------------------------------\u001b[0m",
            "\u001b[0;31mTypeError\u001b[0m                                 Traceback (most recent call last)",
            "\u001b[0;32m/usr/local/lib/python3.6/dist-packages/pandas/core/groupby/groupby.py\u001b[0m in \u001b[0;36mf\u001b[0;34m(self, **kwargs)\u001b[0m\n\u001b[1;32m   1256\u001b[0m                     return self._cython_agg_general(\n\u001b[0;32m-> 1257\u001b[0;31m                         alias, alt=npfunc, **kwargs)\n\u001b[0m\u001b[1;32m   1258\u001b[0m                 \u001b[0;32mexcept\u001b[0m \u001b[0mAssertionError\u001b[0m \u001b[0;32mas\u001b[0m \u001b[0me\u001b[0m\u001b[0;34m:\u001b[0m\u001b[0;34m\u001b[0m\u001b[0;34m\u001b[0m\u001b[0m\n",
            "\u001b[0;31mTypeError\u001b[0m: _cython_agg_general() got an unexpected keyword argument 'axis'",
            "\nDuring handling of the above exception, another exception occurred:\n",
            "\u001b[0;31mKeyboardInterrupt\u001b[0m                         Traceback (most recent call last)",
            "\u001b[0;32m<ipython-input-210-1f2358091e30>\u001b[0m in \u001b[0;36m<module>\u001b[0;34m()\u001b[0m\n\u001b[1;32m      2\u001b[0m \u001b[0mhighestAvgEnergy\u001b[0m \u001b[0;34m=\u001b[0m \u001b[0mmax\u001b[0m\u001b[0;34m(\u001b[0m\u001b[0mjoinedGrouped\u001b[0m\u001b[0;34m[\u001b[0m\u001b[0mwnec\u001b[0m\u001b[0;34m]\u001b[0m\u001b[0;34m.\u001b[0m\u001b[0mmean\u001b[0m\u001b[0;34m(\u001b[0m\u001b[0;34m)\u001b[0m\u001b[0;34m)\u001b[0m\u001b[0;34m\u001b[0m\u001b[0;34m\u001b[0m\u001b[0m\n\u001b[1;32m      3\u001b[0m \u001b[0mprint\u001b[0m\u001b[0;34m(\u001b[0m\u001b[0mhighestAvgEnergy\u001b[0m\u001b[0;34m)\u001b[0m\u001b[0;34m\u001b[0m\u001b[0;34m\u001b[0m\u001b[0m\n\u001b[0;32m----> 4\u001b[0;31m \u001b[0mnp\u001b[0m\u001b[0;34m.\u001b[0m\u001b[0mmax\u001b[0m\u001b[0;34m(\u001b[0m\u001b[0mjoinedGrouped\u001b[0m\u001b[0;34m)\u001b[0m\u001b[0;34m\u001b[0m\u001b[0;34m\u001b[0m\u001b[0m\n\u001b[0m\u001b[1;32m      5\u001b[0m \u001b[0;31m#owner = joinedGrouped[joinedGrouped[wnec] == highestAvgEnergy]['ownername'].values[0]\u001b[0m\u001b[0;34m\u001b[0m\u001b[0;34m\u001b[0m\u001b[0;34m\u001b[0m\u001b[0m\n\u001b[1;32m      6\u001b[0m \u001b[0;31m#print(owner, highestAvgEnergy)\u001b[0m\u001b[0;34m\u001b[0m\u001b[0;34m\u001b[0m\u001b[0;34m\u001b[0m\u001b[0m\n",
            "\u001b[0;32m/usr/local/lib/python3.6/dist-packages/numpy/core/fromnumeric.py\u001b[0m in \u001b[0;36mamax\u001b[0;34m(a, axis, out, keepdims, initial)\u001b[0m\n\u001b[1;32m   2503\u001b[0m     \"\"\"\n\u001b[1;32m   2504\u001b[0m     return _wrapreduction(a, np.maximum, 'max', axis, None, out, keepdims=keepdims,\n\u001b[0;32m-> 2505\u001b[0;31m                           initial=initial)\n\u001b[0m\u001b[1;32m   2506\u001b[0m \u001b[0;34m\u001b[0m\u001b[0m\n\u001b[1;32m   2507\u001b[0m \u001b[0;34m\u001b[0m\u001b[0m\n",
            "\u001b[0;32m/usr/local/lib/python3.6/dist-packages/numpy/core/fromnumeric.py\u001b[0m in \u001b[0;36m_wrapreduction\u001b[0;34m(obj, ufunc, method, axis, dtype, out, **kwargs)\u001b[0m\n\u001b[1;32m     82\u001b[0m                 \u001b[0;32mreturn\u001b[0m \u001b[0mreduction\u001b[0m\u001b[0;34m(\u001b[0m\u001b[0maxis\u001b[0m\u001b[0;34m=\u001b[0m\u001b[0maxis\u001b[0m\u001b[0;34m,\u001b[0m \u001b[0mdtype\u001b[0m\u001b[0;34m=\u001b[0m\u001b[0mdtype\u001b[0m\u001b[0;34m,\u001b[0m \u001b[0mout\u001b[0m\u001b[0;34m=\u001b[0m\u001b[0mout\u001b[0m\u001b[0;34m,\u001b[0m \u001b[0;34m**\u001b[0m\u001b[0mpasskwargs\u001b[0m\u001b[0;34m)\u001b[0m\u001b[0;34m\u001b[0m\u001b[0;34m\u001b[0m\u001b[0m\n\u001b[1;32m     83\u001b[0m             \u001b[0;32melse\u001b[0m\u001b[0;34m:\u001b[0m\u001b[0;34m\u001b[0m\u001b[0;34m\u001b[0m\u001b[0m\n\u001b[0;32m---> 84\u001b[0;31m                 \u001b[0;32mreturn\u001b[0m \u001b[0mreduction\u001b[0m\u001b[0;34m(\u001b[0m\u001b[0maxis\u001b[0m\u001b[0;34m=\u001b[0m\u001b[0maxis\u001b[0m\u001b[0;34m,\u001b[0m \u001b[0mout\u001b[0m\u001b[0;34m=\u001b[0m\u001b[0mout\u001b[0m\u001b[0;34m,\u001b[0m \u001b[0;34m**\u001b[0m\u001b[0mpasskwargs\u001b[0m\u001b[0;34m)\u001b[0m\u001b[0;34m\u001b[0m\u001b[0;34m\u001b[0m\u001b[0m\n\u001b[0m\u001b[1;32m     85\u001b[0m \u001b[0;34m\u001b[0m\u001b[0m\n\u001b[1;32m     86\u001b[0m     \u001b[0;32mreturn\u001b[0m \u001b[0mufunc\u001b[0m\u001b[0;34m.\u001b[0m\u001b[0mreduce\u001b[0m\u001b[0;34m(\u001b[0m\u001b[0mobj\u001b[0m\u001b[0;34m,\u001b[0m \u001b[0maxis\u001b[0m\u001b[0;34m,\u001b[0m \u001b[0mdtype\u001b[0m\u001b[0;34m,\u001b[0m \u001b[0mout\u001b[0m\u001b[0;34m,\u001b[0m \u001b[0;34m**\u001b[0m\u001b[0mpasskwargs\u001b[0m\u001b[0;34m)\u001b[0m\u001b[0;34m\u001b[0m\u001b[0;34m\u001b[0m\u001b[0m\n",
            "\u001b[0;32m/usr/local/lib/python3.6/dist-packages/pandas/core/groupby/groupby.py\u001b[0m in \u001b[0;36mf\u001b[0;34m(self, **kwargs)\u001b[0m\n\u001b[1;32m   1260\u001b[0m                 \u001b[0;32mexcept\u001b[0m \u001b[0mException\u001b[0m\u001b[0;34m:\u001b[0m\u001b[0;34m\u001b[0m\u001b[0;34m\u001b[0m\u001b[0m\n\u001b[1;32m   1261\u001b[0m                     result = self.aggregate(\n\u001b[0;32m-> 1262\u001b[0;31m                         lambda x: npfunc(x, axis=self.axis))\n\u001b[0m\u001b[1;32m   1263\u001b[0m                     \u001b[0;32mif\u001b[0m \u001b[0m_convert\u001b[0m\u001b[0;34m:\u001b[0m\u001b[0;34m\u001b[0m\u001b[0;34m\u001b[0m\u001b[0m\n\u001b[1;32m   1264\u001b[0m                         \u001b[0mresult\u001b[0m \u001b[0;34m=\u001b[0m \u001b[0mresult\u001b[0m\u001b[0;34m.\u001b[0m\u001b[0m_convert\u001b[0m\u001b[0;34m(\u001b[0m\u001b[0mdatetime\u001b[0m\u001b[0;34m=\u001b[0m\u001b[0;32mTrue\u001b[0m\u001b[0;34m)\u001b[0m\u001b[0;34m\u001b[0m\u001b[0;34m\u001b[0m\u001b[0m\n",
            "\u001b[0;32m/usr/local/lib/python3.6/dist-packages/pandas/core/groupby/generic.py\u001b[0m in \u001b[0;36maggregate\u001b[0;34m(self, arg, *args, **kwargs)\u001b[0m\n\u001b[1;32m   1313\u001b[0m     \u001b[0;34m@\u001b[0m\u001b[0mAppender\u001b[0m\u001b[0;34m(\u001b[0m\u001b[0m_shared_docs\u001b[0m\u001b[0;34m[\u001b[0m\u001b[0;34m'aggregate'\u001b[0m\u001b[0;34m]\u001b[0m\u001b[0;34m)\u001b[0m\u001b[0;34m\u001b[0m\u001b[0;34m\u001b[0m\u001b[0m\n\u001b[1;32m   1314\u001b[0m     \u001b[0;32mdef\u001b[0m \u001b[0maggregate\u001b[0m\u001b[0;34m(\u001b[0m\u001b[0mself\u001b[0m\u001b[0;34m,\u001b[0m \u001b[0marg\u001b[0m\u001b[0;34m,\u001b[0m \u001b[0;34m*\u001b[0m\u001b[0margs\u001b[0m\u001b[0;34m,\u001b[0m \u001b[0;34m**\u001b[0m\u001b[0mkwargs\u001b[0m\u001b[0;34m)\u001b[0m\u001b[0;34m:\u001b[0m\u001b[0;34m\u001b[0m\u001b[0;34m\u001b[0m\u001b[0m\n\u001b[0;32m-> 1315\u001b[0;31m         \u001b[0;32mreturn\u001b[0m \u001b[0msuper\u001b[0m\u001b[0;34m(\u001b[0m\u001b[0mDataFrameGroupBy\u001b[0m\u001b[0;34m,\u001b[0m \u001b[0mself\u001b[0m\u001b[0;34m)\u001b[0m\u001b[0;34m.\u001b[0m\u001b[0maggregate\u001b[0m\u001b[0;34m(\u001b[0m\u001b[0marg\u001b[0m\u001b[0;34m,\u001b[0m \u001b[0;34m*\u001b[0m\u001b[0margs\u001b[0m\u001b[0;34m,\u001b[0m \u001b[0;34m**\u001b[0m\u001b[0mkwargs\u001b[0m\u001b[0;34m)\u001b[0m\u001b[0;34m\u001b[0m\u001b[0;34m\u001b[0m\u001b[0m\n\u001b[0m\u001b[1;32m   1316\u001b[0m \u001b[0;34m\u001b[0m\u001b[0m\n\u001b[1;32m   1317\u001b[0m     \u001b[0magg\u001b[0m \u001b[0;34m=\u001b[0m \u001b[0maggregate\u001b[0m\u001b[0;34m\u001b[0m\u001b[0;34m\u001b[0m\u001b[0m\n",
            "\u001b[0;32m/usr/local/lib/python3.6/dist-packages/pandas/core/groupby/generic.py\u001b[0m in \u001b[0;36maggregate\u001b[0;34m(self, arg, *args, **kwargs)\u001b[0m\n\u001b[1;32m    199\u001b[0m                     \u001b[0;32massert\u001b[0m \u001b[0;32mnot\u001b[0m \u001b[0margs\u001b[0m \u001b[0;32mand\u001b[0m \u001b[0;32mnot\u001b[0m \u001b[0mkwargs\u001b[0m\u001b[0;34m\u001b[0m\u001b[0;34m\u001b[0m\u001b[0m\n\u001b[1;32m    200\u001b[0m                     result = self._aggregate_multiple_funcs(\n\u001b[0;32m--> 201\u001b[0;31m                         [arg], _level=_level, _axis=self.axis)\n\u001b[0m\u001b[1;32m    202\u001b[0m                     result.columns = Index(\n\u001b[1;32m    203\u001b[0m                         \u001b[0mresult\u001b[0m\u001b[0;34m.\u001b[0m\u001b[0mcolumns\u001b[0m\u001b[0;34m.\u001b[0m\u001b[0mlevels\u001b[0m\u001b[0;34m[\u001b[0m\u001b[0;36m0\u001b[0m\u001b[0;34m]\u001b[0m\u001b[0;34m,\u001b[0m\u001b[0;34m\u001b[0m\u001b[0;34m\u001b[0m\u001b[0m\n",
            "\u001b[0;32m/usr/local/lib/python3.6/dist-packages/pandas/core/base.py\u001b[0m in \u001b[0;36m_aggregate_multiple_funcs\u001b[0;34m(self, arg, _level, _axis)\u001b[0m\n\u001b[1;32m    603\u001b[0m                     colg = self._gotitem(col, ndim=1,\n\u001b[1;32m    604\u001b[0m                                          subset=obj.iloc[:, index])\n\u001b[0;32m--> 605\u001b[0;31m                     \u001b[0mresults\u001b[0m\u001b[0;34m.\u001b[0m\u001b[0mappend\u001b[0m\u001b[0;34m(\u001b[0m\u001b[0mcolg\u001b[0m\u001b[0;34m.\u001b[0m\u001b[0maggregate\u001b[0m\u001b[0;34m(\u001b[0m\u001b[0marg\u001b[0m\u001b[0;34m)\u001b[0m\u001b[0;34m)\u001b[0m\u001b[0;34m\u001b[0m\u001b[0;34m\u001b[0m\u001b[0m\n\u001b[0m\u001b[1;32m    606\u001b[0m                     \u001b[0mkeys\u001b[0m\u001b[0;34m.\u001b[0m\u001b[0mappend\u001b[0m\u001b[0;34m(\u001b[0m\u001b[0mcol\u001b[0m\u001b[0;34m)\u001b[0m\u001b[0;34m\u001b[0m\u001b[0;34m\u001b[0m\u001b[0m\n\u001b[1;32m    607\u001b[0m                 \u001b[0;32mexcept\u001b[0m \u001b[0;34m(\u001b[0m\u001b[0mTypeError\u001b[0m\u001b[0;34m,\u001b[0m \u001b[0mDataError\u001b[0m\u001b[0;34m)\u001b[0m\u001b[0;34m:\u001b[0m\u001b[0;34m\u001b[0m\u001b[0;34m\u001b[0m\u001b[0m\n",
            "\u001b[0;32m/usr/local/lib/python3.6/dist-packages/pandas/core/groupby/generic.py\u001b[0m in \u001b[0;36maggregate\u001b[0;34m(self, func_or_funcs, *args, **kwargs)\u001b[0m\n\u001b[1;32m    764\u001b[0m             \u001b[0;31m# but not the class list / tuple itself.\u001b[0m\u001b[0;34m\u001b[0m\u001b[0;34m\u001b[0m\u001b[0;34m\u001b[0m\u001b[0m\n\u001b[1;32m    765\u001b[0m             ret = self._aggregate_multiple_funcs(func_or_funcs,\n\u001b[0;32m--> 766\u001b[0;31m                                                  (_level or 0) + 1)\n\u001b[0m\u001b[1;32m    767\u001b[0m         \u001b[0;32melse\u001b[0m\u001b[0;34m:\u001b[0m\u001b[0;34m\u001b[0m\u001b[0;34m\u001b[0m\u001b[0m\n\u001b[1;32m    768\u001b[0m             \u001b[0mcyfunc\u001b[0m \u001b[0;34m=\u001b[0m \u001b[0mself\u001b[0m\u001b[0;34m.\u001b[0m\u001b[0m_is_cython_func\u001b[0m\u001b[0;34m(\u001b[0m\u001b[0mfunc_or_funcs\u001b[0m\u001b[0;34m)\u001b[0m\u001b[0;34m\u001b[0m\u001b[0;34m\u001b[0m\u001b[0m\n",
            "\u001b[0;32m/usr/local/lib/python3.6/dist-packages/pandas/core/groupby/generic.py\u001b[0m in \u001b[0;36m_aggregate_multiple_funcs\u001b[0;34m(self, arg, _level)\u001b[0m\n\u001b[1;32m    838\u001b[0m                 \u001b[0mobj\u001b[0m\u001b[0;34m.\u001b[0m\u001b[0m_reset_cache\u001b[0m\u001b[0;34m(\u001b[0m\u001b[0;34m)\u001b[0m\u001b[0;34m\u001b[0m\u001b[0;34m\u001b[0m\u001b[0m\n\u001b[1;32m    839\u001b[0m                 \u001b[0mobj\u001b[0m\u001b[0;34m.\u001b[0m\u001b[0m_selection\u001b[0m \u001b[0;34m=\u001b[0m \u001b[0mname\u001b[0m\u001b[0;34m\u001b[0m\u001b[0;34m\u001b[0m\u001b[0m\n\u001b[0;32m--> 840\u001b[0;31m             \u001b[0mresults\u001b[0m\u001b[0;34m[\u001b[0m\u001b[0mname\u001b[0m\u001b[0;34m]\u001b[0m \u001b[0;34m=\u001b[0m \u001b[0mobj\u001b[0m\u001b[0;34m.\u001b[0m\u001b[0maggregate\u001b[0m\u001b[0;34m(\u001b[0m\u001b[0mfunc\u001b[0m\u001b[0;34m)\u001b[0m\u001b[0;34m\u001b[0m\u001b[0;34m\u001b[0m\u001b[0m\n\u001b[0m\u001b[1;32m    841\u001b[0m \u001b[0;34m\u001b[0m\u001b[0m\n\u001b[1;32m    842\u001b[0m         \u001b[0;32mif\u001b[0m \u001b[0many\u001b[0m\u001b[0;34m(\u001b[0m\u001b[0misinstance\u001b[0m\u001b[0;34m(\u001b[0m\u001b[0mx\u001b[0m\u001b[0;34m,\u001b[0m \u001b[0mDataFrame\u001b[0m\u001b[0;34m)\u001b[0m \u001b[0;32mfor\u001b[0m \u001b[0mx\u001b[0m \u001b[0;32min\u001b[0m \u001b[0mcompat\u001b[0m\u001b[0;34m.\u001b[0m\u001b[0mitervalues\u001b[0m\u001b[0;34m(\u001b[0m\u001b[0mresults\u001b[0m\u001b[0;34m)\u001b[0m\u001b[0;34m)\u001b[0m\u001b[0;34m:\u001b[0m\u001b[0;34m\u001b[0m\u001b[0;34m\u001b[0m\u001b[0m\n",
            "\u001b[0;32m/usr/local/lib/python3.6/dist-packages/pandas/core/groupby/generic.py\u001b[0m in \u001b[0;36maggregate\u001b[0;34m(self, func_or_funcs, *args, **kwargs)\u001b[0m\n\u001b[1;32m    774\u001b[0m \u001b[0;34m\u001b[0m\u001b[0m\n\u001b[1;32m    775\u001b[0m             \u001b[0;32mtry\u001b[0m\u001b[0;34m:\u001b[0m\u001b[0;34m\u001b[0m\u001b[0;34m\u001b[0m\u001b[0m\n\u001b[0;32m--> 776\u001b[0;31m                 \u001b[0;32mreturn\u001b[0m \u001b[0mself\u001b[0m\u001b[0;34m.\u001b[0m\u001b[0m_python_agg_general\u001b[0m\u001b[0;34m(\u001b[0m\u001b[0mfunc_or_funcs\u001b[0m\u001b[0;34m,\u001b[0m \u001b[0;34m*\u001b[0m\u001b[0margs\u001b[0m\u001b[0;34m,\u001b[0m \u001b[0;34m**\u001b[0m\u001b[0mkwargs\u001b[0m\u001b[0;34m)\u001b[0m\u001b[0;34m\u001b[0m\u001b[0;34m\u001b[0m\u001b[0m\n\u001b[0m\u001b[1;32m    777\u001b[0m             \u001b[0;32mexcept\u001b[0m \u001b[0mException\u001b[0m\u001b[0;34m:\u001b[0m\u001b[0;34m\u001b[0m\u001b[0;34m\u001b[0m\u001b[0m\n\u001b[1;32m    778\u001b[0m                 \u001b[0mresult\u001b[0m \u001b[0;34m=\u001b[0m \u001b[0mself\u001b[0m\u001b[0;34m.\u001b[0m\u001b[0m_aggregate_named\u001b[0m\u001b[0;34m(\u001b[0m\u001b[0mfunc_or_funcs\u001b[0m\u001b[0;34m,\u001b[0m \u001b[0;34m*\u001b[0m\u001b[0margs\u001b[0m\u001b[0;34m,\u001b[0m \u001b[0;34m**\u001b[0m\u001b[0mkwargs\u001b[0m\u001b[0;34m)\u001b[0m\u001b[0;34m\u001b[0m\u001b[0;34m\u001b[0m\u001b[0m\n",
            "\u001b[0;32m/usr/local/lib/python3.6/dist-packages/pandas/core/groupby/groupby.py\u001b[0m in \u001b[0;36m_python_agg_general\u001b[0;34m(self, func, *args, **kwargs)\u001b[0m\n\u001b[1;32m    848\u001b[0m         \u001b[0;32mfor\u001b[0m \u001b[0mname\u001b[0m\u001b[0;34m,\u001b[0m \u001b[0mobj\u001b[0m \u001b[0;32min\u001b[0m \u001b[0mself\u001b[0m\u001b[0;34m.\u001b[0m\u001b[0m_iterate_slices\u001b[0m\u001b[0;34m(\u001b[0m\u001b[0;34m)\u001b[0m\u001b[0;34m:\u001b[0m\u001b[0;34m\u001b[0m\u001b[0;34m\u001b[0m\u001b[0m\n\u001b[1;32m    849\u001b[0m             \u001b[0;32mtry\u001b[0m\u001b[0;34m:\u001b[0m\u001b[0;34m\u001b[0m\u001b[0;34m\u001b[0m\u001b[0m\n\u001b[0;32m--> 850\u001b[0;31m                 \u001b[0mresult\u001b[0m\u001b[0;34m,\u001b[0m \u001b[0mcounts\u001b[0m \u001b[0;34m=\u001b[0m \u001b[0mself\u001b[0m\u001b[0;34m.\u001b[0m\u001b[0mgrouper\u001b[0m\u001b[0;34m.\u001b[0m\u001b[0magg_series\u001b[0m\u001b[0;34m(\u001b[0m\u001b[0mobj\u001b[0m\u001b[0;34m,\u001b[0m \u001b[0mf\u001b[0m\u001b[0;34m)\u001b[0m\u001b[0;34m\u001b[0m\u001b[0;34m\u001b[0m\u001b[0m\n\u001b[0m\u001b[1;32m    851\u001b[0m                 \u001b[0moutput\u001b[0m\u001b[0;34m[\u001b[0m\u001b[0mname\u001b[0m\u001b[0;34m]\u001b[0m \u001b[0;34m=\u001b[0m \u001b[0mself\u001b[0m\u001b[0;34m.\u001b[0m\u001b[0m_try_cast\u001b[0m\u001b[0;34m(\u001b[0m\u001b[0mresult\u001b[0m\u001b[0;34m,\u001b[0m \u001b[0mobj\u001b[0m\u001b[0;34m,\u001b[0m \u001b[0mnumeric_only\u001b[0m\u001b[0;34m=\u001b[0m\u001b[0;32mTrue\u001b[0m\u001b[0;34m)\u001b[0m\u001b[0;34m\u001b[0m\u001b[0;34m\u001b[0m\u001b[0m\n\u001b[1;32m    852\u001b[0m             \u001b[0;32mexcept\u001b[0m \u001b[0mTypeError\u001b[0m\u001b[0;34m:\u001b[0m\u001b[0;34m\u001b[0m\u001b[0;34m\u001b[0m\u001b[0m\n",
            "\u001b[0;32m/usr/local/lib/python3.6/dist-packages/pandas/core/groupby/ops.py\u001b[0m in \u001b[0;36magg_series\u001b[0;34m(self, obj, func)\u001b[0m\n\u001b[1;32m    588\u001b[0m     \u001b[0;32mdef\u001b[0m \u001b[0magg_series\u001b[0m\u001b[0;34m(\u001b[0m\u001b[0mself\u001b[0m\u001b[0;34m,\u001b[0m \u001b[0mobj\u001b[0m\u001b[0;34m,\u001b[0m \u001b[0mfunc\u001b[0m\u001b[0;34m)\u001b[0m\u001b[0;34m:\u001b[0m\u001b[0;34m\u001b[0m\u001b[0;34m\u001b[0m\u001b[0m\n\u001b[1;32m    589\u001b[0m         \u001b[0;32mtry\u001b[0m\u001b[0;34m:\u001b[0m\u001b[0;34m\u001b[0m\u001b[0;34m\u001b[0m\u001b[0m\n\u001b[0;32m--> 590\u001b[0;31m             \u001b[0;32mreturn\u001b[0m \u001b[0mself\u001b[0m\u001b[0;34m.\u001b[0m\u001b[0m_aggregate_series_fast\u001b[0m\u001b[0;34m(\u001b[0m\u001b[0mobj\u001b[0m\u001b[0;34m,\u001b[0m \u001b[0mfunc\u001b[0m\u001b[0;34m)\u001b[0m\u001b[0;34m\u001b[0m\u001b[0;34m\u001b[0m\u001b[0m\n\u001b[0m\u001b[1;32m    591\u001b[0m         \u001b[0;32mexcept\u001b[0m \u001b[0mException\u001b[0m\u001b[0;34m:\u001b[0m\u001b[0;34m\u001b[0m\u001b[0;34m\u001b[0m\u001b[0m\n\u001b[1;32m    592\u001b[0m             \u001b[0;32mreturn\u001b[0m \u001b[0mself\u001b[0m\u001b[0;34m.\u001b[0m\u001b[0m_aggregate_series_pure_python\u001b[0m\u001b[0;34m(\u001b[0m\u001b[0mobj\u001b[0m\u001b[0;34m,\u001b[0m \u001b[0mfunc\u001b[0m\u001b[0;34m)\u001b[0m\u001b[0;34m\u001b[0m\u001b[0;34m\u001b[0m\u001b[0m\n",
            "\u001b[0;32m/usr/local/lib/python3.6/dist-packages/pandas/core/groupby/ops.py\u001b[0m in \u001b[0;36m_aggregate_series_fast\u001b[0;34m(self, obj, func)\u001b[0m\n\u001b[1;32m    608\u001b[0m         grouper = reduction.SeriesGrouper(obj, func, group_index, ngroups,\n\u001b[1;32m    609\u001b[0m                                           dummy)\n\u001b[0;32m--> 610\u001b[0;31m         \u001b[0mresult\u001b[0m\u001b[0;34m,\u001b[0m \u001b[0mcounts\u001b[0m \u001b[0;34m=\u001b[0m \u001b[0mgrouper\u001b[0m\u001b[0;34m.\u001b[0m\u001b[0mget_result\u001b[0m\u001b[0;34m(\u001b[0m\u001b[0;34m)\u001b[0m\u001b[0;34m\u001b[0m\u001b[0;34m\u001b[0m\u001b[0m\n\u001b[0m\u001b[1;32m    611\u001b[0m         \u001b[0;32mreturn\u001b[0m \u001b[0mresult\u001b[0m\u001b[0;34m,\u001b[0m \u001b[0mcounts\u001b[0m\u001b[0;34m\u001b[0m\u001b[0;34m\u001b[0m\u001b[0m\n\u001b[1;32m    612\u001b[0m \u001b[0;34m\u001b[0m\u001b[0m\n",
            "\u001b[0;32mpandas/_libs/reduction.pyx\u001b[0m in \u001b[0;36mpandas._libs.reduction.SeriesGrouper.get_result\u001b[0;34m()\u001b[0m\n",
            "\u001b[0;32mpandas/_libs/reduction.pyx\u001b[0m in \u001b[0;36mpandas._libs.reduction.SeriesGrouper.get_result\u001b[0;34m()\u001b[0m\n",
            "\u001b[0;32m/usr/local/lib/python3.6/dist-packages/pandas/core/groupby/groupby.py\u001b[0m in \u001b[0;36m<lambda>\u001b[0;34m(x)\u001b[0m\n\u001b[1;32m    842\u001b[0m     \u001b[0;32mdef\u001b[0m \u001b[0m_python_agg_general\u001b[0m\u001b[0;34m(\u001b[0m\u001b[0mself\u001b[0m\u001b[0;34m,\u001b[0m \u001b[0mfunc\u001b[0m\u001b[0;34m,\u001b[0m \u001b[0;34m*\u001b[0m\u001b[0margs\u001b[0m\u001b[0;34m,\u001b[0m \u001b[0;34m**\u001b[0m\u001b[0mkwargs\u001b[0m\u001b[0;34m)\u001b[0m\u001b[0;34m:\u001b[0m\u001b[0;34m\u001b[0m\u001b[0;34m\u001b[0m\u001b[0m\n\u001b[1;32m    843\u001b[0m         \u001b[0mfunc\u001b[0m \u001b[0;34m=\u001b[0m \u001b[0mself\u001b[0m\u001b[0;34m.\u001b[0m\u001b[0m_is_builtin_func\u001b[0m\u001b[0;34m(\u001b[0m\u001b[0mfunc\u001b[0m\u001b[0;34m)\u001b[0m\u001b[0;34m\u001b[0m\u001b[0;34m\u001b[0m\u001b[0m\n\u001b[0;32m--> 844\u001b[0;31m         \u001b[0mf\u001b[0m \u001b[0;34m=\u001b[0m \u001b[0;32mlambda\u001b[0m \u001b[0mx\u001b[0m\u001b[0;34m:\u001b[0m \u001b[0mfunc\u001b[0m\u001b[0;34m(\u001b[0m\u001b[0mx\u001b[0m\u001b[0;34m,\u001b[0m \u001b[0;34m*\u001b[0m\u001b[0margs\u001b[0m\u001b[0;34m,\u001b[0m \u001b[0;34m**\u001b[0m\u001b[0mkwargs\u001b[0m\u001b[0;34m)\u001b[0m\u001b[0;34m\u001b[0m\u001b[0;34m\u001b[0m\u001b[0m\n\u001b[0m\u001b[1;32m    845\u001b[0m \u001b[0;34m\u001b[0m\u001b[0m\n\u001b[1;32m    846\u001b[0m         \u001b[0;31m# iterate through \"columns\" ex exclusions to populate output dict\u001b[0m\u001b[0;34m\u001b[0m\u001b[0;34m\u001b[0m\u001b[0;34m\u001b[0m\u001b[0m\n",
            "\u001b[0;32m/usr/local/lib/python3.6/dist-packages/pandas/core/groupby/groupby.py\u001b[0m in \u001b[0;36m<lambda>\u001b[0;34m(x)\u001b[0m\n\u001b[1;32m   1260\u001b[0m                 \u001b[0;32mexcept\u001b[0m \u001b[0mException\u001b[0m\u001b[0;34m:\u001b[0m\u001b[0;34m\u001b[0m\u001b[0;34m\u001b[0m\u001b[0m\n\u001b[1;32m   1261\u001b[0m                     result = self.aggregate(\n\u001b[0;32m-> 1262\u001b[0;31m                         lambda x: npfunc(x, axis=self.axis))\n\u001b[0m\u001b[1;32m   1263\u001b[0m                     \u001b[0;32mif\u001b[0m \u001b[0m_convert\u001b[0m\u001b[0;34m:\u001b[0m\u001b[0;34m\u001b[0m\u001b[0;34m\u001b[0m\u001b[0m\n\u001b[1;32m   1264\u001b[0m                         \u001b[0mresult\u001b[0m \u001b[0;34m=\u001b[0m \u001b[0mresult\u001b[0m\u001b[0;34m.\u001b[0m\u001b[0m_convert\u001b[0m\u001b[0;34m(\u001b[0m\u001b[0mdatetime\u001b[0m\u001b[0;34m=\u001b[0m\u001b[0;32mTrue\u001b[0m\u001b[0;34m)\u001b[0m\u001b[0;34m\u001b[0m\u001b[0;34m\u001b[0m\u001b[0m\n",
            "\u001b[0;32m/usr/local/lib/python3.6/dist-packages/numpy/core/fromnumeric.py\u001b[0m in \u001b[0;36mamax\u001b[0;34m(a, axis, out, keepdims, initial)\u001b[0m\n\u001b[1;32m   2502\u001b[0m     \u001b[0;36m5\u001b[0m\u001b[0;34m\u001b[0m\u001b[0;34m\u001b[0m\u001b[0m\n\u001b[1;32m   2503\u001b[0m     \"\"\"\n\u001b[0;32m-> 2504\u001b[0;31m     return _wrapreduction(a, np.maximum, 'max', axis, None, out, keepdims=keepdims,\n\u001b[0m\u001b[1;32m   2505\u001b[0m                           initial=initial)\n\u001b[1;32m   2506\u001b[0m \u001b[0;34m\u001b[0m\u001b[0m\n",
            "\u001b[0;31mKeyboardInterrupt\u001b[0m: "
          ]
        }
      ]
    },
    {
      "cell_type": "code",
      "metadata": {
        "id": "oTYOAsndQtDI",
        "colab_type": "code",
        "colab": {}
      },
      "source": [
        "print(\"Owner of the hisghest consuming building: %s \\nThey own %d buildings\" % (owner, numBuildings))"
      ],
      "execution_count": 0,
      "outputs": []
    },
    {
      "cell_type": "code",
      "metadata": {
        "id": "_JP0lxuOT5N8",
        "colab_type": "code",
        "colab": {
          "base_uri": "https://localhost:8080/",
          "height": 371
        },
        "outputId": "a152e00a-50a1-4551-d164-1a5ab735d8a1"
      },
      "source": [
        "owner = None\n",
        "highestAvgEnergy = 0\n",
        "for name, avg in joinedGrouped[wnec]:\n",
        "  if avg >  highestAvgEnergy:\n",
        "    owner = name\n",
        "    highestAvgEnergy = avg\n",
        "print(owner, highestAvgEnergy)"
      ],
      "execution_count": 198,
      "outputs": [
        {
          "output_type": "error",
          "ename": "ValueError",
          "evalue": "ignored",
          "traceback": [
            "\u001b[0;31m---------------------------------------------------------------------------\u001b[0m",
            "\u001b[0;31mValueError\u001b[0m                                Traceback (most recent call last)",
            "\u001b[0;32m<ipython-input-198-eab233f81f5f>\u001b[0m in \u001b[0;36m<module>\u001b[0;34m()\u001b[0m\n\u001b[1;32m      2\u001b[0m \u001b[0mhighestAvgEnergy\u001b[0m \u001b[0;34m=\u001b[0m \u001b[0;36m0\u001b[0m\u001b[0;34m\u001b[0m\u001b[0;34m\u001b[0m\u001b[0m\n\u001b[1;32m      3\u001b[0m \u001b[0;32mfor\u001b[0m \u001b[0mname\u001b[0m\u001b[0;34m,\u001b[0m \u001b[0mavg\u001b[0m \u001b[0;32min\u001b[0m \u001b[0mjoinedGrouped\u001b[0m\u001b[0;34m[\u001b[0m\u001b[0mwnec\u001b[0m\u001b[0;34m]\u001b[0m\u001b[0;34m:\u001b[0m\u001b[0;34m\u001b[0m\u001b[0;34m\u001b[0m\u001b[0m\n\u001b[0;32m----> 4\u001b[0;31m   \u001b[0;32mif\u001b[0m \u001b[0mavg\u001b[0m\u001b[0;34m.\u001b[0m\u001b[0mmean\u001b[0m\u001b[0;34m(\u001b[0m\u001b[0;34m)\u001b[0m \u001b[0;34m>\u001b[0m  \u001b[0mhighestAvgEnergy\u001b[0m\u001b[0;34m:\u001b[0m\u001b[0;34m\u001b[0m\u001b[0;34m\u001b[0m\u001b[0m\n\u001b[0m\u001b[1;32m      5\u001b[0m     \u001b[0mowner\u001b[0m \u001b[0;34m=\u001b[0m \u001b[0mname\u001b[0m\u001b[0;34m\u001b[0m\u001b[0;34m\u001b[0m\u001b[0m\n\u001b[1;32m      6\u001b[0m     \u001b[0mhighestAvgEnergy\u001b[0m \u001b[0;34m=\u001b[0m \u001b[0mavg\u001b[0m\u001b[0;34m\u001b[0m\u001b[0;34m\u001b[0m\u001b[0m\n",
            "\u001b[0;32m/usr/local/lib/python3.6/dist-packages/pandas/core/generic.py\u001b[0m in \u001b[0;36m__nonzero__\u001b[0;34m(self)\u001b[0m\n\u001b[1;32m   1476\u001b[0m         raise ValueError(\"The truth value of a {0} is ambiguous. \"\n\u001b[1;32m   1477\u001b[0m                          \u001b[0;34m\"Use a.empty, a.bool(), a.item(), a.any() or a.all().\"\u001b[0m\u001b[0;34m\u001b[0m\u001b[0;34m\u001b[0m\u001b[0m\n\u001b[0;32m-> 1478\u001b[0;31m                          .format(self.__class__.__name__))\n\u001b[0m\u001b[1;32m   1479\u001b[0m \u001b[0;34m\u001b[0m\u001b[0m\n\u001b[1;32m   1480\u001b[0m     \u001b[0m__bool__\u001b[0m \u001b[0;34m=\u001b[0m \u001b[0m__nonzero__\u001b[0m\u001b[0;34m\u001b[0m\u001b[0;34m\u001b[0m\u001b[0m\n",
            "\u001b[0;31mValueError\u001b[0m: The truth value of a Series is ambiguous. Use a.empty, a.bool(), a.item(), a.any() or a.all()."
          ]
        }
      ]
    },
    {
      "cell_type": "markdown",
      "metadata": {
        "id": "Y9amLZSHxC26",
        "colab_type": "text"
      },
      "source": [
        "# 667 and EC\n",
        "\n",
        "Universities are big realtors in NYC. The may own by different names. Find all builgings owned by NYU and COLUMBIA. replace the ownename with NYU and COLUMBIA respectively and re-aggregate the data based on these names and again find the owner of the buildings that pon average consume the most, of the highest number of buildings, and that owns the most sq footage "
      ]
    },
    {
      "cell_type": "code",
      "metadata": {
        "id": "vhpxcsYKC0B3",
        "colab_type": "code",
        "colab": {}
      },
      "source": [
        ""
      ],
      "execution_count": 0,
      "outputs": []
    }
  ]
}
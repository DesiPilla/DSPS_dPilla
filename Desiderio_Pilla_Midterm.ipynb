{
  "nbformat": 4,
  "nbformat_minor": 0,
  "metadata": {
    "kernelspec": {
      "display_name": "Python 3",
      "language": "python",
      "name": "python3"
    },
    "language_info": {
      "codemirror_mode": {
        "name": "ipython",
        "version": 3
      },
      "file_extension": ".py",
      "mimetype": "text/x-python",
      "name": "python",
      "nbconvert_exporter": "python",
      "pygments_lexer": "ipython3",
      "version": "3.7.3"
    },
    "latex_envs": {
      "LaTeX_envs_menu_present": true,
      "autoclose": false,
      "autocomplete": true,
      "bibliofile": "biblio.bib",
      "cite_by": "apalike",
      "current_citInitial": 1,
      "eqLabelWithNumbers": true,
      "eqNumInitial": 1,
      "hotkeys": {
        "equation": "Ctrl-E",
        "itemize": "Ctrl-I"
      },
      "labels_anchors": false,
      "latex_user_defs": false,
      "report_style_numbering": false,
      "user_envs_cfg": false
    },
    "nbTranslate": {
      "displayLangs": [
        "*"
      ],
      "hotkey": "alt-t",
      "langInMainMenu": true,
      "sourceLang": "en",
      "targetLang": "fr",
      "useGoogleTranslate": true
    },
    "toc": {
      "base_numbering": 1,
      "nav_menu": {
        "height": "13px",
        "width": "251px"
      },
      "number_sections": false,
      "sideBar": true,
      "skip_h1_title": false,
      "title_cell": "Table of Contents",
      "title_sidebar": "Contents",
      "toc_cell": false,
      "toc_position": {},
      "toc_section_display": "block",
      "toc_window_display": false
    },
    "colab": {
      "name": "Desiderio Pilla Midterm",
      "provenance": [],
      "collapsed_sections": [
        "RYlnjSc9Y2lf"
      ],
      "include_colab_link": true
    }
  },
  "cells": [
    {
      "cell_type": "markdown",
      "metadata": {
        "id": "view-in-github",
        "colab_type": "text"
      },
      "source": [
        "<a href=\"https://colab.research.google.com/github/DesiPilla/DSPS_dPilla/blob/master/Desiderio_Pilla_Midterm.ipynb\" target=\"_parent\"><img src=\"https://colab.research.google.com/assets/colab-badge.svg\" alt=\"Open In Colab\"/></a>"
      ]
    },
    {
      "cell_type": "markdown",
      "metadata": {
        "id": "JBT9-Oz6Y2kk",
        "colab_type": "text"
      },
      "source": [
        "# READ THESE INSTRUCTIONS CAREFULLY AND IN FULL BEFORE YOU PROCEED TO WORK!\n",
        "\n",
        "### CONTEXT :  Investigation of the nature of stellar explosions\n",
        "\n",
        "10 stars explode every second in the sky, most of them unseen as they are too far for their light to reach us. When they do, we can measure the property of the explosion and we find that there is a diversity of properties. Through the study of their spectra, we can measure the chemical composition of the progenitor star and the energy released in the explosion. We will focus here on 3 types of stellar explosions, or Supernovae (shortened to SN, for the singular, SNe for the plural). SNe Ic, SNe Ic-BL (which stands for \"broad-lined\", describing the broad quality of their spectral features), and SNe Ic-BL accompanied by a Gamma Ray Burst (GRB) which is an emission at higher electromagnetic frequencies (gamma rays). The details of this taxonomy are not important at this point (you can read about them [here](https://ned.ipac.caltech.edu/level5/March03/Filippenko/frames.html) if you wish), but suffice to say that these explosions have increasing energy release Ic < Ic-BL < Ic-BLGRB.\n",
        "\n",
        "We do not know why the energy released is different in spite of similar observed chemical properties. In a recent paper, we asked if the *environment* in which they explode is the same: the environment from an astrophysical perspective means the chemical environment of the region of the Galaxy where the explosion happens, which we measure relative to the chemical environment near our Sun: the *Metallicity*.\n",
        "\n",
        "\n",
        "We published [a paper about this](https://arxiv.org/pdf/1901.00872.pdf) from which I extracted the idea and the data for this exam.\n",
        "\n",
        "In the files below, we report the metallicity measured in several ways for the environment of several stellar explosions. \n",
        "\n",
        "***Focusing on the metallicity measured as \"KD02comb\" find a statistical answer to the question: do the three kinds of explosions, SN Ic, SN Ic-BL, SN Ic-BLGRB, come from the same distribution of chemical properties?***\n",
        "\n",
        "\n",
        "Note: \"KD02comb\" stands for [Kewely and Dopite 2012](https://www2.scopus.com/record/display.uri?eid=2-s2.0-0013467486&origin=inward&txGid=fcab97eb7a9f1602e0512094f61c91ed), combined scale"
      ]
    },
    {
      "cell_type": "markdown",
      "metadata": {
        "id": "PtBMuQJyY2km",
        "colab_type": "text"
      },
      "source": [
        "# Objective: assessing differences in the chemical environment of stellar explosion"
      ]
    },
    {
      "cell_type": "markdown",
      "metadata": {
        "id": "vxRZ9mEnY2kn",
        "colab_type": "text"
      },
      "source": [
        "PLEASE SEE THE HINTS TO EACH TASK [here](https://docs.google.com/document/d/1V9PVb6tK0yuCSTyCILkKXZD9--5PVIvhKDPZIiREdtQ/edit?usp=sharing) (no points loss for hints!)\n",
        "\n",
        "You will receive points for each of the marked deliverables, *and for your discussion of your findings*. \n",
        "\n",
        "## 1-6 are the data wrangling portion of the exercise, and are worth up to 60% of the points\n",
        "*In the data wrangling portion points are awarded for data processed so that they support the analysis in parts 7-11. This portion is likely going to be the most time consuming.*\n",
        "\n",
        "## 7-11 are the analysis portion of the exercise (including exploratory and visual analysis), and are worth up to 50% of the points \n",
        "*In the data analysis portion points are awarded for correct analysis, conclusions supported by the analysis* ***and expressed in full sentences***, *and plots that support the analysis and conclusions.*\n",
        "\n",
        "*That sums up to 110%, but the maximum grade is reached at 100%. This means you have a better chance to get 100% on your test, and if you exceed 100% the rest will be accounted for as extra credit and help your cumulative score at the end of the semester.*\n",
        "\n",
        "## Data Wrangling (each task is 10% of the points)\n",
        "    1. Read in the data for SN metallicity\n",
        "\n",
        "    2. Read in the GRB metallicity file\n",
        "    \n",
        "    3. Read in the classification of Ic and Ic-BL explosions \n",
        "    \n",
        "    4. Merge the metallicity and classification files\n",
        "    \n",
        "    5. Define the 3 samples GRB, IcBL, and Ic\n",
        "    \n",
        "    6. Create a second \"abridged\" GRB sample by removing uncertain classifications\n",
        "\n",
        "\n",
        "## Analysis (visual and quantitative)\n",
        "\n",
        "    7. Plot the distribution of metallicities (KD02comb) for each of the (4) samples\n",
        "    \n",
        "    8. Calculate the mean metallicity for each of the samples  and its uncertainty\n",
        "    \n",
        "    9. Compare the distribution of Ic with that of IcBL\n",
        "   \n",
        "    10. Compare the distribution of SNe Ic with that of GRBs and that of SNe IcBL with GRBs using, in both cases, the full GRB sample.\n",
        "    \n",
        "    11. Repeat the comparison of SNe IcBL with GRBs using now the abridged GRB sample\n",
        "    \n",
        "**Extra Credit**. The metallicity measurements include uncertainties which are asymmetric. Do you think these are included in the analysis I outlined above? if not, how would you incorporate these uncertainty in your analysis? (Describe what you would do and, of course, if you have time include this step in the analysis.)\"\n",
        "\n",
        "    \n",
        "     \n",
        "\n"
      ]
    },
    {
      "cell_type": "markdown",
      "metadata": {
        "id": "QDqhIDBdYNeR",
        "colab_type": "text"
      },
      "source": [
        "### DATA WRANGLING"
      ]
    },
    {
      "cell_type": "markdown",
      "metadata": {
        "id": "unglofA7Y2kn",
        "colab_type": "text"
      },
      "source": [
        "# 1 Read in the SN metallicity file\n",
        "\n",
        "You can find the data in the github repository \n",
        "\n",
        "https://github.com/fedhere/DSPS/tree/master/midterm\n",
        "\n",
        "Clean your dataset removing all the columns you will not need in the analysis and all invalid values in the resulting dataframe \n",
        "_the deliverable is a table like the one below_\n",
        "\n",
        "\n",
        "[hints](https://docs.google.com/document/d/1V9PVb6tK0yuCSTyCILkKXZD9--5PVIvhKDPZIiREdtQ/edit#heading=h.wqv9503ir8mr)\n",
        "\n",
        "You can find the solution at this URL: http://fbb.space/dsps/sne_clean.csv - if you use this solution you will not get the 10 points for this deliverable (but you can take the shortcut now and go back later to this! and if you do get the solution later you will get the points!)\n"
      ]
    },
    {
      "cell_type": "code",
      "metadata": {
        "id": "jWeRpmUyBbzy",
        "colab_type": "code",
        "colab": {}
      },
      "source": [
        "import numpy as np\n",
        "import pandas as pd\n",
        "import scipy as sp\n",
        "from scipy import stats\n",
        "import matplotlib.pyplot as plt"
      ],
      "execution_count": 0,
      "outputs": []
    },
    {
      "cell_type": "code",
      "metadata": {
        "id": "0O94VPGrEd7D",
        "colab_type": "code",
        "outputId": "4236359c-830a-4f13-eb03-7c0d16866c4d",
        "colab": {
          "base_uri": "https://localhost:8080/",
          "height": 221
        }
      },
      "source": [
        "sne = pd.read_csv('https://raw.githubusercontent.com/fedhere/DSPS/master/midterm/sne_metallicities.tsv', sep='\\t', error_bad_lines=False, na_values = '-')\n",
        "sne = sne[['name', 'KD02comb']]\n",
        "sne.dropna(inplace = True)\n",
        "sne.head()"
      ],
      "execution_count": 0,
      "outputs": [
        {
          "output_type": "stream",
          "text": [
            "b'Skipping line 15: expected 19 fields, saw 20\\n'\n"
          ],
          "name": "stderr"
        },
        {
          "output_type": "execute_result",
          "data": {
            "text/html": [
              "<div>\n",
              "<style scoped>\n",
              "    .dataframe tbody tr th:only-of-type {\n",
              "        vertical-align: middle;\n",
              "    }\n",
              "\n",
              "    .dataframe tbody tr th {\n",
              "        vertical-align: top;\n",
              "    }\n",
              "\n",
              "    .dataframe thead th {\n",
              "        text-align: right;\n",
              "    }\n",
              "</style>\n",
              "<table border=\"1\" class=\"dataframe\">\n",
              "  <thead>\n",
              "    <tr style=\"text-align: right;\">\n",
              "      <th></th>\n",
              "      <th>name</th>\n",
              "      <th>KD02comb</th>\n",
              "    </tr>\n",
              "  </thead>\n",
              "  <tbody>\n",
              "    <tr>\n",
              "      <th>0</th>\n",
              "      <td>09ps</td>\n",
              "      <td>8.347</td>\n",
              "    </tr>\n",
              "    <tr>\n",
              "      <th>2</th>\n",
              "      <td>10gvb</td>\n",
              "      <td>8.280</td>\n",
              "    </tr>\n",
              "    <tr>\n",
              "      <th>3</th>\n",
              "      <td>10svt</td>\n",
              "      <td>8.479</td>\n",
              "    </tr>\n",
              "    <tr>\n",
              "      <th>4</th>\n",
              "      <td>12gzk</td>\n",
              "      <td>7.943</td>\n",
              "    </tr>\n",
              "    <tr>\n",
              "      <th>5</th>\n",
              "      <td>12hni</td>\n",
              "      <td>8.457</td>\n",
              "    </tr>\n",
              "  </tbody>\n",
              "</table>\n",
              "</div>"
            ],
            "text/plain": [
              "    name  KD02comb\n",
              "0   09ps     8.347\n",
              "2  10gvb     8.280\n",
              "3  10svt     8.479\n",
              "4  12gzk     7.943\n",
              "5  12hni     8.457"
            ]
          },
          "metadata": {
            "tags": []
          },
          "execution_count": 56
        }
      ]
    },
    {
      "cell_type": "code",
      "metadata": {
        "ExecuteTime": {
          "end_time": "2019-10-08T07:41:00.317321Z",
          "start_time": "2019-10-08T07:41:00.311478Z"
        },
        "id": "eeAYXz-hY2ks",
        "colab_type": "code",
        "outputId": "d47817fc-d430-49f0-bb69-e3e07ee81b66",
        "colab": {
          "base_uri": "https://localhost:8080/",
          "height": 204
        }
      },
      "source": [
        "sne.head()          # This was from the original notebook"
      ],
      "execution_count": 0,
      "outputs": [
        {
          "output_type": "execute_result",
          "data": {
            "text/html": [
              "<div>\n",
              "<style scoped>\n",
              "    .dataframe tbody tr th:only-of-type {\n",
              "        vertical-align: middle;\n",
              "    }\n",
              "\n",
              "    .dataframe tbody tr th {\n",
              "        vertical-align: top;\n",
              "    }\n",
              "\n",
              "    .dataframe thead th {\n",
              "        text-align: right;\n",
              "    }\n",
              "</style>\n",
              "<table border=\"1\" class=\"dataframe\">\n",
              "  <thead>\n",
              "    <tr style=\"text-align: right;\">\n",
              "      <th></th>\n",
              "      <th>SN</th>\n",
              "      <th>KD02comb</th>\n",
              "    </tr>\n",
              "  </thead>\n",
              "  <tbody>\n",
              "    <tr>\n",
              "      <th>0</th>\n",
              "      <td>09ps</td>\n",
              "      <td>8.347</td>\n",
              "    </tr>\n",
              "    <tr>\n",
              "      <th>2</th>\n",
              "      <td>10gvb</td>\n",
              "      <td>8.280</td>\n",
              "    </tr>\n",
              "    <tr>\n",
              "      <th>3</th>\n",
              "      <td>10svt</td>\n",
              "      <td>8.479</td>\n",
              "    </tr>\n",
              "    <tr>\n",
              "      <th>4</th>\n",
              "      <td>12gzk</td>\n",
              "      <td>7.943</td>\n",
              "    </tr>\n",
              "    <tr>\n",
              "      <th>5</th>\n",
              "      <td>12hni</td>\n",
              "      <td>8.457</td>\n",
              "    </tr>\n",
              "  </tbody>\n",
              "</table>\n",
              "</div>"
            ],
            "text/plain": [
              "      SN  KD02comb\n",
              "0   09ps     8.347\n",
              "2  10gvb     8.280\n",
              "3  10svt     8.479\n",
              "4  12gzk     7.943\n",
              "5  12hni     8.457"
            ]
          },
          "metadata": {
            "tags": []
          },
          "execution_count": 3
        }
      ]
    },
    {
      "cell_type": "markdown",
      "metadata": {
        "id": "uTVXw1adY2kw",
        "colab_type": "text"
      },
      "source": [
        "# 2.  Read in the GRB metallicity file\n",
        "\n",
        "You can find the data in the github repository \n",
        "\n",
        "https://github.com/fedhere/DSPS/tree/master/midterm\n",
        "\n",
        "Clean your dataset of all the columns you will not need and all invalid values in the remaining dataframe \n",
        "_the deliverable is a table like the one below_\n",
        "\n",
        "[hints](https://docs.google.com/document/d/1V9PVb6tK0yuCSTyCILkKXZD9--5PVIvhKDPZIiREdtQ/edit#heading=h.wqv9503ir8mr)\n",
        "\n",
        "You can find the solution at http://fbb.space/dsps/grb_clean.csv - if you use this solution you will not get the 10 points for this deliverable (but you can go back later to this! and if you do get the solution later you will get the points!)\n"
      ]
    },
    {
      "cell_type": "code",
      "metadata": {
        "id": "yJZxLXY5EvwI",
        "colab_type": "code",
        "outputId": "e9f61b60-b68a-413a-a620-89c7b917f304",
        "colab": {
          "base_uri": "https://localhost:8080/",
          "height": 204
        }
      },
      "source": [
        "grb = pd.read_csv('https://raw.githubusercontent.com/fedhere/DSPS/master/midterm/grb_metallicities.tsv', sep='\\t', error_bad_lines=False, na_values = '-')\n",
        "grb = grb[['name', 'KD02comb']]\n",
        "grb.dropna(inplace = True)\n",
        "grb.head()"
      ],
      "execution_count": 0,
      "outputs": [
        {
          "output_type": "execute_result",
          "data": {
            "text/html": [
              "<div>\n",
              "<style scoped>\n",
              "    .dataframe tbody tr th:only-of-type {\n",
              "        vertical-align: middle;\n",
              "    }\n",
              "\n",
              "    .dataframe tbody tr th {\n",
              "        vertical-align: top;\n",
              "    }\n",
              "\n",
              "    .dataframe thead th {\n",
              "        text-align: right;\n",
              "    }\n",
              "</style>\n",
              "<table border=\"1\" class=\"dataframe\">\n",
              "  <thead>\n",
              "    <tr style=\"text-align: right;\">\n",
              "      <th></th>\n",
              "      <th>name</th>\n",
              "      <th>KD02comb</th>\n",
              "    </tr>\n",
              "  </thead>\n",
              "  <tbody>\n",
              "    <tr>\n",
              "      <th>0</th>\n",
              "      <td>GRB980425/SN1998bw</td>\n",
              "      <td>8.485</td>\n",
              "    </tr>\n",
              "    <tr>\n",
              "      <th>1</th>\n",
              "      <td>XRF020903</td>\n",
              "      <td>8.183</td>\n",
              "    </tr>\n",
              "    <tr>\n",
              "      <th>2</th>\n",
              "      <td>GRB030329/SN2003dh</td>\n",
              "      <td>8.073</td>\n",
              "    </tr>\n",
              "    <tr>\n",
              "      <th>3</th>\n",
              "      <td>GRB031203/SN2003lw</td>\n",
              "      <td>8.647</td>\n",
              "    </tr>\n",
              "    <tr>\n",
              "      <th>4</th>\n",
              "      <td>GRB/XRF060218/SN2006aj</td>\n",
              "      <td>8.125</td>\n",
              "    </tr>\n",
              "  </tbody>\n",
              "</table>\n",
              "</div>"
            ],
            "text/plain": [
              "                     name  KD02comb\n",
              "0      GRB980425/SN1998bw     8.485\n",
              "1               XRF020903     8.183\n",
              "2      GRB030329/SN2003dh     8.073\n",
              "3      GRB031203/SN2003lw     8.647\n",
              "4  GRB/XRF060218/SN2006aj     8.125"
            ]
          },
          "metadata": {
            "tags": []
          },
          "execution_count": 57
        }
      ]
    },
    {
      "cell_type": "code",
      "metadata": {
        "ExecuteTime": {
          "end_time": "2019-10-08T07:41:00.554244Z",
          "start_time": "2019-10-08T07:41:00.547733Z"
        },
        "id": "RsYVHBbPY2kz",
        "colab_type": "code",
        "outputId": "42baf6e4-986a-464b-e276-54094716938e",
        "colab": {
          "base_uri": "https://localhost:8080/",
          "height": 204
        }
      },
      "source": [
        "grb.head()          # This was from the original notebook"
      ],
      "execution_count": 0,
      "outputs": [
        {
          "output_type": "execute_result",
          "data": {
            "text/html": [
              "<div>\n",
              "<style scoped>\n",
              "    .dataframe tbody tr th:only-of-type {\n",
              "        vertical-align: middle;\n",
              "    }\n",
              "\n",
              "    .dataframe tbody tr th {\n",
              "        vertical-align: top;\n",
              "    }\n",
              "\n",
              "    .dataframe thead th {\n",
              "        text-align: right;\n",
              "    }\n",
              "</style>\n",
              "<table border=\"1\" class=\"dataframe\">\n",
              "  <thead>\n",
              "    <tr style=\"text-align: right;\">\n",
              "      <th></th>\n",
              "      <th>SN</th>\n",
              "      <th>KD02comb</th>\n",
              "    </tr>\n",
              "  </thead>\n",
              "  <tbody>\n",
              "    <tr>\n",
              "      <th>0</th>\n",
              "      <td>GRB980425/SN1998bw</td>\n",
              "      <td>8.485</td>\n",
              "    </tr>\n",
              "    <tr>\n",
              "      <th>1</th>\n",
              "      <td>XRF020903</td>\n",
              "      <td>8.183</td>\n",
              "    </tr>\n",
              "    <tr>\n",
              "      <th>2</th>\n",
              "      <td>GRB030329/SN2003dh</td>\n",
              "      <td>8.073</td>\n",
              "    </tr>\n",
              "    <tr>\n",
              "      <th>3</th>\n",
              "      <td>GRB031203/SN2003lw</td>\n",
              "      <td>8.647</td>\n",
              "    </tr>\n",
              "    <tr>\n",
              "      <th>4</th>\n",
              "      <td>GRB/XRF060218/SN2006aj</td>\n",
              "      <td>8.125</td>\n",
              "    </tr>\n",
              "  </tbody>\n",
              "</table>\n",
              "</div>"
            ],
            "text/plain": [
              "                       SN  KD02comb\n",
              "0      GRB980425/SN1998bw     8.485\n",
              "1               XRF020903     8.183\n",
              "2      GRB030329/SN2003dh     8.073\n",
              "3      GRB031203/SN2003lw     8.647\n",
              "4  GRB/XRF060218/SN2006aj     8.125"
            ]
          },
          "metadata": {
            "tags": []
          },
          "execution_count": 8
        }
      ]
    },
    {
      "cell_type": "markdown",
      "metadata": {
        "id": "S7OcTSyhY2k9",
        "colab_type": "text"
      },
      "source": [
        "# 3 Read in the classification of Ic and Ic-BL explosions and process it to extract the SN name\n",
        "\n",
        "You can find the data in the github repository \n",
        "\n",
        "https://github.com/fedhere/DSPS/tree/master/midterm\n",
        "\n",
        "Modify the SN name column to be consistent with the name column in the SNe file.\n",
        "\n",
        "[hint](https://docs.google.com/document/d/1V9PVb6tK0yuCSTyCILkKXZD9--5PVIvhKDPZIiREdtQ/edit#heading=h.isi30wsuhrhc)\n",
        "\n",
        "You can get the solution at http://fbb.space/dsps/SNtype.csv\n"
      ]
    },
    {
      "cell_type": "code",
      "metadata": {
        "id": "uEUdlJqsFG6f",
        "colab_type": "code",
        "outputId": "c5bf23ba-7ec3-4115-cc2f-8f1f4bbd8ed2",
        "colab": {
          "base_uri": "https://localhost:8080/",
          "height": 235
        }
      },
      "source": [
        "SNtypes = pd.read_csv('https://raw.githubusercontent.com/fedhere/DSPS/master/midterm/SNinfo_072617.txt', delim_whitespace = True, skiprows = 3)\n",
        "SNtypes.rename(columns = {'#':'galnum', 'galnum':'name', 'PTFname':'SNtype'}, inplace = True)\n",
        "SNtypes = SNtypes[['galnum', 'SNtype', 'name']]\n",
        "SNtypes['name'] = SNtypes['name'].str.slice(3, 8)\n",
        "SNtypes.set_index('galnum', inplace = True)\n",
        "SNtypes.head()"
      ],
      "execution_count": 0,
      "outputs": [
        {
          "output_type": "execute_result",
          "data": {
            "text/html": [
              "<div>\n",
              "<style scoped>\n",
              "    .dataframe tbody tr th:only-of-type {\n",
              "        vertical-align: middle;\n",
              "    }\n",
              "\n",
              "    .dataframe tbody tr th {\n",
              "        vertical-align: top;\n",
              "    }\n",
              "\n",
              "    .dataframe thead th {\n",
              "        text-align: right;\n",
              "    }\n",
              "</style>\n",
              "<table border=\"1\" class=\"dataframe\">\n",
              "  <thead>\n",
              "    <tr style=\"text-align: right;\">\n",
              "      <th></th>\n",
              "      <th>SNtype</th>\n",
              "      <th>name</th>\n",
              "    </tr>\n",
              "    <tr>\n",
              "      <th>galnum</th>\n",
              "      <th></th>\n",
              "      <th></th>\n",
              "    </tr>\n",
              "  </thead>\n",
              "  <tbody>\n",
              "    <tr>\n",
              "      <th>1</th>\n",
              "      <td>Ic-BL</td>\n",
              "      <td>10xem</td>\n",
              "    </tr>\n",
              "    <tr>\n",
              "      <th>2</th>\n",
              "      <td>Ic</td>\n",
              "      <td>10wal</td>\n",
              "    </tr>\n",
              "    <tr>\n",
              "      <th>3</th>\n",
              "      <td>Ic</td>\n",
              "      <td>09iqd</td>\n",
              "    </tr>\n",
              "    <tr>\n",
              "      <th>4</th>\n",
              "      <td>Ic</td>\n",
              "      <td>10xik</td>\n",
              "    </tr>\n",
              "    <tr>\n",
              "      <th>5</th>\n",
              "      <td>Ic</td>\n",
              "      <td>10ood</td>\n",
              "    </tr>\n",
              "  </tbody>\n",
              "</table>\n",
              "</div>"
            ],
            "text/plain": [
              "       SNtype   name\n",
              "galnum              \n",
              "1       Ic-BL  10xem\n",
              "2          Ic  10wal\n",
              "3          Ic  09iqd\n",
              "4          Ic  10xik\n",
              "5          Ic  10ood"
            ]
          },
          "metadata": {
            "tags": []
          },
          "execution_count": 87
        }
      ]
    },
    {
      "cell_type": "code",
      "metadata": {
        "ExecuteTime": {
          "end_time": "2019-10-08T07:41:00.958608Z",
          "start_time": "2019-10-08T07:41:00.952952Z"
        },
        "id": "G7lTWyrlY2lA",
        "colab_type": "code",
        "outputId": "eb5a5d42-ab79-4672-c32e-096b403c8288",
        "colab": {
          "base_uri": "https://localhost:8080/",
          "height": 235
        }
      },
      "source": [
        "SNtypes.head()          # This was from the original notebook"
      ],
      "execution_count": 0,
      "outputs": [
        {
          "output_type": "execute_result",
          "data": {
            "text/html": [
              "<div>\n",
              "<style scoped>\n",
              "    .dataframe tbody tr th:only-of-type {\n",
              "        vertical-align: middle;\n",
              "    }\n",
              "\n",
              "    .dataframe tbody tr th {\n",
              "        vertical-align: top;\n",
              "    }\n",
              "\n",
              "    .dataframe thead th {\n",
              "        text-align: right;\n",
              "    }\n",
              "</style>\n",
              "<table border=\"1\" class=\"dataframe\">\n",
              "  <thead>\n",
              "    <tr style=\"text-align: right;\">\n",
              "      <th></th>\n",
              "      <th>SNtype</th>\n",
              "      <th>name</th>\n",
              "    </tr>\n",
              "    <tr>\n",
              "      <th>galnum</th>\n",
              "      <th></th>\n",
              "      <th></th>\n",
              "    </tr>\n",
              "  </thead>\n",
              "  <tbody>\n",
              "    <tr>\n",
              "      <th>1</th>\n",
              "      <td>Ic-BL</td>\n",
              "      <td>10xem</td>\n",
              "    </tr>\n",
              "    <tr>\n",
              "      <th>2</th>\n",
              "      <td>Ic</td>\n",
              "      <td>10wal</td>\n",
              "    </tr>\n",
              "    <tr>\n",
              "      <th>3</th>\n",
              "      <td>Ic</td>\n",
              "      <td>09iqd</td>\n",
              "    </tr>\n",
              "    <tr>\n",
              "      <th>4</th>\n",
              "      <td>Ic</td>\n",
              "      <td>10xik</td>\n",
              "    </tr>\n",
              "    <tr>\n",
              "      <th>5</th>\n",
              "      <td>Ic</td>\n",
              "      <td>10ood</td>\n",
              "    </tr>\n",
              "  </tbody>\n",
              "</table>\n",
              "</div>"
            ],
            "text/plain": [
              "       SNtype   name\n",
              "galnum              \n",
              "1       Ic-BL  10xem\n",
              "2          Ic  10wal\n",
              "3          Ic  09iqd\n",
              "4          Ic  10xik\n",
              "5          Ic  10ood"
            ]
          },
          "metadata": {
            "tags": []
          },
          "execution_count": 17
        }
      ]
    },
    {
      "cell_type": "markdown",
      "metadata": {
        "id": "YRZAUpEEY2lD",
        "colab_type": "text"
      },
      "source": [
        "# 4 Merge the metallicity and classification files\n",
        "\n",
        "Merge the SN names and SN metallicity files based on the SN name\n",
        "\n",
        "[hints](https://docs.google.com/document/d/1V9PVb6tK0yuCSTyCILkKXZD9--5PVIvhKDPZIiREdtQ/edit#heading=h.vu3ga15gdvc0)\n",
        "\n",
        "You can get the solution at this url: http://fbb.space/dsps/SNmetallicity_final.csv\n"
      ]
    },
    {
      "cell_type": "code",
      "metadata": {
        "id": "pAXYqT5wJ1O8",
        "colab_type": "code",
        "outputId": "1ba7f053-9a81-4651-a276-e637e89d598a",
        "colab": {
          "base_uri": "https://localhost:8080/",
          "height": 204
        }
      },
      "source": [
        "sneall = sne.merge(SNtypes, how = 'outer', on = 'name')\n",
        "sneall['SNtype'].fillna('uncertain', inplace = True)\n",
        "sneall.head()"
      ],
      "execution_count": 0,
      "outputs": [
        {
          "output_type": "execute_result",
          "data": {
            "text/html": [
              "<div>\n",
              "<style scoped>\n",
              "    .dataframe tbody tr th:only-of-type {\n",
              "        vertical-align: middle;\n",
              "    }\n",
              "\n",
              "    .dataframe tbody tr th {\n",
              "        vertical-align: top;\n",
              "    }\n",
              "\n",
              "    .dataframe thead th {\n",
              "        text-align: right;\n",
              "    }\n",
              "</style>\n",
              "<table border=\"1\" class=\"dataframe\">\n",
              "  <thead>\n",
              "    <tr style=\"text-align: right;\">\n",
              "      <th></th>\n",
              "      <th>name</th>\n",
              "      <th>KD02comb</th>\n",
              "      <th>SNtype</th>\n",
              "    </tr>\n",
              "  </thead>\n",
              "  <tbody>\n",
              "    <tr>\n",
              "      <th>0</th>\n",
              "      <td>09ps</td>\n",
              "      <td>8.347</td>\n",
              "      <td>uncertain</td>\n",
              "    </tr>\n",
              "    <tr>\n",
              "      <th>1</th>\n",
              "      <td>10gvb</td>\n",
              "      <td>8.280</td>\n",
              "      <td>uncertain</td>\n",
              "    </tr>\n",
              "    <tr>\n",
              "      <th>2</th>\n",
              "      <td>10svt</td>\n",
              "      <td>8.479</td>\n",
              "      <td>uncertain</td>\n",
              "    </tr>\n",
              "    <tr>\n",
              "      <th>3</th>\n",
              "      <td>12gzk</td>\n",
              "      <td>7.943</td>\n",
              "      <td>uncertain</td>\n",
              "    </tr>\n",
              "    <tr>\n",
              "      <th>4</th>\n",
              "      <td>12hni</td>\n",
              "      <td>8.457</td>\n",
              "      <td>uncertain</td>\n",
              "    </tr>\n",
              "  </tbody>\n",
              "</table>\n",
              "</div>"
            ],
            "text/plain": [
              "    name  KD02comb     SNtype\n",
              "0   09ps     8.347  uncertain\n",
              "1  10gvb     8.280  uncertain\n",
              "2  10svt     8.479  uncertain\n",
              "3  12gzk     7.943  uncertain\n",
              "4  12hni     8.457  uncertain"
            ]
          },
          "metadata": {
            "tags": []
          },
          "execution_count": 93
        }
      ]
    },
    {
      "cell_type": "code",
      "metadata": {
        "ExecuteTime": {
          "end_time": "2019-10-08T07:41:01.044087Z",
          "start_time": "2019-10-08T07:41:01.037066Z"
        },
        "colab_type": "code",
        "outputId": "01334639-4432-4667-dffe-1daf6141ba8b",
        "id": "8qLPj5evbpSE",
        "colab": {
          "base_uri": "https://localhost:8080/",
          "height": 204
        }
      },
      "source": [
        "sneall.head()          # This was from the original notebook"
      ],
      "execution_count": 0,
      "outputs": [
        {
          "output_type": "execute_result",
          "data": {
            "text/html": [
              "<div>\n",
              "<style scoped>\n",
              "    .dataframe tbody tr th:only-of-type {\n",
              "        vertical-align: middle;\n",
              "    }\n",
              "\n",
              "    .dataframe tbody tr th {\n",
              "        vertical-align: top;\n",
              "    }\n",
              "\n",
              "    .dataframe thead th {\n",
              "        text-align: right;\n",
              "    }\n",
              "</style>\n",
              "<table border=\"1\" class=\"dataframe\">\n",
              "  <thead>\n",
              "    <tr style=\"text-align: right;\">\n",
              "      <th></th>\n",
              "      <th>SN</th>\n",
              "      <th>KD02comb</th>\n",
              "      <th>SNtype</th>\n",
              "    </tr>\n",
              "  </thead>\n",
              "  <tbody>\n",
              "    <tr>\n",
              "      <th>0</th>\n",
              "      <td>09ps</td>\n",
              "      <td>8.347</td>\n",
              "      <td>uncertain</td>\n",
              "    </tr>\n",
              "    <tr>\n",
              "      <th>1</th>\n",
              "      <td>10gvb</td>\n",
              "      <td>8.280</td>\n",
              "      <td>uncertain</td>\n",
              "    </tr>\n",
              "    <tr>\n",
              "      <th>2</th>\n",
              "      <td>10svt</td>\n",
              "      <td>8.479</td>\n",
              "      <td>uncertain</td>\n",
              "    </tr>\n",
              "    <tr>\n",
              "      <th>3</th>\n",
              "      <td>12gzk</td>\n",
              "      <td>7.943</td>\n",
              "      <td>uncertain</td>\n",
              "    </tr>\n",
              "    <tr>\n",
              "      <th>4</th>\n",
              "      <td>12hni</td>\n",
              "      <td>8.457</td>\n",
              "      <td>uncertain</td>\n",
              "    </tr>\n",
              "  </tbody>\n",
              "</table>\n",
              "</div>"
            ],
            "text/plain": [
              "      SN  KD02comb     SNtype\n",
              "0   09ps     8.347  uncertain\n",
              "1  10gvb     8.280  uncertain\n",
              "2  10svt     8.479  uncertain\n",
              "3  12gzk     7.943  uncertain\n",
              "4  12hni     8.457  uncertain"
            ]
          },
          "metadata": {
            "tags": []
          },
          "execution_count": 20
        }
      ]
    },
    {
      "cell_type": "markdown",
      "metadata": {
        "id": "IeYzplkXY2lK",
        "colab_type": "text"
      },
      "source": [
        "# 5 Define the 3 samples GRB, IcBL, and Ic\n",
        "\n",
        "Split the SN sample so that you have 2 dataframes: snIc and snIcBL\n",
        "\n",
        "[hint](https://docs.google.com/document/d/1V9PVb6tK0yuCSTyCILkKXZD9--5PVIvhKDPZIiREdtQ/edit#heading=h.bojijnl6aiq5)"
      ]
    },
    {
      "cell_type": "code",
      "metadata": {
        "id": "Mslt-jMfKvvm",
        "colab_type": "code",
        "outputId": "974d43d0-5a6e-43e4-9b43-6dde736877fd",
        "colab": {
          "base_uri": "https://localhost:8080/",
          "height": 34
        }
      },
      "source": [
        "snIc = sneall[sneall['SNtype'] == 'Ic']\n",
        "snIc.shape"
      ],
      "execution_count": 0,
      "outputs": [
        {
          "output_type": "execute_result",
          "data": {
            "text/plain": [
              "(28, 3)"
            ]
          },
          "metadata": {
            "tags": []
          },
          "execution_count": 97
        }
      ]
    },
    {
      "cell_type": "code",
      "metadata": {
        "id": "crZNU2j4LAjO",
        "colab_type": "code",
        "outputId": "fee63ff6-8826-40f0-8147-1ed2b9dd1580",
        "colab": {
          "base_uri": "https://localhost:8080/",
          "height": 34
        }
      },
      "source": [
        "snIcBL = sneall[sneall['SNtype'] == 'Ic-BL']\n",
        "snIcBL.shape"
      ],
      "execution_count": 0,
      "outputs": [
        {
          "output_type": "execute_result",
          "data": {
            "text/plain": [
              "(14, 3)"
            ]
          },
          "metadata": {
            "tags": []
          },
          "execution_count": 99
        }
      ]
    },
    {
      "cell_type": "markdown",
      "metadata": {
        "id": "ESkeSBMGLKeS",
        "colab_type": "text"
      },
      "source": [
        "The two cells below are from the original notebook (to check my work)."
      ]
    },
    {
      "cell_type": "code",
      "metadata": {
        "ExecuteTime": {
          "end_time": "2019-10-08T07:41:01.129816Z",
          "start_time": "2019-10-08T07:41:01.126582Z"
        },
        "id": "MNIcfKhyY2lP",
        "colab_type": "code",
        "outputId": "ea23318c-10b2-49dd-827c-8d4e4aa98ed3",
        "colab": {
          "base_uri": "https://localhost:8080/",
          "height": 34
        }
      },
      "source": [
        "snIc.shape          # This was from the original notebook"
      ],
      "execution_count": 0,
      "outputs": [
        {
          "output_type": "execute_result",
          "data": {
            "text/plain": [
              "(28, 3)"
            ]
          },
          "metadata": {
            "tags": []
          },
          "execution_count": 24
        }
      ]
    },
    {
      "cell_type": "code",
      "metadata": {
        "ExecuteTime": {
          "end_time": "2019-10-08T07:41:01.144204Z",
          "start_time": "2019-10-08T07:41:01.141126Z"
        },
        "id": "XvHBkZVdY2lT",
        "colab_type": "code",
        "outputId": "b8a1dde7-5204-4faf-9646-3b4e57cf6880",
        "colab": {
          "base_uri": "https://localhost:8080/",
          "height": 34
        }
      },
      "source": [
        "snIcBL.shape          # This was from the original notebook"
      ],
      "execution_count": 0,
      "outputs": [
        {
          "output_type": "execute_result",
          "data": {
            "text/plain": [
              "(14, 3)"
            ]
          },
          "metadata": {
            "tags": []
          },
          "execution_count": 26
        }
      ]
    },
    {
      "cell_type": "markdown",
      "metadata": {
        "id": "JGSneWxxY2lU",
        "colab_type": "text"
      },
      "source": [
        "# 6 Create a second \"abridged\" GRB sample by removing uncertain classifications\n",
        "\n",
        "The classification of SN 2013dx ('13dx') is uncertain: remove it from the grb sample to create an \"abridged\" sample (saving the original sample as well)\n",
        "\n",
        "You can get the solution [here](https://docs.google.com/document/d/1V9PVb6tK0yuCSTyCILkKXZD9--5PVIvhKDPZIiREdtQ/edit#heading=h.e1jtfsuajcdv)\n"
      ]
    },
    {
      "cell_type": "code",
      "metadata": {
        "id": "qyszOHRaLSFo",
        "colab_type": "code",
        "outputId": "51692be4-9fbc-40b2-ced4-edf8fbcf3638",
        "colab": {
          "base_uri": "https://localhost:8080/",
          "height": 34
        }
      },
      "source": [
        "removeVal = ''\n",
        "for name in grb['name']:\n",
        "  if '13dx' in name:\n",
        "    removeVal = name\n",
        "\n",
        "grbabridged = grb[grb['name'] != removeVal]\n",
        "grbabridged.shape"
      ],
      "execution_count": 0,
      "outputs": [
        {
          "output_type": "execute_result",
          "data": {
            "text/plain": [
              "(10, 2)"
            ]
          },
          "metadata": {
            "tags": []
          },
          "execution_count": 113
        }
      ]
    },
    {
      "cell_type": "code",
      "metadata": {
        "ExecuteTime": {
          "end_time": "2019-10-08T07:41:01.156449Z",
          "start_time": "2019-10-08T07:41:01.152309Z"
        },
        "id": "pX4nCV7cY2lW",
        "colab_type": "code",
        "outputId": "a86a3399-54cf-4048-e986-30bfa26f0bcb",
        "colab": {
          "base_uri": "https://localhost:8080/",
          "height": 34
        }
      },
      "source": [
        "grbabridged.shape          # This was from the original notebook"
      ],
      "execution_count": 0,
      "outputs": [
        {
          "output_type": "execute_result",
          "data": {
            "text/plain": [
              "(10, 2)"
            ]
          },
          "metadata": {
            "tags": []
          },
          "execution_count": 28
        }
      ]
    },
    {
      "cell_type": "markdown",
      "metadata": {
        "id": "BrOXoymcYGdo",
        "colab_type": "text"
      },
      "source": [
        "#### ANALYSIS"
      ]
    },
    {
      "cell_type": "markdown",
      "metadata": {
        "id": "5l0nkZw_Y2lY",
        "colab_type": "text"
      },
      "source": [
        "# 7  Plot the distribution of metallicities  for each of the  samples\n",
        "    \n",
        "   \n",
        "\n",
        "[hint](https://docs.google.com/document/d/1V9PVb6tK0yuCSTyCILkKXZD9--5PVIvhKDPZIiREdtQ/edit#heading=h.pwkb8bo4nrla)"
      ]
    },
    {
      "cell_type": "code",
      "metadata": {
        "id": "y0jmhSdeM6S5",
        "colab_type": "code",
        "outputId": "0cd743de-cd7e-4d77-d78f-773b3c62ae58",
        "colab": {
          "base_uri": "https://localhost:8080/",
          "height": 383
        }
      },
      "source": [
        "snIc.hist(normed = True)\n",
        "plt.title(\"Historgam of the Metallicities for SN-Ic Samples\")\n",
        "plt.xlabel(\"Metallicity\")\n",
        "plt.ylabel(\"Count\")"
      ],
      "execution_count": 0,
      "outputs": [
        {
          "output_type": "stream",
          "text": [
            "/usr/local/lib/python3.6/dist-packages/matplotlib/axes/_axes.py:6521: MatplotlibDeprecationWarning: \n",
            "The 'normed' kwarg was deprecated in Matplotlib 2.1 and will be removed in 3.1. Use 'density' instead.\n",
            "  alternative=\"'density'\", removal=\"3.1\")\n"
          ],
          "name": "stderr"
        },
        {
          "output_type": "execute_result",
          "data": {
            "text/plain": [
              "Text(0, 0.5, 'Count')"
            ]
          },
          "metadata": {
            "tags": []
          },
          "execution_count": 126
        },
        {
          "output_type": "display_data",
          "data": {
            "image/png": "[encoded data removed]",
            "text/plain": [
              "<Figure size 432x288 with 1 Axes>"
            ]
          },
          "metadata": {
            "tags": []
          }
        }
      ]
    },
    {
      "cell_type": "markdown",
      "metadata": {
        "id": "M-xJiAb_Ox3o",
        "colab_type": "text"
      },
      "source": [
        "The above plot shows the distribution of metallicities among the SN-Ic samples. It is plotted as a histogram."
      ]
    },
    {
      "cell_type": "code",
      "metadata": {
        "id": "-fV3vQgaNCr4",
        "colab_type": "code",
        "outputId": "932e5712-ddb6-424f-991f-77b90afbfacb",
        "colab": {
          "base_uri": "https://localhost:8080/",
          "height": 366
        }
      },
      "source": [
        "snIcBL.hist(normed = True)\n",
        "plt.title(\"Historgam of the Metallicities for SN-Ic-BL Samples\")\n",
        "plt.xlabel(\"Metallicity\")\n",
        "plt.ylabel(\"Count\");"
      ],
      "execution_count": 0,
      "outputs": [
        {
          "output_type": "stream",
          "text": [
            "/usr/local/lib/python3.6/dist-packages/matplotlib/axes/_axes.py:6521: MatplotlibDeprecationWarning: \n",
            "The 'normed' kwarg was deprecated in Matplotlib 2.1 and will be removed in 3.1. Use 'density' instead.\n",
            "  alternative=\"'density'\", removal=\"3.1\")\n"
          ],
          "name": "stderr"
        },
        {
          "output_type": "display_data",
          "data": {
            "image/png": "[encoded data removed]",
            "text/plain": [
              "<Figure size 432x288 with 1 Axes>"
            ]
          },
          "metadata": {
            "tags": []
          }
        }
      ]
    },
    {
      "cell_type": "markdown",
      "metadata": {
        "id": "fEfuSBP-Ol91",
        "colab_type": "text"
      },
      "source": [
        "The above plot shows the distribution of metallicities among the SN-Ic-BL samples. It is plotted as a histogram."
      ]
    },
    {
      "cell_type": "code",
      "metadata": {
        "id": "P5k-DnvoM90m",
        "colab_type": "code",
        "outputId": "26c5c333-6f95-4f39-9b74-2d9c93fc6b9a",
        "colab": {
          "base_uri": "https://localhost:8080/",
          "height": 383
        }
      },
      "source": [
        "grbabridged.hist(normed = True); \n",
        "plt.title(\"Historgam of the Metallicities for SN-Ic-BL-GRB Samples\")\n",
        "plt.xlabel(\"Metallicity\")\n",
        "plt.ylabel(\"Count\")"
      ],
      "execution_count": 0,
      "outputs": [
        {
          "output_type": "stream",
          "text": [
            "/usr/local/lib/python3.6/dist-packages/matplotlib/axes/_axes.py:6521: MatplotlibDeprecationWarning: \n",
            "The 'normed' kwarg was deprecated in Matplotlib 2.1 and will be removed in 3.1. Use 'density' instead.\n",
            "  alternative=\"'density'\", removal=\"3.1\")\n"
          ],
          "name": "stderr"
        },
        {
          "output_type": "execute_result",
          "data": {
            "text/plain": [
              "Text(0, 0.5, 'Count')"
            ]
          },
          "metadata": {
            "tags": []
          },
          "execution_count": 121
        },
        {
          "output_type": "display_data",
          "data": {
            "image/png": "[encoded data removed]",
            "text/plain": [
              "<Figure size 432x288 with 1 Axes>"
            ]
          },
          "metadata": {
            "tags": []
          }
        }
      ]
    },
    {
      "cell_type": "markdown",
      "metadata": {
        "id": "z93hyFcvOz_A",
        "colab_type": "text"
      },
      "source": [
        "The above plot shows the distribution of metallicities among the SN-Ic-BL-GRB samples. It is plotted as a histogram."
      ]
    },
    {
      "cell_type": "markdown",
      "metadata": {
        "id": "2MURQWZHY2la",
        "colab_type": "text"
      },
      "source": [
        "#  8. Calculate the mean metallicity for each of the samples  and its uncertainty\n",
        "\n",
        "Don't just spit out numbers, but properly write what the numbers are in a well formatted statement\n"
      ]
    },
    {
      "cell_type": "code",
      "metadata": {
        "id": "6ZVFbx_VNmE5",
        "colab_type": "code",
        "outputId": "0cbc4c91-7edd-4bc0-e5c7-5780fa6236ed",
        "colab": {
          "base_uri": "https://localhost:8080/",
          "height": 68
        }
      },
      "source": [
        "snIcMean = snIc['KD02comb'].mean()\n",
        "snIcBLMean =  snIcBL['KD02comb'].mean()\n",
        "grbabridgedMean = grbabridged['KD02comb'].mean()\n",
        "\n",
        "print(\"The mean metallicity for SN-Ic samples was %.2f\" % snIcMean)\n",
        "print(\"The mean metallicity for SN-Ic-BL samples was %.2f\" % snIcBLMean)\n",
        "print(\"The mean metallicity for SN-Ic-BL-GRB samples was %.2f\" % grbabridgedMean)"
      ],
      "execution_count": 0,
      "outputs": [
        {
          "output_type": "stream",
          "text": [
            "The mean metallicity for SN-Ic samples was 8.78\n",
            "The mean metallicity for SN-Ic-BL samples was 8.41\n",
            "The mean metallicity for SN-Ic-BL-GRB samples was 8.38\n"
          ],
          "name": "stdout"
        }
      ]
    },
    {
      "cell_type": "markdown",
      "metadata": {
        "id": "RYlnjSc9Y2lf",
        "colab_type": "text"
      },
      "source": [
        "# 9 Compare the distribution of Ic and IcBL\n",
        "\n",
        "Describe the test you are about to run and why you choose it, and state its Null Hypothesis and weather it is rejected or not. \n",
        "\n",
        "**Extra Credit** do it by defining a function that given the 2 samples runs and interprets the test reporting the result automatically. That way you can use it for all sample comparisons\n",
        "\n"
      ]
    },
    {
      "cell_type": "markdown",
      "metadata": {
        "id": "va8RfC-LP71H",
        "colab_type": "text"
      },
      "source": [
        "I am using the **KS Test**\n",
        "\n",
        "\n",
        "\n",
        "**Null hypothesis:** The two samples come from the same distribution.\n",
        "\n",
        "**Alternative hypothesis:** The SN-Ic sample has a smaller metallicity than SN-IC-BL."
      ]
    },
    {
      "cell_type": "code",
      "metadata": {
        "id": "NpIjEeAJPFWh",
        "colab_type": "code",
        "outputId": "cec3efe9-06e2-4930-97c1-f155d22e5909",
        "colab": {
          "base_uri": "https://localhost:8080/",
          "height": 51
        }
      },
      "source": [
        "def compare(sample1, sample2):\n",
        "  d, p = sp.stats.ks_2samp(sample1, sample2)\n",
        "  if p > 0.05:\n",
        "    print(\"Using the KS test, the two samples have a p-value of %.3f. \\\n",
        "         \\nThis is greater than 0.05, so we fail to reject the null hypothesis.\" \\\n",
        "         % p)\n",
        "  else:\n",
        "    print(\"Using the KS test, the two samples have a p-value of %.3f. \\\n",
        "         \\nThis is less than or equal to 0.05, so can reject the null hypothesis.\" \\\n",
        "         % p)\n",
        "    \n",
        "compare(snIc['KD02comb'], snIcBL['KD02comb'])"
      ],
      "execution_count": 0,
      "outputs": [
        {
          "output_type": "stream",
          "text": [
            "Using the KS test, the two samples have a p-value of 0.058.          \n",
            "This is greater than 0.05, so we fail to reject the null hypothesis.\n"
          ],
          "name": "stdout"
        }
      ]
    },
    {
      "cell_type": "markdown",
      "metadata": {
        "id": "4o7hK5KmY2ln",
        "colab_type": "text"
      },
      "source": [
        "# 10 Compare the distribution of Ic and Ic-BL  with the full GRB sample\n"
      ]
    },
    {
      "cell_type": "code",
      "metadata": {
        "id": "cMo4o3PbRB62",
        "colab_type": "code",
        "outputId": "ac9e3650-9ecd-4ea7-a6a2-81b04b5c40f9",
        "colab": {
          "base_uri": "https://localhost:8080/",
          "height": 51
        }
      },
      "source": [
        "compare(snIc['KD02comb'], grb['KD02comb'])"
      ],
      "execution_count": 0,
      "outputs": [
        {
          "output_type": "stream",
          "text": [
            "Using the KS test, the two samples have a p-value of 0.000.          \n",
            "This is less than or equal to 0.05, so can reject the null hypothesis.\n"
          ],
          "name": "stdout"
        }
      ]
    },
    {
      "cell_type": "code",
      "metadata": {
        "id": "pegzNPYyRMT4",
        "colab_type": "code",
        "outputId": "bc3b8618-c43c-4103-94e1-9b54738bf3db",
        "colab": {
          "base_uri": "https://localhost:8080/",
          "height": 51
        }
      },
      "source": [
        "compare(snIcBL['KD02comb'], grb['KD02comb'])"
      ],
      "execution_count": 0,
      "outputs": [
        {
          "output_type": "stream",
          "text": [
            "Using the KS test, the two samples have a p-value of 0.320.          \n",
            "This is greater than 0.05, so we fail to reject the null hypothesis.\n"
          ],
          "name": "stdout"
        }
      ]
    },
    {
      "cell_type": "markdown",
      "metadata": {
        "id": "xj7rl9rgY2lp",
        "colab_type": "text"
      },
      "source": [
        "# 11. Repeat the comparison of IcBL and GRB with the abridged GRB sample\n",
        "    \n"
      ]
    },
    {
      "cell_type": "code",
      "metadata": {
        "id": "bUlnqSYuRQVx",
        "colab_type": "code",
        "outputId": "bdf729f5-85d1-4aa2-99d7-7db8f42db668",
        "colab": {
          "base_uri": "https://localhost:8080/",
          "height": 51
        }
      },
      "source": [
        "compare(snIcBL['KD02comb'], grbabridged['KD02comb'])"
      ],
      "execution_count": 0,
      "outputs": [
        {
          "output_type": "stream",
          "text": [
            "Using the KS test, the two samples have a p-value of 0.364.          \n",
            "This is greater than 0.05, so we fail to reject the null hypothesis.\n"
          ],
          "name": "stdout"
        }
      ]
    },
    {
      "cell_type": "markdown",
      "metadata": {
        "ExecuteTime": {
          "end_time": "2018-11-01T14:00:25.616878Z",
          "start_time": "2018-11-01T14:00:25.606326Z"
        },
        "id": "aPbAGf7CY2ls",
        "colab_type": "text"
      },
      "source": [
        "   \n",
        "# Extra Credit. The metallicity measurements include uncertainties which are asymmetric. How would you incorporate them in your analysis (describe what you would do and, of course, if you have time to include this step in the analysis).\n"
      ]
    }
  ]
}
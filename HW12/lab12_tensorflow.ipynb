{
  "nbformat": 4,
  "nbformat_minor": 0,
  "metadata": {
    "colab": {
      "name": "lab12_tensorflow",
      "provenance": [],
      "collapsed_sections": [],
      "include_colab_link": true
    },
    "kernelspec": {
      "name": "python3",
      "display_name": "Python 3"
    }
  },
  "cells": [
    {
      "cell_type": "markdown",
      "metadata": {
        "id": "view-in-github",
        "colab_type": "text"
      },
      "source": [
        "<a href=\"https://colab.research.google.com/github/DesiPilla/DSPS_dPilla/blob/master/HW12/lab12_tensorflow.ipynb\" target=\"_parent\"><img src=\"https://colab.research.google.com/assets/colab-badge.svg\" alt=\"Open In Colab\"/></a>"
      ]
    },
    {
      "cell_type": "code",
      "metadata": {
        "id": "h4wdLvffnWBg",
        "colab_type": "code",
        "outputId": "d4517e85-65d2-4c43-d6f7-7dcaea47fecc",
        "colab": {
          "base_uri": "https://localhost:8080/",
          "height": 63
        }
      },
      "source": [
        "import tensorflow as tf"
      ],
      "execution_count": 1,
      "outputs": [
        {
          "output_type": "display_data",
          "data": {
            "text/html": [
              "<p style=\"color: red;\">\n",
              "The default version of TensorFlow in Colab will soon switch to TensorFlow 2.x.<br>\n",
              "We recommend you <a href=\"https://www.tensorflow.org/guide/migrate\" target=\"_blank\">upgrade</a> now \n",
              "or ensure your notebook will continue to use TensorFlow 1.x via the <code>%tensorflow_version 1.x</code> magic:\n",
              "<a href=\"https://colab.research.google.com/notebooks/tensorflow_version.ipynb\" target=\"_blank\">more info</a>.</p>\n"
            ],
            "text/plain": [
              "<IPython.core.display.HTML object>"
            ]
          },
          "metadata": {
            "tags": []
          }
        }
      ]
    },
    {
      "cell_type": "code",
      "metadata": {
        "id": "wIhsN_yinZdv",
        "colab_type": "code",
        "colab": {}
      },
      "source": [
        "from tensorflow import keras\n",
        "import pylab as plt\n",
        "import numpy as np\n",
        "np.random.seed(123)"
      ],
      "execution_count": 0,
      "outputs": []
    },
    {
      "cell_type": "markdown",
      "metadata": {
        "id": "2JOcJIRf9t-s",
        "colab_type": "text"
      },
      "source": [
        "# 1 Getting the data: standard handwritten digit recognition task"
      ]
    },
    {
      "cell_type": "code",
      "metadata": {
        "id": "lN5a2wjjnb0q",
        "colab_type": "code",
        "outputId": "ff4349b9-d491-4501-a048-65c70b72528d",
        "colab": {
          "base_uri": "https://localhost:8080/",
          "height": 51
        }
      },
      "source": [
        "(train_input, train_labels), (test_input, test_labels) = keras.datasets.mnist.load_data()"
      ],
      "execution_count": 3,
      "outputs": [
        {
          "output_type": "stream",
          "text": [
            "Downloading data from https://storage.googleapis.com/tensorflow/tf-keras-datasets/mnist.npz\n",
            "11493376/11490434 [==============================] - 0s 0us/step\n"
          ],
          "name": "stdout"
        }
      ]
    },
    {
      "cell_type": "markdown",
      "metadata": {
        "id": "z3S03Rda91vM",
        "colab_type": "text"
      },
      "source": [
        "# 2 understand the input data\n",
        "\n",
        "# task 1: print the shape of the train input and train labels\n",
        "\n",
        "# task 2: print the label of the 10th observation\n",
        "\n",
        "# task 3: what is the shape of train_input 1?\n",
        "\n",
        "# task 4: plot train_input 1\n"
      ]
    },
    {
      "cell_type": "code",
      "metadata": {
        "id": "SPNFG2YEdbkX",
        "colab_type": "code",
        "outputId": "0c93b047-5c3f-42af-fa90-107c6abacd04",
        "colab": {
          "base_uri": "https://localhost:8080/",
          "height": 34
        }
      },
      "source": [
        "#Task 1\n",
        "print(train_input.shape, train_labels)"
      ],
      "execution_count": 4,
      "outputs": [
        {
          "output_type": "stream",
          "text": [
            "(60000, 28, 28) [5 0 4 ... 5 6 8]\n"
          ],
          "name": "stdout"
        }
      ]
    },
    {
      "cell_type": "code",
      "metadata": {
        "id": "Gqv8wFY7dmq7",
        "colab_type": "code",
        "outputId": "ecfb8f27-2ea6-4cfb-b010-f769eb09eddd",
        "colab": {
          "base_uri": "https://localhost:8080/",
          "height": 34
        }
      },
      "source": [
        "#Task 2\n",
        "train_labels[10]"
      ],
      "execution_count": 5,
      "outputs": [
        {
          "output_type": "execute_result",
          "data": {
            "text/plain": [
              "3"
            ]
          },
          "metadata": {
            "tags": []
          },
          "execution_count": 5
        }
      ]
    },
    {
      "cell_type": "code",
      "metadata": {
        "id": "HzhDBCh1dvBe",
        "colab_type": "code",
        "outputId": "6443abfe-ebc2-4175-a597-a2c063363c41",
        "colab": {
          "base_uri": "https://localhost:8080/",
          "height": 34
        }
      },
      "source": [
        "#Task 3\n",
        "print(train_input[0].shape)"
      ],
      "execution_count": 6,
      "outputs": [
        {
          "output_type": "stream",
          "text": [
            "(28, 28)\n"
          ],
          "name": "stdout"
        }
      ]
    },
    {
      "cell_type": "code",
      "metadata": {
        "id": "1Ri4yGFQd6Yr",
        "colab_type": "code",
        "outputId": "9fd7fcfc-4691-4a5d-fa40-1ccfc9ddb0de",
        "colab": {
          "base_uri": "https://localhost:8080/",
          "height": 265
        }
      },
      "source": [
        "#Task 4\n",
        "plt.imshow(train_input[0]);"
      ],
      "execution_count": 7,
      "outputs": [
        {
          "output_type": "display_data",
          "data": {
            "image/png": "[encoded data removed]",
            "text/plain": [
              "<Figure size 432x288 with 1 Axes>"
            ]
          },
          "metadata": {
            "tags": []
          }
        }
      ]
    },
    {
      "cell_type": "markdown",
      "metadata": {
        "id": "WpmWu1FNeksq",
        "colab_type": "text"
      },
      "source": [
        "This is a hand-written 5"
      ]
    },
    {
      "cell_type": "markdown",
      "metadata": {
        "id": "lUKQ0gxv-RyV",
        "colab_type": "text"
      },
      "source": [
        "# 3 Create the model\n",
        "\n",
        "# task 5: create a model with 3 layers: input layer and 2 fully connected layers with 128 and 10 neurons respectively"
      ]
    },
    {
      "cell_type": "code",
      "metadata": {
        "id": "sRvt_FxxJzsS",
        "colab_type": "code",
        "colab": {
          "base_uri": "https://localhost:8080/",
          "height": 88
        },
        "outputId": "0daca46c-56b4-4a11-dc3f-45622cf954de"
      },
      "source": [
        "model = keras.Sequential([keras.layers.Flatten( input_shape = (28, 28)),\n",
        "                          keras.layers.Dense(128, activation = tf.nn.sigmoid), \n",
        "                          keras.layers.Dense(10,activation = tf.nn.softmax)])"
      ],
      "execution_count": 8,
      "outputs": [
        {
          "output_type": "stream",
          "text": [
            "WARNING:tensorflow:From /usr/local/lib/python3.6/dist-packages/tensorflow_core/python/ops/resource_variable_ops.py:1630: calling BaseResourceVariable.__init__ (from tensorflow.python.ops.resource_variable_ops) with constraint is deprecated and will be removed in a future version.\n",
            "Instructions for updating:\n",
            "If using Keras pass *_constraint arguments to layers.\n"
          ],
          "name": "stdout"
        }
      ]
    },
    {
      "cell_type": "markdown",
      "metadata": {
        "id": "kqhAMKMpohZy",
        "colab_type": "text"
      },
      "source": [
        "# 4 set the hyperparameters\n",
        "# task 6: set a learning rate of 0.01, a loss function \"sparse_categorical_crossentropy\" and set the metric to \"accuracy\n",
        "                                              "
      ]
    },
    {
      "cell_type": "code",
      "metadata": {
        "id": "zPhqtfuyneAl",
        "colab_type": "code",
        "colab": {}
      },
      "source": [
        "model.compile(optimizer = tf.train.GradientDescentOptimizer(learning_rate = 0.01), loss = 'sparse_categorical_crossentropy', metrics = ['accuracy'])"
      ],
      "execution_count": 0,
      "outputs": []
    },
    {
      "cell_type": "code",
      "metadata": {
        "id": "DgQYW5bap06u",
        "colab_type": "code",
        "outputId": "903d502a-2fbb-4fb6-cdab-3cb50bb9692b",
        "colab": {
          "base_uri": "https://localhost:8080/",
          "height": 221
        }
      },
      "source": [
        "model.fit(train_input, train_labels, epochs=5)"
      ],
      "execution_count": 10,
      "outputs": [
        {
          "output_type": "stream",
          "text": [
            "Train on 60000 samples\n",
            "Epoch 1/5\n",
            "60000/60000 [==============================] - 4s 65us/sample - loss: 0.6431 - acc: 0.8362\n",
            "Epoch 2/5\n",
            "60000/60000 [==============================] - 4s 59us/sample - loss: 0.3604 - acc: 0.9031\n",
            "Epoch 3/5\n",
            "60000/60000 [==============================] - 4s 60us/sample - loss: 0.3110 - acc: 0.9154\n",
            "Epoch 4/5\n",
            "60000/60000 [==============================] - 4s 60us/sample - loss: 0.2808 - acc: 0.9227\n",
            "Epoch 5/5\n",
            "60000/60000 [==============================] - 4s 61us/sample - loss: 0.2579 - acc: 0.9276\n"
          ],
          "name": "stdout"
        },
        {
          "output_type": "execute_result",
          "data": {
            "text/plain": [
              "<tensorflow.python.keras.callbacks.History at 0x7f9cff658358>"
            ]
          },
          "metadata": {
            "tags": []
          },
          "execution_count": 10
        }
      ]
    },
    {
      "cell_type": "markdown",
      "metadata": {
        "id": "cm-dUAzQ_Lq3",
        "colab_type": "text"
      },
      "source": [
        "# Task 7: test the model"
      ]
    },
    {
      "cell_type": "code",
      "metadata": {
        "id": "zxecyD5oqGTj",
        "colab_type": "code",
        "outputId": "63dc5a6b-83cd-4a59-b04b-7873a8f78f55",
        "colab": {
          "base_uri": "https://localhost:8080/",
          "height": 34
        }
      },
      "source": [
        "test_loss, test_acc = model.evaluate(test_input, test_labels)"
      ],
      "execution_count": 11,
      "outputs": [
        {
          "output_type": "stream",
          "text": [
            "10000/10000 [==============================] - 0s 35us/sample - loss: 0.2458 - acc: 0.9289\n"
          ],
          "name": "stdout"
        }
      ]
    },
    {
      "cell_type": "code",
      "metadata": {
        "id": "X1Pv7kS96UnM",
        "colab_type": "code",
        "colab": {
          "base_uri": "https://localhost:8080/",
          "height": 34
        },
        "outputId": "652844b2-9b1e-4e18-8057-901b1c4ea2a0"
      },
      "source": [
        "print('The accuracy of the model is %.2f%%' % (test_acc*100))"
      ],
      "execution_count": 13,
      "outputs": [
        {
          "output_type": "stream",
          "text": [
            "The accuracy of the model is 92.89%\n"
          ],
          "name": "stdout"
        }
      ]
    },
    {
      "cell_type": "markdown",
      "metadata": {
        "id": "vACTcept_Xx8",
        "colab_type": "text"
      },
      "source": [
        "# task 8 plot the 10'th test observation and its label and prediction"
      ]
    },
    {
      "cell_type": "code",
      "metadata": {
        "id": "R8gUnQaGARqW",
        "colab_type": "code",
        "outputId": "21c75e7e-c024-4ce9-bd3b-94b7894ad4a4",
        "colab": {
          "base_uri": "https://localhost:8080/",
          "height": 68
        }
      },
      "source": [
        "pred = model.predict(test_input)\n",
        "pred[10]"
      ],
      "execution_count": 16,
      "outputs": [
        {
          "output_type": "execute_result",
          "data": {
            "text/plain": [
              "array([9.7798079e-01, 1.7631089e-04, 6.2075816e-03, 1.9212218e-03,\n",
              "       8.8003362e-05, 9.8993834e-03, 1.4617593e-03, 2.1425901e-04,\n",
              "       2.0225076e-03, 2.8081813e-05], dtype=float32)"
            ]
          },
          "metadata": {
            "tags": []
          },
          "execution_count": 16
        }
      ]
    },
    {
      "cell_type": "markdown",
      "metadata": {
        "id": "2mzWVo9yJhY9",
        "colab_type": "text"
      },
      "source": [
        "# task 9: find the first wrong prediction in the test set"
      ]
    },
    {
      "cell_type": "code",
      "metadata": {
        "id": "cruV1n7CJaBI",
        "colab_type": "code",
        "colab": {}
      },
      "source": [
        "..."
      ],
      "execution_count": 0,
      "outputs": []
    },
    {
      "cell_type": "markdown",
      "metadata": {
        "id": "zEZvpY3M5_j-",
        "colab_type": "text"
      },
      "source": [
        "#task 10: create a more complex model by adding 3 fully connected layers (you choose the size). Retrain and test the accuracy of prediction and discuss if the model is overfitting"
      ]
    },
    {
      "cell_type": "code",
      "metadata": {
        "id": "n4H7Uujj6BdY",
        "colab_type": "code",
        "colab": {}
      },
      "source": [
        ""
      ],
      "execution_count": 0,
      "outputs": []
    }
  ]
}
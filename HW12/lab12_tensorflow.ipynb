{
  "nbformat": 4,
  "nbformat_minor": 0,
  "metadata": {
    "colab": {
      "name": "lab12_tensorflow",
      "provenance": [],
      "collapsed_sections": [],
      "include_colab_link": true
    },
    "kernelspec": {
      "name": "python3",
      "display_name": "Python 3"
    }
  },
  "cells": [
    {
      "cell_type": "markdown",
      "metadata": {
        "id": "view-in-github",
        "colab_type": "text"
      },
      "source": [
        "<a href=\"https://colab.research.google.com/github/DesiPilla/DSPS_dPilla/blob/master/HW12/lab12_tensorflow.ipynb\" target=\"_parent\"><img src=\"https://colab.research.google.com/assets/colab-badge.svg\" alt=\"Open In Colab\"/></a>"
      ]
    },
    {
      "cell_type": "code",
      "metadata": {
        "id": "h4wdLvffnWBg",
        "colab_type": "code",
        "outputId": "95e6c665-3bba-47a8-9300-a62bebc2fbeb",
        "colab": {
          "base_uri": "https://localhost:8080/",
          "height": 63
        }
      },
      "source": [
        "import tensorflow as tf"
      ],
      "execution_count": 1,
      "outputs": [
        {
          "output_type": "display_data",
          "data": {
            "text/html": [
              "<p style=\"color: red;\">\n",
              "The default version of TensorFlow in Colab will soon switch to TensorFlow 2.x.<br>\n",
              "We recommend you <a href=\"https://www.tensorflow.org/guide/migrate\" target=\"_blank\">upgrade</a> now \n",
              "or ensure your notebook will continue to use TensorFlow 1.x via the <code>%tensorflow_version 1.x</code> magic:\n",
              "<a href=\"https://colab.research.google.com/notebooks/tensorflow_version.ipynb\" target=\"_blank\">more info</a>.</p>\n"
            ],
            "text/plain": [
              "<IPython.core.display.HTML object>"
            ]
          },
          "metadata": {
            "tags": []
          }
        }
      ]
    },
    {
      "cell_type": "code",
      "metadata": {
        "id": "wIhsN_yinZdv",
        "colab_type": "code",
        "colab": {}
      },
      "source": [
        "from tensorflow import keras\n",
        "import pylab as plt\n",
        "import numpy as np\n",
        "np.random.seed(123)"
      ],
      "execution_count": 0,
      "outputs": []
    },
    {
      "cell_type": "markdown",
      "metadata": {
        "id": "2JOcJIRf9t-s",
        "colab_type": "text"
      },
      "source": [
        "# 1 Getting the data: standard handwritten digit recognition task"
      ]
    },
    {
      "cell_type": "code",
      "metadata": {
        "id": "lN5a2wjjnb0q",
        "colab_type": "code",
        "outputId": "7db7e5d8-da55-4a15-db4c-356ef6e6bc83",
        "colab": {
          "base_uri": "https://localhost:8080/",
          "height": 51
        }
      },
      "source": [
        "(train_input, train_labels), (test_input, test_labels) = keras.datasets.mnist.load_data()"
      ],
      "execution_count": 3,
      "outputs": [
        {
          "output_type": "stream",
          "text": [
            "Downloading data from https://storage.googleapis.com/tensorflow/tf-keras-datasets/mnist.npz\n",
            "11493376/11490434 [==============================] - 0s 0us/step\n"
          ],
          "name": "stdout"
        }
      ]
    },
    {
      "cell_type": "markdown",
      "metadata": {
        "id": "z3S03Rda91vM",
        "colab_type": "text"
      },
      "source": [
        "# 2 understand the input data\n",
        "\n",
        "# task 1: print the shape of the train input and train labels\n",
        "\n",
        "# task 2: print the label of the 10th observation\n",
        "\n",
        "# task 3: what is the shape of train_input 1?\n",
        "\n",
        "# task 4: plot train_input 1\n"
      ]
    },
    {
      "cell_type": "code",
      "metadata": {
        "id": "SPNFG2YEdbkX",
        "colab_type": "code",
        "outputId": "9d386784-5ee3-4991-a414-96ced53ccfae",
        "colab": {
          "base_uri": "https://localhost:8080/",
          "height": 34
        }
      },
      "source": [
        "#Task 1\n",
        "print(train_input.shape, train_labels)"
      ],
      "execution_count": 4,
      "outputs": [
        {
          "output_type": "stream",
          "text": [
            "(60000, 28, 28) [5 0 4 ... 5 6 8]\n"
          ],
          "name": "stdout"
        }
      ]
    },
    {
      "cell_type": "code",
      "metadata": {
        "id": "Gqv8wFY7dmq7",
        "colab_type": "code",
        "outputId": "ba10e79f-efff-4fca-a4ed-02605835f5d3",
        "colab": {
          "base_uri": "https://localhost:8080/",
          "height": 34
        }
      },
      "source": [
        "#Task 2\n",
        "train_labels[10]"
      ],
      "execution_count": 5,
      "outputs": [
        {
          "output_type": "execute_result",
          "data": {
            "text/plain": [
              "3"
            ]
          },
          "metadata": {
            "tags": []
          },
          "execution_count": 5
        }
      ]
    },
    {
      "cell_type": "code",
      "metadata": {
        "id": "HzhDBCh1dvBe",
        "colab_type": "code",
        "outputId": "8d722c51-ad13-4798-c99a-59a0f6882a52",
        "colab": {
          "base_uri": "https://localhost:8080/",
          "height": 34
        }
      },
      "source": [
        "#Task 3\n",
        "print(train_input[0].shape)"
      ],
      "execution_count": 6,
      "outputs": [
        {
          "output_type": "stream",
          "text": [
            "(28, 28)\n"
          ],
          "name": "stdout"
        }
      ]
    },
    {
      "cell_type": "code",
      "metadata": {
        "id": "1Ri4yGFQd6Yr",
        "colab_type": "code",
        "outputId": "e84370f6-6790-4fc4-bb49-7fb3b9bd4b01",
        "colab": {
          "base_uri": "https://localhost:8080/",
          "height": 265
        }
      },
      "source": [
        "#Task 4\n",
        "plt.imshow(train_input[0]);"
      ],
      "execution_count": 7,
      "outputs": [
        {
          "output_type": "display_data",
          "data": {
            "image/png": "[encoded data removed]",
            "text/plain": [
              "<Figure size 432x288 with 1 Axes>"
            ]
          },
          "metadata": {
            "tags": []
          }
        }
      ]
    },
    {
      "cell_type": "markdown",
      "metadata": {
        "id": "WpmWu1FNeksq",
        "colab_type": "text"
      },
      "source": [
        "This is a hand-written 5"
      ]
    },
    {
      "cell_type": "markdown",
      "metadata": {
        "id": "lUKQ0gxv-RyV",
        "colab_type": "text"
      },
      "source": [
        "# 3 Create the model\n",
        "\n",
        "# task 5: create a model with 3 layers: input layer and 2 fully connected layers with 128 and 10 neurons respectively"
      ]
    },
    {
      "cell_type": "code",
      "metadata": {
        "id": "sRvt_FxxJzsS",
        "colab_type": "code",
        "colab": {
          "base_uri": "https://localhost:8080/",
          "height": 88
        },
        "outputId": "ef18b12a-a136-4530-89a6-d414a3cd4f18"
      },
      "source": [
        "model = keras.Sequential([keras.layers.Flatten( input_shape = (28, 28)),\n",
        "                          keras.layers.Dense(128, activation = tf.nn.sigmoid), \n",
        "                          keras.layers.Dense(10,activation = tf.nn.softmax)])"
      ],
      "execution_count": 8,
      "outputs": [
        {
          "output_type": "stream",
          "text": [
            "WARNING:tensorflow:From /usr/local/lib/python3.6/dist-packages/tensorflow_core/python/ops/resource_variable_ops.py:1630: calling BaseResourceVariable.__init__ (from tensorflow.python.ops.resource_variable_ops) with constraint is deprecated and will be removed in a future version.\n",
            "Instructions for updating:\n",
            "If using Keras pass *_constraint arguments to layers.\n"
          ],
          "name": "stdout"
        }
      ]
    },
    {
      "cell_type": "markdown",
      "metadata": {
        "id": "kqhAMKMpohZy",
        "colab_type": "text"
      },
      "source": [
        "# 4 set the hyperparameters\n",
        "# task 6: set a learning rate of 0.01, a loss function \"sparse_categorical_crossentropy\" and set the metric to \"accuracy\n",
        "                                              "
      ]
    },
    {
      "cell_type": "code",
      "metadata": {
        "id": "zPhqtfuyneAl",
        "colab_type": "code",
        "colab": {}
      },
      "source": [
        "model.compile(optimizer = tf.train.GradientDescentOptimizer(learning_rate = 0.01), loss = 'sparse_categorical_crossentropy', metrics = ['accuracy'])"
      ],
      "execution_count": 0,
      "outputs": []
    },
    {
      "cell_type": "code",
      "metadata": {
        "id": "DgQYW5bap06u",
        "colab_type": "code",
        "outputId": "4a54c3d3-3bed-4ee3-870c-99d96548cc6a",
        "colab": {
          "base_uri": "https://localhost:8080/",
          "height": 221
        }
      },
      "source": [
        "model.fit(train_input, train_labels, epochs=5)"
      ],
      "execution_count": 10,
      "outputs": [
        {
          "output_type": "stream",
          "text": [
            "Train on 60000 samples\n",
            "Epoch 1/5\n",
            "60000/60000 [==============================] - 4s 65us/sample - loss: 0.6620 - acc: 0.8332\n",
            "Epoch 2/5\n",
            "60000/60000 [==============================] - 4s 62us/sample - loss: 0.3583 - acc: 0.9049\n",
            "Epoch 3/5\n",
            "60000/60000 [==============================] - 4s 61us/sample - loss: 0.3111 - acc: 0.9150\n",
            "Epoch 4/5\n",
            "60000/60000 [==============================] - 4s 60us/sample - loss: 0.2855 - acc: 0.9205\n",
            "Epoch 5/5\n",
            "60000/60000 [==============================] - 4s 59us/sample - loss: 0.2617 - acc: 0.9271\n"
          ],
          "name": "stdout"
        },
        {
          "output_type": "execute_result",
          "data": {
            "text/plain": [
              "<tensorflow.python.keras.callbacks.History at 0x7feacc3678d0>"
            ]
          },
          "metadata": {
            "tags": []
          },
          "execution_count": 10
        }
      ]
    },
    {
      "cell_type": "markdown",
      "metadata": {
        "id": "cm-dUAzQ_Lq3",
        "colab_type": "text"
      },
      "source": [
        "# Task 7: test the model"
      ]
    },
    {
      "cell_type": "code",
      "metadata": {
        "id": "zxecyD5oqGTj",
        "colab_type": "code",
        "outputId": "7b45c481-a76e-4c89-f2cb-d67431027932",
        "colab": {
          "base_uri": "https://localhost:8080/",
          "height": 34
        }
      },
      "source": [
        "test_loss, test_acc = model.evaluate(test_input, test_labels)"
      ],
      "execution_count": 11,
      "outputs": [
        {
          "output_type": "stream",
          "text": [
            "10000/10000 [==============================] - 0s 33us/sample - loss: 0.2568 - acc: 0.9277\n"
          ],
          "name": "stdout"
        }
      ]
    },
    {
      "cell_type": "code",
      "metadata": {
        "id": "X1Pv7kS96UnM",
        "colab_type": "code",
        "colab": {
          "base_uri": "https://localhost:8080/",
          "height": 34
        },
        "outputId": "d40b58b0-20bf-4b90-bcd2-acd2a581f4f8"
      },
      "source": [
        "print('The accuracy of the model is %.2f%%' % (test_acc*100))"
      ],
      "execution_count": 12,
      "outputs": [
        {
          "output_type": "stream",
          "text": [
            "The accuracy of the model is 92.77%\n"
          ],
          "name": "stdout"
        }
      ]
    },
    {
      "cell_type": "markdown",
      "metadata": {
        "id": "vACTcept_Xx8",
        "colab_type": "text"
      },
      "source": [
        "# task 8 plot the 10'th test observation and its label and prediction"
      ]
    },
    {
      "cell_type": "code",
      "metadata": {
        "id": "5wscixD6qU4b",
        "colab_type": "code",
        "colab": {
          "base_uri": "https://localhost:8080/",
          "height": 265
        },
        "outputId": "551e1aa4-cd02-41ac-9cee-f09f4478aabe"
      },
      "source": [
        "plt.imshow(test_input[10]);"
      ],
      "execution_count": 24,
      "outputs": [
        {
          "output_type": "display_data",
          "data": {
            "image/png": "[encoded data removed]",
            "text/plain": [
              "<Figure size 432x288 with 1 Axes>"
            ]
          },
          "metadata": {
            "tags": []
          }
        }
      ]
    },
    {
      "cell_type": "markdown",
      "metadata": {
        "id": "jzC_wY-5uB9j",
        "colab_type": "text"
      },
      "source": [
        "This is a hand-written zero"
      ]
    },
    {
      "cell_type": "code",
      "metadata": {
        "id": "yuDme8DurU_T",
        "colab_type": "code",
        "colab": {
          "base_uri": "https://localhost:8080/",
          "height": 34
        },
        "outputId": "9a74a128-f9e3-4ecd-8a6b-3cbeaae70dd4"
      },
      "source": [
        "print('The label for this drawing', test_labels[10])"
      ],
      "execution_count": 37,
      "outputs": [
        {
          "output_type": "stream",
          "text": [
            "The label for this drawing 0\n"
          ],
          "name": "stdout"
        }
      ]
    },
    {
      "cell_type": "markdown",
      "metadata": {
        "id": "1M73FauFuOSp",
        "colab_type": "text"
      },
      "source": [
        "Generate the predictions for the test data using the model"
      ]
    },
    {
      "cell_type": "code",
      "metadata": {
        "id": "R8gUnQaGARqW",
        "colab_type": "code",
        "colab": {}
      },
      "source": [
        "preds = model.predict(test_input)"
      ],
      "execution_count": 0,
      "outputs": []
    },
    {
      "cell_type": "code",
      "metadata": {
        "id": "iGaICxMmFHs1",
        "colab_type": "code",
        "colab": {}
      },
      "source": [
        "def getPrediction(output):\n",
        "    '''\n",
        "    This function takes the output layer of the model and converts it\n",
        "    into a single integer that the input layer is most likely to represent.\n",
        "    '''\n",
        "    m = max(output)\n",
        "    return [i for i, j in enumerate(output) if j == m][0]"
      ],
      "execution_count": 0,
      "outputs": []
    },
    {
      "cell_type": "code",
      "metadata": {
        "id": "ABWgswNwty2o",
        "colab_type": "code",
        "colab": {
          "base_uri": "https://localhost:8080/",
          "height": 34
        },
        "outputId": "e0baf95d-dc95-4516-af0e-9fb84a60edb9"
      },
      "source": [
        "print('The prediction for this drawing is', getPrediction(preds[10]))"
      ],
      "execution_count": 38,
      "outputs": [
        {
          "output_type": "stream",
          "text": [
            "The prediction for this drawing is 0\n"
          ],
          "name": "stdout"
        }
      ]
    },
    {
      "cell_type": "markdown",
      "metadata": {
        "id": "2mzWVo9yJhY9",
        "colab_type": "text"
      },
      "source": [
        "# task 9: find the first wrong prediction in the test set"
      ]
    },
    {
      "cell_type": "code",
      "metadata": {
        "id": "NDxmM2ob-YY7",
        "colab_type": "code",
        "colab": {
          "base_uri": "https://localhost:8080/",
          "height": 316
        },
        "outputId": "3cd5618a-9fa2-45a3-c716-5e2d7263262b"
      },
      "source": [
        "i = 0\n",
        "while i < len(test_labels):\n",
        "    if test_labels[i] != getPrediction(preds[i]):\n",
        "        print('The first wrong prediction in the set occurs at the %dth occurrence' % i)\n",
        "        break\n",
        "    i+=1\n",
        "\n",
        "plt.imshow(test_input[i])\n",
        "print('The label for this drawing', test_labels[i])\n",
        "print('The prediction for this drawing is', getPrediction(preds[i]))"
      ],
      "execution_count": 45,
      "outputs": [
        {
          "output_type": "stream",
          "text": [
            "The first wrong prediction in the set occurs at the 8th occurrence\n",
            "The label for this drawing 5\n",
            "The prediction for this drawing is 6\n"
          ],
          "name": "stdout"
        },
        {
          "output_type": "display_data",
          "data": {
            "image/png": "[encoded data removed]",
            "text/plain": [
              "<Figure size 432x288 with 1 Axes>"
            ]
          },
          "metadata": {
            "tags": []
          }
        }
      ]
    },
    {
      "cell_type": "markdown",
      "metadata": {
        "id": "zEZvpY3M5_j-",
        "colab_type": "text"
      },
      "source": [
        "#task 10: create a more complex model by adding 3 fully connected layers (you choose the size). Retrain and test the accuracy of prediction and discuss if the model is overfitting"
      ]
    },
    {
      "cell_type": "code",
      "metadata": {
        "id": "n4H7Uujj6BdY",
        "colab_type": "code",
        "colab": {
          "base_uri": "https://localhost:8080/",
          "height": 238
        },
        "outputId": "6aa14bd9-3047-43dc-b244-5b2d527fd32f"
      },
      "source": [
        "model2 = keras.Sequential([keras.layers.Flatten( input_shape = (28, 28)),\n",
        "                          keras.layers.Dense(128, activation = tf.nn.sigmoid), \n",
        "                          keras.layers.Dense(64, activation = tf.nn.sigmoid),\n",
        "                          keras.layers.Dense(10,activation = tf.nn.softmax)])\n",
        "\n",
        "model2.compile(optimizer = tf.train.GradientDescentOptimizer(learning_rate = 0.01), loss = 'sparse_categorical_crossentropy', metrics = ['accuracy'])\n",
        "model2.fit(train_input, train_labels, epochs=5)\n",
        "test_loss, test_acc = model2.evaluate(test_input, test_labels)\n",
        "print('The accuracy of the model is %.2f%%' % (test_acc*100))"
      ],
      "execution_count": 48,
      "outputs": [
        {
          "output_type": "stream",
          "text": [
            "Train on 60000 samples\n",
            "Epoch 1/5\n",
            "60000/60000 [==============================] - 4s 70us/sample - loss: 1.3081 - acc: 0.7312\n",
            "Epoch 2/5\n",
            "60000/60000 [==============================] - 4s 63us/sample - loss: 0.5573 - acc: 0.8841\n",
            "Epoch 3/5\n",
            "60000/60000 [==============================] - 4s 63us/sample - loss: 0.4001 - acc: 0.9037\n",
            "Epoch 4/5\n",
            "60000/60000 [==============================] - 4s 66us/sample - loss: 0.3370 - acc: 0.9134\n",
            "Epoch 5/5\n",
            "60000/60000 [==============================] - 4s 65us/sample - loss: 0.3053 - acc: 0.9192\n",
            "10000/10000 [==============================] - 0s 36us/sample - loss: 0.2846 - acc: 0.9227\n",
            "The accuracy of the model is 92.27%\n"
          ],
          "name": "stdout"
        }
      ]
    },
    {
      "cell_type": "markdown",
      "metadata": {
        "id": "y6rar7FHw2fk",
        "colab_type": "text"
      },
      "source": [
        "In this model, a sigmoid layer containing 64 neurons was added between the two pre-existing hidden layers. The accuracy of the model **decreased** from 92.77% to 92.27%, which suggests that the model may be overfitting. Here, the *less complicated* model should be used."
      ]
    }
  ]
}
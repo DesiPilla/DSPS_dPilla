{
  "nbformat": 4,
  "nbformat_minor": 0,
  "metadata": {
    "kernelspec": {
      "display_name": "Python 3",
      "language": "python",
      "name": "python3"
    },
    "language_info": {
      "codemirror_mode": {
        "name": "ipython",
        "version": 3
      },
      "file_extension": ".py",
      "mimetype": "text/x-python",
      "name": "python",
      "nbconvert_exporter": "python",
      "pygments_lexer": "ipython3",
      "version": "3.6.7"
    },
    "nbTranslate": {
      "displayLangs": [
        "*"
      ],
      "hotkey": "alt-t",
      "langInMainMenu": true,
      "sourceLang": "en",
      "targetLang": "fr",
      "useGoogleTranslate": true
    },
    "toc": {
      "base_numbering": 1,
      "colors": {
        "hover_highlight": "#DAA520",
        "running_highlight": "#FF0000",
        "selected_highlight": "#FFD700"
      },
      "moveMenuLeft": true,
      "nav_menu": {},
      "navigate_menu": true,
      "number_sections": true,
      "sideBar": true,
      "skip_h1_title": false,
      "threshold": 4,
      "title_cell": "Table of Contents",
      "title_sidebar": "Contents",
      "toc_cell": false,
      "toc_position": {
        "height": "calc(100% - 180px)",
        "left": "10px",
        "top": "150px",
        "width": "165px"
      },
      "toc_section_display": true,
      "toc_window_display": true
    },
    "colab": {
      "name": "GalrotCurve.ipynb",
      "provenance": [],
      "collapsed_sections": [
        "6me5k4c1OdDY"
      ],
      "include_colab_link": true
    }
  },
  "cells": [
    {
      "cell_type": "markdown",
      "metadata": {
        "id": "view-in-github",
        "colab_type": "text"
      },
      "source": [
        "<a href=\"https://colab.research.google.com/github/DesiPilla/DSPS_dPilla/blob/master/HW4/GalrotCurve.ipynb\" target=\"_parent\"><img src=\"https://colab.research.google.com/assets/colab-badge.svg\" alt=\"Open In Colab\"/></a>"
      ]
    },
    {
      "cell_type": "markdown",
      "metadata": {
        "run_control": {
          "frozen": false,
          "read_only": false
        },
        "id": "rxa6Xa3jOdCI",
        "colab_type": "text"
      },
      "source": [
        "prepared by federica b bianco @fedhere\n",
        "for UDel DSPS PHYS 467/667\n",
        "\n",
        "# testing the significance of Dark Matter"
      ]
    },
    {
      "cell_type": "code",
      "metadata": {
        "ExecuteTime": {
          "end_time": "2019-09-16T17:54:57.244596Z",
          "start_time": "2019-09-16T17:54:57.231090Z"
        },
        "run_control": {
          "frozen": false,
          "read_only": false
        },
        "id": "Ya2RaOGbOdCJ",
        "colab_type": "code",
        "outputId": "1aa821bf-fb29-4ff2-e09f-d32334089604",
        "colab": {
          "base_uri": "https://localhost:8080/",
          "height": 34
        }
      },
      "source": [
        "import pandas as pd\n",
        "import numpy as np\n",
        "import pylab as pl\n",
        "%pylab inline\n",
        "\n",
        "\n",
        "#package I will use for constants and units conversion \n",
        "import astropy\n",
        "\n"
      ],
      "execution_count": 355,
      "outputs": [
        {
          "output_type": "stream",
          "text": [
            "Populating the interactive namespace from numpy and matplotlib\n"
          ],
          "name": "stdout"
        }
      ]
    },
    {
      "cell_type": "markdown",
      "metadata": {
        "id": "4qp8A2TG1Gwb",
        "colab_type": "text"
      },
      "source": [
        "In 1970 Vera Rubin published a seminal paper: she measured the rotational speed of HII regions in several galaxies and how it changed as a function of distance to the center of the galaxy. If we believe Newtonian gravity (or GR) we expect that _once all of the mass is included_, i.e. at a radius distance from the center of the galaxy larger than the radius of the galaxy itself, the rotational speed will be proportional to $v\\propto\\frac{1}/{r}$"
      ]
    },
    {
      "cell_type": "markdown",
      "metadata": {
        "run_control": {
          "frozen": false,
          "read_only": false
        },
        "id": "j-BDrNseOdCR",
        "colab_type": "text"
      },
      "source": [
        "## Propagation of  uncertainties rules\n",
        "\n",
        "below are the basic rules for propagation of uncertainties - use [this as reference](https://github.com/fedhere/DSPS/blob/master/resources/Managing%20Errors%20and%20Uncertainty.pdf)"
      ]
    },
    {
      "cell_type": "markdown",
      "metadata": {
        "id": "iCrFipBzOzqp",
        "colab_type": "text"
      },
      "source": [
        "\n",
        "\n",
        "\n",
        "$$\n",
        "\\begin{eqnarray}\n",
        "z = x  \\pm y  ~| & ~  &dz = \\sqrt{dx^2 + dy^2} \n",
        "\\\\\n",
        "z = x * y  ~| & ~& dz = |xy|  \\sqrt{\\left(\\frac{dx}{x}\\right)^2 + \n",
        "                                \\left(\\frac{dy}{y}\\right)^2} \\\\\n",
        "z = x / y  ~| & ~& dz = \\left|\\frac{x}{y}\\right| \\sqrt{\\left(\\frac{dx}{x}\\right)^2 + \n",
        "                                                   \\left(\\frac{dy}{y}\\right)^2} \\\\\n",
        "z = x^n ~| & ~& dz = |n| ~ x^{n-1}  dx \\\\\n",
        "z = \\mathrm{c}x ~| & ~& dz = |\\mathrm{c}| ~dx \\\\\n",
        "z = f(x, y) ~| & ~& dz = \\sqrt{\\left(\\frac{\\partial f}{\\partial x}\\right)^2 dx^2 +\\left(\\frac{\\partial f}{\\partial y}\\right)^2 dy^2} \\\\\n",
        "\\end{eqnarray}\n",
        "$$\n"
      ]
    },
    {
      "cell_type": "markdown",
      "metadata": {
        "run_control": {
          "frozen": false,
          "read_only": false
        },
        "id": "WcF0zlWCOdCX",
        "colab_type": "text"
      },
      "source": [
        "# let's assume a Newtonian framework: \n",
        "the velocity of a body in orbit depends only on the gravitational field of the mass that attracts it, and we can assume that mass is concentrated in the center of mass of (the center for simplicity) the system\n",
        "\n",
        "with G the gravitational constant, $r$ the radius, and $m(r)$ the mass contained within that radius we have the orbital velocity $v$:\n"
      ]
    },
    {
      "cell_type": "markdown",
      "metadata": {
        "id": "ZON0DKl5Qm2S",
        "colab_type": "text"
      },
      "source": [
        "\n",
        "$v = \\frac{G \\cdot m(r)}{r}$\n"
      ]
    },
    {
      "cell_type": "markdown",
      "metadata": {
        "id": "lVfy9lJ21xMT",
        "colab_type": "text"
      },
      "source": [
        "Derive this $v\\propto\\frac{1}{r}$ from Newron's law $F~=~\\frac{GMm}{r^2}$. Write each formula and describe each step. You can use latex (you really just need to know ```\\frac{}``` and ```^```) and this reference\n",
        "https://www.physicsclassroom.com/calcpad/circgrav"
      ]
    },
    {
      "cell_type": "markdown",
      "metadata": {
        "id": "HEB7hQojuAQt",
        "colab_type": "text"
      },
      "source": [
        "$F$ = $\\frac{GMm}{r^2}$ Newton's law\n",
        "\n",
        "$F$ = $\\frac{Mv^2}{r}$  Centripetal force\n",
        "\n",
        "$\\frac{GMm}{r^2}$ = $\\frac{mv^2}{r}$ Set equal to one another\n",
        "\n",
        "${v^2}$ = $\\frac{GMmr}{Mr^2}$ Solve for ${v}$ \n",
        "\n",
        "${v^2}$ = $\\frac{Gm}{r}$\n",
        "\n",
        "${v}$ = $\\sqrt{\\frac{Gm}{r}}$\n",
        "\n",
        "Therefore, $v\\propto\\frac{1}{\\sqrt{r}}$"
      ]
    },
    {
      "cell_type": "markdown",
      "metadata": {
        "run_control": {
          "frozen": false,
          "read_only": false
        },
        "id": "KQAEJtWuOdCb",
        "colab_type": "text"
      },
      "source": [
        "## M31 rotational curve"
      ]
    },
    {
      "cell_type": "markdown",
      "metadata": {
        "ExecuteTime": {
          "end_time": "2019-08-02T01:34:15.029084Z",
          "start_time": "2019-08-02T01:34:15.026604Z"
        },
        "run_control": {
          "frozen": false,
          "read_only": false
        },
        "id": "BTaXzFYeOdCc",
        "colab_type": "text"
      },
      "source": [
        "### data ingestion\n",
        "( I store the original paper as a link on another computer now I have to find it again :-( - sorry I will updat the reference )\n",
        "\n",
        "Get the data from the github repository https://github.com/fedhere/DSPS/tree/master/HW4 : there are 2 files: mw.csv and m31.csv. Start with M31, the Andromeda galaxy, Vera Rubin's original target."
      ]
    },
    {
      "cell_type": "markdown",
      "metadata": {
        "id": "_iFrkUYEV1SS",
        "colab_type": "text"
      },
      "source": [
        "Note that the data contains 2 types of uncertainties: one significantly smaller than the other. The ```dv``` uncertainty is the propagation of the uncertainty in the location of the HII line. The uncertainty called ```err``` if the full error budget:  including _all_ sources of uncertainty and not just the uncertainty in measuring the location of the line. Retain both, you will test your hypothesis with each one to see if it matters which uncertainty you choose"
      ]
    },
    {
      "cell_type": "code",
      "metadata": {
        "id": "PFYBlhUjt8_e",
        "colab_type": "code",
        "colab": {
          "base_uri": "https://localhost:8080/",
          "height": 204
        },
        "outputId": "1b3039bd-b3d3-42e5-dffe-57e8a6f929cd"
      },
      "source": [
        "m31 = pd.read_csv('https://raw.githubusercontent.com/fedhere/DSPS/master/HW4/m31.csv', header=1)\n",
        "m31.rename(columns = {'#R(kpc':'radius', 'V(km/s)':'velocity', 'St.dev.':'stdev', 'St.error':'sterror'}, inplace=True)\n",
        "m31.head()"
      ],
      "execution_count": 356,
      "outputs": [
        {
          "output_type": "execute_result",
          "data": {
            "text/html": [
              "<div>\n",
              "<style scoped>\n",
              "    .dataframe tbody tr th:only-of-type {\n",
              "        vertical-align: middle;\n",
              "    }\n",
              "\n",
              "    .dataframe tbody tr th {\n",
              "        vertical-align: top;\n",
              "    }\n",
              "\n",
              "    .dataframe thead th {\n",
              "        text-align: right;\n",
              "    }\n",
              "</style>\n",
              "<table border=\"1\" class=\"dataframe\">\n",
              "  <thead>\n",
              "    <tr style=\"text-align: right;\">\n",
              "      <th></th>\n",
              "      <th>radius</th>\n",
              "      <th>velocity</th>\n",
              "      <th>stdev</th>\n",
              "      <th>sterror</th>\n",
              "    </tr>\n",
              "  </thead>\n",
              "  <tbody>\n",
              "    <tr>\n",
              "      <th>0</th>\n",
              "      <td>0.100</td>\n",
              "      <td>183.939</td>\n",
              "      <td>0.000</td>\n",
              "      <td>0.000</td>\n",
              "    </tr>\n",
              "    <tr>\n",
              "      <th>1</th>\n",
              "      <td>0.120</td>\n",
              "      <td>190.710</td>\n",
              "      <td>10.265</td>\n",
              "      <td>12.191</td>\n",
              "    </tr>\n",
              "    <tr>\n",
              "      <th>2</th>\n",
              "      <td>0.144</td>\n",
              "      <td>204.141</td>\n",
              "      <td>22.634</td>\n",
              "      <td>21.808</td>\n",
              "    </tr>\n",
              "    <tr>\n",
              "      <th>3</th>\n",
              "      <td>0.173</td>\n",
              "      <td>207.601</td>\n",
              "      <td>4.573</td>\n",
              "      <td>4.200</td>\n",
              "    </tr>\n",
              "    <tr>\n",
              "      <th>4</th>\n",
              "      <td>0.207</td>\n",
              "      <td>210.188</td>\n",
              "      <td>3.943</td>\n",
              "      <td>3.258</td>\n",
              "    </tr>\n",
              "  </tbody>\n",
              "</table>\n",
              "</div>"
            ],
            "text/plain": [
              "   radius  velocity   stdev  sterror\n",
              "0   0.100   183.939   0.000    0.000\n",
              "1   0.120   190.710  10.265   12.191\n",
              "2   0.144   204.141  22.634   21.808\n",
              "3   0.173   207.601   4.573    4.200\n",
              "4   0.207   210.188   3.943    3.258"
            ]
          },
          "metadata": {
            "tags": []
          },
          "execution_count": 356
        }
      ]
    },
    {
      "cell_type": "code",
      "metadata": {
        "id": "luL5UrsNQ1M1",
        "colab_type": "code",
        "outputId": "c600e192-d7b4-4ffb-e660-5cb7c7335c97",
        "colab": {
          "base_uri": "https://localhost:8080/",
          "height": 297
        }
      },
      "source": [
        "m31.describe()"
      ],
      "execution_count": 357,
      "outputs": [
        {
          "output_type": "execute_result",
          "data": {
            "text/html": [
              "<div>\n",
              "<style scoped>\n",
              "    .dataframe tbody tr th:only-of-type {\n",
              "        vertical-align: middle;\n",
              "    }\n",
              "\n",
              "    .dataframe tbody tr th {\n",
              "        vertical-align: top;\n",
              "    }\n",
              "\n",
              "    .dataframe thead th {\n",
              "        text-align: right;\n",
              "    }\n",
              "</style>\n",
              "<table border=\"1\" class=\"dataframe\">\n",
              "  <thead>\n",
              "    <tr style=\"text-align: right;\">\n",
              "      <th></th>\n",
              "      <th>radius</th>\n",
              "      <th>velocity</th>\n",
              "      <th>stdev</th>\n",
              "      <th>sterror</th>\n",
              "    </tr>\n",
              "  </thead>\n",
              "  <tbody>\n",
              "    <tr>\n",
              "      <th>count</th>\n",
              "      <td>55.000000</td>\n",
              "      <td>55.000000</td>\n",
              "      <td>55.000000</td>\n",
              "      <td>55.000000</td>\n",
              "    </tr>\n",
              "    <tr>\n",
              "      <th>mean</th>\n",
              "      <td>205.853182</td>\n",
              "      <td>226.079255</td>\n",
              "      <td>55.034818</td>\n",
              "      <td>16.165855</td>\n",
              "    </tr>\n",
              "    <tr>\n",
              "      <th>std</th>\n",
              "      <td>415.523904</td>\n",
              "      <td>42.799892</td>\n",
              "      <td>49.254792</td>\n",
              "      <td>14.876951</td>\n",
              "    </tr>\n",
              "    <tr>\n",
              "      <th>min</th>\n",
              "      <td>0.100000</td>\n",
              "      <td>121.974000</td>\n",
              "      <td>0.000000</td>\n",
              "      <td>0.000000</td>\n",
              "    </tr>\n",
              "    <tr>\n",
              "      <th>25%</th>\n",
              "      <td>1.177000</td>\n",
              "      <td>208.894500</td>\n",
              "      <td>11.945500</td>\n",
              "      <td>3.224000</td>\n",
              "    </tr>\n",
              "    <tr>\n",
              "      <th>50%</th>\n",
              "      <td>13.737000</td>\n",
              "      <td>229.124000</td>\n",
              "      <td>30.697000</td>\n",
              "      <td>12.065000</td>\n",
              "    </tr>\n",
              "    <tr>\n",
              "      <th>75%</th>\n",
              "      <td>161.675000</td>\n",
              "      <td>244.102500</td>\n",
              "      <td>99.980000</td>\n",
              "      <td>23.641000</td>\n",
              "    </tr>\n",
              "    <tr>\n",
              "      <th>max</th>\n",
              "      <td>1887.071000</td>\n",
              "      <td>414.942000</td>\n",
              "      <td>147.835000</td>\n",
              "      <td>54.110000</td>\n",
              "    </tr>\n",
              "  </tbody>\n",
              "</table>\n",
              "</div>"
            ],
            "text/plain": [
              "            radius    velocity       stdev    sterror\n",
              "count    55.000000   55.000000   55.000000  55.000000\n",
              "mean    205.853182  226.079255   55.034818  16.165855\n",
              "std     415.523904   42.799892   49.254792  14.876951\n",
              "min       0.100000  121.974000    0.000000   0.000000\n",
              "25%       1.177000  208.894500   11.945500   3.224000\n",
              "50%      13.737000  229.124000   30.697000  12.065000\n",
              "75%     161.675000  244.102500   99.980000  23.641000\n",
              "max    1887.071000  414.942000  147.835000  54.110000"
            ]
          },
          "metadata": {
            "tags": []
          },
          "execution_count": 357
        }
      ]
    },
    {
      "cell_type": "markdown",
      "metadata": {
        "run_control": {
          "frozen": false,
          "read_only": false
        },
        "id": "Vv0Ut6vOOdCk",
        "colab_type": "text"
      },
      "source": [
        "from https://en.wikipedia.org/wiki/Andromeda_Galaxy get the extent of the luminous component of M31 (Andromeda). The distance of the Galaxy multiplied by the angular size will give you this information from basic trigonometry (make sure you convert the units properly, using astropy). Make sure you include the uncertainties! uncertainties in the distance will give you the uncertainty in the size\n",
        "   \n",
        " "
      ]
    },
    {
      "cell_type": "code",
      "metadata": {
        "id": "kvIFr6D778ri",
        "colab_type": "code",
        "colab": {}
      },
      "source": [
        "apparentSizeM31 = 3.167 #deg\n",
        "distanceM31 = 778 #kpc "
      ],
      "execution_count": 0,
      "outputs": []
    },
    {
      "cell_type": "code",
      "metadata": {
        "ExecuteTime": {
          "end_time": "2019-08-02T01:35:41.413407Z",
          "start_time": "2019-08-02T01:35:41.408764Z"
        },
        "run_control": {
          "frozen": false,
          "read_only": false
        },
        "id": "tzGNh98hOdCl",
        "colab_type": "code",
        "outputId": "db6b4393-4149-417b-fe76-00cc70529e7b",
        "colab": {
          "base_uri": "https://localhost:8080/",
          "height": 34
        }
      },
      "source": [
        "# note : by PEP8 standards the import should be at the top, I leave it here for hyou to see that I am using astropy.units now\n",
        "from astropy import units as u\n",
        "m31angS = apparentSizeM31 * u.degree\n",
        "print(\"Angular Size of the visible component of Andromeda: {:.4f} \".format(m31angS.to(u.rad)))"
      ],
      "execution_count": 359,
      "outputs": [
        {
          "output_type": "stream",
          "text": [
            "Angular Size of the visible component of Andromeda: 0.0553 rad \n"
          ],
          "name": "stdout"
        }
      ]
    },
    {
      "cell_type": "markdown",
      "metadata": {
        "id": "cOw0Y4KNWTOZ",
        "colab_type": "text"
      },
      "source": [
        "Please make sure you print a sensible number of decimal digits! you have a  number of significant digits set by the number of digit in the info you get from wikipedia"
      ]
    },
    {
      "cell_type": "markdown",
      "metadata": {
        "id": "hF2wXZ988QgS",
        "colab_type": "text"
      },
      "source": [
        "The distance, from Wikipedia, will have an uncertainty. Convert both to kiloparsecs Kpc"
      ]
    },
    {
      "cell_type": "code",
      "metadata": {
        "ExecuteTime": {
          "end_time": "2019-08-02T01:35:42.257553Z",
          "start_time": "2019-08-02T01:35:42.254539Z"
        },
        "run_control": {
          "frozen": false,
          "read_only": false
        },
        "id": "7-nEP6KrOdCo",
        "colab_type": "code",
        "colab": {}
      },
      "source": [
        "M31distUncert = 33\n",
        "M31distUncert *= u.kpc\n",
        "distanceM31 *= u.kpc"
      ],
      "execution_count": 0,
      "outputs": []
    },
    {
      "cell_type": "markdown",
      "metadata": {
        "id": "_pTXgdTL8jv6",
        "colab_type": "text"
      },
      "source": [
        "Print the distance like I printed the angular size. \n",
        "\n",
        "To get the physical size of the visible component of andtomeda you can use simple trigonometry: $y = r * sin(\\alpha) ~ \\sim ~ r \\alpha $ for small angles \n",
        "\n",
        "\n",
        "Print the physical size of the Andromeda galaxy (remember decimal digits, proper formatting etc etc). \n"
      ]
    },
    {
      "cell_type": "code",
      "metadata": {
        "ExecuteTime": {
          "end_time": "2019-08-02T01:35:42.815232Z",
          "start_time": "2019-08-02T01:35:42.810316Z"
        },
        "run_control": {
          "frozen": false,
          "read_only": false
        },
        "id": "0y_V9AuFOdCv",
        "colab_type": "code",
        "outputId": "5b75f880-e360-4cb1-b1e2-955bd251f920",
        "colab": {
          "base_uri": "https://localhost:8080/",
          "height": 51
        }
      },
      "source": [
        "visibleSize = distanceM31*m31angS.to(u.rad)/u.rad\n",
        "dVisibleSize = abs(distanceM31*m31angS.to(u.rad)/u.rad)*((M31distUncert/distanceM31)**2 + (0/m31angS*u.rad)**2)**0.5\n",
        "\n",
        "print(\"Angular Size of the visible component of Andromeda: {:.0f} \\u00B1 {:.0f}\".format(distanceM31.to(u.kpc), M31distUncert))\n",
        "print(\"Size of the visible component of Andromeda: {:.1f} \\u00B1 {:.1f}\".format(visibleSize, dVisibleSize))"
      ],
      "execution_count": 361,
      "outputs": [
        {
          "output_type": "stream",
          "text": [
            "Angular Size of the visible component of Andromeda: 778 kpc ± 33 kpc\n",
            "Size of the visible component of Andromeda: 43.0 kpc ± 1.8 kpc\n"
          ],
          "name": "stdout"
        }
      ]
    },
    {
      "cell_type": "markdown",
      "metadata": {
        "run_control": {
          "frozen": false,
          "read_only": false
        },
        "id": "97o52hRhOdCy",
        "colab_type": "text"
      },
      "source": [
        "### find the first measurement  in your data table that includes all the luminous mass. \n",
        "\n",
        "What is the smallest radius in your data where the luminous mass is completely included and what is the veolcity at that radius?\n",
        "You can do it by broadcasting (see homework 3)"
      ]
    },
    {
      "cell_type": "markdown",
      "metadata": {
        "run_control": {
          "frozen": false,
          "read_only": false
        },
        "id": "TVWiU84XOdDA",
        "colab_type": "text"
      },
      "source": [
        "We expect the velocity to decrease as 1/r if all mass is included: the velocity at a radius twice as far as the radius that includes all the mass should be a factor 2 slower, three times as far a factor 3 slower. "
      ]
    },
    {
      "cell_type": "markdown",
      "metadata": {
        "id": "b096Ax33SiXl",
        "colab_type": "text"
      },
      "source": [
        "write a function that \n",
        "\n",
        "1. finds the smallest radius in the dataset that is at least N times the radius of the visible galaxy, \n",
        "\n",
        "2. takes as arguments:\n",
        "    - the data and \n",
        "    - N \n",
        "    - the size of the luminous component of the galaxy\n",
        " \n",
        "2. Returns the value of the radius and its uncertainty and the velocity and its uncertainty"
      ]
    },
    {
      "cell_type": "code",
      "metadata": {
        "id": "y-bM8qT5TojG",
        "colab_type": "code",
        "colab": {
          "base_uri": "https://localhost:8080/",
          "height": 204
        },
        "outputId": "25a0a337-c711-461f-e846-9cf82a926320"
      },
      "source": [
        "m31.head()"
      ],
      "execution_count": 362,
      "outputs": [
        {
          "output_type": "execute_result",
          "data": {
            "text/html": [
              "<div>\n",
              "<style scoped>\n",
              "    .dataframe tbody tr th:only-of-type {\n",
              "        vertical-align: middle;\n",
              "    }\n",
              "\n",
              "    .dataframe tbody tr th {\n",
              "        vertical-align: top;\n",
              "    }\n",
              "\n",
              "    .dataframe thead th {\n",
              "        text-align: right;\n",
              "    }\n",
              "</style>\n",
              "<table border=\"1\" class=\"dataframe\">\n",
              "  <thead>\n",
              "    <tr style=\"text-align: right;\">\n",
              "      <th></th>\n",
              "      <th>radius</th>\n",
              "      <th>velocity</th>\n",
              "      <th>stdev</th>\n",
              "      <th>sterror</th>\n",
              "    </tr>\n",
              "  </thead>\n",
              "  <tbody>\n",
              "    <tr>\n",
              "      <th>0</th>\n",
              "      <td>0.100</td>\n",
              "      <td>183.939</td>\n",
              "      <td>0.000</td>\n",
              "      <td>0.000</td>\n",
              "    </tr>\n",
              "    <tr>\n",
              "      <th>1</th>\n",
              "      <td>0.120</td>\n",
              "      <td>190.710</td>\n",
              "      <td>10.265</td>\n",
              "      <td>12.191</td>\n",
              "    </tr>\n",
              "    <tr>\n",
              "      <th>2</th>\n",
              "      <td>0.144</td>\n",
              "      <td>204.141</td>\n",
              "      <td>22.634</td>\n",
              "      <td>21.808</td>\n",
              "    </tr>\n",
              "    <tr>\n",
              "      <th>3</th>\n",
              "      <td>0.173</td>\n",
              "      <td>207.601</td>\n",
              "      <td>4.573</td>\n",
              "      <td>4.200</td>\n",
              "    </tr>\n",
              "    <tr>\n",
              "      <th>4</th>\n",
              "      <td>0.207</td>\n",
              "      <td>210.188</td>\n",
              "      <td>3.943</td>\n",
              "      <td>3.258</td>\n",
              "    </tr>\n",
              "  </tbody>\n",
              "</table>\n",
              "</div>"
            ],
            "text/plain": [
              "   radius  velocity   stdev  sterror\n",
              "0   0.100   183.939   0.000    0.000\n",
              "1   0.120   190.710  10.265   12.191\n",
              "2   0.144   204.141  22.634   21.808\n",
              "3   0.173   207.601   4.573    4.200\n",
              "4   0.207   210.188   3.943    3.258"
            ]
          },
          "metadata": {
            "tags": []
          },
          "execution_count": 362
        }
      ]
    },
    {
      "cell_type": "code",
      "metadata": {
        "ExecuteTime": {
          "end_time": "2019-08-02T02:07:26.053511Z",
          "start_time": "2019-08-02T02:07:26.046677Z"
        },
        "run_control": {
          "frozen": false,
          "read_only": false
        },
        "id": "-_O34Bb7OdC2",
        "colab_type": "code",
        "colab": {
          "base_uri": "https://localhost:8080/",
          "height": 102
        },
        "outputId": "914c97ef-570d-46bb-8171-48c965caf06a"
      },
      "source": [
        "def getradii(gal, gsize, n):\n",
        "  radius, velocity, dvelocity, sterr = gal[gal['radius'] > n*gsize].iloc[0]\n",
        "  dradius = abs(-2)*radius**(-2-1)*dvelocity\n",
        "  return radius, dradius, velocity, dvelocity, sterr\n",
        "\n",
        "getradii(m31, visibleSize, 2)"
      ],
      "execution_count": 363,
      "outputs": [
        {
          "output_type": "execute_result",
          "data": {
            "text/plain": [
              "(102.068,\n",
              " 0.00024913389424868624,\n",
              " 213.002,\n",
              " 132.45600000000002,\n",
              " 29.320999999999998)"
            ]
          },
          "metadata": {
            "tags": []
          },
          "execution_count": 363
        }
      ]
    },
    {
      "cell_type": "markdown",
      "metadata": {
        "ExecuteTime": {
          "end_time": "2019-08-01T18:13:58.231637Z",
          "start_time": "2019-08-01T18:13:58.229447Z"
        },
        "run_control": {
          "frozen": false,
          "read_only": false
        },
        "id": "ogu_iquzOdC5",
        "colab_type": "text"
      },
      "source": [
        "### data visualization"
      ]
    },
    {
      "cell_type": "markdown",
      "metadata": {
        "id": "kJ6MujVJUyel",
        "colab_type": "text"
      },
      "source": [
        "make a plot that shows\n",
        "\n",
        "1. the rotational curve of the galaxy (as a line)\n",
        "\n",
        "2. each velocity as an errorbar with error equal to err in the same color as the line in 1\n",
        "\n",
        "3. each velocity as an errorbar with error equal to dv in  the same color but a different line thickness\n",
        "\n",
        "\n",
        "4. the datapoint corresponding to N=1, 2, 3 each in a different color. \n",
        "\n",
        "5. add a legend that indicates the meaning of each color (```pl.legend()```)\n",
        "\n",
        "6. add a text that indicates the velocity and its uncertainty (dv and err) just below the largest errorbar (```pl.text()```)\n",
        "\n",
        "7. limit the x axis to the \"relevant\" portion of the data"
      ]
    },
    {
      "cell_type": "code",
      "metadata": {
        "ExecuteTime": {
          "end_time": "2019-08-02T03:01:27.556063Z",
          "start_time": "2019-08-02T03:01:27.302184Z"
        },
        "run_control": {
          "frozen": false,
          "read_only": false
        },
        "id": "7IMXYY8BOdC6",
        "colab_type": "code",
        "outputId": "735dd7cf-0a97-4125-f2f7-0524eb9ac9ae",
        "colab": {
          "base_uri": "https://localhost:8080/",
          "height": 269
        }
      },
      "source": [
        "def plotGal(gal, rds):\n",
        "  \n",
        "  plt.errorbar(gal['radius'], gal['velocity'], xerr=0, yerr=gal['sterror'], c='C0', linewidth=2.5, label=None)\n",
        "  plt.errorbar(gal['radius'], gal['velocity'], xerr=0, yerr=gal['stdev'], c='C0', linewidth=1.5, label='velocity')\n",
        "  \n",
        "  colors = ['C1', 'C2', 'C3']\n",
        "  for n in range(1, 4):\n",
        "    radius, dradius, velocity, dvelocity, sterr = getradii(gal, rds, n)\n",
        "    plt.errorbar(radius, velocity, yerr = dvelocity, linewidth=2, c=colors[n-1], label=(str(n)+'*radius'))\n",
        "    plt.errorbar(radius, velocity, yerr = sterr, linewidth=2.5, c='k')\n",
        "    plt.text(radius - 10, velocity - dvelocity - 25, '%.1f' % velocity)\n",
        "    plt.text(radius - 20, velocity - dvelocity - 50, '(%.1f %.1f)' % (dvelocity, sterr))\n",
        "    \n",
        "  plt.legend()\n",
        "  plt.xlim(0, 200)\n",
        "  plt.ylim(0, 500)\n",
        "  \n",
        "  \n",
        "plotGal(m31, visibleSize)"
      ],
      "execution_count": 364,
      "outputs": [
        {
          "output_type": "display_data",
          "data": {
            "image/png": "[encoded data removed]",
            "text/plain": [
              "<Figure size 432x288 with 1 Axes>"
            ]
          },
          "metadata": {
            "tags": []
          }
        }
      ]
    },
    {
      "cell_type": "markdown",
      "metadata": {
        "id": "bIbv3YrhTo0X",
        "colab_type": "text"
      },
      "source": [
        "Write a function that for a given dataset and a given luminous radius and a given N \n",
        "  \n",
        "  1) uses the function above to find the radius at least as large as needed and the velocity at that radius, \n",
        "  \n",
        "  2) states the expected drop in rotational velocities according to Newton's law $v\\propto 1/r$\n",
        "  \n",
        "  3) calculates the ratio of radii and the ratio of velocities at N radii from the center N=1 and N=N (input, e.g. 2, 3 etc) with uncertainties, \n",
        "  \n",
        "  4) and stated whether that ratio is consistent within the uncertainties with Newton's law $v \\propto 1/r$\n",
        "  \n",
        "Your function should print \n",
        "\n",
        "     - the expected ratio based on the radii, \n",
        "     - the calculated ratio using ```dv```, and its uncertainty, - \n",
        "     - the 3-$\\sigma$ upper and lower limits of the calculated ratio\n",
        "     - whether the expected ratio is within the $3-\\sigma$ of the calculated ratio, \n",
        "  5) and the same using ```err```  instead of ```dv```"
      ]
    },
    {
      "cell_type": "code",
      "metadata": {
        "ExecuteTime": {
          "end_time": "2019-08-02T02:22:18.485172Z",
          "start_time": "2019-08-02T02:22:18.477807Z"
        },
        "run_control": {
          "frozen": false,
          "read_only": false
        },
        "id": "1hhTw8N4OdDB",
        "colab_type": "code",
        "colab": {
          "base_uri": "https://localhost:8080/",
          "height": 714
        },
        "outputId": "53bcd3df-af1b-478a-8e61-823a21e4146e"
      },
      "source": [
        "def vratios(gal, rds, n, err='dveocity'):\n",
        "  initialRadius, initialVelocity = gal.iloc[0][:2]\n",
        "  radius, dradius, velocity, dvelocity, sterr = getradii(gal, rds, n)\n",
        "  if err == 'sterr':\n",
        "    dvelocity = sterr\n",
        "  \n",
        "  rRatio = radius / initialRadius\n",
        "  expectedVelocity = initialVelocity/(rRatio)**0.5\n",
        "  expectedRatio = initialVelocity / expectedVelocity\n",
        "  \n",
        "  upperLimit = velocity + 2*dvelocity\n",
        "  lowerLimit = velocity - 2*dvelocity\n",
        "  \n",
        "  upperRatio =  initialVelocity / max(lowerLimit, 4)\n",
        "  lowerRatio =  initialVelocity / upperLimit\n",
        "  \n",
        "  #print('Initial: %.1f \\t Final: %.1f ' % (initialRadius, initialVelocity))\n",
        "  print(\"The expected velocity based on the radius is %.1f\" % expectedVelocity)\n",
        "  print(\"The actual velocity is %.1f \\u00B1 %.1f\" % (velocity, 2*dvelocity))\n",
        "  print(\"The expected expected ratio based on the radius is %.1f\" % expectedRatio)  \n",
        "  print('The 2-\\u03C3 lower and upper limits for the calculated ratio are (%.1f, %.1f)' % (lowerRatio, upperRatio))\n",
        "  message = \"\\033[4mIS NOT\\033[0m\"\n",
        "  if (lowerRatio < expectedRatio < upperRatio):\n",
        "    message = \"\\033[4mIS\\033[0m\"\n",
        "  print(\"The expected ratio\", message, \"within 2-\\u03C3 of the calculated ratio\")\n",
        "  \n",
        "\n",
        "def printVRatios(gal, rds):\n",
        "  print(\"\\033[1mUsing the Standard Deviation\\033[0m\\n\")\n",
        "  for n in range(1, 4):\n",
        "    vratios(gal, rds, n)\n",
        "    print()\n",
        "\n",
        "  print(\"---------------------------------------------------------------------------------------------------\")\n",
        "  print(\"\\033[1mUsing the Standard Error\\033[0m\\n\")\n",
        "  for n in range(1, 4):\n",
        "    vratios(gal, rds, n, 'sterr')\n",
        "    print()\n",
        "\n",
        "printVRatios(m31, visibleSize)"
      ],
      "execution_count": 365,
      "outputs": [
        {
          "output_type": "stream",
          "text": [
            "\u001b[1mUsing the Standard Deviation\u001b[0m\n",
            "\n",
            "The expected velocity based on the radius is 8.3\n",
            "The actual velocity is 237.1 ± 218.8\n",
            "The expected expected ratio based on the radius is 22.2\n",
            "The 2-σ lower and upper limits for the calculated ratio are (0.4, 10.0)\n",
            "The expected ratio \u001b[4mIS NOT\u001b[0m within 2-σ of the calculated ratio\n",
            "\n",
            "The expected velocity based on the radius is 5.8\n",
            "The actual velocity is 213.0 ± 264.9\n",
            "The expected expected ratio based on the radius is 31.9\n",
            "The 2-σ lower and upper limits for the calculated ratio are (0.4, 46.0)\n",
            "The expected ratio \u001b[4mIS\u001b[0m within 2-σ of the calculated ratio\n",
            "\n",
            "The expected velocity based on the radius is 4.8\n",
            "The actual velocity is 177.5 ± 163.5\n",
            "The expected expected ratio based on the radius is 38.3\n",
            "The 2-σ lower and upper limits for the calculated ratio are (0.5, 13.1)\n",
            "The expected ratio \u001b[4mIS NOT\u001b[0m within 2-σ of the calculated ratio\n",
            "\n",
            "---------------------------------------------------------------------------------------------------\n",
            "\u001b[1mUsing the Standard Error\u001b[0m\n",
            "\n",
            "The expected velocity based on the radius is 8.3\n",
            "The actual velocity is 237.1 ± 47.8\n",
            "The expected expected ratio based on the radius is 22.2\n",
            "The 2-σ lower and upper limits for the calculated ratio are (0.6, 1.0)\n",
            "The expected ratio \u001b[4mIS NOT\u001b[0m within 2-σ of the calculated ratio\n",
            "\n",
            "The expected velocity based on the radius is 5.8\n",
            "The actual velocity is 213.0 ± 58.6\n",
            "The expected expected ratio based on the radius is 31.9\n",
            "The 2-σ lower and upper limits for the calculated ratio are (0.7, 1.2)\n",
            "The expected ratio \u001b[4mIS NOT\u001b[0m within 2-σ of the calculated ratio\n",
            "\n",
            "The expected velocity based on the radius is 4.8\n",
            "The actual velocity is 177.5 ± 33.3\n",
            "The expected expected ratio based on the radius is 38.3\n",
            "The 2-σ lower and upper limits for the calculated ratio are (0.9, 1.3)\n",
            "The expected ratio \u001b[4mIS NOT\u001b[0m within 2-σ of the calculated ratio\n",
            "\n"
          ],
          "name": "stdout"
        }
      ]
    },
    {
      "cell_type": "markdown",
      "metadata": {
        "ExecuteTime": {
          "end_time": "2019-08-02T00:36:41.637045Z",
          "start_time": "2019-08-02T00:36:41.634825Z"
        },
        "run_control": {
          "frozen": false,
          "read_only": false
        },
        "id": "6me5k4c1OdDY",
        "colab_type": "text"
      },
      "source": [
        "### Discuss!"
      ]
    },
    {
      "cell_type": "markdown",
      "metadata": {
        "id": "jn3NKmCgRCNj",
        "colab_type": "text"
      },
      "source": [
        "When using the standard error, the ratio for the expected velocity fell outside of the bounds for the actual velocity ratio. This shows statistical significance that the velocities of bodies farther away from the center of the galaxy *do not* follow Newton's Laws. This supports the theory for Dark Matter, as it is an alternative explanation for the rotational curves.\n",
        "\n",
        "When using the standard deviation, this was found to be true for the N=1 and N=3 values. At N=2, however, the standard deviation of the measured velocity was too large to draw any significant conclusions."
      ]
    },
    {
      "cell_type": "markdown",
      "metadata": {
        "run_control": {
          "frozen": false,
          "read_only": false
        },
        "id": "QIHRn8UlOdDZ",
        "colab_type": "text"
      },
      "source": [
        "## do the same for the Milky Way. If your functions were create properly you should be able to reuse them seamlessly"
      ]
    },
    {
      "cell_type": "code",
      "metadata": {
        "id": "NVp9cJzv-Dic",
        "colab_type": "code",
        "colab": {
          "base_uri": "https://localhost:8080/",
          "height": 204
        },
        "outputId": "e4d7ae9c-6a85-4ee3-a95f-41492898fa54"
      },
      "source": [
        "mw = pd.read_csv('https://raw.githubusercontent.com/fedhere/DSPS/master/HW4/mw.csv', header=1)\n",
        "mw.rename(columns = {'R(kpc)':'radius', 'V(km/s)':'velocity', 'St.dev.':'stdev', 'St.error':'sterror'}, inplace=True)\n",
        "mw.head()"
      ],
      "execution_count": 366,
      "outputs": [
        {
          "output_type": "execute_result",
          "data": {
            "text/html": [
              "<div>\n",
              "<style scoped>\n",
              "    .dataframe tbody tr th:only-of-type {\n",
              "        vertical-align: middle;\n",
              "    }\n",
              "\n",
              "    .dataframe tbody tr th {\n",
              "        vertical-align: top;\n",
              "    }\n",
              "\n",
              "    .dataframe thead th {\n",
              "        text-align: right;\n",
              "    }\n",
              "</style>\n",
              "<table border=\"1\" class=\"dataframe\">\n",
              "  <thead>\n",
              "    <tr style=\"text-align: right;\">\n",
              "      <th></th>\n",
              "      <th>radius</th>\n",
              "      <th>velocity</th>\n",
              "      <th>stdev</th>\n",
              "      <th>sterror</th>\n",
              "    </tr>\n",
              "  </thead>\n",
              "  <tbody>\n",
              "    <tr>\n",
              "      <th>0</th>\n",
              "      <td>0.010</td>\n",
              "      <td>119.061</td>\n",
              "      <td>41.832</td>\n",
              "      <td>32.714</td>\n",
              "    </tr>\n",
              "    <tr>\n",
              "      <th>1</th>\n",
              "      <td>0.012</td>\n",
              "      <td>115.268</td>\n",
              "      <td>35.199</td>\n",
              "      <td>17.100</td>\n",
              "    </tr>\n",
              "    <tr>\n",
              "      <th>2</th>\n",
              "      <td>0.014</td>\n",
              "      <td>117.392</td>\n",
              "      <td>35.152</td>\n",
              "      <td>14.429</td>\n",
              "    </tr>\n",
              "    <tr>\n",
              "      <th>3</th>\n",
              "      <td>0.017</td>\n",
              "      <td>118.475</td>\n",
              "      <td>35.252</td>\n",
              "      <td>14.870</td>\n",
              "    </tr>\n",
              "    <tr>\n",
              "      <th>4</th>\n",
              "      <td>0.021</td>\n",
              "      <td>110.386</td>\n",
              "      <td>33.817</td>\n",
              "      <td>14.427</td>\n",
              "    </tr>\n",
              "  </tbody>\n",
              "</table>\n",
              "</div>"
            ],
            "text/plain": [
              "   radius  velocity   stdev  sterror\n",
              "0   0.010   119.061  41.832   32.714\n",
              "1   0.012   115.268  35.199   17.100\n",
              "2   0.014   117.392  35.152   14.429\n",
              "3   0.017   118.475  35.252   14.870\n",
              "4   0.021   110.386  33.817   14.427"
            ]
          },
          "metadata": {
            "tags": []
          },
          "execution_count": 366
        }
      ]
    },
    {
      "cell_type": "code",
      "metadata": {
        "id": "jm2t5CmZOp4q",
        "colab_type": "code",
        "colab": {
          "base_uri": "https://localhost:8080/",
          "height": 34
        },
        "outputId": "3749e5bc-51d5-4340-db3f-623dd5df9cc8"
      },
      "source": [
        "visibleSize = 53.5 * u.kpc\n",
        "dVisibleSize = 7.5 * u.kpc\n",
        "print(\"Size of the visible component of the Milky Way: {:.1f} \\u00B1 {:.1f}\".format(visibleSize, dVisibleSize))"
      ],
      "execution_count": 367,
      "outputs": [
        {
          "output_type": "stream",
          "text": [
            "Size of the visible component of the Milky Way: 53.5 kpc ± 7.5 kpc\n"
          ],
          "name": "stdout"
        }
      ]
    },
    {
      "cell_type": "code",
      "metadata": {
        "id": "4zM42Nl2PBdv",
        "colab_type": "code",
        "colab": {
          "base_uri": "https://localhost:8080/",
          "height": 290
        },
        "outputId": "a35055aa-b2d5-40e7-974b-126e7872a07e"
      },
      "source": [
        "plotGal(mw, visibleSize)"
      ],
      "execution_count": 368,
      "outputs": [
        {
          "output_type": "display_data",
          "data": {
            "image/png": "[encoded data removed]",
            "text/plain": [
              "<Figure size 432x288 with 1 Axes>"
            ]
          },
          "metadata": {
            "tags": []
          }
        }
      ]
    },
    {
      "cell_type": "code",
      "metadata": {
        "id": "OT4j8PnsQcZi",
        "colab_type": "code",
        "colab": {
          "base_uri": "https://localhost:8080/",
          "height": 714
        },
        "outputId": "115f58f2-11c5-45e1-d7d6-d454148537fb"
      },
      "source": [
        "printVRatios(mw, visibleSize)"
      ],
      "execution_count": 369,
      "outputs": [
        {
          "output_type": "stream",
          "text": [
            "\u001b[1mUsing the Standard Deviation\u001b[0m\n",
            "\n",
            "The expected velocity based on the radius is 1.5\n",
            "The actual velocity is 178.0 ± 94.0\n",
            "The expected expected ratio based on the radius is 79.5\n",
            "The 2-σ lower and upper limits for the calculated ratio are (0.4, 1.4)\n",
            "The expected ratio \u001b[4mIS NOT\u001b[0m within 2-σ of the calculated ratio\n",
            "\n",
            "The expected velocity based on the radius is 1.1\n",
            "The actual velocity is 155.4 ± 154.3\n",
            "The expected expected ratio based on the radius is 104.5\n",
            "The 2-σ lower and upper limits for the calculated ratio are (0.4, 29.8)\n",
            "The expected ratio \u001b[4mIS NOT\u001b[0m within 2-σ of the calculated ratio\n",
            "\n",
            "The expected velocity based on the radius is 0.9\n",
            "The actual velocity is 133.6 ± 330.2\n",
            "The expected expected ratio based on the radius is 137.4\n",
            "The 2-σ lower and upper limits for the calculated ratio are (0.3, 29.8)\n",
            "The expected ratio \u001b[4mIS NOT\u001b[0m within 2-σ of the calculated ratio\n",
            "\n",
            "---------------------------------------------------------------------------------------------------\n",
            "\u001b[1mUsing the Standard Error\u001b[0m\n",
            "\n",
            "The expected velocity based on the radius is 1.5\n",
            "The actual velocity is 178.0 ± 32.7\n",
            "The expected expected ratio based on the radius is 79.5\n",
            "The 2-σ lower and upper limits for the calculated ratio are (0.6, 0.8)\n",
            "The expected ratio \u001b[4mIS NOT\u001b[0m within 2-σ of the calculated ratio\n",
            "\n",
            "The expected velocity based on the radius is 1.1\n",
            "The actual velocity is 155.4 ± 57.0\n",
            "The expected expected ratio based on the radius is 104.5\n",
            "The 2-σ lower and upper limits for the calculated ratio are (0.6, 1.2)\n",
            "The expected ratio \u001b[4mIS NOT\u001b[0m within 2-σ of the calculated ratio\n",
            "\n",
            "The expected velocity based on the radius is 0.9\n",
            "The actual velocity is 133.6 ± 215.8\n",
            "The expected expected ratio based on the radius is 137.4\n",
            "The 2-σ lower and upper limits for the calculated ratio are (0.3, 29.8)\n",
            "The expected ratio \u001b[4mIS NOT\u001b[0m within 2-σ of the calculated ratio\n",
            "\n"
          ],
          "name": "stdout"
        }
      ]
    },
    {
      "cell_type": "markdown",
      "metadata": {
        "id": "z6OwJNfuRtoT",
        "colab_type": "text"
      },
      "source": [
        "**Discussion**\n",
        "When using the standard error, the ratio for the expected velocity fell outside of the bounds for the actual velocity ratio. This shows statistical significance that the velocities of bodies farther away from the center of the galaxy *do not* follow Newton's Laws. This supports the theory for Dark Matter, as it is an alternative explanation for the rotational curves.\n",
        "\n",
        "When using the standard deviation, this same conclusions were able to be made."
      ]
    }
  ]
}
{
 "cells": [
  {
   "cell_type": "markdown",
   "metadata": {
    "colab_type": "text",
    "id": "view-in-github"
   },
   "source": [
    "<a href=\"https://colab.research.google.com/github/DesiPilla/DSPS_dPilla/blob/master/HW4/GalrotCurve.ipynb\" target=\"_parent\"><img src=\"https://colab.research.google.com/assets/colab-badge.svg\" alt=\"Open In Colab\"/></a>"
   ]
  },
  {
   "cell_type": "markdown",
   "metadata": {
    "colab_type": "text",
    "id": "rxa6Xa3jOdCI",
    "run_control": {
     "frozen": false,
     "read_only": false
    }
   },
   "source": [
    "Name: Desiderio Pilla\n",
    "\n",
    "\n",
    "prepared by federica b bianco @fedhere\n",
    "for UDel DSPS PHYS 467/667\n",
    "\n",
    "# testing the significance of Dark Matter"
   ]
  },
  {
   "cell_type": "code",
   "execution_count": 1,
   "metadata": {
    "ExecuteTime": {
     "end_time": "2019-09-16T17:54:57.244596Z",
     "start_time": "2019-09-16T17:54:57.231090Z"
    },
    "colab": {
     "base_uri": "https://localhost:8080/",
     "height": 34
    },
    "colab_type": "code",
    "id": "Ya2RaOGbOdCJ",
    "outputId": "858eb94b-0df3-448b-e26b-01d9c122f14a",
    "run_control": {
     "frozen": false,
     "read_only": false
    }
   },
   "outputs": [
    {
     "name": "stdout",
     "output_type": "stream",
     "text": [
      "Populating the interactive namespace from numpy and matplotlib\n"
     ]
    }
   ],
   "source": [
    "import pandas as pd\n",
    "import numpy as np\n",
    "import pylab as pl\n",
    "%pylab inline\n",
    "\n",
    "\n",
    "#package I will use for constants and units conversion \n",
    "import astropy\n",
    "\n"
   ]
  },
  {
   "cell_type": "markdown",
   "metadata": {
    "colab_type": "text",
    "id": "4qp8A2TG1Gwb"
   },
   "source": [
    "In 1970 Vera Rubin published a seminal paper: she measured the rotational speed of HII regions in several galaxies and how it changed as a function of distance to the center of the galaxy. If we believe Newtonian gravity (or GR) we expect that _once all of the mass is included_, i.e. at a radius distance from the center of the galaxy larger than the radius of the galaxy itself, the rotational speed will be proportional to $v\\propto\\frac{1}/{r}$"
   ]
  },
  {
   "cell_type": "markdown",
   "metadata": {
    "colab_type": "text",
    "id": "j-BDrNseOdCR",
    "run_control": {
     "frozen": false,
     "read_only": false
    }
   },
   "source": [
    "## Propagation of  uncertainties rules\n",
    "\n",
    "below are the basic rules for propagation of uncertainties - use [this as reference](https://github.com/fedhere/DSPS/blob/master/resources/Managing%20Errors%20and%20Uncertainty.pdf)"
   ]
  },
  {
   "cell_type": "markdown",
   "metadata": {
    "colab_type": "text",
    "id": "iCrFipBzOzqp"
   },
   "source": [
    "\n",
    "\n",
    "\n",
    "$$\n",
    "\\begin{eqnarray}\n",
    "z = x  \\pm y  ~| & ~  &dz = \\sqrt{dx^2 + dy^2} \n",
    "\\\\\n",
    "z = x * y  ~| & ~& dz = |xy|  \\sqrt{\\left(\\frac{dx}{x}\\right)^2 + \n",
    "                                \\left(\\frac{dy}{y}\\right)^2} \\\\\n",
    "z = x / y  ~| & ~& dz = \\left|\\frac{x}{y}\\right| \\sqrt{\\left(\\frac{dx}{x}\\right)^2 + \n",
    "                                                   \\left(\\frac{dy}{y}\\right)^2} \\\\\n",
    "z = x^n ~| & ~& dz = |n| ~ x^{n-1}  dx \\\\\n",
    "z = \\mathrm{c}x ~| & ~& dz = |\\mathrm{c}| ~dx \\\\\n",
    "z = f(x, y) ~| & ~& dz = \\sqrt{\\left(\\frac{\\partial f}{\\partial x}\\right)^2 dx^2 +\\left(\\frac{\\partial f}{\\partial y}\\right)^2 dy^2} \\\\\n",
    "\\end{eqnarray}\n",
    "$$\n"
   ]
  },
  {
   "cell_type": "markdown",
   "metadata": {
    "colab_type": "text",
    "id": "WcF0zlWCOdCX",
    "run_control": {
     "frozen": false,
     "read_only": false
    }
   },
   "source": [
    "# let's assume a Newtonian framework: \n",
    "the velocity of a body in orbit depends only on the gravitational field of the mass that attracts it, and we can assume that mass is concentrated in the center of mass of (the center for simplicity) the system\n",
    "\n",
    "with G the gravitational constant, $r$ the radius, and $m(r)$ the mass contained within that radius we have the orbital velocity $v$:\n"
   ]
  },
  {
   "cell_type": "markdown",
   "metadata": {
    "colab_type": "text",
    "id": "ZON0DKl5Qm2S"
   },
   "source": [
    "\n",
    "$v = \\frac{G \\cdot m(r)}{r}$\n"
   ]
  },
  {
   "cell_type": "markdown",
   "metadata": {
    "colab_type": "text",
    "id": "lVfy9lJ21xMT"
   },
   "source": [
    "Derive this $v\\propto\\frac{1}{r}$ from Newron's law $F~=~\\frac{GMm}{r^2}$. Write each formula and describe each step. You can use latex (you really just need to know ```\\frac{}``` and ```^```) and this reference\n",
    "https://www.physicsclassroom.com/calcpad/circgrav"
   ]
  },
  {
   "cell_type": "markdown",
   "metadata": {
    "colab_type": "text",
    "id": "HEB7hQojuAQt"
   },
   "source": [
    "$F$ = $\\frac{GMm}{r^2}$ Newton's law\n",
    "\n",
    "$F$ = $\\frac{Mv^2}{r}$  Centripetal force\n",
    "\n",
    "$\\frac{GMm}{r^2}$ = $\\frac{mv^2}{r}$ Set equal to one another\n",
    "\n",
    "${v^2}$ = $\\frac{GMmr}{Mr^2}$ Solve for ${v}$ \n",
    "\n",
    "${v^2}$ = $\\frac{Gm}{r}$\n",
    "\n",
    "${v}$ = $\\sqrt{\\frac{Gm}{r}}$\n",
    "\n",
    "Therefore, $v\\propto\\frac{1}{\\sqrt{r}}$"
   ]
  },
  {
   "cell_type": "markdown",
   "metadata": {
    "colab_type": "text",
    "id": "KQAEJtWuOdCb",
    "run_control": {
     "frozen": false,
     "read_only": false
    }
   },
   "source": [
    "## M31 rotational curve"
   ]
  },
  {
   "cell_type": "markdown",
   "metadata": {
    "ExecuteTime": {
     "end_time": "2019-08-02T01:34:15.029084Z",
     "start_time": "2019-08-02T01:34:15.026604Z"
    },
    "colab_type": "text",
    "id": "BTaXzFYeOdCc",
    "run_control": {
     "frozen": false,
     "read_only": false
    }
   },
   "source": [
    "### data ingestion\n",
    "( I store the original paper as a link on another computer now I have to find it again :-( - sorry I will updat the reference )\n",
    "\n",
    "Get the data from the github repository https://github.com/fedhere/DSPS/tree/master/HW4 : there are 2 files: mw.csv and m31.csv. Start with M31, the Andromeda galaxy, Vera Rubin's original target."
   ]
  },
  {
   "cell_type": "markdown",
   "metadata": {
    "colab_type": "text",
    "id": "_iFrkUYEV1SS"
   },
   "source": [
    "Note that the data contains 2 types of uncertainties: one significantly smaller than the other. The ```dv``` uncertainty is the propagation of the uncertainty in the location of the HII line. The uncertainty called ```err``` if the full error budget:  including _all_ sources of uncertainty and not just the uncertainty in measuring the location of the line. Retain both, you will test your hypothesis with each one to see if it matters which uncertainty you choose"
   ]
  },
  {
   "cell_type": "code",
   "execution_count": 2,
   "metadata": {
    "colab": {
     "base_uri": "https://localhost:8080/",
     "height": 204
    },
    "colab_type": "code",
    "id": "PFYBlhUjt8_e",
    "outputId": "0f5c7ceb-d9b7-4ad2-f7bb-7d4037463b5c"
   },
   "outputs": [
    {
     "data": {
      "text/html": [
       "<div>\n",
       "<style scoped>\n",
       "    .dataframe tbody tr th:only-of-type {\n",
       "        vertical-align: middle;\n",
       "    }\n",
       "\n",
       "    .dataframe tbody tr th {\n",
       "        vertical-align: top;\n",
       "    }\n",
       "\n",
       "    .dataframe thead th {\n",
       "        text-align: right;\n",
       "    }\n",
       "</style>\n",
       "<table border=\"1\" class=\"dataframe\">\n",
       "  <thead>\n",
       "    <tr style=\"text-align: right;\">\n",
       "      <th></th>\n",
       "      <th>radius</th>\n",
       "      <th>velocity</th>\n",
       "      <th>stdev</th>\n",
       "      <th>sterror</th>\n",
       "    </tr>\n",
       "  </thead>\n",
       "  <tbody>\n",
       "    <tr>\n",
       "      <td>0</td>\n",
       "      <td>0.100</td>\n",
       "      <td>183.939</td>\n",
       "      <td>0.000</td>\n",
       "      <td>0.000</td>\n",
       "    </tr>\n",
       "    <tr>\n",
       "      <td>1</td>\n",
       "      <td>0.120</td>\n",
       "      <td>190.710</td>\n",
       "      <td>10.265</td>\n",
       "      <td>12.191</td>\n",
       "    </tr>\n",
       "    <tr>\n",
       "      <td>2</td>\n",
       "      <td>0.144</td>\n",
       "      <td>204.141</td>\n",
       "      <td>22.634</td>\n",
       "      <td>21.808</td>\n",
       "    </tr>\n",
       "    <tr>\n",
       "      <td>3</td>\n",
       "      <td>0.173</td>\n",
       "      <td>207.601</td>\n",
       "      <td>4.573</td>\n",
       "      <td>4.200</td>\n",
       "    </tr>\n",
       "    <tr>\n",
       "      <td>4</td>\n",
       "      <td>0.207</td>\n",
       "      <td>210.188</td>\n",
       "      <td>3.943</td>\n",
       "      <td>3.258</td>\n",
       "    </tr>\n",
       "  </tbody>\n",
       "</table>\n",
       "</div>"
      ],
      "text/plain": [
       "   radius  velocity   stdev  sterror\n",
       "0   0.100   183.939   0.000    0.000\n",
       "1   0.120   190.710  10.265   12.191\n",
       "2   0.144   204.141  22.634   21.808\n",
       "3   0.173   207.601   4.573    4.200\n",
       "4   0.207   210.188   3.943    3.258"
      ]
     },
     "execution_count": 2,
     "metadata": {},
     "output_type": "execute_result"
    }
   ],
   "source": [
    "m31 = pd.read_csv('https://raw.githubusercontent.com/fedhere/DSPS/master/HW4/m31.csv', header=1)\n",
    "m31.rename(columns = {'#R(kpc':'radius', 'V(km/s)':'velocity', 'St.dev.':'stdev', 'St.error':'sterror'}, inplace=True)\n",
    "m31.head()"
   ]
  },
  {
   "cell_type": "code",
   "execution_count": 3,
   "metadata": {
    "colab": {
     "base_uri": "https://localhost:8080/",
     "height": 297
    },
    "colab_type": "code",
    "id": "luL5UrsNQ1M1",
    "outputId": "65e8bc6b-7cde-4fe1-a7aa-11f7e74b7d03"
   },
   "outputs": [
    {
     "data": {
      "text/html": [
       "<div>\n",
       "<style scoped>\n",
       "    .dataframe tbody tr th:only-of-type {\n",
       "        vertical-align: middle;\n",
       "    }\n",
       "\n",
       "    .dataframe tbody tr th {\n",
       "        vertical-align: top;\n",
       "    }\n",
       "\n",
       "    .dataframe thead th {\n",
       "        text-align: right;\n",
       "    }\n",
       "</style>\n",
       "<table border=\"1\" class=\"dataframe\">\n",
       "  <thead>\n",
       "    <tr style=\"text-align: right;\">\n",
       "      <th></th>\n",
       "      <th>radius</th>\n",
       "      <th>velocity</th>\n",
       "      <th>stdev</th>\n",
       "      <th>sterror</th>\n",
       "    </tr>\n",
       "  </thead>\n",
       "  <tbody>\n",
       "    <tr>\n",
       "      <td>count</td>\n",
       "      <td>55.000000</td>\n",
       "      <td>55.000000</td>\n",
       "      <td>55.000000</td>\n",
       "      <td>55.000000</td>\n",
       "    </tr>\n",
       "    <tr>\n",
       "      <td>mean</td>\n",
       "      <td>205.853182</td>\n",
       "      <td>226.079255</td>\n",
       "      <td>55.034818</td>\n",
       "      <td>16.165855</td>\n",
       "    </tr>\n",
       "    <tr>\n",
       "      <td>std</td>\n",
       "      <td>415.523904</td>\n",
       "      <td>42.799892</td>\n",
       "      <td>49.254792</td>\n",
       "      <td>14.876951</td>\n",
       "    </tr>\n",
       "    <tr>\n",
       "      <td>min</td>\n",
       "      <td>0.100000</td>\n",
       "      <td>121.974000</td>\n",
       "      <td>0.000000</td>\n",
       "      <td>0.000000</td>\n",
       "    </tr>\n",
       "    <tr>\n",
       "      <td>25%</td>\n",
       "      <td>1.177000</td>\n",
       "      <td>208.894500</td>\n",
       "      <td>11.945500</td>\n",
       "      <td>3.224000</td>\n",
       "    </tr>\n",
       "    <tr>\n",
       "      <td>50%</td>\n",
       "      <td>13.737000</td>\n",
       "      <td>229.124000</td>\n",
       "      <td>30.697000</td>\n",
       "      <td>12.065000</td>\n",
       "    </tr>\n",
       "    <tr>\n",
       "      <td>75%</td>\n",
       "      <td>161.675000</td>\n",
       "      <td>244.102500</td>\n",
       "      <td>99.980000</td>\n",
       "      <td>23.641000</td>\n",
       "    </tr>\n",
       "    <tr>\n",
       "      <td>max</td>\n",
       "      <td>1887.071000</td>\n",
       "      <td>414.942000</td>\n",
       "      <td>147.835000</td>\n",
       "      <td>54.110000</td>\n",
       "    </tr>\n",
       "  </tbody>\n",
       "</table>\n",
       "</div>"
      ],
      "text/plain": [
       "            radius    velocity       stdev    sterror\n",
       "count    55.000000   55.000000   55.000000  55.000000\n",
       "mean    205.853182  226.079255   55.034818  16.165855\n",
       "std     415.523904   42.799892   49.254792  14.876951\n",
       "min       0.100000  121.974000    0.000000   0.000000\n",
       "25%       1.177000  208.894500   11.945500   3.224000\n",
       "50%      13.737000  229.124000   30.697000  12.065000\n",
       "75%     161.675000  244.102500   99.980000  23.641000\n",
       "max    1887.071000  414.942000  147.835000  54.110000"
      ]
     },
     "execution_count": 3,
     "metadata": {},
     "output_type": "execute_result"
    }
   ],
   "source": [
    "m31.describe()"
   ]
  },
  {
   "cell_type": "markdown",
   "metadata": {
    "colab_type": "text",
    "id": "Vv0Ut6vOOdCk",
    "run_control": {
     "frozen": false,
     "read_only": false
    }
   },
   "source": [
    "from https://en.wikipedia.org/wiki/Andromeda_Galaxy get the extent of the luminous component of M31 (Andromeda). The distance of the Galaxy multiplied by the angular size will give you this information from basic trigonometry (make sure you convert the units properly, using astropy). Make sure you include the uncertainties! uncertainties in the distance will give you the uncertainty in the size\n",
    "   \n",
    " "
   ]
  },
  {
   "cell_type": "code",
   "execution_count": 4,
   "metadata": {
    "colab": {},
    "colab_type": "code",
    "id": "kvIFr6D778ri"
   },
   "outputs": [],
   "source": [
    "apparentSizeM31 = 3.167 #deg 3.167/2\n",
    "distanceM31 = 778 #kpc "
   ]
  },
  {
   "cell_type": "markdown",
   "metadata": {},
   "source": [
    "<span style=\"color:red\">**-0.1 pt: for using diameter not radius**</span>"
   ]
  },
  {
   "cell_type": "code",
   "execution_count": 5,
   "metadata": {
    "ExecuteTime": {
     "end_time": "2019-08-02T01:35:41.413407Z",
     "start_time": "2019-08-02T01:35:41.408764Z"
    },
    "colab": {
     "base_uri": "https://localhost:8080/",
     "height": 34
    },
    "colab_type": "code",
    "id": "tzGNh98hOdCl",
    "outputId": "d9ab90a7-92b4-43a8-e104-b6f4fdebcbf2",
    "run_control": {
     "frozen": false,
     "read_only": false
    }
   },
   "outputs": [
    {
     "name": "stdout",
     "output_type": "stream",
     "text": [
      "Angular Size of the visible component of Andromeda: 0.0553 rad \n"
     ]
    }
   ],
   "source": [
    "# note : by PEP8 standards the import should be at the top, I leave it here for hyou to see that I am using astropy.units now\n",
    "from astropy import units as u\n",
    "m31angS = apparentSizeM31 * u.degree\n",
    "print(\"Angular Size of the visible component of Andromeda: {:.4f} \".format(m31angS.to(u.rad)))"
   ]
  },
  {
   "cell_type": "markdown",
   "metadata": {},
   "source": [
    "<span style=\"color:red\">**-0.1 pt: too much decimal digits: do not keep more digits than original data**</span>"
   ]
  },
  {
   "cell_type": "markdown",
   "metadata": {
    "colab_type": "text",
    "id": "cOw0Y4KNWTOZ"
   },
   "source": [
    "Please make sure you print a sensible number of decimal digits! you have a  number of significant digits set by the number of digit in the info you get from wikipedia"
   ]
  },
  {
   "cell_type": "markdown",
   "metadata": {
    "colab_type": "text",
    "id": "hF2wXZ988QgS"
   },
   "source": [
    "The distance, from Wikipedia, will have an uncertainty. Convert both to kiloparsecs Kpc"
   ]
  },
  {
   "cell_type": "code",
   "execution_count": 6,
   "metadata": {
    "ExecuteTime": {
     "end_time": "2019-08-02T01:35:42.257553Z",
     "start_time": "2019-08-02T01:35:42.254539Z"
    },
    "colab": {},
    "colab_type": "code",
    "id": "7-nEP6KrOdCo",
    "run_control": {
     "frozen": false,
     "read_only": false
    }
   },
   "outputs": [],
   "source": [
    "M31distUncert = 33\n",
    "M31distUncert *= u.kpc\n",
    "distanceM31 *= u.kpc"
   ]
  },
  {
   "cell_type": "markdown",
   "metadata": {
    "colab_type": "text",
    "id": "_pTXgdTL8jv6"
   },
   "source": [
    "Print the distance like I printed the angular size. \n",
    "\n",
    "To get the physical size of the visible component of andtomeda you can use simple trigonometry: $y = r * sin(\\alpha) ~ \\sim ~ r \\alpha $ for small angles \n",
    "\n",
    "\n",
    "Print the physical size of the Andromeda galaxy (remember decimal digits, proper formatting etc etc). \n"
   ]
  },
  {
   "cell_type": "code",
   "execution_count": 7,
   "metadata": {
    "ExecuteTime": {
     "end_time": "2019-08-02T01:35:42.815232Z",
     "start_time": "2019-08-02T01:35:42.810316Z"
    },
    "colab": {
     "base_uri": "https://localhost:8080/",
     "height": 51
    },
    "colab_type": "code",
    "id": "0y_V9AuFOdCv",
    "outputId": "0f2ab5b1-5b24-4d1c-fe7a-8dd342baa953",
    "run_control": {
     "frozen": false,
     "read_only": false
    }
   },
   "outputs": [
    {
     "name": "stdout",
     "output_type": "stream",
     "text": [
      "Angular Size of the visible component of Andromeda: 778 kpc ± 33 kpc\n",
      "Size of the visible component of Andromeda: 43.0 kpc ± 1.8 kpc\n"
     ]
    }
   ],
   "source": [
    "#print(\"First measurement outside of the visible radius:\")\n",
    "#round(m31[m31.r > m31size].r.values[0], 2) * u.kpc\n",
    "\n",
    "visibleSize = distanceM31*m31angS.to(u.rad)/u.rad\n",
    "\n",
    "dVisibleSize = abs(distanceM31*m31angS.to(u.rad)/u.rad)*((M31distUncert/distanceM31)**2 + (0/m31angS*u.rad)**2)**0.5\n",
    "\n",
    "print(\"Angular Size of the visible component of Andromeda: {:.0f} \\u00B1 {:.0f}\".format(distanceM31.to(u.kpc), M31distUncert))\n",
    "print(\"Size of the visible component of Andromeda: {:.1f} \\u00B1 {:.1f}\".format(visibleSize, dVisibleSize))"
   ]
  },
  {
   "cell_type": "markdown",
   "metadata": {
    "colab_type": "text",
    "id": "97o52hRhOdCy",
    "run_control": {
     "frozen": false,
     "read_only": false
    }
   },
   "source": [
    "### find the first measurement  in your data table that includes all the luminous mass. \n",
    "\n",
    "What is the smallest radius in your data where the luminous mass is completely included and what is the veolcity at that radius?\n",
    "You can do it by broadcasting (see homework 3)"
   ]
  },
  {
   "cell_type": "markdown",
   "metadata": {},
   "source": [
    "<span style=\"color:red\">**-0.25 pt: for missing the code**</span>"
   ]
  },
  {
   "cell_type": "markdown",
   "metadata": {
    "colab_type": "text",
    "id": "TVWiU84XOdDA",
    "run_control": {
     "frozen": false,
     "read_only": false
    }
   },
   "source": [
    "We expect the velocity to decrease as 1/r if all mass is included: the velocity at a radius twice as far as the radius that includes all the mass should be a factor 2 slower, three times as far a factor 3 slower. "
   ]
  },
  {
   "cell_type": "markdown",
   "metadata": {
    "colab_type": "text",
    "id": "b096Ax33SiXl"
   },
   "source": [
    "write a function that \n",
    "\n",
    "1. finds the smallest radius in the dataset that is at least N times the radius of the visible galaxy, \n",
    "\n",
    "2. takes as arguments:\n",
    "    - the data and \n",
    "    - N \n",
    "    - the size of the luminous component of the galaxy\n",
    " \n",
    "2. Returns the value of the radius and its uncertainty and the velocity and its uncertainty"
   ]
  },
  {
   "cell_type": "code",
   "execution_count": 8,
   "metadata": {
    "colab": {
     "base_uri": "https://localhost:8080/",
     "height": 204
    },
    "colab_type": "code",
    "id": "y-bM8qT5TojG",
    "outputId": "2a42911b-67d3-4ce1-ecef-d2c1131dcf24"
   },
   "outputs": [
    {
     "data": {
      "text/html": [
       "<div>\n",
       "<style scoped>\n",
       "    .dataframe tbody tr th:only-of-type {\n",
       "        vertical-align: middle;\n",
       "    }\n",
       "\n",
       "    .dataframe tbody tr th {\n",
       "        vertical-align: top;\n",
       "    }\n",
       "\n",
       "    .dataframe thead th {\n",
       "        text-align: right;\n",
       "    }\n",
       "</style>\n",
       "<table border=\"1\" class=\"dataframe\">\n",
       "  <thead>\n",
       "    <tr style=\"text-align: right;\">\n",
       "      <th></th>\n",
       "      <th>radius</th>\n",
       "      <th>velocity</th>\n",
       "      <th>stdev</th>\n",
       "      <th>sterror</th>\n",
       "    </tr>\n",
       "  </thead>\n",
       "  <tbody>\n",
       "    <tr>\n",
       "      <td>0</td>\n",
       "      <td>0.100</td>\n",
       "      <td>183.939</td>\n",
       "      <td>0.000</td>\n",
       "      <td>0.000</td>\n",
       "    </tr>\n",
       "    <tr>\n",
       "      <td>1</td>\n",
       "      <td>0.120</td>\n",
       "      <td>190.710</td>\n",
       "      <td>10.265</td>\n",
       "      <td>12.191</td>\n",
       "    </tr>\n",
       "    <tr>\n",
       "      <td>2</td>\n",
       "      <td>0.144</td>\n",
       "      <td>204.141</td>\n",
       "      <td>22.634</td>\n",
       "      <td>21.808</td>\n",
       "    </tr>\n",
       "    <tr>\n",
       "      <td>3</td>\n",
       "      <td>0.173</td>\n",
       "      <td>207.601</td>\n",
       "      <td>4.573</td>\n",
       "      <td>4.200</td>\n",
       "    </tr>\n",
       "    <tr>\n",
       "      <td>4</td>\n",
       "      <td>0.207</td>\n",
       "      <td>210.188</td>\n",
       "      <td>3.943</td>\n",
       "      <td>3.258</td>\n",
       "    </tr>\n",
       "  </tbody>\n",
       "</table>\n",
       "</div>"
      ],
      "text/plain": [
       "   radius  velocity   stdev  sterror\n",
       "0   0.100   183.939   0.000    0.000\n",
       "1   0.120   190.710  10.265   12.191\n",
       "2   0.144   204.141  22.634   21.808\n",
       "3   0.173   207.601   4.573    4.200\n",
       "4   0.207   210.188   3.943    3.258"
      ]
     },
     "execution_count": 8,
     "metadata": {},
     "output_type": "execute_result"
    }
   ],
   "source": [
    "m31.head()"
   ]
  },
  {
   "cell_type": "code",
   "execution_count": 9,
   "metadata": {
    "ExecuteTime": {
     "end_time": "2019-08-02T02:07:26.053511Z",
     "start_time": "2019-08-02T02:07:26.046677Z"
    },
    "colab": {
     "base_uri": "https://localhost:8080/",
     "height": 102
    },
    "colab_type": "code",
    "id": "-_O34Bb7OdC2",
    "outputId": "c557a1a0-bc9c-4a74-a0f8-f803794c108a",
    "run_control": {
     "frozen": false,
     "read_only": false
    }
   },
   "outputs": [
    {
     "data": {
      "text/plain": [
       "(102.068,\n",
       " 0.00024913389424868624,\n",
       " 213.002,\n",
       " 132.45600000000002,\n",
       " 29.320999999999998)"
      ]
     },
     "execution_count": 9,
     "metadata": {},
     "output_type": "execute_result"
    }
   ],
   "source": [
    "def getradii(gal, gsize, n):\n",
    "  #  Finds the smallest radius in the given data where the luminous mass is completely included.\n",
    "  #  It also finds the velocity at that radius\n",
    "   \n",
    "  #  Parameters: \n",
    "  #  gal (object): the galaxy's data \n",
    "  #  gsize (object): the size of the luminous component of the galaxy\n",
    "  #  n (int): number\n",
    "  \n",
    "  #  Returns: \n",
    "  #  radius (float): smallest radius \n",
    "  #  radiusUncert (object): uncertainty of the radius\n",
    "  #  velocity(float): the velocity at radiusSmall\n",
    "  #  velocityUncert (object): uncertainty of the velocity\n",
    "  #  stderror (pandas.core.series.Series): error bar location\n",
    "  radius, velocity, dvelocity, sterr = gal[gal['radius'] > n*gsize].iloc[0]\n",
    "  dradius = abs(-2)*radius**(-2-1)*dvelocity\n",
    "  return radius, dradius, velocity, dvelocity, sterr\n",
    "\n",
    "getradii(m31, visibleSize, 2)"
   ]
  },
  {
   "cell_type": "markdown",
   "metadata": {
    "ExecuteTime": {
     "end_time": "2019-08-01T18:13:58.231637Z",
     "start_time": "2019-08-01T18:13:58.229447Z"
    },
    "colab_type": "text",
    "id": "ogu_iquzOdC5",
    "run_control": {
     "frozen": false,
     "read_only": false
    }
   },
   "source": [
    "### data visualization"
   ]
  },
  {
   "cell_type": "markdown",
   "metadata": {
    "colab_type": "text",
    "id": "kJ6MujVJUyel"
   },
   "source": [
    "make a plot that shows\n",
    "\n",
    "1. the rotational curve of the galaxy (as a line)\n",
    "\n",
    "2. each velocity as an errorbar with error equal to err in the same color as the line in 1\n",
    "\n",
    "3. each velocity as an errorbar with error equal to dv in  the same color but a different line thickness\n",
    "\n",
    "\n",
    "4. the datapoint corresponding to N=1, 2, 3 each in a different color. \n",
    "\n",
    "5. add a legend that indicates the meaning of each color (```pl.legend()```)\n",
    "\n",
    "6. add a text that indicates the velocity and its uncertainty (dv and err) just below the largest errorbar (```pl.text()```)\n",
    "\n",
    "7. limit the x axis to the \"relevant\" portion of the data"
   ]
  },
  {
   "cell_type": "code",
   "execution_count": 10,
   "metadata": {
    "ExecuteTime": {
     "end_time": "2019-08-02T03:01:27.556063Z",
     "start_time": "2019-08-02T03:01:27.302184Z"
    },
    "colab": {
     "base_uri": "https://localhost:8080/",
     "height": 269
    },
    "colab_type": "code",
    "id": "7IMXYY8BOdC6",
    "outputId": "35f65ab6-6c90-4caa-eb3c-498214fbf16f",
    "run_control": {
     "frozen": false,
     "read_only": false
    }
   },
   "outputs": [
    {
     "data": {
      "image/png": "[encoded data removed]",
      "text/plain": [
       "<Figure size 432x288 with 1 Axes>"
      ]
     },
     "metadata": {
      "needs_background": "light"
     },
     "output_type": "display_data"
    }
   ],
   "source": [
    "def plotGal(gal, rds):\n",
    "  #  Plots the rotational curve of the galaxy and the error bars\n",
    "  \n",
    "  #  Parameters: \n",
    "  #  gal (object): the galaxy's data \n",
    "  #  rds (object): given radius \n",
    "  \n",
    "  #  Returns: \n",
    "  #  None\n",
    "  plt.errorbar(gal['radius'], gal['velocity'], xerr=0, yerr=gal['sterror'], c='C0', linewidth=2.5, label=None)\n",
    "  plt.errorbar(gal['radius'], gal['velocity'], xerr=0, yerr=gal['stdev'], c='C0', linewidth=1.5, label='velocity')\n",
    "  \n",
    "  colors = ['C1', 'C2', 'C3']\n",
    "  for n in range(1, 4):\n",
    "    radius, dradius, velocity, dvelocity, sterr = getradii(gal, rds, n)\n",
    "    plt.errorbar(radius, velocity, yerr = dvelocity, linewidth=2, c=colors[n-1], label=(str(n)+'*radius'))\n",
    "    plt.errorbar(radius, velocity, yerr = sterr, linewidth=2.5, c='k')\n",
    "    plt.text(radius - 10, velocity - dvelocity - 25, '%.1f' % velocity)\n",
    "    plt.text(radius - 20, velocity - dvelocity - 50, '(%.1f %.1f)' % (dvelocity, sterr))\n",
    "    \n",
    "  plt.legend()\n",
    "  plt.xlim(0, 100)\n",
    "  plt.ylim(0, 500)\n",
    "  \n",
    "  \n",
    "plotGal(m31, visibleSize/2)"
   ]
  },
  {
   "cell_type": "markdown",
   "metadata": {
    "colab_type": "text",
    "id": "bIbv3YrhTo0X"
   },
   "source": [
    "Write a function that for a given dataset and a given luminous radius and a given N \n",
    "  \n",
    "  1) uses the function above to find the radius at least as large as needed and the velocity at that radius, \n",
    "  \n",
    "  2) states the expected drop in rotational velocities according to Newton's law $v\\propto 1/r$\n",
    "  \n",
    "  3) calculates the ratio of radii and the ratio of velocities at N radii from the center N=1 and N=N (input, e.g. 2, 3 etc) with uncertainties, \n",
    "  \n",
    "  4) and stated whether that ratio is consistent within the uncertainties with Newton's law $v \\propto 1/r$\n",
    "  \n",
    "Your function should print \n",
    "\n",
    "     - the expected ratio based on the radii, \n",
    "     - the calculated ratio using ```dv```, and its uncertainty, - \n",
    "     - the 3-$\\sigma$ upper and lower limits of the calculated ratio\n",
    "     - whether the expected ratio is within the $3-\\sigma$ of the calculated ratio, \n",
    "  5) and the same using ```err```  instead of ```dv```"
   ]
  },
  {
   "cell_type": "code",
   "execution_count": 11,
   "metadata": {
    "ExecuteTime": {
     "end_time": "2019-08-02T02:22:18.485172Z",
     "start_time": "2019-08-02T02:22:18.477807Z"
    },
    "colab": {
     "base_uri": "https://localhost:8080/",
     "height": 714
    },
    "colab_type": "code",
    "id": "1hhTw8N4OdDB",
    "outputId": "e3177234-f7b9-4cff-ee65-9a4905f30008",
    "run_control": {
     "frozen": false,
     "read_only": false
    }
   },
   "outputs": [
    {
     "name": "stdout",
     "output_type": "stream",
     "text": [
      "\u001b[1mUsing the Standard Deviation\u001b[0m\n",
      "\n",
      "The expected velocity based on the radius is 11.9\n",
      "The actual velocity is 236.5 ± 23.5\n",
      "The expected expected ratio based on the radius is 15.4\n",
      "The 2-σ lower and upper limits for the calculated ratio are (0.7, 0.9)\n",
      "The expected ratio \u001b[4mIS NOT\u001b[0m within 2-σ of the calculated ratio\n",
      "\n",
      "The expected velocity based on the radius is 8.3\n",
      "The actual velocity is 237.1 ± 218.8\n",
      "The expected expected ratio based on the radius is 22.2\n",
      "The 2-σ lower and upper limits for the calculated ratio are (0.4, 10.0)\n",
      "The expected ratio \u001b[4mIS NOT\u001b[0m within 2-σ of the calculated ratio\n",
      "\n",
      "The expected velocity based on the radius is 6.9\n",
      "The actual velocity is 218.5 ± 264.7\n",
      "The expected expected ratio based on the radius is 26.6\n",
      "The 2-σ lower and upper limits for the calculated ratio are (0.4, 46.0)\n",
      "The expected ratio \u001b[4mIS\u001b[0m within 2-σ of the calculated ratio\n",
      "\n",
      "---------------------------------------------------------------------------------------------------\n",
      "\u001b[1mUsing the Standard Error\u001b[0m\n",
      "\n",
      "The expected velocity based on the radius is 11.9\n",
      "The actual velocity is 236.5 ± 3.2\n",
      "The expected expected ratio based on the radius is 15.4\n",
      "The 2-σ lower and upper limits for the calculated ratio are (0.8, 0.8)\n",
      "The expected ratio \u001b[4mIS NOT\u001b[0m within 2-σ of the calculated ratio\n",
      "\n",
      "The expected velocity based on the radius is 8.3\n",
      "The actual velocity is 237.1 ± 47.8\n",
      "The expected expected ratio based on the radius is 22.2\n",
      "The 2-σ lower and upper limits for the calculated ratio are (0.6, 1.0)\n",
      "The expected ratio \u001b[4mIS NOT\u001b[0m within 2-σ of the calculated ratio\n",
      "\n",
      "The expected velocity based on the radius is 6.9\n",
      "The actual velocity is 218.5 ± 49.3\n",
      "The expected expected ratio based on the radius is 26.6\n",
      "The 2-σ lower and upper limits for the calculated ratio are (0.7, 1.1)\n",
      "The expected ratio \u001b[4mIS NOT\u001b[0m within 2-σ of the calculated ratio\n",
      "\n"
     ]
    }
   ],
   "source": [
    "def vratios(gal, rds, n, err='dveocity'):\n",
    "  #  Uses the function getradii(gal, gsize, n) to find the radius needed and the velocity at that radius\n",
    "  #  It also states the expected drop in rotational velocities according to Newton's Law\n",
    "  #  It then calculates the ratio of the radii and the ratio of the velocities at N radii from the center, along with its uncertainties\n",
    "  #  It then states whether the ratio is consistent with the uncertainties with Newton's Law\n",
    "  \n",
    "  #  Parameters: \n",
    "  #  gal (object): the galaxy's data \n",
    "  #  rds (object): given radius \n",
    "  #  rd (int): given number\n",
    "  #  err\n",
    "  \n",
    "  #  Returns: \n",
    "  #  None\n",
    "  initialRadius, initialVelocity = gal.iloc[0][:2]\n",
    "  radius, dradius, velocity, dvelocity, sterr = getradii(gal, rds, n)\n",
    "  if err == 'sterr':\n",
    "    dvelocity = sterr\n",
    "  \n",
    "  rRatio = radius / initialRadius\n",
    "  expectedVelocity = initialVelocity/(rRatio)**0.5\n",
    "  expectedRatio = initialVelocity / expectedVelocity\n",
    "  \n",
    "  #All bounds should be calculated based on ratio not on velocity itself!! <-----\n",
    "  upperLimit = velocity + 2*dvelocity\n",
    "  lowerLimit = velocity - 2*dvelocity\n",
    "  \n",
    "  upperRatio =  initialVelocity / max(lowerLimit, 4)\n",
    "  lowerRatio =  initialVelocity / upperLimit\n",
    "  \n",
    "  #print('Initial: %.1f \\t Final: %.1f ' % (initialRadius, initialVelocity))\n",
    "  print(\"The expected velocity based on the radius is %.1f\" % expectedVelocity)\n",
    "  print(\"The actual velocity is %.1f \\u00B1 %.1f\" % (velocity, 2*dvelocity))\n",
    "  print(\"The expected expected ratio based on the radius is %.1f\" % expectedRatio)  \n",
    "  print('The 2-\\u03C3 lower and upper limits for the calculated ratio are (%.1f, %.1f)' % (lowerRatio, upperRatio))\n",
    "  message = \"\\033[4mIS NOT\\033[0m\"\n",
    "  if (lowerRatio < expectedRatio < upperRatio):\n",
    "    message = \"\\033[4mIS\\033[0m\"\n",
    "  print(\"The expected ratio\", message, \"within 2-\\u03C3 of the calculated ratio\")\n",
    "  \n",
    "\n",
    "def printVRatios(gal, rds):\n",
    "  print(\"\\033[1mUsing the Standard Deviation\\033[0m\\n\")\n",
    "  for n in range(1, 4):\n",
    "    vratios(gal, rds, n)\n",
    "    print()\n",
    "\n",
    "  print(\"---------------------------------------------------------------------------------------------------\")\n",
    "  print(\"\\033[1mUsing the Standard Error\\033[0m\\n\")\n",
    "  for n in range(1, 4):\n",
    "    vratios(gal, rds, n, 'sterr')\n",
    "    print()\n",
    "\n",
    "printVRatios(m31, visibleSize/2)"
   ]
  },
  {
   "cell_type": "markdown",
   "metadata": {},
   "source": [
    "<span style=\"color:red\">**-0.25 pt: check your velocity and ratio computation code and code should use ratio of v not v itself**</span>"
   ]
  },
  {
   "cell_type": "markdown",
   "metadata": {
    "ExecuteTime": {
     "end_time": "2019-08-02T00:36:41.637045Z",
     "start_time": "2019-08-02T00:36:41.634825Z"
    },
    "colab_type": "text",
    "id": "6me5k4c1OdDY",
    "run_control": {
     "frozen": false,
     "read_only": false
    }
   },
   "source": [
    "### Discuss!"
   ]
  },
  {
   "cell_type": "markdown",
   "metadata": {
    "colab_type": "text",
    "id": "jn3NKmCgRCNj"
   },
   "source": [
    "When using the standard error, the ratio for the expected velocity fell outside of the bounds for the actual velocity ratio. This shows statistical significance that the velocities of bodies farther away from the center of the galaxy *do not* follow Newton's Laws. This supports the theory for Dark Matter, as it is an alternative explanation for the rotational curves.\n",
    "\n",
    "When using the standard deviation, this was found to be true for the N=1 and N=3 values. At N=2, however, the standard deviation of the measured velocity was too large to draw any significant conclusions."
   ]
  },
  {
   "cell_type": "markdown",
   "metadata": {
    "colab_type": "text",
    "id": "QIHRn8UlOdDZ",
    "run_control": {
     "frozen": false,
     "read_only": false
    }
   },
   "source": [
    "## do the same for the Milky Way. If your functions were create properly you should be able to reuse them seamlessly"
   ]
  },
  {
   "cell_type": "code",
   "execution_count": 12,
   "metadata": {
    "colab": {
     "base_uri": "https://localhost:8080/",
     "height": 204
    },
    "colab_type": "code",
    "id": "NVp9cJzv-Dic",
    "outputId": "f10adf3c-3215-4bc8-e8c4-a67fb60b3011"
   },
   "outputs": [
    {
     "data": {
      "text/html": [
       "<div>\n",
       "<style scoped>\n",
       "    .dataframe tbody tr th:only-of-type {\n",
       "        vertical-align: middle;\n",
       "    }\n",
       "\n",
       "    .dataframe tbody tr th {\n",
       "        vertical-align: top;\n",
       "    }\n",
       "\n",
       "    .dataframe thead th {\n",
       "        text-align: right;\n",
       "    }\n",
       "</style>\n",
       "<table border=\"1\" class=\"dataframe\">\n",
       "  <thead>\n",
       "    <tr style=\"text-align: right;\">\n",
       "      <th></th>\n",
       "      <th>radius</th>\n",
       "      <th>velocity</th>\n",
       "      <th>stdev</th>\n",
       "      <th>sterror</th>\n",
       "    </tr>\n",
       "  </thead>\n",
       "  <tbody>\n",
       "    <tr>\n",
       "      <td>0</td>\n",
       "      <td>0.010</td>\n",
       "      <td>119.061</td>\n",
       "      <td>41.832</td>\n",
       "      <td>32.714</td>\n",
       "    </tr>\n",
       "    <tr>\n",
       "      <td>1</td>\n",
       "      <td>0.012</td>\n",
       "      <td>115.268</td>\n",
       "      <td>35.199</td>\n",
       "      <td>17.100</td>\n",
       "    </tr>\n",
       "    <tr>\n",
       "      <td>2</td>\n",
       "      <td>0.014</td>\n",
       "      <td>117.392</td>\n",
       "      <td>35.152</td>\n",
       "      <td>14.429</td>\n",
       "    </tr>\n",
       "    <tr>\n",
       "      <td>3</td>\n",
       "      <td>0.017</td>\n",
       "      <td>118.475</td>\n",
       "      <td>35.252</td>\n",
       "      <td>14.870</td>\n",
       "    </tr>\n",
       "    <tr>\n",
       "      <td>4</td>\n",
       "      <td>0.021</td>\n",
       "      <td>110.386</td>\n",
       "      <td>33.817</td>\n",
       "      <td>14.427</td>\n",
       "    </tr>\n",
       "  </tbody>\n",
       "</table>\n",
       "</div>"
      ],
      "text/plain": [
       "   radius  velocity   stdev  sterror\n",
       "0   0.010   119.061  41.832   32.714\n",
       "1   0.012   115.268  35.199   17.100\n",
       "2   0.014   117.392  35.152   14.429\n",
       "3   0.017   118.475  35.252   14.870\n",
       "4   0.021   110.386  33.817   14.427"
      ]
     },
     "execution_count": 12,
     "metadata": {},
     "output_type": "execute_result"
    }
   ],
   "source": [
    "mw = pd.read_csv('https://raw.githubusercontent.com/fedhere/DSPS/master/HW4/mw.csv', header=1)\n",
    "mw.rename(columns = {'R(kpc)':'radius', 'V(km/s)':'velocity', 'St.dev.':'stdev', 'St.error':'sterror'}, inplace=True)\n",
    "mw.head()"
   ]
  },
  {
   "cell_type": "code",
   "execution_count": 13,
   "metadata": {
    "colab": {
     "base_uri": "https://localhost:8080/",
     "height": 34
    },
    "colab_type": "code",
    "id": "jm2t5CmZOp4q",
    "outputId": "d89a2ff8-9eef-4281-b8d3-b3f334ffe6b9"
   },
   "outputs": [
    {
     "name": "stdout",
     "output_type": "stream",
     "text": [
      "Size of the visible component of the Milky Way: 53.5 kpc ± 7.5 kpc\n"
     ]
    }
   ],
   "source": [
    "visibleSize = 53.5 * u.kpc\n",
    "dVisibleSize = 7.5 * u.kpc\n",
    "print(\"Size of the visible component of the Milky Way: {:.1f} \\u00B1 {:.1f}\".format(visibleSize, dVisibleSize))"
   ]
  },
  {
   "cell_type": "code",
   "execution_count": 14,
   "metadata": {
    "colab": {
     "base_uri": "https://localhost:8080/",
     "height": 269
    },
    "colab_type": "code",
    "id": "4zM42Nl2PBdv",
    "outputId": "7e777413-c213-4b8e-9e8a-061ef348605c"
   },
   "outputs": [
    {
     "data": {
      "image/png": "[encoded data removed]",
      "text/plain": [
       "<Figure size 432x288 with 1 Axes>"
      ]
     },
     "metadata": {
      "needs_background": "light"
     },
     "output_type": "display_data"
    }
   ],
   "source": [
    "plotGal(mw, visibleSize/2)"
   ]
  },
  {
   "cell_type": "code",
   "execution_count": 15,
   "metadata": {
    "colab": {
     "base_uri": "https://localhost:8080/",
     "height": 714
    },
    "colab_type": "code",
    "id": "OT4j8PnsQcZi",
    "outputId": "0d48c788-adf2-4c90-dc84-00d2866b9112"
   },
   "outputs": [
    {
     "name": "stdout",
     "output_type": "stream",
     "text": [
      "\u001b[1mUsing the Standard Deviation\u001b[0m\n",
      "\n",
      "The expected velocity based on the radius is 2.2\n",
      "The actual velocity is 240.2 ± 149.8\n",
      "The expected expected ratio based on the radius is 55.2\n",
      "The 2-σ lower and upper limits for the calculated ratio are (0.3, 1.3)\n",
      "The expected ratio \u001b[4mIS NOT\u001b[0m within 2-σ of the calculated ratio\n",
      "\n",
      "The expected velocity based on the radius is 1.5\n",
      "The actual velocity is 178.0 ± 94.0\n",
      "The expected expected ratio based on the radius is 79.5\n",
      "The 2-σ lower and upper limits for the calculated ratio are (0.4, 1.4)\n",
      "The expected ratio \u001b[4mIS NOT\u001b[0m within 2-σ of the calculated ratio\n",
      "\n",
      "The expected velocity based on the radius is 1.2\n",
      "The actual velocity is 179.7 ± 125.2\n",
      "The expected expected ratio based on the radius is 95.4\n",
      "The 2-σ lower and upper limits for the calculated ratio are (0.4, 2.2)\n",
      "The expected ratio \u001b[4mIS NOT\u001b[0m within 2-σ of the calculated ratio\n",
      "\n",
      "---------------------------------------------------------------------------------------------------\n",
      "\u001b[1mUsing the Standard Error\u001b[0m\n",
      "\n",
      "The expected velocity based on the radius is 2.2\n",
      "The actual velocity is 240.2 ± 41.1\n",
      "The expected expected ratio based on the radius is 55.2\n",
      "The 2-σ lower and upper limits for the calculated ratio are (0.4, 0.6)\n",
      "The expected ratio \u001b[4mIS NOT\u001b[0m within 2-σ of the calculated ratio\n",
      "\n",
      "The expected velocity based on the radius is 1.5\n",
      "The actual velocity is 178.0 ± 32.7\n",
      "The expected expected ratio based on the radius is 79.5\n",
      "The 2-σ lower and upper limits for the calculated ratio are (0.6, 0.8)\n",
      "The expected ratio \u001b[4mIS NOT\u001b[0m within 2-σ of the calculated ratio\n",
      "\n",
      "The expected velocity based on the radius is 1.2\n",
      "The actual velocity is 179.7 ± 41.8\n",
      "The expected expected ratio based on the radius is 95.4\n",
      "The 2-σ lower and upper limits for the calculated ratio are (0.5, 0.9)\n",
      "The expected ratio \u001b[4mIS NOT\u001b[0m within 2-σ of the calculated ratio\n",
      "\n"
     ]
    }
   ],
   "source": [
    "printVRatios(mw, visibleSize/2)"
   ]
  },
  {
   "cell_type": "markdown",
   "metadata": {
    "colab_type": "text",
    "id": "z6OwJNfuRtoT"
   },
   "source": [
    "**Discussion**\n",
    "When using the standard error, the ratio for the expected velocity fell outside of the bounds for the actual velocity ratio. This shows statistical significance that the velocities of bodies farther away from the center of the galaxy *do not* follow Newton's Laws. This supports the theory for Dark Matter, as it is an alternative explanation for the rotational curves.\n",
    "\n",
    "When using the standard deviation, this same conclusions were able to be made."
   ]
  },
  {
   "cell_type": "markdown",
   "metadata": {},
   "source": [
    "<span style=\"color:red\">**Due to the code issue you cannot get the right conclusion**</span>"
   ]
  }
 ],
 "metadata": {
  "colab": {
   "collapsed_sections": [],
   "include_colab_link": true,
   "name": "GalrotCurve.ipynb",
   "provenance": []
  },
  "kernelspec": {
   "display_name": "Python 3",
   "language": "python",
   "name": "python3"
  },
  "language_info": {
   "codemirror_mode": {
    "name": "ipython",
    "version": 3
   },
   "file_extension": ".py",
   "mimetype": "text/x-python",
   "name": "python",
   "nbconvert_exporter": "python",
   "pygments_lexer": "ipython3",
   "version": "3.6.8"
  },
  "nbTranslate": {
   "displayLangs": [
    "*"
   ],
   "hotkey": "alt-t",
   "langInMainMenu": true,
   "sourceLang": "en",
   "targetLang": "fr",
   "useGoogleTranslate": true
  },
  "toc": {
   "base_numbering": 1,
   "colors": {
    "hover_highlight": "#DAA520",
    "running_highlight": "#FF0000",
    "selected_highlight": "#FFD700"
   },
   "moveMenuLeft": true,
   "nav_menu": {},
   "navigate_menu": true,
   "number_sections": true,
   "sideBar": true,
   "skip_h1_title": false,
   "threshold": 4,
   "title_cell": "Table of Contents",
   "title_sidebar": "Contents",
   "toc_cell": false,
   "toc_position": {
    "height": "calc(100% - 180px)",
    "left": "10px",
    "top": "150px",
    "width": "165px"
   },
   "toc_section_display": true,
   "toc_window_display": true
  }
 },
 "nbformat": 4,
 "nbformat_minor": 1
}

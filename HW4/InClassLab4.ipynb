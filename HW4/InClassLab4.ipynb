{
  "nbformat": 4,
  "nbformat_minor": 0,
  "metadata": {
    "colab": {
      "name": "InClassLab4.ipynb",
      "provenance": [],
      "collapsed_sections": [],
      "include_colab_link": true
    },
    "kernelspec": {
      "name": "python3",
      "display_name": "Python 3"
    }
  },
  "cells": [
    {
      "cell_type": "markdown",
      "metadata": {
        "id": "view-in-github",
        "colab_type": "text"
      },
      "source": [
        "<a href=\"https://colab.research.google.com/github/DesiPilla/DSPS_dPilla/blob/master/HW4/InClassLab4.ipynb\" target=\"_parent\"><img src=\"https://colab.research.google.com/assets/colab-badge.svg\" alt=\"Open In Colab\"/></a>"
      ]
    },
    {
      "cell_type": "code",
      "metadata": {
        "id": "dyTazsPxAMRz",
        "colab_type": "code",
        "outputId": "f5342f62-877b-47a7-9ce0-1ff0d0054661",
        "colab": {
          "base_uri": "https://localhost:8080/",
          "height": 34
        }
      },
      "source": [
        "import numpy as np\n",
        "import matplotlib.pyplot as plt\n",
        "%pylab inline\n",
        "\n",
        "def square(size):\n",
        "  ax = plt.figure(figsize = (5, 5)).add_subplot(1,1,1)\n",
        "  plt.scatter(-size, -size)\n",
        "  plt.scatter(-size, size)\n",
        "  plt.scatter(size, -size)\n",
        "  plt.scatter(size, size)\n",
        "  plt.plot([-size, -size], [-size, size])\n",
        "  plt.plot([-size, size], [size, size])\n",
        "  plt.plot([size, size], [size, -size])\n",
        "  plt.plot([size, -size], [-size, -size])\n",
        "  plt.axis('equal')\n",
        "  \n",
        "  return ax"
      ],
      "execution_count": 0,
      "outputs": [
        {
          "output_type": "stream",
          "text": [
            "Populating the interactive namespace from numpy and matplotlib\n"
          ],
          "name": "stdout"
        }
      ]
    },
    {
      "cell_type": "code",
      "metadata": {
        "id": "55xmBJwMCe2g",
        "colab_type": "code",
        "outputId": "95e13a55-2508-4356-e4e3-9560e4e5184f",
        "colab": {
          "base_uri": "https://localhost:8080/",
          "height": 51
        }
      },
      "source": [
        "!pip install astropy"
      ],
      "execution_count": 0,
      "outputs": [
        {
          "output_type": "stream",
          "text": [
            "Requirement already satisfied: astropy in /usr/local/lib/python3.6/dist-packages (3.0.5)\n",
            "Requirement already satisfied: numpy>=1.10.0 in /usr/local/lib/python3.6/dist-packages (from astropy) (1.16.5)\n"
          ],
          "name": "stdout"
        }
      ]
    },
    {
      "cell_type": "code",
      "metadata": {
        "id": "teaaP4lTBr8E",
        "colab_type": "code",
        "colab": {}
      },
      "source": [
        "from astropy import units as u\n",
        "\n",
        "def circle(radius, ax):\n",
        "  angle = np.arange(0, 360, 0.1)       # Creates an array (like linspace, but interval instead of number of points)\n",
        "  angle *= u.degree\n",
        "  x = radius * np.cos(angle.to(u.rad))\n",
        "  y = radius * np.sin(angle.to(u.rad))\n",
        "  \n",
        "  ax.plot(x, y)"
      ],
      "execution_count": 0,
      "outputs": []
    },
    {
      "cell_type": "code",
      "metadata": {
        "id": "_GG9ozIcE5PR",
        "colab_type": "code",
        "outputId": "a4274685-b6a6-4690-b945-dfc1960cf14e",
        "colab": {
          "base_uri": "https://localhost:8080/",
          "height": 340
        }
      },
      "source": [
        "axis = square(1)\n",
        "circle(1, axis)\n",
        "\n",
        "np.random.seed(300)\n",
        "xs = np.random.rand(100) * 2 - 1\n",
        "ys = np.random.rand(100) * 2 - 1\n",
        "\n",
        "axis.scatter(xs, ys)\n",
        "r = np.sqrt(xs**2 + ys**2)\n",
        "\n",
        "r_inside = r[r < 1]\n",
        "r_inside.size\n",
        "4*r_inside.size / 100"
      ],
      "execution_count": 0,
      "outputs": [
        {
          "output_type": "execute_result",
          "data": {
            "text/plain": [
              "3.36"
            ]
          },
          "metadata": {
            "tags": []
          },
          "execution_count": 17
        },
        {
          "output_type": "display_data",
          "data": {
            "image/png": "[encoded data removed]",
            "text/plain": [
              "<Figure size 360x360 with 1 Axes>"
            ]
          },
          "metadata": {
            "tags": []
          }
        }
      ]
    }
  ]
}